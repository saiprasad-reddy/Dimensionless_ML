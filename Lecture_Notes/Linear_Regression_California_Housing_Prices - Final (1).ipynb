{
  "cells": [
    {
      "metadata": {},
      "cell_type": "markdown",
      "source": "<p><h2><font color = DarkBlue> Load the Data Set </font></h2></p>"
    },
    {
      "metadata": {
        "trusted": true
      },
      "cell_type": "code",
      "source": "# load the libraries required for data processing\nimport pandas as pd\nimport numpy as np\nimport matplotlib.pyplot as plt",
      "execution_count": 1,
      "outputs": [
        {
          "output_type": "stream",
          "text": "/home/nbuser/anaconda3_420/lib/python3.5/site-packages/matplotlib/font_manager.py:281: UserWarning: Matplotlib is building the font cache using fc-list. This may take a moment.\n  'Matplotlib is building the font cache using fc-list. '\n",
          "name": "stderr"
        }
      ]
    },
    {
      "metadata": {
        "trusted": true
      },
      "cell_type": "code",
      "source": "HTrain = pd.read_csv('https://storage.googleapis.com/dimensionless/ML_with_Python/Chapter%203%20Linear%20Regression/housing_train.csv')\nHTrain.shape",
      "execution_count": 2,
      "outputs": [
        {
          "output_type": "execute_result",
          "execution_count": 2,
          "data": {
            "text/plain": "(16512, 9)"
          },
          "metadata": {}
        }
      ]
    },
    {
      "metadata": {
        "trusted": true
      },
      "cell_type": "code",
      "source": "HTrain.head()",
      "execution_count": 3,
      "outputs": [
        {
          "output_type": "execute_result",
          "execution_count": 3,
          "data": {
            "text/html": "<div>\n<table border=\"1\" class=\"dataframe\">\n  <thead>\n    <tr style=\"text-align: right;\">\n      <th></th>\n      <th>longitude</th>\n      <th>latitude</th>\n      <th>housing_median_age</th>\n      <th>total_rooms</th>\n      <th>total_bedrooms</th>\n      <th>population</th>\n      <th>households</th>\n      <th>median_income</th>\n      <th>median_house_value</th>\n    </tr>\n  </thead>\n  <tbody>\n    <tr>\n      <th>0</th>\n      <td>1.267645</td>\n      <td>-1.367976</td>\n      <td>0.346478</td>\n      <td>0.224718</td>\n      <td>0.214986</td>\n      <td>0.772251</td>\n      <td>0.322924</td>\n      <td>-0.321654</td>\n      <td>103000.0</td>\n    </tr>\n    <tr>\n      <th>1</th>\n      <td>0.703627</td>\n      <td>-0.871699</td>\n      <td>1.617807</td>\n      <td>0.342065</td>\n      <td>0.596500</td>\n      <td>-0.098440</td>\n      <td>0.670799</td>\n      <td>-0.030620</td>\n      <td>382100.0</td>\n    </tr>\n    <tr>\n      <th>2</th>\n      <td>-0.454356</td>\n      <td>-0.455012</td>\n      <td>-1.957806</td>\n      <td>-0.338639</td>\n      <td>-0.490815</td>\n      <td>-0.450778</td>\n      <td>-0.427755</td>\n      <td>0.150349</td>\n      <td>172600.0</td>\n    </tr>\n    <tr>\n      <th>3</th>\n      <td>1.227714</td>\n      <td>-1.377340</td>\n      <td>0.584852</td>\n      <td>-0.556832</td>\n      <td>-0.404974</td>\n      <td>-0.006602</td>\n      <td>-0.378059</td>\n      <td>-1.014947</td>\n      <td>93400.0</td>\n    </tr>\n    <tr>\n      <th>4</th>\n      <td>-0.114948</td>\n      <td>0.537543</td>\n      <td>1.141059</td>\n      <td>-0.116322</td>\n      <td>-0.252369</td>\n      <td>-0.486983</td>\n      <td>-0.312669</td>\n      <td>-0.166583</td>\n      <td>96500.0</td>\n    </tr>\n  </tbody>\n</table>\n</div>",
            "text/plain": "   longitude  latitude  housing_median_age  total_rooms  total_bedrooms  \\\n0   1.267645 -1.367976            0.346478     0.224718        0.214986   \n1   0.703627 -0.871699            1.617807     0.342065        0.596500   \n2  -0.454356 -0.455012           -1.957806    -0.338639       -0.490815   \n3   1.227714 -1.377340            0.584852    -0.556832       -0.404974   \n4  -0.114948  0.537543            1.141059    -0.116322       -0.252369   \n\n   population  households  median_income  median_house_value  \n0    0.772251    0.322924      -0.321654            103000.0  \n1   -0.098440    0.670799      -0.030620            382100.0  \n2   -0.450778   -0.427755       0.150349            172600.0  \n3   -0.006602   -0.378059      -1.014947             93400.0  \n4   -0.486983   -0.312669      -0.166583             96500.0  "
          },
          "metadata": {}
        }
      ]
    },
    {
      "metadata": {
        "trusted": true
      },
      "cell_type": "code",
      "source": "HTrain.describe()",
      "execution_count": 4,
      "outputs": [
        {
          "output_type": "execute_result",
          "execution_count": 4,
          "data": {
            "text/html": "<div>\n<table border=\"1\" class=\"dataframe\">\n  <thead>\n    <tr style=\"text-align: right;\">\n      <th></th>\n      <th>longitude</th>\n      <th>latitude</th>\n      <th>housing_median_age</th>\n      <th>total_rooms</th>\n      <th>total_bedrooms</th>\n      <th>population</th>\n      <th>households</th>\n      <th>median_income</th>\n      <th>median_house_value</th>\n    </tr>\n  </thead>\n  <tbody>\n    <tr>\n      <th>count</th>\n      <td>16512.000000</td>\n      <td>16512.000000</td>\n      <td>16512.000000</td>\n      <td>16512.000000</td>\n      <td>16512.000000</td>\n      <td>16512.000000</td>\n      <td>16512.000000</td>\n      <td>16512.000000</td>\n      <td>16512.000000</td>\n    </tr>\n    <tr>\n      <th>mean</th>\n      <td>-0.006282</td>\n      <td>0.005285</td>\n      <td>-0.002479</td>\n      <td>0.002861</td>\n      <td>0.003953</td>\n      <td>0.000862</td>\n      <td>0.001170</td>\n      <td>0.005308</td>\n      <td>207194.693738</td>\n    </tr>\n    <tr>\n      <th>std</th>\n      <td>1.001083</td>\n      <td>1.000358</td>\n      <td>1.001370</td>\n      <td>0.996830</td>\n      <td>0.999107</td>\n      <td>1.004081</td>\n      <td>0.996462</td>\n      <td>1.002378</td>\n      <td>115622.626448</td>\n    </tr>\n    <tr>\n      <th>min</th>\n      <td>-2.385992</td>\n      <td>-1.442886</td>\n      <td>-2.196180</td>\n      <td>-1.207283</td>\n      <td>-1.277688</td>\n      <td>-1.256123</td>\n      <td>-1.303984</td>\n      <td>-1.774299</td>\n      <td>14999.000000</td>\n    </tr>\n    <tr>\n      <th>25%</th>\n      <td>-1.118200</td>\n      <td>-0.796789</td>\n      <td>-0.845393</td>\n      <td>-0.541705</td>\n      <td>-0.572483</td>\n      <td>-0.562043</td>\n      <td>-0.574229</td>\n      <td>-0.686382</td>\n      <td>119800.000000</td>\n    </tr>\n    <tr>\n      <th>50%</th>\n      <td>0.528931</td>\n      <td>-0.642287</td>\n      <td>0.028646</td>\n      <td>-0.232294</td>\n      <td>-0.238062</td>\n      <td>-0.228249</td>\n      <td>-0.234201</td>\n      <td>-0.171005</td>\n      <td>179850.000000</td>\n    </tr>\n    <tr>\n      <th>75%</th>\n      <td>0.778496</td>\n      <td>0.977638</td>\n      <td>0.664310</td>\n      <td>0.240303</td>\n      <td>0.262675</td>\n      <td>0.265378</td>\n      <td>0.278458</td>\n      <td>0.475058</td>\n      <td>265125.000000</td>\n    </tr>\n    <tr>\n      <th>max</th>\n      <td>2.625280</td>\n      <td>2.958068</td>\n      <td>1.856182</td>\n      <td>16.815580</td>\n      <td>14.087789</td>\n      <td>30.250330</td>\n      <td>14.601520</td>\n      <td>5.858286</td>\n      <td>500001.000000</td>\n    </tr>\n  </tbody>\n</table>\n</div>",
            "text/plain": "          longitude      latitude  housing_median_age   total_rooms  \\\ncount  16512.000000  16512.000000        16512.000000  16512.000000   \nmean      -0.006282      0.005285           -0.002479      0.002861   \nstd        1.001083      1.000358            1.001370      0.996830   \nmin       -2.385992     -1.442886           -2.196180     -1.207283   \n25%       -1.118200     -0.796789           -0.845393     -0.541705   \n50%        0.528931     -0.642287            0.028646     -0.232294   \n75%        0.778496      0.977638            0.664310      0.240303   \nmax        2.625280      2.958068            1.856182     16.815580   \n\n       total_bedrooms    population    households  median_income  \\\ncount    16512.000000  16512.000000  16512.000000   16512.000000   \nmean         0.003953      0.000862      0.001170       0.005308   \nstd          0.999107      1.004081      0.996462       1.002378   \nmin         -1.277688     -1.256123     -1.303984      -1.774299   \n25%         -0.572483     -0.562043     -0.574229      -0.686382   \n50%         -0.238062     -0.228249     -0.234201      -0.171005   \n75%          0.262675      0.265378      0.278458       0.475058   \nmax         14.087789     30.250330     14.601520       5.858286   \n\n       median_house_value  \ncount        16512.000000  \nmean        207194.693738  \nstd         115622.626448  \nmin          14999.000000  \n25%         119800.000000  \n50%         179850.000000  \n75%         265125.000000  \nmax         500001.000000  "
          },
          "metadata": {}
        }
      ]
    },
    {
      "metadata": {},
      "cell_type": "markdown",
      "source": "<p><h2><font color = DarkBlue> Apply Linear Regression Model </font></h2></p>"
    },
    {
      "metadata": {},
      "cell_type": "markdown",
      "source": "<p><h2><font color = Blue> 1. Simple Linear Regression: </font></h2></p>\n<p><h3><font color = 'orange'> \"median_income ~ median_house_value\" </font></h3></p>"
    },
    {
      "metadata": {},
      "cell_type": "markdown",
      "source": "<p><h3><font color = Purple> Quiz 1: Draw a scatter plot between median_income and median_house_value variables. What type of correlation exists between the variables? </font></h3></p>\n<p><h4><font color = purple>\n1. No Correlation <br><br>\n2. Strong Positive Correlation <br><br>\n3. Weak Positive Correlation <br><br>\n4. Weak Negative Correlation </font></h4></p>"
    },
    {
      "metadata": {
        "trusted": true
      },
      "cell_type": "code",
      "source": "# draw a scatter plot of median_income with median_house_value\nplt.scatter(HTrain[['median_income']],HTrain[['median_house_value']])\nplt.xlabel('Median Income')\nplt.ylabel('Median House Price')\nplt.title(\"correlation between Median Income and Median House Value\")",
      "execution_count": 5,
      "outputs": [
        {
          "output_type": "execute_result",
          "execution_count": 5,
          "data": {
            "text/plain": "Text(0.5,1,'correlation between Median Income and Median House Value')"
          },
          "metadata": {}
        },
        {
          "output_type": "display_data",
          "data": {
            "image/png": "[encoded data removed]",
            "text/plain": "<matplotlib.figure.Figure at 0x7f72e8de9630>"
          },
          "metadata": {}
        }
      ]
    },
    {
      "metadata": {},
      "cell_type": "markdown",
      "source": "<p><h3><font color = purple>Quiz 2: What is the correlation between 'median_income' and 'median_house_value'? </font></h3></p>\n\n<p><h4><font color = purple>\n1. 0.80 <br><br>\n2. 0.42 <br><br>\n3. 0.96 <br><br>\n4. 0.69 </font></h4></p>\n"
    },
    {
      "metadata": {
        "trusted": true
      },
      "cell_type": "code",
      "source": "HTrain['median_income'].corr(HTrain['median_house_value'])",
      "execution_count": null,
      "outputs": []
    },
    {
      "metadata": {
        "trusted": true
      },
      "cell_type": "code",
      "source": "from sklearn.linear_model import LinearRegression\nfrom sklearn.metrics import mean_squared_error",
      "execution_count": null,
      "outputs": []
    },
    {
      "metadata": {
        "trusted": true
      },
      "cell_type": "code",
      "source": "lin_reg = LinearRegression()   # creating an instance of Linear Regression ",
      "execution_count": null,
      "outputs": []
    },
    {
      "metadata": {
        "trusted": true
      },
      "cell_type": "code",
      "source": "lin_reg.fit(HTrain[['median_income']], HTrain['median_house_value'])   # build a linear regression model median_income vs median_house_value",
      "execution_count": null,
      "outputs": []
    },
    {
      "metadata": {
        "trusted": true
      },
      "cell_type": "code",
      "source": "lin_reg.coef_     # The coefficient of medain_income (m or B1(beta))",
      "execution_count": null,
      "outputs": []
    },
    {
      "metadata": {
        "trusted": true
      },
      "cell_type": "code",
      "source": "lin_reg.intercept_    # The intercept (ie: c or B0(beta))",
      "execution_count": null,
      "outputs": []
    },
    {
      "metadata": {
        "trusted": true
      },
      "cell_type": "code",
      "source": "lin_reg.score(HTrain[['median_income']],HTrain['median_house_value'])",
      "execution_count": null,
      "outputs": []
    },
    {
      "metadata": {
        "trusted": true
      },
      "cell_type": "code",
      "source": "y_pred_train = lin_reg.predict(HTrain[['median_income']])\ny_pred_train[:5]",
      "execution_count": null,
      "outputs": []
    },
    {
      "metadata": {
        "trusted": true
      },
      "cell_type": "code",
      "source": "lin_rmse = np.sqrt(mean_squared_error(HTrain['median_house_value'], y_pred_train))\nlin_rmse",
      "execution_count": null,
      "outputs": []
    },
    {
      "metadata": {
        "trusted": true
      },
      "cell_type": "code",
      "source": "plt.scatter(HTrain[['median_income']],HTrain['median_house_value'])\nplt.plot(HTrain[['median_income']],y_pred_train,'r')\nplt.axis([-2,6,0,550000])\nplt.xlabel('Median Income')\nplt.ylabel('Median House Price')\nplt.title('Linear Regression on median_income ~ median_house_value')",
      "execution_count": null,
      "outputs": []
    },
    {
      "metadata": {},
      "cell_type": "markdown",
      "source": "<p><h2><font color = DarkBlue> Best fit using Gradient Descent </font></h2></p>"
    },
    {
      "metadata": {
        "trusted": true
      },
      "cell_type": "code",
      "source": "from sklearn.linear_model import SGDRegressor",
      "execution_count": null,
      "outputs": []
    },
    {
      "metadata": {
        "trusted": true
      },
      "cell_type": "code",
      "source": "gdreg = SGDRegressor()",
      "execution_count": null,
      "outputs": []
    },
    {
      "metadata": {
        "trusted": true
      },
      "cell_type": "code",
      "source": "gdreg.fit(HTrain[['median_income']], HTrain['median_house_value'])",
      "execution_count": null,
      "outputs": []
    },
    {
      "metadata": {
        "trusted": true
      },
      "cell_type": "code",
      "source": "gdreg.intercept_",
      "execution_count": null,
      "outputs": []
    },
    {
      "metadata": {
        "trusted": true
      },
      "cell_type": "code",
      "source": "gdreg.coef_",
      "execution_count": null,
      "outputs": []
    },
    {
      "metadata": {
        "trusted": true
      },
      "cell_type": "code",
      "source": "gdreg.score(HTrain[['median_income']], HTrain['median_house_value'])",
      "execution_count": null,
      "outputs": []
    },
    {
      "metadata": {
        "trusted": true
      },
      "cell_type": "code",
      "source": "y_pred_gd = gdreg.predict(HTrain[['median_income']])",
      "execution_count": null,
      "outputs": []
    },
    {
      "metadata": {
        "trusted": true
      },
      "cell_type": "code",
      "source": "plt.scatter(HTrain[['median_income']],HTrain['median_house_value'])\nplt.plot(HTrain[['median_income']],y_pred_gd,'r')\nplt.axis([-2,6,0,550000])\nplt.xlabel('Median Income')\nplt.ylabel('Median House Price')\nplt.title('Best fit using Gradient Descent')",
      "execution_count": null,
      "outputs": []
    },
    {
      "metadata": {},
      "cell_type": "markdown",
      "source": "<p><h2><font color = DarkBlue> 2. Multiple Linear Regression: </font></h2></p>"
    },
    {
      "metadata": {
        "trusted": true
      },
      "cell_type": "code",
      "source": "model_all = LinearRegression()",
      "execution_count": null,
      "outputs": []
    },
    {
      "metadata": {
        "trusted": true
      },
      "cell_type": "code",
      "source": "HTrain.head()",
      "execution_count": null,
      "outputs": []
    },
    {
      "metadata": {
        "trusted": true
      },
      "cell_type": "code",
      "source": "X_train = HTrain.drop('median_house_value', axis = 1)\nX_train.head()\n                                           ",
      "execution_count": null,
      "outputs": []
    },
    {
      "metadata": {
        "trusted": true
      },
      "cell_type": "code",
      "source": "y_train = HTrain['median_house_value']\ny_train.head()",
      "execution_count": null,
      "outputs": []
    },
    {
      "metadata": {
        "trusted": true
      },
      "cell_type": "code",
      "source": "model_all.fit(X_train,y_train)",
      "execution_count": null,
      "outputs": []
    },
    {
      "metadata": {
        "trusted": true
      },
      "cell_type": "code",
      "source": "model_all.coef_",
      "execution_count": null,
      "outputs": []
    },
    {
      "metadata": {
        "trusted": true
      },
      "cell_type": "code",
      "source": "model_all.intercept_",
      "execution_count": null,
      "outputs": []
    },
    {
      "metadata": {
        "trusted": true
      },
      "cell_type": "code",
      "source": "model_all.score(X_train,y_train)",
      "execution_count": null,
      "outputs": []
    },
    {
      "metadata": {
        "trusted": true
      },
      "cell_type": "code",
      "source": "y_pred_all = model_all.predict(X_train)",
      "execution_count": null,
      "outputs": []
    },
    {
      "metadata": {
        "trusted": true
      },
      "cell_type": "code",
      "source": "rmse_all = np.sqrt(mean_squared_error(y_train, y_pred_all))\nrmse_all",
      "execution_count": null,
      "outputs": []
    },
    {
      "metadata": {},
      "cell_type": "markdown",
      "source": "<p><h2><font color = DarkBlue> Adding one by one all the features to understand Multiple Linear Regression </font></h2></p>"
    },
    {
      "metadata": {
        "trusted": true
      },
      "cell_type": "code",
      "source": "HTrain.corr()",
      "execution_count": null,
      "outputs": []
    },
    {
      "metadata": {},
      "cell_type": "markdown",
      "source": "<p><h4><font color = DarkGreen> Model with 'logitude' variable </font></h4></p>"
    },
    {
      "metadata": {
        "trusted": true
      },
      "cell_type": "code",
      "source": "model1 = LinearRegression()",
      "execution_count": null,
      "outputs": []
    },
    {
      "metadata": {
        "trusted": true
      },
      "cell_type": "code",
      "source": "model1.fit(X_train[['longitude']],y_train)",
      "execution_count": null,
      "outputs": []
    },
    {
      "metadata": {
        "trusted": true
      },
      "cell_type": "code",
      "source": "model1.intercept_",
      "execution_count": null,
      "outputs": []
    },
    {
      "metadata": {
        "trusted": true
      },
      "cell_type": "code",
      "source": "model1.coef_",
      "execution_count": null,
      "outputs": []
    },
    {
      "metadata": {
        "trusted": true
      },
      "cell_type": "code",
      "source": "model1.score(X_train[['longitude']],y_train)",
      "execution_count": null,
      "outputs": []
    },
    {
      "metadata": {},
      "cell_type": "markdown",
      "source": "<p><h4><font color = DarkGreen> Model with both 'logitude' and 'latitude' variables </font></h4></p>"
    },
    {
      "metadata": {
        "trusted": true
      },
      "cell_type": "code",
      "source": "model1.fit(X_train[['longitude','latitude']],y_train)",
      "execution_count": null,
      "outputs": []
    },
    {
      "metadata": {
        "trusted": true
      },
      "cell_type": "code",
      "source": "model1.coef_",
      "execution_count": null,
      "outputs": []
    },
    {
      "metadata": {
        "trusted": true
      },
      "cell_type": "code",
      "source": "model1.intercept_",
      "execution_count": null,
      "outputs": []
    },
    {
      "metadata": {
        "trusted": true
      },
      "cell_type": "code",
      "source": "model1.score(X_train[['longitude','latitude']],y_train)",
      "execution_count": null,
      "outputs": []
    },
    {
      "metadata": {},
      "cell_type": "markdown",
      "source": "<p><h3><font color = Purple> Quiz 3: Build a model with the variables  'logitude' , 'latitude' and 'housing_median_age'. What is the coefficient of 'housing_median_age' variable? </font></h3></p>\n<p><h4><font color = purple>\n1. -143091.95 <br><br>\n2. -148898.94 <br><br>\n3. 5180.33 <br><br>\n4. -1803.02 </font></h4></p>"
    },
    {
      "metadata": {
        "trusted": true
      },
      "cell_type": "code",
      "source": "model1.fit(X_train[['longitude','latitude','housing_median_age']],y_train)",
      "execution_count": null,
      "outputs": []
    },
    {
      "metadata": {
        "trusted": true
      },
      "cell_type": "code",
      "source": "model1.coef_",
      "execution_count": null,
      "outputs": []
    },
    {
      "metadata": {
        "trusted": true
      },
      "cell_type": "code",
      "source": "model1.intercept_",
      "execution_count": null,
      "outputs": []
    },
    {
      "metadata": {
        "trusted": true
      },
      "cell_type": "code",
      "source": "model1.score(X_train[['longitude','latitude','housing_median_age']],y_train)",
      "execution_count": null,
      "outputs": []
    },
    {
      "metadata": {},
      "cell_type": "markdown",
      "source": "<p><h4><font color = DarkGreen> Model with logitude, latitude, housing_median_age and total_rooms variables </font></h4></p>"
    },
    {
      "metadata": {
        "trusted": true
      },
      "cell_type": "code",
      "source": "model1.fit(X_train[['longitude','latitude','housing_median_age','total_rooms']],y_train)\nprint(\"Coefficients : \",model1.coef_)\nprint(\"Intercept : \", model1.intercept_)\nmodel1.score(X_train[['longitude','latitude','housing_median_age','total_rooms']],y_train)",
      "execution_count": null,
      "outputs": []
    },
    {
      "metadata": {},
      "cell_type": "markdown",
      "source": "<p><h3><font color = Purple>Quiz 4: For the above model what is the interpretation of the coefficient of 'total_rooms'? </font></h3></p>\n<p><h4><font color = purple>\n1. For an increase of 1 in the 'median_house_value' the 'total_rooms' decreases by approximately 18588.32 <br><br>\n2. For an increase of 1 in 'total_rooms' the 'median_house_value' increases by approximately 18588.32 <br><br>\n3. For an increase of 1 in 'total_rooms' the 'median_house_value' decreases by approximately 18588.32 <br><br>\n4. For an increase of 1 in the 'median_house_value' the 'total_rooms' increases by approximately 18588.32 </font></h4></p>\n"
    },
    {
      "metadata": {},
      "cell_type": "markdown",
      "source": "<p><h4><font color = DarkGreen> Model with 'longitude','latitude','housing_median_age','total_rooms','total_bedrooms' varaibles </font></h4></p>"
    },
    {
      "metadata": {
        "scrolled": true,
        "trusted": true
      },
      "cell_type": "code",
      "source": "model1.fit(X_train[['longitude','latitude','housing_median_age','total_rooms','total_bedrooms']],y_train)\nprint(\"Coefficients : \",model1.coef_)\nprint(\"Intercept : \", model1.intercept_)\nmodel1.score(X_train[['longitude','latitude','housing_median_age','total_rooms','total_bedrooms']],y_train)",
      "execution_count": null,
      "outputs": []
    },
    {
      "metadata": {},
      "cell_type": "markdown",
      "source": "<p><h3><font color = Purple> Quiz 5: Suppose we add 'population' variable to our previous model. Is it possible for the model R2 to decrease from 0.31 to 0.26? </font></h3></p>\n<p><h4><font color = purple>\n1. No, the model's R2 value can only decrease to 0.30 by adding new variable. <br><br>\n2. No, the model's R² value can not decrease at all by adding new variable. <br><br>\n3. Yes, the R² value could decrease to 0.26 </font></h4></p>"
    },
    {
      "metadata": {},
      "cell_type": "markdown",
      "source": "<p><h4><font color = DarkGreen> Model with' longitude','latitude','housing_median_age','total_rooms','total_bedrooms','population' </font></h4></p>"
    },
    {
      "metadata": {
        "trusted": true
      },
      "cell_type": "code",
      "source": "model1.fit(X_train[['longitude','latitude','housing_median_age','total_rooms','total_bedrooms','population']],y_train)\nprint(\"Coefficients : \",model1.coef_)\nprint(\"Intercept : \", model1.intercept_)\nmodel1.score(X_train[['longitude','latitude','housing_median_age','total_rooms','total_bedrooms','population']],y_train)",
      "execution_count": null,
      "outputs": []
    },
    {
      "metadata": {},
      "cell_type": "markdown",
      "source": "<p><h4><font color = DarkGreen> Model with 'longitude','latitude','housing_median_age','total_rooms','total_bedrooms','population','households' variables </font></h4></p>"
    },
    {
      "metadata": {
        "trusted": true
      },
      "cell_type": "code",
      "source": "model1.fit(X_train[['longitude','latitude','housing_median_age','total_rooms','total_bedrooms','population','households']],y_train)\nprint(\"Coefficients : \",model1.coef_)\nprint(\"Intercept : \", model1.intercept_)\nmodel1.score(X_train[['longitude','latitude','housing_median_age','total_rooms','total_bedrooms','population','households']],y_train)",
      "execution_count": null,
      "outputs": []
    },
    {
      "metadata": {},
      "cell_type": "markdown",
      "source": "<p><h4><font color = DarkGreen> Model with 'longitude','latitude','housing_median_age','total_rooms','total_bedrooms','population','households','median_income' variables </font></h4></p>"
    },
    {
      "metadata": {
        "scrolled": true,
        "trusted": true
      },
      "cell_type": "code",
      "source": "model1.fit(X_train[['longitude','latitude','housing_median_age','total_rooms','total_bedrooms','population','households','median_income']],y_train)\nprint(\"Coefficients : \",model1.coef_)\nprint(\"Intercept : \", model1.intercept_)\nmodel1.score(X_train[['longitude','latitude','housing_median_age','total_rooms','total_bedrooms','population','households','median_income']],y_train)",
      "execution_count": null,
      "outputs": []
    },
    {
      "metadata": {},
      "cell_type": "markdown",
      "source": "<p><h2><font color = DarkBlue> Effect of adding variables on R2 </font></h2></p>\n\n<img src = \"images/R2Effect.png\">"
    },
    {
      "metadata": {},
      "cell_type": "markdown",
      "source": "<p><h2><font color = DarkBlue> Feature Selection Techniques </font></h2></p>"
    },
    {
      "metadata": {},
      "cell_type": "markdown",
      "source": "<p><h3><font color = Blue> 1. Applying SelectKBest Feature Selection Method </font></h3></p>"
    },
    {
      "metadata": {
        "trusted": true
      },
      "cell_type": "code",
      "source": "from sklearn.feature_selection import SelectKBest, f_regression",
      "execution_count": 6,
      "outputs": []
    },
    {
      "metadata": {
        "trusted": true
      },
      "cell_type": "code",
      "source": "select_feature = SelectKBest(f_regression,k=6).fit(X_train, y_train)",
      "execution_count": null,
      "outputs": []
    },
    {
      "metadata": {
        "trusted": true
      },
      "cell_type": "code",
      "source": "select_feature.scores_",
      "execution_count": null,
      "outputs": []
    },
    {
      "metadata": {
        "trusted": true
      },
      "cell_type": "code",
      "source": "select_feature.pvalues_",
      "execution_count": null,
      "outputs": []
    },
    {
      "metadata": {
        "trusted": true
      },
      "cell_type": "code",
      "source": "selected_features_df = pd.DataFrame({'Feature':list(X_train.columns),\n                                     'P_values':select_feature.pvalues_})\nselected_features_df.sort_values(by='P_values', ascending=True)",
      "execution_count": null,
      "outputs": []
    },
    {
      "metadata": {
        "trusted": true
      },
      "cell_type": "code",
      "source": "X_train_new = select_feature.transform(X_train)\nX_train_new.shape",
      "execution_count": null,
      "outputs": []
    },
    {
      "metadata": {
        "trusted": true
      },
      "cell_type": "code",
      "source": "model_kbest = model_all.fit(X_train_new,y_train)",
      "execution_count": null,
      "outputs": []
    },
    {
      "metadata": {
        "trusted": true
      },
      "cell_type": "code",
      "source": "model_kbest.coef_",
      "execution_count": null,
      "outputs": []
    },
    {
      "metadata": {
        "trusted": true
      },
      "cell_type": "code",
      "source": "model_kbest.score(X_train_new,y_train)",
      "execution_count": null,
      "outputs": []
    },
    {
      "metadata": {
        "trusted": true
      },
      "cell_type": "code",
      "source": "y_pred_kbest = model_kbest.predict(X_train_new)",
      "execution_count": null,
      "outputs": []
    },
    {
      "metadata": {
        "trusted": true
      },
      "cell_type": "code",
      "source": "lin_rmse_kbest = np.sqrt(mean_squared_error(y_train, y_pred_kbest))\nlin_rmse_kbest",
      "execution_count": null,
      "outputs": []
    },
    {
      "metadata": {},
      "cell_type": "markdown",
      "source": "<p><h3><font color = Blue> 2. Applying Recursive Feature Elimination Method </font></h3></p>"
    },
    {
      "metadata": {
        "trusted": true
      },
      "cell_type": "code",
      "source": "from sklearn.feature_selection import RFE",
      "execution_count": null,
      "outputs": []
    },
    {
      "metadata": {
        "trusted": true
      },
      "cell_type": "code",
      "source": "rfe = RFE(estimator=model_all, step=1)",
      "execution_count": null,
      "outputs": []
    },
    {
      "metadata": {
        "trusted": true
      },
      "cell_type": "code",
      "source": "rfe.fit(X_train, y_train)",
      "execution_count": null,
      "outputs": []
    },
    {
      "metadata": {
        "trusted": true
      },
      "cell_type": "code",
      "source": "selected_rfe_features = pd.DataFrame({'Feature':list(X_train.columns),\n                                      'Ranking':rfe.ranking_})\nselected_rfe_features.sort_values(by='Ranking')",
      "execution_count": null,
      "outputs": []
    },
    {
      "metadata": {
        "trusted": true
      },
      "cell_type": "code",
      "source": "X_train_rfe = rfe.transform(X_train)\nX_train.shape",
      "execution_count": null,
      "outputs": []
    },
    {
      "metadata": {
        "trusted": true
      },
      "cell_type": "code",
      "source": "model_rfe = model_all.fit(X_train_rfe,y_train)",
      "execution_count": null,
      "outputs": []
    },
    {
      "metadata": {
        "trusted": true
      },
      "cell_type": "code",
      "source": "model_rfe.coef_",
      "execution_count": null,
      "outputs": []
    },
    {
      "metadata": {
        "trusted": true
      },
      "cell_type": "code",
      "source": "model_rfe.intercept_",
      "execution_count": null,
      "outputs": []
    },
    {
      "metadata": {
        "trusted": true
      },
      "cell_type": "code",
      "source": "model_rfe.score(X_train_rfe,y_train)",
      "execution_count": null,
      "outputs": []
    },
    {
      "metadata": {
        "trusted": true
      },
      "cell_type": "code",
      "source": "y_pred_rfe = model_rfe.predict(X_train_rfe)",
      "execution_count": null,
      "outputs": []
    },
    {
      "metadata": {
        "trusted": true
      },
      "cell_type": "code",
      "source": "lin_rmse_rfe = np.sqrt(mean_squared_error(y_train, y_pred_rfe))\nlin_rmse_rfe",
      "execution_count": null,
      "outputs": []
    },
    {
      "metadata": {},
      "cell_type": "markdown",
      "source": "<p><h2><font color = DarkBlue> Predictions on Test Data </font></h2></p>"
    },
    {
      "metadata": {
        "trusted": true
      },
      "cell_type": "code",
      "source": "HTest = pd.read_csv('https://storage.googleapis.com/dimensionless/ML_with_Python/Chapter%203%20Linear%20Regression/housing_test.csv')",
      "execution_count": null,
      "outputs": []
    },
    {
      "metadata": {
        "trusted": true
      },
      "cell_type": "code",
      "source": "HTest.head()",
      "execution_count": null,
      "outputs": []
    },
    {
      "metadata": {
        "trusted": true
      },
      "cell_type": "code",
      "source": "X_test = HTest.drop('median_house_value', axis = 1)\nX_test.head()",
      "execution_count": null,
      "outputs": []
    },
    {
      "metadata": {
        "trusted": true
      },
      "cell_type": "code",
      "source": "y_test = HTest['median_house_value']\ny_test.head()",
      "execution_count": null,
      "outputs": []
    },
    {
      "metadata": {
        "trusted": true
      },
      "cell_type": "code",
      "source": "y_pred_test = model_all.predict(X_test)\nrmse_test = np.sqrt(mean_squared_error(y_test, y_pred_test))\nSSE = np.sum((y_pred_test-y_test)**2)\nSST = np.sum((y_test-np.mean(y_train))**2)\nr2_test = 1 - SSE/SST\nprint(\"Test RMSE : \", rmse_test)\nprint(\"Test SSE : \", SSE)\nprint(\"Test SST : \", SST)\nprint(\"Test R2 : \", r2_test)",
      "execution_count": null,
      "outputs": []
    }
  ],
  "metadata": {
    "kernelspec": {
      "name": "python3",
      "display_name": "Python 3",
      "language": "python"
    },
    "language_info": {
      "mimetype": "text/x-python",
      "nbconvert_exporter": "python",
      "name": "python",
      "file_extension": ".py",
      "version": "3.5.4",
      "pygments_lexer": "ipython3",
      "codemirror_mode": {
        "version": 3,
        "name": "ipython"
      }
    }
  },
  "nbformat": 4,
  "nbformat_minor": 2
}