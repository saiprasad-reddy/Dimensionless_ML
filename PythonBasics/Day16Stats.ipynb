{
  "cells": [
    {
      "metadata": {
        "trusted": true
      },
      "cell_type": "code",
      "source": "import numpy as np\nimport pandas as pd\nimport matplotlib.pyplot as plt\nimport seaborn as sns",
      "execution_count": 9,
      "outputs": []
    },
    {
      "metadata": {
        "trusted": true
      },
      "cell_type": "code",
      "source": "Auto = pd.read_csv('AutoClean.csv')",
      "execution_count": 10,
      "outputs": []
    },
    {
      "metadata": {
        "trusted": true
      },
      "cell_type": "code",
      "source": "Auto.head()",
      "execution_count": 11,
      "outputs": [
        {
          "output_type": "execute_result",
          "execution_count": 11,
          "data": {
            "text/html": "<div>\n<style scoped>\n    .dataframe tbody tr th:only-of-type {\n        vertical-align: middle;\n    }\n\n    .dataframe tbody tr th {\n        vertical-align: top;\n    }\n\n    .dataframe thead th {\n        text-align: right;\n    }\n</style>\n<table border=\"1\" class=\"dataframe\">\n  <thead>\n    <tr style=\"text-align: right;\">\n      <th></th>\n      <th>symboling</th>\n      <th>normalized-losses</th>\n      <th>make</th>\n      <th>fuel-type</th>\n      <th>aspiration</th>\n      <th>num-of-doors</th>\n      <th>body-style</th>\n      <th>drive-wheels</th>\n      <th>engine-location</th>\n      <th>wheel-base</th>\n      <th>...</th>\n      <th>engine-size</th>\n      <th>fuel-system</th>\n      <th>bore</th>\n      <th>stroke</th>\n      <th>compression-ratio</th>\n      <th>horsepower</th>\n      <th>peak-rpm</th>\n      <th>city-mpg</th>\n      <th>highway-mpg</th>\n      <th>price</th>\n    </tr>\n  </thead>\n  <tbody>\n    <tr>\n      <th>0</th>\n      <td>3</td>\n      <td>122.0</td>\n      <td>alfa-romero</td>\n      <td>gas</td>\n      <td>std</td>\n      <td>two</td>\n      <td>convertible</td>\n      <td>rwd</td>\n      <td>front</td>\n      <td>88.6</td>\n      <td>...</td>\n      <td>130</td>\n      <td>mpfi</td>\n      <td>3.47</td>\n      <td>2.68</td>\n      <td>9.0</td>\n      <td>111.0</td>\n      <td>5000.0</td>\n      <td>21</td>\n      <td>27</td>\n      <td>13495.0</td>\n    </tr>\n    <tr>\n      <th>1</th>\n      <td>3</td>\n      <td>122.0</td>\n      <td>alfa-romero</td>\n      <td>gas</td>\n      <td>std</td>\n      <td>two</td>\n      <td>convertible</td>\n      <td>rwd</td>\n      <td>front</td>\n      <td>88.6</td>\n      <td>...</td>\n      <td>130</td>\n      <td>mpfi</td>\n      <td>3.47</td>\n      <td>2.68</td>\n      <td>9.0</td>\n      <td>111.0</td>\n      <td>5000.0</td>\n      <td>21</td>\n      <td>27</td>\n      <td>16500.0</td>\n    </tr>\n    <tr>\n      <th>2</th>\n      <td>1</td>\n      <td>122.0</td>\n      <td>alfa-romero</td>\n      <td>gas</td>\n      <td>std</td>\n      <td>two</td>\n      <td>hatchback</td>\n      <td>rwd</td>\n      <td>front</td>\n      <td>94.5</td>\n      <td>...</td>\n      <td>152</td>\n      <td>mpfi</td>\n      <td>2.68</td>\n      <td>3.47</td>\n      <td>9.0</td>\n      <td>154.0</td>\n      <td>5000.0</td>\n      <td>19</td>\n      <td>26</td>\n      <td>16500.0</td>\n    </tr>\n    <tr>\n      <th>3</th>\n      <td>2</td>\n      <td>164.0</td>\n      <td>audi</td>\n      <td>gas</td>\n      <td>std</td>\n      <td>four</td>\n      <td>sedan</td>\n      <td>fwd</td>\n      <td>front</td>\n      <td>99.8</td>\n      <td>...</td>\n      <td>109</td>\n      <td>mpfi</td>\n      <td>3.19</td>\n      <td>3.40</td>\n      <td>10.0</td>\n      <td>102.0</td>\n      <td>5500.0</td>\n      <td>24</td>\n      <td>30</td>\n      <td>13950.0</td>\n    </tr>\n    <tr>\n      <th>4</th>\n      <td>2</td>\n      <td>164.0</td>\n      <td>audi</td>\n      <td>gas</td>\n      <td>std</td>\n      <td>four</td>\n      <td>sedan</td>\n      <td>4wd</td>\n      <td>front</td>\n      <td>99.4</td>\n      <td>...</td>\n      <td>136</td>\n      <td>mpfi</td>\n      <td>3.19</td>\n      <td>3.40</td>\n      <td>8.0</td>\n      <td>115.0</td>\n      <td>5500.0</td>\n      <td>18</td>\n      <td>22</td>\n      <td>17450.0</td>\n    </tr>\n  </tbody>\n</table>\n<p>5 rows × 26 columns</p>\n</div>",
            "text/plain": "   symboling  normalized-losses         make fuel-type aspiration  \\\n0          3              122.0  alfa-romero       gas        std   \n1          3              122.0  alfa-romero       gas        std   \n2          1              122.0  alfa-romero       gas        std   \n3          2              164.0         audi       gas        std   \n4          2              164.0         audi       gas        std   \n\n  num-of-doors   body-style drive-wheels engine-location  wheel-base   ...     \\\n0          two  convertible          rwd           front        88.6   ...      \n1          two  convertible          rwd           front        88.6   ...      \n2          two    hatchback          rwd           front        94.5   ...      \n3         four        sedan          fwd           front        99.8   ...      \n4         four        sedan          4wd           front        99.4   ...      \n\n   engine-size  fuel-system  bore  stroke compression-ratio horsepower  \\\n0          130         mpfi  3.47    2.68               9.0      111.0   \n1          130         mpfi  3.47    2.68               9.0      111.0   \n2          152         mpfi  2.68    3.47               9.0      154.0   \n3          109         mpfi  3.19    3.40              10.0      102.0   \n4          136         mpfi  3.19    3.40               8.0      115.0   \n\n   peak-rpm city-mpg  highway-mpg    price  \n0    5000.0       21           27  13495.0  \n1    5000.0       21           27  16500.0  \n2    5000.0       19           26  16500.0  \n3    5500.0       24           30  13950.0  \n4    5500.0       18           22  17450.0  \n\n[5 rows x 26 columns]"
          },
          "metadata": {}
        }
      ]
    },
    {
      "metadata": {},
      "cell_type": "markdown",
      "source": "<h3>Descriptive Statistics in python</h3>"
    },
    {
      "metadata": {
        "trusted": true
      },
      "cell_type": "code",
      "source": "Auto.price.mean()",
      "execution_count": null,
      "outputs": []
    },
    {
      "metadata": {
        "trusted": true
      },
      "cell_type": "code",
      "source": "Auto.price.median()",
      "execution_count": null,
      "outputs": []
    },
    {
      "metadata": {
        "trusted": true
      },
      "cell_type": "code",
      "source": "Auto['fuel-type'].mode()\nAuto['fuel-type'].value_counts()",
      "execution_count": 13,
      "outputs": [
        {
          "output_type": "execute_result",
          "execution_count": 13,
          "data": {
            "text/plain": "gas       185\ndiesel     20\nName: fuel-type, dtype: int64"
          },
          "metadata": {}
        }
      ]
    },
    {
      "metadata": {},
      "cell_type": "markdown",
      "source": "<h4>Measure of Spread</h4>"
    },
    {
      "metadata": {
        "trusted": true
      },
      "cell_type": "code",
      "source": "print(Auto.price.max())\nprint(Auto.price.min())",
      "execution_count": null,
      "outputs": []
    },
    {
      "metadata": {
        "trusted": true
      },
      "cell_type": "code",
      "source": "price_range = Auto.price.max()-Auto.price.min()\nprice_range",
      "execution_count": null,
      "outputs": []
    },
    {
      "metadata": {
        "trusted": true
      },
      "cell_type": "code",
      "source": "Auto.price.std()",
      "execution_count": null,
      "outputs": []
    },
    {
      "metadata": {
        "trusted": true
      },
      "cell_type": "code",
      "source": "Auto.price.var()",
      "execution_count": null,
      "outputs": []
    },
    {
      "metadata": {
        "trusted": true
      },
      "cell_type": "code",
      "source": "Q1 = Auto.price.quantile(0.25)\nQ3 = Auto.price.quantile(0.75)\nIQR = Q3-Q1\nprint('1st Quatile value:', Q1)\nprint('3rd Quatile value:', Q3)\nprint('Inter Quatile value:', IQR)\nprint('Lower Bound:', Q3+1.5*IQR)\nprint('Upper Bound:', Q1-1.5*IQR)",
      "execution_count": null,
      "outputs": []
    },
    {
      "metadata": {
        "trusted": true
      },
      "cell_type": "code",
      "source": "Auto.price.describe()",
      "execution_count": null,
      "outputs": []
    },
    {
      "metadata": {},
      "cell_type": "markdown",
      "source": "<h3>Inferential Statistics</h3>"
    },
    {
      "metadata": {
        "trusted": true
      },
      "cell_type": "code",
      "source": "from scipy import stats",
      "execution_count": null,
      "outputs": []
    },
    {
      "metadata": {},
      "cell_type": "markdown",
      "source": "<h4>1. What is the Z-score of a automobile with a price 35550</h4>"
    },
    {
      "metadata": {
        "trusted": true
      },
      "cell_type": "code",
      "source": "mean_price = Auto.price.mean()\nstd_price = Auto.price.std()\nz_score = (35550-mean_price)/std_price\nprint(z_score)",
      "execution_count": null,
      "outputs": []
    },
    {
      "metadata": {},
      "cell_type": "markdown",
      "source": "<h4>2. Check whether the price value of 35550 dollars is outlier using boxplot</h4>"
    },
    {
      "metadata": {
        "trusted": true
      },
      "cell_type": "code",
      "source": "plt.boxplot(Auto.price);",
      "execution_count": null,
      "outputs": []
    },
    {
      "metadata": {},
      "cell_type": "markdown",
      "source": "<h4>3. According to surbey it has been found that the mean price is \nHo:u(price) = 15000\nH1:u(price) =/ 15000\nUse alpha value of 0.05</h4>"
    },
    {
      "metadata": {
        "trusted": true
      },
      "cell_type": "code",
      "source": "stats.ttest_1samp(Auto.price,15000)",
      "execution_count": null,
      "outputs": []
    },
    {
      "metadata": {
        "trusted": true
      },
      "cell_type": "code",
      "source": "# as pvalue is less than alpha value we will reject null Hypthesis\n#and conclude that mean price is significantly different from mean price",
      "execution_count": null,
      "outputs": []
    },
    {
      "metadata": {},
      "cell_type": "markdown",
      "source": "<h4>\nHo : u(gas) =u(diseal)\nH1 : u(gas) =u(diseal)</h4>"
    },
    {
      "metadata": {
        "trusted": true
      },
      "cell_type": "code",
      "source": "city_mpg_gas = Auto[Auto['fuel-type']=='gas']['city-mpg']\ncity_mpg_gas.head()",
      "execution_count": null,
      "outputs": []
    },
    {
      "metadata": {
        "trusted": true
      },
      "cell_type": "code",
      "source": "city_mpg_diesel = Auto[Auto['fuel-type']=='diesel']['city-mpg']\ncity_mpg_diesel.head()\n",
      "execution_count": null,
      "outputs": []
    },
    {
      "metadata": {
        "trusted": true
      },
      "cell_type": "code",
      "source": "stats.ttest_ind(city_mpg_gas,city_mpg_diesel)",
      "execution_count": null,
      "outputs": []
    },
    {
      "metadata": {
        "trusted": true
      },
      "cell_type": "code",
      "source": "#reject null hypothesis",
      "execution_count": null,
      "outputs": []
    },
    {
      "metadata": {},
      "cell_type": "markdown",
      "source": "<h4>5. Apply ANOVA to test</h4>"
    },
    {
      "metadata": {
        "trusted": true
      },
      "cell_type": "code",
      "source": "Auto['body-style'].unique()",
      "execution_count": null,
      "outputs": []
    },
    {
      "metadata": {
        "trusted": true
      },
      "cell_type": "code",
      "source": "convertible = Auto[Auto['body-style']=='convertible']['price']\nconvertible.count()",
      "execution_count": 7,
      "outputs": [
        {
          "output_type": "execute_result",
          "execution_count": 7,
          "data": {
            "text/plain": "6"
          },
          "metadata": {}
        }
      ]
    },
    {
      "metadata": {
        "trusted": true
      },
      "cell_type": "code",
      "source": "hatchback = Auto[Auto['body-style']=='hatchback']['price']\nhatchback.count()\n",
      "execution_count": 8,
      "outputs": [
        {
          "output_type": "execute_result",
          "execution_count": 8,
          "data": {
            "text/plain": "70"
          },
          "metadata": {}
        }
      ]
    },
    {
      "metadata": {
        "trusted": true
      },
      "cell_type": "code",
      "source": "sedan = Auto[Auto['body-style']=='sedan']['price']\nsedan.count()",
      "execution_count": null,
      "outputs": []
    },
    {
      "metadata": {
        "trusted": true
      },
      "cell_type": "code",
      "source": "wagon = Auto[Auto['body-style']=='wagon']['price']\nwagon.count()",
      "execution_count": null,
      "outputs": []
    },
    {
      "metadata": {
        "trusted": true
      },
      "cell_type": "code",
      "source": "hardtop = Auto[Auto['body-style']=='hardtop']['price']\nhardtop.count()",
      "execution_count": null,
      "outputs": []
    },
    {
      "metadata": {
        "trusted": true
      },
      "cell_type": "code",
      "source": "anova_result = stats.f_oneway(convertible,hatchback,sedan,wagon,hardtop)\nanova_result",
      "execution_count": null,
      "outputs": []
    },
    {
      "metadata": {
        "trusted": true
      },
      "cell_type": "code",
      "source": "#reject null hypothesis",
      "execution_count": null,
      "outputs": []
    },
    {
      "metadata": {},
      "cell_type": "markdown",
      "source": "<h4>6. Chi-square test</h4>"
    },
    {
      "metadata": {
        "trusted": true
      },
      "cell_type": "code",
      "source": "data = {'Gender':['Male', 'Female','Female','Male','Male','Male', 'Female','Female','Male','Male','Female','Female','Male','Female','Male','Male','Female','Male','Male','Female'], 'Automobile':['4wh','4wh','2wh','2wh','4wh','2wh','4wh','2wh','4wh','4wh','2wh','2wh','4wh','4wh','2wh','4wh','2wh','2wh','4wh','4wh']}",
      "execution_count": 4,
      "outputs": []
    },
    {
      "metadata": {
        "trusted": true
      },
      "cell_type": "code",
      "source": "Auto_df = pd.DataFrame(data)\nAuto_df",
      "execution_count": 5,
      "outputs": [
        {
          "output_type": "execute_result",
          "execution_count": 5,
          "data": {
            "text/html": "<div>\n<style scoped>\n    .dataframe tbody tr th:only-of-type {\n        vertical-align: middle;\n    }\n\n    .dataframe tbody tr th {\n        vertical-align: top;\n    }\n\n    .dataframe thead th {\n        text-align: right;\n    }\n</style>\n<table border=\"1\" class=\"dataframe\">\n  <thead>\n    <tr style=\"text-align: right;\">\n      <th></th>\n      <th>Gender</th>\n      <th>Automobile</th>\n    </tr>\n  </thead>\n  <tbody>\n    <tr>\n      <th>0</th>\n      <td>Male</td>\n      <td>4wh</td>\n    </tr>\n    <tr>\n      <th>1</th>\n      <td>Female</td>\n      <td>4wh</td>\n    </tr>\n    <tr>\n      <th>2</th>\n      <td>Female</td>\n      <td>2wh</td>\n    </tr>\n    <tr>\n      <th>3</th>\n      <td>Male</td>\n      <td>2wh</td>\n    </tr>\n    <tr>\n      <th>4</th>\n      <td>Male</td>\n      <td>4wh</td>\n    </tr>\n    <tr>\n      <th>5</th>\n      <td>Male</td>\n      <td>2wh</td>\n    </tr>\n    <tr>\n      <th>6</th>\n      <td>Female</td>\n      <td>4wh</td>\n    </tr>\n    <tr>\n      <th>7</th>\n      <td>Female</td>\n      <td>2wh</td>\n    </tr>\n    <tr>\n      <th>8</th>\n      <td>Male</td>\n      <td>4wh</td>\n    </tr>\n    <tr>\n      <th>9</th>\n      <td>Male</td>\n      <td>4wh</td>\n    </tr>\n    <tr>\n      <th>10</th>\n      <td>Female</td>\n      <td>2wh</td>\n    </tr>\n    <tr>\n      <th>11</th>\n      <td>Female</td>\n      <td>2wh</td>\n    </tr>\n    <tr>\n      <th>12</th>\n      <td>Male</td>\n      <td>4wh</td>\n    </tr>\n    <tr>\n      <th>13</th>\n      <td>Female</td>\n      <td>4wh</td>\n    </tr>\n    <tr>\n      <th>14</th>\n      <td>Male</td>\n      <td>2wh</td>\n    </tr>\n    <tr>\n      <th>15</th>\n      <td>Male</td>\n      <td>4wh</td>\n    </tr>\n    <tr>\n      <th>16</th>\n      <td>Female</td>\n      <td>2wh</td>\n    </tr>\n    <tr>\n      <th>17</th>\n      <td>Male</td>\n      <td>2wh</td>\n    </tr>\n    <tr>\n      <th>18</th>\n      <td>Male</td>\n      <td>4wh</td>\n    </tr>\n    <tr>\n      <th>19</th>\n      <td>Female</td>\n      <td>4wh</td>\n    </tr>\n  </tbody>\n</table>\n</div>",
            "text/plain": "    Gender Automobile\n0     Male        4wh\n1   Female        4wh\n2   Female        2wh\n3     Male        2wh\n4     Male        4wh\n5     Male        2wh\n6   Female        4wh\n7   Female        2wh\n8     Male        4wh\n9     Male        4wh\n10  Female        2wh\n11  Female        2wh\n12    Male        4wh\n13  Female        4wh\n14    Male        2wh\n15    Male        4wh\n16  Female        2wh\n17    Male        2wh\n18    Male        4wh\n19  Female        4wh"
          },
          "metadata": {}
        }
      ]
    },
    {
      "metadata": {
        "trusted": true
      },
      "cell_type": "code",
      "source": "crosstab = pd.crosstab(Auto_df.Gender,Auto_df.Automobile)\ncrosstab",
      "execution_count": 6,
      "outputs": [
        {
          "output_type": "execute_result",
          "execution_count": 6,
          "data": {
            "text/html": "<div>\n<style scoped>\n    .dataframe tbody tr th:only-of-type {\n        vertical-align: middle;\n    }\n\n    .dataframe tbody tr th {\n        vertical-align: top;\n    }\n\n    .dataframe thead th {\n        text-align: right;\n    }\n</style>\n<table border=\"1\" class=\"dataframe\">\n  <thead>\n    <tr style=\"text-align: right;\">\n      <th>Automobile</th>\n      <th>2wh</th>\n      <th>4wh</th>\n    </tr>\n    <tr>\n      <th>Gender</th>\n      <th></th>\n      <th></th>\n    </tr>\n  </thead>\n  <tbody>\n    <tr>\n      <th>Female</th>\n      <td>5</td>\n      <td>4</td>\n    </tr>\n    <tr>\n      <th>Male</th>\n      <td>4</td>\n      <td>7</td>\n    </tr>\n  </tbody>\n</table>\n</div>",
            "text/plain": "Automobile  2wh  4wh\nGender              \nFemale        5    4\nMale          4    7"
          },
          "metadata": {}
        }
      ]
    },
    {
      "metadata": {
        "trusted": true
      },
      "cell_type": "code",
      "source": "stats.chi2_contingency(crosstab)",
      "execution_count": null,
      "outputs": []
    },
    {
      "metadata": {
        "trusted": true
      },
      "cell_type": "code",
      "source": "#retain the null hypothesis",
      "execution_count": null,
      "outputs": []
    },
    {
      "metadata": {},
      "cell_type": "markdown",
      "source": "<h4>7. Create a corelation matrix for the dataset</h4>"
    },
    {
      "metadata": {
        "trusted": true
      },
      "cell_type": "code",
      "source": "Auto_corr = Auto.corr()\nAuto.corr()",
      "execution_count": null,
      "outputs": []
    },
    {
      "metadata": {},
      "cell_type": "markdown",
      "source": "<h4>corelation b/w horsepower and price</h4>"
    },
    {
      "metadata": {
        "trusted": true
      },
      "cell_type": "code",
      "source": "Auto.horsepower.corr(Auto.price)",
      "execution_count": null,
      "outputs": []
    },
    {
      "metadata": {
        "trusted": true
      },
      "cell_type": "code",
      "source": "stats.pearsonr(Auto.horsepower,Auto.price)",
      "execution_count": null,
      "outputs": []
    },
    {
      "metadata": {
        "trusted": true
      },
      "cell_type": "code",
      "source": "import seaborn as sns",
      "execution_count": null,
      "outputs": []
    },
    {
      "metadata": {
        "trusted": true
      },
      "cell_type": "code",
      "source": "plt.figure(figsize=(15,15))\nsns.heatmap(Auto_corr,annot = True,fmt='.2f')\n#annot print values, .2f decimal rounds to two decimal points",
      "execution_count": null,
      "outputs": []
    },
    {
      "metadata": {},
      "cell_type": "markdown",
      "source": "<h4>8. what is the predicted value of price if the HP of car is 155</h4>"
    },
    {
      "metadata": {
        "trusted": true
      },
      "cell_type": "code",
      "source": "x = Auto.horsepower",
      "execution_count": null,
      "outputs": []
    },
    {
      "metadata": {
        "trusted": true
      },
      "cell_type": "code",
      "source": "y = Auto.price",
      "execution_count": null,
      "outputs": []
    },
    {
      "metadata": {
        "trusted": true
      },
      "cell_type": "code",
      "source": "reg_result = stats.linregress(x,y)\nreg_result",
      "execution_count": null,
      "outputs": []
    },
    {
      "metadata": {
        "trusted": true
      },
      "cell_type": "code",
      "source": "pred_price = reg_result.intercept + reg_result.slope*155\npred_price",
      "execution_count": null,
      "outputs": []
    }
  ],
  "metadata": {
    "kernelspec": {
      "name": "python36",
      "display_name": "Python 3.6",
      "language": "python"
    },
    "language_info": {
      "mimetype": "text/x-python",
      "nbconvert_exporter": "python",
      "name": "python",
      "pygments_lexer": "ipython3",
      "version": "3.6.6",
      "file_extension": ".py",
      "codemirror_mode": {
        "version": 3,
        "name": "ipython"
      }
    }
  },
  "nbformat": 4,
  "nbformat_minor": 2
}