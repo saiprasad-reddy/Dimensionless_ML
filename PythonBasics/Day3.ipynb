{
  "cells": [
    {
      "metadata": {
        "collapsed": true
      },
      "cell_type": "markdown",
      "source": "<h3>Exception Handling :try and except structure</h3>"
    },
    {
      "metadata": {
        "trusted": true
      },
      "cell_type": "code",
      "source": "astr = 'hello'\nistr = int(astr)\nprint('First',istr)",
      "execution_count": 1,
      "outputs": [
        {
          "output_type": "error",
          "ename": "ValueError",
          "evalue": "invalid literal for int() with base 10: 'hello'",
          "traceback": [
            "\u001b[0;31m---------------------------------------------------------------------------\u001b[0m",
            "\u001b[0;31mValueError\u001b[0m                                Traceback (most recent call last)",
            "\u001b[0;32m<ipython-input-1-668d6501e726>\u001b[0m in \u001b[0;36m<module>\u001b[0;34m\u001b[0m\n\u001b[1;32m      1\u001b[0m \u001b[0mastr\u001b[0m \u001b[0;34m=\u001b[0m \u001b[0;34m'hello'\u001b[0m\u001b[0;34m\u001b[0m\u001b[0m\n\u001b[0;32m----> 2\u001b[0;31m \u001b[0mistr\u001b[0m \u001b[0;34m=\u001b[0m \u001b[0mint\u001b[0m\u001b[0;34m(\u001b[0m\u001b[0mastr\u001b[0m\u001b[0;34m)\u001b[0m\u001b[0;34m\u001b[0m\u001b[0m\n\u001b[0m\u001b[1;32m      3\u001b[0m \u001b[0mprint\u001b[0m\u001b[0;34m(\u001b[0m\u001b[0;34m'First'\u001b[0m\u001b[0;34m,\u001b[0m\u001b[0mistr\u001b[0m\u001b[0;34m)\u001b[0m\u001b[0;34m\u001b[0m\u001b[0m\n",
            "\u001b[0;31mValueError\u001b[0m: invalid literal for int() with base 10: 'hello'"
          ]
        }
      ]
    },
    {
      "metadata": {
        "trusted": true
      },
      "cell_type": "code",
      "source": "astr = '123'\nistr = int(astr)\nprint('Second',istr)",
      "execution_count": 2,
      "outputs": [
        {
          "output_type": "stream",
          "text": "Second 123\n",
          "name": "stdout"
        }
      ]
    },
    {
      "metadata": {
        "trusted": true
      },
      "cell_type": "code",
      "source": "astr = input(\"Enter a number\")\ntry:\n    ival=int(astr)\n    print('Number entered is: ',ival)\nexcept:\n    print('Not a number')",
      "execution_count": 1,
      "outputs": [
        {
          "output_type": "stream",
          "name": "stdout",
          "text": "Enter a numberHello\nNot a number\n"
        }
      ]
    },
    {
      "metadata": {},
      "cell_type": "markdown",
      "source": "<h3>Exercise 3: Rewrite the pay computation code to handle non numeric inputs</h3>"
    },
    {
      "metadata": {
        "trusted": true
      },
      "cell_type": "code",
      "source": "try:\n    hours = int(input(\"Enter number of hours : \"))\n    rateperhour = int(input(\"Enter the rate : \"))\n    Grosspay = hours*rateperhour\n    print(Grosspay)\nexcept:\n    print('Enetr numeric value.')\n\n",
      "execution_count": 12,
      "outputs": [
        {
          "output_type": "stream",
          "name": "stdout",
          "text": "Enter number of hours : 10\nEnter the rate : rate\nEnetr numeric value.\n"
        }
      ]
    },
    {
      "metadata": {},
      "cell_type": "markdown",
      "source": "Assignment 1: Write a program to prompt for a score between 0.0 and 1.0. If the score is out of range, print an error. If the score is between 0.0 and 1.0, print a grade using the following table:\nScore Grade\n\n>= 0.9 A\n>= 0.8 B\n>= 0.7 C\n>= 0.6 D\n< 0.6 F If the user enters a value out of range, print a suitable error message and exit. For the test, enter a score of 0.85.\"¶\n"
    },
    {
      "metadata": {
        "trusted": true
      },
      "cell_type": "code",
      "source": "try:\n    score = float(input('Enter Score:'))\n    if score>=0.9:\n        print('A')\n    elif score>=0.8:\n        print('B')\n    elif score>=0.7:\n        print('C')\n    elif score>=0.6:\n        print('D')\n    elif score>=0.1:\n        print('F')\n    else:\n        print(\"Score is out of range\")\nexcept:\n    print('Enter numeric value to display grade.')",
      "execution_count": 5,
      "outputs": [
        {
          "output_type": "stream",
          "name": "stdout",
          "text": "Enter Score:Kuchi\nEnter numeric value to display grade.\n"
        }
      ]
    },
    {
      "metadata": {},
      "cell_type": "markdown",
      "source": "<h3> Iterative Statement</h3>\n<h4> 1. While Loop </h4>"
    },
    {
      "metadata": {
        "trusted": true
      },
      "cell_type": "code",
      "source": "n=5\nwhile n>0:\n    print(n)\n    n-=1\nprint('Blastoff!')\nprint(n)",
      "execution_count": 13,
      "outputs": [
        {
          "output_type": "stream",
          "text": "5\nBlastoff!\n5\n",
          "name": "stdout"
        }
      ]
    },
    {
      "metadata": {
        "trusted": true
      },
      "cell_type": "code",
      "source": "n = 0\nwhile n>0:\n    print('Lather')\n    print('Rinse')\nprint('Dry off!')",
      "execution_count": 15,
      "outputs": [
        {
          "output_type": "stream",
          "text": "Dry off!\n",
          "name": "stdout"
        }
      ]
    },
    {
      "metadata": {
        "trusted": true
      },
      "cell_type": "code",
      "source": "#n = 5\n#while n>0:\n#    print('Lather')\n#    print('Rinse')\n#print('Dry off!')",
      "execution_count": null,
      "outputs": []
    },
    {
      "metadata": {},
      "cell_type": "markdown",
      "source": "<h4>break and continue statements</h4>"
    },
    {
      "metadata": {
        "trusted": true
      },
      "cell_type": "code",
      "source": "while True:\n    line = input('>')\n    if line == 'done':\n        break                        #Terminates the loop statement\n    print(line)\nprint('All Done')",
      "execution_count": null,
      "outputs": []
    },
    {
      "metadata": {
        "trusted": true
      },
      "cell_type": "code",
      "source": "while True:\n    line = input('>')\n    if line[0] == '#':\n        continue                        #skip the current iteration and continue to new iteration\n    if line == 'done':\n        break\n    print(line)\nprint('All Done')",
      "execution_count": 18,
      "outputs": [
        {
          "output_type": "stream",
          "name": "stdout",
          "text": ">hi\nhi\n>#go\n>done\nAll Done\n"
        }
      ]
    },
    {
      "metadata": {},
      "cell_type": "markdown",
      "source": "<h4> For Loop </h4>"
    },
    {
      "metadata": {
        "trusted": true
      },
      "cell_type": "code",
      "source": "for i in [5,4,2,1]:\n    print(i,end =' ')\nprint('Blast off!')",
      "execution_count": 31,
      "outputs": [
        {
          "output_type": "stream",
          "text": "5 4 2 1 Blast off!\n",
          "name": "stdout"
        }
      ]
    },
    {
      "metadata": {},
      "cell_type": "markdown",
      "source": "<h4>Exercise 4 Max element of given list [3,41,12,74,15,42,98] </h4>"
    },
    {
      "metadata": {
        "trusted": true
      },
      "cell_type": "code",
      "source": "x=0\nfor i in [3,41,12,74,15,42,98]:\n    if i>x:\n       x=i \nprint(x)",
      "execution_count": 32,
      "outputs": [
        {
          "output_type": "stream",
          "text": "98\n",
          "name": "stdout"
        }
      ]
    },
    {
      "metadata": {},
      "cell_type": "markdown",
      "source": "<h4>Exercise 4 Find length,sum and avg of given list[3,41,12,74,15,42,98] </h4>"
    },
    {
      "metadata": {
        "trusted": true
      },
      "cell_type": "code",
      "source": "Sum=0\nList= [3,41,12,74,15,42,98]\nprint(len(List))\nfor i in List:\n    Sum+=i\nAvg=Sum/len(List)\nprint(Sum)\nprint(Avg)",
      "execution_count": 40,
      "outputs": [
        {
          "output_type": "stream",
          "text": "7\n285\n40.714285714285715\n",
          "name": "stdout"
        }
      ]
    }
  ],
  "metadata": {
    "kernelspec": {
      "name": "python36",
      "display_name": "Python 3.6",
      "language": "python"
    },
    "language_info": {
      "mimetype": "text/x-python",
      "nbconvert_exporter": "python",
      "name": "python",
      "pygments_lexer": "ipython3",
      "version": "3.6.6",
      "file_extension": ".py",
      "codemirror_mode": {
        "version": 3,
        "name": "ipython"
      }
    }
  },
  "nbformat": 4,
  "nbformat_minor": 2
}