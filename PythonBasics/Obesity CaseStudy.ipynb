{
  "cells": [
    {
      "metadata": {
        "trusted": true
      },
      "cell_type": "code",
      "source": "import numpy as np\nimport pandas as pd\nimport matplotlib.pyplot as plt\nimport seaborn as sns",
      "execution_count": 12,
      "outputs": []
    },
    {
      "metadata": {
        "trusted": true
      },
      "cell_type": "code",
      "source": "USDA = pd.read_csv('https://storage.googleapis.com/dimensionless/Analytics/USDA.csv')",
      "execution_count": 13,
      "outputs": []
    },
    {
      "metadata": {
        "trusted": true
      },
      "cell_type": "code",
      "source": "print(type(USDA))\nUSDA.head()",
      "execution_count": 14,
      "outputs": [
        {
          "output_type": "stream",
          "text": "<class 'pandas.core.frame.DataFrame'>\n",
          "name": "stdout"
        },
        {
          "output_type": "execute_result",
          "execution_count": 14,
          "data": {
            "text/html": "<div>\n<style scoped>\n    .dataframe tbody tr th:only-of-type {\n        vertical-align: middle;\n    }\n\n    .dataframe tbody tr th {\n        vertical-align: top;\n    }\n\n    .dataframe thead th {\n        text-align: right;\n    }\n</style>\n<table border=\"1\" class=\"dataframe\">\n  <thead>\n    <tr style=\"text-align: right;\">\n      <th></th>\n      <th>ID</th>\n      <th>Description</th>\n      <th>Calories</th>\n      <th>Protein</th>\n      <th>TotalFat</th>\n      <th>Carbohydrate</th>\n      <th>Sodium</th>\n      <th>SaturatedFat</th>\n      <th>Cholesterol</th>\n      <th>Sugar</th>\n      <th>Calcium</th>\n      <th>Iron</th>\n      <th>Potassium</th>\n      <th>VitaminC</th>\n      <th>VitaminE</th>\n      <th>VitaminD</th>\n    </tr>\n  </thead>\n  <tbody>\n    <tr>\n      <th>0</th>\n      <td>1001</td>\n      <td>BUTTER,WITH SALT</td>\n      <td>717.0</td>\n      <td>0.85</td>\n      <td>81.11</td>\n      <td>0.06</td>\n      <td>714.0</td>\n      <td>51.368</td>\n      <td>215.0</td>\n      <td>0.06</td>\n      <td>24.0</td>\n      <td>0.02</td>\n      <td>24.0</td>\n      <td>0.0</td>\n      <td>2.32</td>\n      <td>1.5</td>\n    </tr>\n    <tr>\n      <th>1</th>\n      <td>1002</td>\n      <td>BUTTER,WHIPPED,WITH SALT</td>\n      <td>717.0</td>\n      <td>0.85</td>\n      <td>81.11</td>\n      <td>0.06</td>\n      <td>827.0</td>\n      <td>50.489</td>\n      <td>219.0</td>\n      <td>0.06</td>\n      <td>24.0</td>\n      <td>0.16</td>\n      <td>26.0</td>\n      <td>0.0</td>\n      <td>2.32</td>\n      <td>1.5</td>\n    </tr>\n    <tr>\n      <th>2</th>\n      <td>1003</td>\n      <td>BUTTER OIL,ANHYDROUS</td>\n      <td>876.0</td>\n      <td>0.28</td>\n      <td>99.48</td>\n      <td>0.00</td>\n      <td>2.0</td>\n      <td>61.924</td>\n      <td>256.0</td>\n      <td>0.00</td>\n      <td>4.0</td>\n      <td>0.00</td>\n      <td>5.0</td>\n      <td>0.0</td>\n      <td>2.80</td>\n      <td>1.8</td>\n    </tr>\n    <tr>\n      <th>3</th>\n      <td>1004</td>\n      <td>CHEESE,BLUE</td>\n      <td>353.0</td>\n      <td>21.40</td>\n      <td>28.74</td>\n      <td>2.34</td>\n      <td>1395.0</td>\n      <td>18.669</td>\n      <td>75.0</td>\n      <td>0.50</td>\n      <td>528.0</td>\n      <td>0.31</td>\n      <td>256.0</td>\n      <td>0.0</td>\n      <td>0.25</td>\n      <td>0.5</td>\n    </tr>\n    <tr>\n      <th>4</th>\n      <td>1005</td>\n      <td>CHEESE,BRICK</td>\n      <td>371.0</td>\n      <td>23.24</td>\n      <td>29.68</td>\n      <td>2.79</td>\n      <td>560.0</td>\n      <td>18.764</td>\n      <td>94.0</td>\n      <td>0.51</td>\n      <td>674.0</td>\n      <td>0.43</td>\n      <td>136.0</td>\n      <td>0.0</td>\n      <td>0.26</td>\n      <td>0.5</td>\n    </tr>\n  </tbody>\n</table>\n</div>",
            "text/plain": "     ID               Description  Calories  Protein  TotalFat  Carbohydrate  \\\n0  1001          BUTTER,WITH SALT     717.0     0.85     81.11          0.06   \n1  1002  BUTTER,WHIPPED,WITH SALT     717.0     0.85     81.11          0.06   \n2  1003      BUTTER OIL,ANHYDROUS     876.0     0.28     99.48          0.00   \n3  1004               CHEESE,BLUE     353.0    21.40     28.74          2.34   \n4  1005              CHEESE,BRICK     371.0    23.24     29.68          2.79   \n\n   Sodium  SaturatedFat  Cholesterol  Sugar  Calcium  Iron  Potassium  \\\n0   714.0        51.368        215.0   0.06     24.0  0.02       24.0   \n1   827.0        50.489        219.0   0.06     24.0  0.16       26.0   \n2     2.0        61.924        256.0   0.00      4.0  0.00        5.0   \n3  1395.0        18.669         75.0   0.50    528.0  0.31      256.0   \n4   560.0        18.764         94.0   0.51    674.0  0.43      136.0   \n\n   VitaminC  VitaminE  VitaminD  \n0       0.0      2.32       1.5  \n1       0.0      2.32       1.5  \n2       0.0      2.80       1.8  \n3       0.0      0.25       0.5  \n4       0.0      0.26       0.5  "
          },
          "metadata": {}
        }
      ]
    },
    {
      "metadata": {},
      "cell_type": "markdown",
      "source": "<h3>1. Obtain high-level statistical information about your dataset.\n( Mean, Median, SD, Q1, Q3 etc)</h3>"
    },
    {
      "metadata": {
        "trusted": true
      },
      "cell_type": "code",
      "source": "USDA.describe()",
      "execution_count": 57,
      "outputs": [
        {
          "output_type": "execute_result",
          "execution_count": 57,
          "data": {
            "text/html": "<div>\n<style scoped>\n    .dataframe tbody tr th:only-of-type {\n        vertical-align: middle;\n    }\n\n    .dataframe tbody tr th {\n        vertical-align: top;\n    }\n\n    .dataframe thead th {\n        text-align: right;\n    }\n</style>\n<table border=\"1\" class=\"dataframe\">\n  <thead>\n    <tr style=\"text-align: right;\">\n      <th></th>\n      <th>ID</th>\n      <th>Calories</th>\n      <th>Protein</th>\n      <th>TotalFat</th>\n      <th>Carbohydrate</th>\n      <th>Sodium</th>\n      <th>SaturatedFat</th>\n      <th>Cholesterol</th>\n      <th>Sugar</th>\n      <th>Calcium</th>\n      <th>Iron</th>\n      <th>Potassium</th>\n      <th>VitaminC</th>\n      <th>VitaminE</th>\n      <th>VitaminD</th>\n    </tr>\n  </thead>\n  <tbody>\n    <tr>\n      <th>count</th>\n      <td>7058.000000</td>\n      <td>7057.000000</td>\n      <td>7057.000000</td>\n      <td>7057.000000</td>\n      <td>7057.000000</td>\n      <td>6974.000000</td>\n      <td>6757.000000</td>\n      <td>6770.000000</td>\n      <td>5148.000000</td>\n      <td>6922.000000</td>\n      <td>6935.000000</td>\n      <td>6649.000000</td>\n      <td>6726.000000</td>\n      <td>4338.000000</td>\n      <td>4224.000000</td>\n    </tr>\n    <tr>\n      <th>mean</th>\n      <td>14259.821196</td>\n      <td>219.695338</td>\n      <td>11.710368</td>\n      <td>10.320614</td>\n      <td>20.697860</td>\n      <td>322.059220</td>\n      <td>3.452267</td>\n      <td>41.551994</td>\n      <td>8.256540</td>\n      <td>73.530627</td>\n      <td>2.828368</td>\n      <td>301.357949</td>\n      <td>9.435980</td>\n      <td>1.487462</td>\n      <td>0.576918</td>\n    </tr>\n    <tr>\n      <th>std</th>\n      <td>8577.179705</td>\n      <td>172.198755</td>\n      <td>10.919356</td>\n      <td>16.814191</td>\n      <td>27.630443</td>\n      <td>1045.416931</td>\n      <td>6.921267</td>\n      <td>122.963028</td>\n      <td>15.361509</td>\n      <td>222.445338</td>\n      <td>6.019878</td>\n      <td>415.638949</td>\n      <td>71.256536</td>\n      <td>5.386914</td>\n      <td>4.301147</td>\n    </tr>\n    <tr>\n      <th>min</th>\n      <td>1001.000000</td>\n      <td>0.000000</td>\n      <td>0.000000</td>\n      <td>0.000000</td>\n      <td>0.000000</td>\n      <td>0.000000</td>\n      <td>0.000000</td>\n      <td>0.000000</td>\n      <td>0.000000</td>\n      <td>0.000000</td>\n      <td>0.000000</td>\n      <td>0.000000</td>\n      <td>0.000000</td>\n      <td>0.000000</td>\n      <td>0.000000</td>\n    </tr>\n    <tr>\n      <th>25%</th>\n      <td>8387.250000</td>\n      <td>85.000000</td>\n      <td>2.290000</td>\n      <td>0.720000</td>\n      <td>0.000000</td>\n      <td>37.000000</td>\n      <td>0.172000</td>\n      <td>0.000000</td>\n      <td>0.000000</td>\n      <td>9.000000</td>\n      <td>0.520000</td>\n      <td>135.000000</td>\n      <td>0.000000</td>\n      <td>0.120000</td>\n      <td>0.000000</td>\n    </tr>\n    <tr>\n      <th>50%</th>\n      <td>13293.500000</td>\n      <td>181.000000</td>\n      <td>8.200000</td>\n      <td>4.370000</td>\n      <td>7.130000</td>\n      <td>79.000000</td>\n      <td>1.256000</td>\n      <td>3.000000</td>\n      <td>1.395000</td>\n      <td>19.000000</td>\n      <td>1.330000</td>\n      <td>250.000000</td>\n      <td>0.000000</td>\n      <td>0.270000</td>\n      <td>0.000000</td>\n    </tr>\n    <tr>\n      <th>75%</th>\n      <td>18336.750000</td>\n      <td>331.000000</td>\n      <td>20.430000</td>\n      <td>12.700000</td>\n      <td>28.170000</td>\n      <td>386.000000</td>\n      <td>4.028000</td>\n      <td>69.000000</td>\n      <td>7.875000</td>\n      <td>56.000000</td>\n      <td>2.620000</td>\n      <td>348.000000</td>\n      <td>3.100000</td>\n      <td>0.710000</td>\n      <td>0.100000</td>\n    </tr>\n    <tr>\n      <th>max</th>\n      <td>93600.000000</td>\n      <td>902.000000</td>\n      <td>88.320000</td>\n      <td>100.000000</td>\n      <td>100.000000</td>\n      <td>38758.000000</td>\n      <td>95.600000</td>\n      <td>3100.000000</td>\n      <td>99.800000</td>\n      <td>7364.000000</td>\n      <td>123.600000</td>\n      <td>16500.000000</td>\n      <td>2400.000000</td>\n      <td>149.400000</td>\n      <td>250.000000</td>\n    </tr>\n  </tbody>\n</table>\n</div>",
            "text/plain": "                 ID     Calories      Protein     TotalFat  Carbohydrate  \\\ncount   7058.000000  7057.000000  7057.000000  7057.000000   7057.000000   \nmean   14259.821196   219.695338    11.710368    10.320614     20.697860   \nstd     8577.179705   172.198755    10.919356    16.814191     27.630443   \nmin     1001.000000     0.000000     0.000000     0.000000      0.000000   \n25%     8387.250000    85.000000     2.290000     0.720000      0.000000   \n50%    13293.500000   181.000000     8.200000     4.370000      7.130000   \n75%    18336.750000   331.000000    20.430000    12.700000     28.170000   \nmax    93600.000000   902.000000    88.320000   100.000000    100.000000   \n\n             Sodium  SaturatedFat  Cholesterol        Sugar      Calcium  \\\ncount   6974.000000   6757.000000  6770.000000  5148.000000  6922.000000   \nmean     322.059220      3.452267    41.551994     8.256540    73.530627   \nstd     1045.416931      6.921267   122.963028    15.361509   222.445338   \nmin        0.000000      0.000000     0.000000     0.000000     0.000000   \n25%       37.000000      0.172000     0.000000     0.000000     9.000000   \n50%       79.000000      1.256000     3.000000     1.395000    19.000000   \n75%      386.000000      4.028000    69.000000     7.875000    56.000000   \nmax    38758.000000     95.600000  3100.000000    99.800000  7364.000000   \n\n              Iron     Potassium     VitaminC     VitaminE     VitaminD  \ncount  6935.000000   6649.000000  6726.000000  4338.000000  4224.000000  \nmean      2.828368    301.357949     9.435980     1.487462     0.576918  \nstd       6.019878    415.638949    71.256536     5.386914     4.301147  \nmin       0.000000      0.000000     0.000000     0.000000     0.000000  \n25%       0.520000    135.000000     0.000000     0.120000     0.000000  \n50%       1.330000    250.000000     0.000000     0.270000     0.000000  \n75%       2.620000    348.000000     3.100000     0.710000     0.100000  \nmax     123.600000  16500.000000  2400.000000   149.400000   250.000000  "
          },
          "metadata": {}
        }
      ]
    },
    {
      "metadata": {},
      "cell_type": "markdown",
      "source": "<h3>2. The maximum level of Sodium is 38,758 milligrams, which is very high. Find out which food this\ncorresponds to?</h3>"
    },
    {
      "metadata": {
        "trusted": true
      },
      "cell_type": "code",
      "source": "print(USDA.Sodium.max())\nUSDA.Description[USDA.Sodium.idxmax()]",
      "execution_count": 9,
      "outputs": [
        {
          "output_type": "stream",
          "text": "38758.0\n",
          "name": "stdout"
        },
        {
          "output_type": "execute_result",
          "execution_count": 9,
          "data": {
            "text/plain": "'SALT,TABLE'"
          },
          "metadata": {}
        }
      ]
    },
    {
      "metadata": {},
      "cell_type": "markdown",
      "source": "<h3>3. Find out which foods contain more than 10,000 milligrams of sodium and store it to a new data\nframe, “HighSodium”.</h3>"
    },
    {
      "metadata": {
        "trusted": true
      },
      "cell_type": "code",
      "source": "HighSodium=USDA[USDA.Sodium>10000]\nHighSodium",
      "execution_count": 18,
      "outputs": [
        {
          "output_type": "execute_result",
          "execution_count": 18,
          "data": {
            "text/html": "<div>\n<style scoped>\n    .dataframe tbody tr th:only-of-type {\n        vertical-align: middle;\n    }\n\n    .dataframe tbody tr th {\n        vertical-align: top;\n    }\n\n    .dataframe thead th {\n        text-align: right;\n    }\n</style>\n<table border=\"1\" class=\"dataframe\">\n  <thead>\n    <tr style=\"text-align: right;\">\n      <th></th>\n      <th>ID</th>\n      <th>Description</th>\n      <th>Calories</th>\n      <th>Protein</th>\n      <th>TotalFat</th>\n      <th>Carbohydrate</th>\n      <th>Sodium</th>\n      <th>SaturatedFat</th>\n      <th>Cholesterol</th>\n      <th>Sugar</th>\n      <th>Calcium</th>\n      <th>Iron</th>\n      <th>Potassium</th>\n      <th>VitaminC</th>\n      <th>VitaminE</th>\n      <th>VitaminD</th>\n    </tr>\n  </thead>\n  <tbody>\n    <tr>\n      <th>264</th>\n      <td>2047</td>\n      <td>SALT,TABLE</td>\n      <td>0.0</td>\n      <td>0.00</td>\n      <td>0.00</td>\n      <td>0.00</td>\n      <td>38758.0</td>\n      <td>0.000</td>\n      <td>0.0</td>\n      <td>0.00</td>\n      <td>24.0</td>\n      <td>0.33</td>\n      <td>8.0</td>\n      <td>0.0</td>\n      <td>0.00</td>\n      <td>0.0</td>\n    </tr>\n    <tr>\n      <th>921</th>\n      <td>6075</td>\n      <td>SOUP,BF BROTH OR BOUILLON,PDR,DRY</td>\n      <td>213.0</td>\n      <td>15.97</td>\n      <td>8.89</td>\n      <td>17.40</td>\n      <td>26000.0</td>\n      <td>4.320</td>\n      <td>10.0</td>\n      <td>16.71</td>\n      <td>60.0</td>\n      <td>1.00</td>\n      <td>446.0</td>\n      <td>0.0</td>\n      <td>2.17</td>\n      <td>0.0</td>\n    </tr>\n    <tr>\n      <th>922</th>\n      <td>6076</td>\n      <td>SOUP,BEEF BROTH,CUBED,DRY</td>\n      <td>170.0</td>\n      <td>17.30</td>\n      <td>4.00</td>\n      <td>16.10</td>\n      <td>24000.0</td>\n      <td>1.990</td>\n      <td>4.0</td>\n      <td>14.51</td>\n      <td>60.0</td>\n      <td>2.23</td>\n      <td>403.0</td>\n      <td>0.0</td>\n      <td>0.00</td>\n      <td>0.0</td>\n    </tr>\n    <tr>\n      <th>924</th>\n      <td>6080</td>\n      <td>SOUP,CHICK BROTH OR BOUILLON,DRY</td>\n      <td>267.0</td>\n      <td>16.66</td>\n      <td>13.88</td>\n      <td>18.01</td>\n      <td>23875.0</td>\n      <td>3.430</td>\n      <td>13.0</td>\n      <td>17.36</td>\n      <td>187.0</td>\n      <td>1.03</td>\n      <td>309.0</td>\n      <td>1.1</td>\n      <td>0.46</td>\n      <td>0.0</td>\n    </tr>\n    <tr>\n      <th>925</th>\n      <td>6081</td>\n      <td>SOUP,CHICK BROTH CUBES,DRY</td>\n      <td>198.0</td>\n      <td>14.60</td>\n      <td>4.70</td>\n      <td>23.50</td>\n      <td>24000.0</td>\n      <td>1.200</td>\n      <td>13.0</td>\n      <td>0.00</td>\n      <td>190.0</td>\n      <td>1.87</td>\n      <td>374.0</td>\n      <td>1.0</td>\n      <td>0.09</td>\n      <td>NaN</td>\n    </tr>\n    <tr>\n      <th>937</th>\n      <td>6115</td>\n      <td>GRAVY,AU JUS,DRY</td>\n      <td>313.0</td>\n      <td>9.20</td>\n      <td>9.63</td>\n      <td>47.49</td>\n      <td>11588.0</td>\n      <td>2.026</td>\n      <td>4.0</td>\n      <td>NaN</td>\n      <td>140.0</td>\n      <td>9.30</td>\n      <td>279.0</td>\n      <td>1.0</td>\n      <td>NaN</td>\n      <td>NaN</td>\n    </tr>\n    <tr>\n      <th>1302</th>\n      <td>6979</td>\n      <td>ADOBO FRESCO</td>\n      <td>271.0</td>\n      <td>2.00</td>\n      <td>20.90</td>\n      <td>18.60</td>\n      <td>17152.0</td>\n      <td>2.910</td>\n      <td>0.0</td>\n      <td>2.03</td>\n      <td>123.0</td>\n      <td>3.20</td>\n      <td>187.0</td>\n      <td>5.8</td>\n      <td>2.69</td>\n      <td>0.0</td>\n    </tr>\n    <tr>\n      <th>5320</th>\n      <td>18369</td>\n      <td>LEAVENING AGENTS,BAKING PDR,DOUBLE-ACTING,NA A...</td>\n      <td>53.0</td>\n      <td>0.00</td>\n      <td>0.00</td>\n      <td>27.70</td>\n      <td>10600.0</td>\n      <td>0.000</td>\n      <td>0.0</td>\n      <td>0.00</td>\n      <td>5876.0</td>\n      <td>11.02</td>\n      <td>20.0</td>\n      <td>0.0</td>\n      <td>0.00</td>\n      <td>0.0</td>\n    </tr>\n    <tr>\n      <th>5323</th>\n      <td>18372</td>\n      <td>LEAVENING AGENTS,BAKING SODA</td>\n      <td>0.0</td>\n      <td>0.00</td>\n      <td>0.00</td>\n      <td>0.00</td>\n      <td>27360.0</td>\n      <td>0.000</td>\n      <td>0.0</td>\n      <td>0.00</td>\n      <td>0.0</td>\n      <td>0.00</td>\n      <td>0.0</td>\n      <td>0.0</td>\n      <td>0.00</td>\n      <td>0.0</td>\n    </tr>\n    <tr>\n      <th>5697</th>\n      <td>19225</td>\n      <td>DESSERTS,RENNIN,TABLETS,UNSWTND</td>\n      <td>84.0</td>\n      <td>1.00</td>\n      <td>0.10</td>\n      <td>19.80</td>\n      <td>26050.0</td>\n      <td>0.041</td>\n      <td>0.0</td>\n      <td>NaN</td>\n      <td>3733.0</td>\n      <td>7.07</td>\n      <td>292.0</td>\n      <td>0.0</td>\n      <td>NaN</td>\n      <td>NaN</td>\n    </tr>\n  </tbody>\n</table>\n</div>",
            "text/plain": "         ID                                        Description  Calories  \\\n264    2047                                         SALT,TABLE       0.0   \n921    6075                  SOUP,BF BROTH OR BOUILLON,PDR,DRY     213.0   \n922    6076                          SOUP,BEEF BROTH,CUBED,DRY     170.0   \n924    6080                   SOUP,CHICK BROTH OR BOUILLON,DRY     267.0   \n925    6081                         SOUP,CHICK BROTH CUBES,DRY     198.0   \n937    6115                                   GRAVY,AU JUS,DRY     313.0   \n1302   6979                                       ADOBO FRESCO     271.0   \n5320  18369  LEAVENING AGENTS,BAKING PDR,DOUBLE-ACTING,NA A...      53.0   \n5323  18372                       LEAVENING AGENTS,BAKING SODA       0.0   \n5697  19225                    DESSERTS,RENNIN,TABLETS,UNSWTND      84.0   \n\n      Protein  TotalFat  Carbohydrate   Sodium  SaturatedFat  Cholesterol  \\\n264      0.00      0.00          0.00  38758.0         0.000          0.0   \n921     15.97      8.89         17.40  26000.0         4.320         10.0   \n922     17.30      4.00         16.10  24000.0         1.990          4.0   \n924     16.66     13.88         18.01  23875.0         3.430         13.0   \n925     14.60      4.70         23.50  24000.0         1.200         13.0   \n937      9.20      9.63         47.49  11588.0         2.026          4.0   \n1302     2.00     20.90         18.60  17152.0         2.910          0.0   \n5320     0.00      0.00         27.70  10600.0         0.000          0.0   \n5323     0.00      0.00          0.00  27360.0         0.000          0.0   \n5697     1.00      0.10         19.80  26050.0         0.041          0.0   \n\n      Sugar  Calcium   Iron  Potassium  VitaminC  VitaminE  VitaminD  \n264    0.00     24.0   0.33        8.0       0.0      0.00       0.0  \n921   16.71     60.0   1.00      446.0       0.0      2.17       0.0  \n922   14.51     60.0   2.23      403.0       0.0      0.00       0.0  \n924   17.36    187.0   1.03      309.0       1.1      0.46       0.0  \n925    0.00    190.0   1.87      374.0       1.0      0.09       NaN  \n937     NaN    140.0   9.30      279.0       1.0       NaN       NaN  \n1302   2.03    123.0   3.20      187.0       5.8      2.69       0.0  \n5320   0.00   5876.0  11.02       20.0       0.0      0.00       0.0  \n5323   0.00      0.0   0.00        0.0       0.0      0.00       0.0  \n5697    NaN   3733.0   7.07      292.0       0.0       NaN       NaN  "
          },
          "metadata": {}
        }
      ]
    },
    {
      "metadata": {},
      "cell_type": "markdown",
      "source": "<h3>4. Do we have “caviar” present in \"HighSodium\" dataframe?</h3>"
    },
    {
      "metadata": {
        "trusted": true
      },
      "cell_type": "code",
      "source": "HighSodium[HighSodium['Description']=='CAVIAR'].Sodium",
      "execution_count": 19,
      "outputs": [
        {
          "output_type": "execute_result",
          "execution_count": 19,
          "data": {
            "text/plain": "Series([], Name: Sodium, dtype: float64)"
          },
          "metadata": {}
        }
      ]
    },
    {
      "metadata": {},
      "cell_type": "markdown",
      "source": "<h3>5. How much sodium content is present in 100 grams of \"caviar\"?</h3>"
    },
    {
      "metadata": {
        "trusted": true
      },
      "cell_type": "code",
      "source": "for x in USDA.Description:\n    if x.lower()=='caviar':\n        print(x)\n        print(USDA[USDA['Description']==x].Sodium)\n        \n#USDA[USDA['Description']=='CAVIAR'].Sodium",
      "execution_count": 30,
      "outputs": [
        {
          "output_type": "stream",
          "text": "CAVIAR\n4153    1500.0\nName: Sodium, dtype: float64\n",
          "name": "stdout"
        }
      ]
    },
    {
      "metadata": {},
      "cell_type": "markdown",
      "source": "<h3>6. Add a variable to our USDA dataframe that takes a value 1 if the food has higher sodium than\naverage,and 0 if the food has lower sodium than average.</h3>"
    },
    {
      "metadata": {
        "trusted": true
      },
      "cell_type": "code",
      "source": "USDA['Value']=[1 if x>USDA.Sodium.mean() else 0 for x in USDA.Sodium]\nUSDA.head()",
      "execution_count": 75,
      "outputs": [
        {
          "output_type": "execute_result",
          "execution_count": 75,
          "data": {
            "text/html": "<div>\n<style scoped>\n    .dataframe tbody tr th:only-of-type {\n        vertical-align: middle;\n    }\n\n    .dataframe tbody tr th {\n        vertical-align: top;\n    }\n\n    .dataframe thead th {\n        text-align: right;\n    }\n</style>\n<table border=\"1\" class=\"dataframe\">\n  <thead>\n    <tr style=\"text-align: right;\">\n      <th></th>\n      <th>ID</th>\n      <th>Description</th>\n      <th>Calories</th>\n      <th>Protein</th>\n      <th>TotalFat</th>\n      <th>Carbohydrate</th>\n      <th>Sodium</th>\n      <th>SaturatedFat</th>\n      <th>Cholesterol</th>\n      <th>Sugar</th>\n      <th>Calcium</th>\n      <th>Iron</th>\n      <th>Potassium</th>\n      <th>VitaminC</th>\n      <th>VitaminE</th>\n      <th>VitaminD</th>\n      <th>Value</th>\n    </tr>\n  </thead>\n  <tbody>\n    <tr>\n      <th>0</th>\n      <td>1001</td>\n      <td>BUTTER,WITH SALT</td>\n      <td>717.0</td>\n      <td>0.85</td>\n      <td>81.11</td>\n      <td>0.06</td>\n      <td>714.0</td>\n      <td>51.368</td>\n      <td>215.0</td>\n      <td>0.06</td>\n      <td>24.0</td>\n      <td>0.02</td>\n      <td>24.0</td>\n      <td>0.0</td>\n      <td>2.32</td>\n      <td>1.5</td>\n      <td>1</td>\n    </tr>\n    <tr>\n      <th>1</th>\n      <td>1002</td>\n      <td>BUTTER,WHIPPED,WITH SALT</td>\n      <td>717.0</td>\n      <td>0.85</td>\n      <td>81.11</td>\n      <td>0.06</td>\n      <td>827.0</td>\n      <td>50.489</td>\n      <td>219.0</td>\n      <td>0.06</td>\n      <td>24.0</td>\n      <td>0.16</td>\n      <td>26.0</td>\n      <td>0.0</td>\n      <td>2.32</td>\n      <td>1.5</td>\n      <td>1</td>\n    </tr>\n    <tr>\n      <th>2</th>\n      <td>1003</td>\n      <td>BUTTER OIL,ANHYDROUS</td>\n      <td>876.0</td>\n      <td>0.28</td>\n      <td>99.48</td>\n      <td>0.00</td>\n      <td>2.0</td>\n      <td>61.924</td>\n      <td>256.0</td>\n      <td>0.00</td>\n      <td>4.0</td>\n      <td>0.00</td>\n      <td>5.0</td>\n      <td>0.0</td>\n      <td>2.80</td>\n      <td>1.8</td>\n      <td>0</td>\n    </tr>\n    <tr>\n      <th>3</th>\n      <td>1004</td>\n      <td>CHEESE,BLUE</td>\n      <td>353.0</td>\n      <td>21.40</td>\n      <td>28.74</td>\n      <td>2.34</td>\n      <td>1395.0</td>\n      <td>18.669</td>\n      <td>75.0</td>\n      <td>0.50</td>\n      <td>528.0</td>\n      <td>0.31</td>\n      <td>256.0</td>\n      <td>0.0</td>\n      <td>0.25</td>\n      <td>0.5</td>\n      <td>1</td>\n    </tr>\n    <tr>\n      <th>4</th>\n      <td>1005</td>\n      <td>CHEESE,BRICK</td>\n      <td>371.0</td>\n      <td>23.24</td>\n      <td>29.68</td>\n      <td>2.79</td>\n      <td>560.0</td>\n      <td>18.764</td>\n      <td>94.0</td>\n      <td>0.51</td>\n      <td>674.0</td>\n      <td>0.43</td>\n      <td>136.0</td>\n      <td>0.0</td>\n      <td>0.26</td>\n      <td>0.5</td>\n      <td>1</td>\n    </tr>\n  </tbody>\n</table>\n</div>",
            "text/plain": "     ID               Description  Calories  Protein  TotalFat  Carbohydrate  \\\n0  1001          BUTTER,WITH SALT     717.0     0.85     81.11          0.06   \n1  1002  BUTTER,WHIPPED,WITH SALT     717.0     0.85     81.11          0.06   \n2  1003      BUTTER OIL,ANHYDROUS     876.0     0.28     99.48          0.00   \n3  1004               CHEESE,BLUE     353.0    21.40     28.74          2.34   \n4  1005              CHEESE,BRICK     371.0    23.24     29.68          2.79   \n\n   Sodium  SaturatedFat  Cholesterol  Sugar  Calcium  Iron  Potassium  \\\n0   714.0        51.368        215.0   0.06     24.0  0.02       24.0   \n1   827.0        50.489        219.0   0.06     24.0  0.16       26.0   \n2     2.0        61.924        256.0   0.00      4.0  0.00        5.0   \n3  1395.0        18.669         75.0   0.50    528.0  0.31      256.0   \n4   560.0        18.764         94.0   0.51    674.0  0.43      136.0   \n\n   VitaminC  VitaminE  VitaminD  Value  \n0       0.0      2.32       1.5      1  \n1       0.0      2.32       1.5      1  \n2       0.0      2.80       1.8      0  \n3       0.0      0.25       0.5      1  \n4       0.0      0.26       0.5      1  "
          },
          "metadata": {}
        }
      ]
    },
    {
      "metadata": {},
      "cell_type": "markdown",
      "source": "<h3>7. How many foods have higher sodium level than average?</h3>"
    },
    {
      "metadata": {
        "trusted": true
      },
      "cell_type": "code",
      "source": "sum(USDA.Sodium>USDA.Sodium.mean())",
      "execution_count": 78,
      "outputs": [
        {
          "output_type": "execute_result",
          "execution_count": 78,
          "data": {
            "text/plain": "2090"
          },
          "metadata": {}
        }
      ]
    },
    {
      "metadata": {},
      "cell_type": "markdown",
      "source": "<h3>8. How many foods have both high sodium and high fat level than average?</h3>"
    },
    {
      "metadata": {
        "trusted": true
      },
      "cell_type": "code",
      "source": "count=0\nj=0\nfor i in USDA.Sodium:\n    if i>USDA.Sodium.mean():\n        if (USDA.TotalFat[j]>USDA.TotalFat.mean()):\n                count=count+1\n                j=j+1            \nprint(count)",
      "execution_count": 15,
      "outputs": [
        {
          "output_type": "stream",
          "text": "11\n",
          "name": "stdout"
        }
      ]
    },
    {
      "metadata": {
        "trusted": true
      },
      "cell_type": "code",
      "source": "range(len(USDA.TotalFat))",
      "execution_count": 10,
      "outputs": [
        {
          "output_type": "execute_result",
          "execution_count": 10,
          "data": {
            "text/plain": "range(0, 7058)"
          },
          "metadata": {}
        }
      ]
    },
    {
      "metadata": {},
      "cell_type": "markdown",
      "source": "<h3>9. Compute the average amount of iron sorted by high and low protein?</h3>"
    },
    {
      "metadata": {},
      "cell_type": "markdown",
      "source": ""
    },
    {
      "metadata": {},
      "cell_type": "markdown",
      "source": "<h3>10. Find the maximum level of vitamin C in foods with high and low carbs?</h3>"
    },
    {
      "metadata": {
        "trusted": true
      },
      "cell_type": "code",
      "source": "",
      "execution_count": null,
      "outputs": []
    }
  ],
  "metadata": {
    "kernelspec": {
      "name": "python36",
      "display_name": "Python 3.6",
      "language": "python"
    },
    "language_info": {
      "mimetype": "text/x-python",
      "nbconvert_exporter": "python",
      "name": "python",
      "pygments_lexer": "ipython3",
      "version": "3.6.6",
      "file_extension": ".py",
      "codemirror_mode": {
        "version": 3,
        "name": "ipython"
      }
    }
  },
  "nbformat": 4,
  "nbformat_minor": 2
}