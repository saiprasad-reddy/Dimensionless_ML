{
  "cells": [
    {
      "metadata": {},
      "cell_type": "markdown",
      "source": "<h2>Arithmetic Operators in Python</h2>"
    },
    {
      "metadata": {
        "trusted": true
      },
      "cell_type": "code",
      "source": "num1=10\nnum2=2",
      "execution_count": 3,
      "outputs": []
    },
    {
      "metadata": {
        "trusted": true
      },
      "cell_type": "code",
      "source": "print(\"Addition : \" ,num1+num2)                                        #Addition Operator\nprint(\"Subtarction : \", num1-num2)                                     #Subtraction Operator\nprint(\"Multiplication : \", num1*num2)                                  #Multiplication Operator\nprint(\"Division : \", num1/num2)                                        #Division Operator\nprint(\"Raise to power : \", num1**num2)                                 #Power Operator\nprint(\"Modulus : \", num1%num2)                                         #Modulus Operator\n",
      "execution_count": 4,
      "outputs": [
        {
          "output_type": "stream",
          "text": "Addition :  12\nSubtarction :  8\nMultiplication :  20\nDivision :  5.0\nRaise to power :  100\nModulus :  0\n",
          "name": "stdout"
        }
      ]
    },
    {
      "metadata": {},
      "cell_type": "markdown",
      "source": "<h2>Comparision Operators in Python</h2>"
    },
    {
      "metadata": {
        "trusted": true
      },
      "cell_type": "code",
      "source": "print(\"Equal to: \", num1==num2)                                          #Equality Operator\nprint('Not Equal to:',num1!=num2)                                        #Not Equal Operator  \nprint(\"Greater Than: \", num1>num2)                                       #Greater Than Operator\nprint(\"Less Than: \", num1<num2)                                          #Less Than Operator\nprint(\"Greater Than Equal to: \", num1>=num2)                             #Greater Than equal to Operator   \nprint(\"Less Than Equal to: \", num1<=num2)                               #Less Than Equal to Operator",
      "execution_count": 5,
      "outputs": [
        {
          "output_type": "stream",
          "text": "Equal to:  False\nNot Equal to: True\nGreater Than:  True\nLess Than:  False\nGreater Than Equal to:  True\nLess Than Equal to:  False\n",
          "name": "stdout"
        }
      ]
    },
    {
      "metadata": {},
      "cell_type": "markdown",
      "source": "<h2> Assignment Operators in Python </h2>"
    },
    {
      "metadata": {
        "trusted": true
      },
      "cell_type": "code",
      "source": "result = num1+num2                                                     #Assignment operator\nresult",
      "execution_count": 6,
      "outputs": [
        {
          "output_type": "execute_result",
          "execution_count": 6,
          "data": {
            "text/plain": "12"
          },
          "metadata": {}
        }
      ]
    },
    {
      "metadata": {
        "trusted": true
      },
      "cell_type": "code",
      "source": "num3=1\nnum3 +=1                                                              #Increment Operator\nprint(num3)",
      "execution_count": 7,
      "outputs": [
        {
          "output_type": "stream",
          "text": "2\n",
          "name": "stdout"
        }
      ]
    },
    {
      "metadata": {
        "trusted": true
      },
      "cell_type": "code",
      "source": "num3 -=1                                                              #Decremenet Operator\nprint(num3)",
      "execution_count": 8,
      "outputs": [
        {
          "output_type": "stream",
          "text": "1\n",
          "name": "stdout"
        }
      ]
    },
    {
      "metadata": {},
      "cell_type": "markdown",
      "source": "<h2> Data Type Conversion (Type Casting)</h2>\n<h4> There are several built-in functions from one data type to another. This function returns converted value.</h4>"
    },
    {
      "metadata": {
        "trusted": true
      },
      "cell_type": "code",
      "source": "num1=10\nnum2=10.5\nresult = int(num1+num2)\nprint(result)\ntype(result)",
      "execution_count": 10,
      "outputs": [
        {
          "output_type": "stream",
          "text": "20\n",
          "name": "stdout"
        },
        {
          "output_type": "execute_result",
          "execution_count": 10,
          "data": {
            "text/plain": "int"
          },
          "metadata": {}
        }
      ]
    },
    {
      "metadata": {
        "trusted": true
      },
      "cell_type": "code",
      "source": "string1 = 'Learning'\nstring2 = 'Python'\nresult = string1+string2\nprint(result)",
      "execution_count": 11,
      "outputs": [
        {
          "output_type": "stream",
          "text": "LearningPython\n",
          "name": "stdout"
        }
      ]
    },
    {
      "metadata": {
        "trusted": true
      },
      "cell_type": "code",
      "source": "num1 = 20\nstring1 = '100'\nresult = (num1)+int(string1)\nprint(result)",
      "execution_count": 16,
      "outputs": [
        {
          "output_type": "stream",
          "text": "120\n",
          "name": "stdout"
        }
      ]
    },
    {
      "metadata": {
        "trusted": true
      },
      "cell_type": "code",
      "source": "var = 1\nbool(var)",
      "execution_count": 15,
      "outputs": [
        {
          "output_type": "execute_result",
          "execution_count": 15,
          "data": {
            "text/plain": "True"
          },
          "metadata": {}
        }
      ]
    },
    {
      "metadata": {},
      "cell_type": "markdown",
      "source": "<h3> Accepting Input from user: Input()</h3>\n<h4> Always returns a string object</h4>"
    },
    {
      "metadata": {
        "trusted": true
      },
      "cell_type": "code",
      "source": "name = input('What is your name?')\nname\ntype(name)",
      "execution_count": 17,
      "outputs": [
        {
          "output_type": "stream",
          "name": "stdout",
          "text": "What is your name?Saiprasad\n"
        },
        {
          "output_type": "execute_result",
          "execution_count": 17,
          "data": {
            "text/plain": "str"
          },
          "metadata": {}
        }
      ]
    },
    {
      "metadata": {
        "trusted": true
      },
      "cell_type": "code",
      "source": "marks = input('Enter marks:')\nprint(marks)\ntype(marks)",
      "execution_count": 1,
      "outputs": [
        {
          "output_type": "stream",
          "name": "stdout",
          "text": "Enter marks:25\n25\n"
        },
        {
          "output_type": "execute_result",
          "execution_count": 1,
          "data": {
            "text/plain": "str"
          },
          "metadata": {}
        }
      ]
    },
    {
      "metadata": {
        "trusted": true
      },
      "cell_type": "code",
      "source": "percentage = (int(marks)/150)*100\nprint(percentage)",
      "execution_count": 26,
      "outputs": [
        {
          "output_type": "stream",
          "text": "33.33333333333333\n",
          "name": "stdout"
        }
      ]
    },
    {
      "metadata": {},
      "cell_type": "markdown",
      "source": "<h4>Exersice 1: Write a progarm to prompt the user for hours and rate per hour to compute gross pay </h4>"
    },
    {
      "metadata": {
        "trusted": true
      },
      "cell_type": "code",
      "source": "hours = int(input(\"Enter number of hours : \"))\nrateperhour = int(input(\"Enter rate per hour: \"))\nGrosspay = hours*rateperhour\nprint(Grosspay)",
      "execution_count": 7,
      "outputs": [
        {
          "output_type": "stream",
          "name": "stdout",
          "text": "Enter number of hours : 10\nEnter rate per hour: 5\n50\n"
        }
      ]
    },
    {
      "metadata": {},
      "cell_type": "markdown",
      "source": "<h2>Conditional Statements</h2>\n<h4>1.Multiple if's</h4>"
    },
    {
      "metadata": {
        "trusted": true
      },
      "cell_type": "code",
      "source": "x=5\nif x>10:\n    print('Smaller')\n    print('First if block')\nelse:\n    print('Bigger')\nprint('Done')",
      "execution_count": 16,
      "outputs": [
        {
          "output_type": "stream",
          "text": "Bigger\nDone\n",
          "name": "stdout"
        }
      ]
    },
    {
      "metadata": {},
      "cell_type": "markdown",
      "source": "<h4>2. Nested if's</h4>"
    },
    {
      "metadata": {
        "trusted": true
      },
      "cell_type": "code",
      "source": "x=5\nif x>1:\n    print('more than one')\n    if(x<100):\n        print('less than 100')\nprint('all done')",
      "execution_count": 19,
      "outputs": [
        {
          "output_type": "stream",
          "text": "more than one\nless than 100\nall done\n",
          "name": "stdout"
        }
      ]
    },
    {
      "metadata": {},
      "cell_type": "markdown",
      "source": "<h4> 3. If else </h4>"
    },
    {
      "metadata": {
        "trusted": true
      },
      "cell_type": "code",
      "source": "x=10\nif x>=2:\n    print('Bigger')\nelse:\n    print('Smaller')\nprint('All Done')",
      "execution_count": 21,
      "outputs": [
        {
          "output_type": "stream",
          "text": "Bigger\nAll Done\n",
          "name": "stdout"
        }
      ]
    },
    {
      "metadata": {},
      "cell_type": "markdown",
      "source": "<h4>4. Nested if...else..</h4>"
    },
    {
      "metadata": {
        "trusted": true
      },
      "cell_type": "code",
      "source": "x=1\nif x<2:\n    print('Small')\nelif x<10:\n    print('Medium')\nelse:\n    print('Large')\nprint('All Done')",
      "execution_count": 23,
      "outputs": [
        {
          "output_type": "stream",
          "text": "Small\nAll Done\n",
          "name": "stdout"
        }
      ]
    },
    {
      "metadata": {},
      "cell_type": "markdown",
      "source": "<h3> Exercise 2:Rewrite your pay computation to give the employee 1.5 times hourly rate for hours worked above 40 hours</h3>"
    },
    {
      "metadata": {
        "trusted": true
      },
      "cell_type": "code",
      "source": "hours = int(input(\"Enter number of hours : \"))\nrateperhour = int(input(\"Enter rate per hour: \"))\nif hours>40:\n    extra=hours-40\n    Grosspay = (40*rateperhour)+(1.5*extra*rateperhour)\n    print(Grosspay)\nelse:\n    Grosspay = hours*rateperhour\n    print(Grosspay) ",
      "execution_count": 28,
      "outputs": [
        {
          "output_type": "stream",
          "name": "stdout",
          "text": "Enter number of hours : 30\nEnter rate per hour: 10\n300\n"
        }
      ]
    }
  ],
  "metadata": {
    "kernelspec": {
      "name": "python36",
      "display_name": "Python 3.6",
      "language": "python"
    },
    "language_info": {
      "mimetype": "text/x-python",
      "nbconvert_exporter": "python",
      "name": "python",
      "pygments_lexer": "ipython3",
      "version": "3.6.6",
      "file_extension": ".py",
      "codemirror_mode": {
        "version": 3,
        "name": "ipython"
      }
    }
  },
  "nbformat": 4,
  "nbformat_minor": 2
}