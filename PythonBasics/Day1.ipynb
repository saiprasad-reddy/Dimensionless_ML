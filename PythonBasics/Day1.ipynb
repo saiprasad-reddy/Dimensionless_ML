{
  "cells": [
    {
      "metadata": {},
      "cell_type": "markdown",
      "source": "MY First NoteBook"
    },
    {
      "metadata": {
        "trusted": true
      },
      "cell_type": "code",
      "source": "roll = 1\nheight = 5.5\nname = 'Parth'\nprint(\"Roll is :\",roll)\nprint('Height is :', height)\nprint('Name is :', name)",
      "execution_count": 7,
      "outputs": [
        {
          "output_type": "stream",
          "text": "Roll is : 1\nHeight is : 5.5\nName is : Parth\n",
          "name": "stdout"
        }
      ]
    },
    {
      "metadata": {
        "trusted": true
      },
      "cell_type": "code",
      "source": "l=list('HELLO')\n\n'first={0[0]}, third={0[2]}'.format(l)",
      "execution_count": 12,
      "outputs": [
        {
          "output_type": "execute_result",
          "execution_count": 12,
          "data": {
            "text/plain": "'first=H, third=L'"
          },
          "metadata": {}
        }
      ]
    },
    {
      "metadata": {
        "trusted": true
      },
      "cell_type": "code",
      "source": "def secret(s):\n\n   i = 0\n\n   result = ''\n\n   while s[i].isdigit():\n\n      result = result + s[i]\n\n      i = i+1\n\n   return result\nsecret('123')",
      "execution_count": 23,
      "outputs": [
        {
          "output_type": "error",
          "ename": "IndexError",
          "evalue": "string index out of range",
          "traceback": [
            "\u001b[0;31m---------------------------------------------------------------------------\u001b[0m",
            "\u001b[0;31mIndexError\u001b[0m                                Traceback (most recent call last)",
            "\u001b[0;32m<ipython-input-23-ccbd9a85d6fe>\u001b[0m in \u001b[0;36m<module>\u001b[0;34m\u001b[0m\n\u001b[1;32m     12\u001b[0m \u001b[0;34m\u001b[0m\u001b[0m\n\u001b[1;32m     13\u001b[0m    \u001b[0;32mreturn\u001b[0m \u001b[0mresult\u001b[0m\u001b[0;34m\u001b[0m\u001b[0m\n\u001b[0;32m---> 14\u001b[0;31m \u001b[0msecret\u001b[0m\u001b[0;34m(\u001b[0m\u001b[0;34m'123'\u001b[0m\u001b[0;34m)\u001b[0m\u001b[0;34m\u001b[0m\u001b[0m\n\u001b[0m",
            "\u001b[0;32m<ipython-input-23-ccbd9a85d6fe>\u001b[0m in \u001b[0;36msecret\u001b[0;34m(s)\u001b[0m\n\u001b[1;32m      5\u001b[0m    \u001b[0mresult\u001b[0m \u001b[0;34m=\u001b[0m \u001b[0;34m''\u001b[0m\u001b[0;34m\u001b[0m\u001b[0m\n\u001b[1;32m      6\u001b[0m \u001b[0;34m\u001b[0m\u001b[0m\n\u001b[0;32m----> 7\u001b[0;31m    \u001b[0;32mwhile\u001b[0m \u001b[0ms\u001b[0m\u001b[0;34m[\u001b[0m\u001b[0mi\u001b[0m\u001b[0;34m]\u001b[0m\u001b[0;34m.\u001b[0m\u001b[0misdigit\u001b[0m\u001b[0;34m(\u001b[0m\u001b[0;34m)\u001b[0m\u001b[0;34m:\u001b[0m\u001b[0;34m\u001b[0m\u001b[0m\n\u001b[0m\u001b[1;32m      8\u001b[0m \u001b[0;34m\u001b[0m\u001b[0m\n\u001b[1;32m      9\u001b[0m       \u001b[0mresult\u001b[0m \u001b[0;34m=\u001b[0m \u001b[0mresult\u001b[0m \u001b[0;34m+\u001b[0m \u001b[0ms\u001b[0m\u001b[0;34m[\u001b[0m\u001b[0mi\u001b[0m\u001b[0;34m]\u001b[0m\u001b[0;34m\u001b[0m\u001b[0m\n",
            "\u001b[0;31mIndexError\u001b[0m: string index out of range"
          ]
        }
      ]
    },
    {
      "metadata": {
        "trusted": true
      },
      "cell_type": "code",
      "source": "a={'B':5,'A':9,'C':7}\n\nb=sorted(a)",
      "execution_count": 33,
      "outputs": []
    },
    {
      "metadata": {
        "trusted": true
      },
      "cell_type": "code",
      "source": "print(type(roll))\nprint(type(height))\nprint(type(name))",
      "execution_count": 8,
      "outputs": [
        {
          "output_type": "stream",
          "text": "<class 'int'>\n<class 'float'>\n<class 'str'>\n",
          "name": "stdout"
        }
      ]
    },
    {
      "metadata": {
        "trusted": true
      },
      "cell_type": "code",
      "source": "a={\"a\":1,\"b\":2,\"c\":3}\n\nd=[zip(a.values(),a.keys())]\nb=dict(zip(a.values(),a.keys()))\nprint(d)\nb",
      "execution_count": 36,
      "outputs": [
        {
          "output_type": "stream",
          "text": "[<zip object at 0x7f0fda718a08>]\n",
          "name": "stdout"
        },
        {
          "output_type": "execute_result",
          "execution_count": 36,
          "data": {
            "text/plain": "{1: 'a', 2: 'b', 3: 'c'}"
          },
          "metadata": {}
        }
      ]
    },
    {
      "metadata": {
        "trusted": true
      },
      "cell_type": "code",
      "source": "",
      "execution_count": null,
      "outputs": []
    },
    {
      "metadata": {
        "trusted": true
      },
      "cell_type": "code",
      "source": "courses == 3",
      "execution_count": 5,
      "outputs": [
        {
          "output_type": "error",
          "ename": "NameError",
          "evalue": "name 'courses' is not defined",
          "traceback": [
            "\u001b[0;31m---------------------------------------------------------------------------\u001b[0m",
            "\u001b[0;31mNameError\u001b[0m                                 Traceback (most recent call last)",
            "\u001b[0;32m<ipython-input-5-5ff8704879b9>\u001b[0m in \u001b[0;36m<module>\u001b[0;34m\u001b[0m\n\u001b[0;32m----> 1\u001b[0;31m \u001b[0mcourses\u001b[0m \u001b[0;34m==\u001b[0m \u001b[0;36m3\u001b[0m\u001b[0;34m\u001b[0m\u001b[0m\n\u001b[0m",
            "\u001b[0;31mNameError\u001b[0m: name 'courses' is not defined"
          ]
        }
      ]
    },
    {
      "metadata": {
        "trusted": true
      },
      "cell_type": "code",
      "source": "int(72.5)",
      "execution_count": 10,
      "outputs": [
        {
          "output_type": "execute_result",
          "execution_count": 10,
          "data": {
            "text/plain": "72"
          },
          "metadata": {}
        }
      ]
    },
    {
      "metadata": {
        "trusted": true
      },
      "cell_type": "code",
      "source": "x = 12 / 3\nx",
      "execution_count": 11,
      "outputs": [
        {
          "output_type": "execute_result",
          "execution_count": 11,
          "data": {
            "text/plain": "4.0"
          },
          "metadata": {}
        }
      ]
    },
    {
      "metadata": {
        "trusted": true
      },
      "cell_type": "code",
      "source": "try:\n\n    list = 5 * [0]\n\n    x = list[5]\n\n    print(\"Done\")\n\nexcept IndexError: \n\n    print(\"Index out of bound\")",
      "execution_count": 12,
      "outputs": [
        {
          "output_type": "stream",
          "text": "Index out of bound\n",
          "name": "stdout"
        }
      ]
    },
    {
      "metadata": {
        "trusted": true
      },
      "cell_type": "code",
      "source": "num1 = 10\n\nnum2 = 0\n\ntry:\n\n    result = num1 / num2\n\n    print(result)\n\n    num2 -= 1\n\nexcept:\n\n    print(\"Divide by zero !\")",
      "execution_count": 1,
      "outputs": [
        {
          "output_type": "stream",
          "text": "Divide by zero !\n",
          "name": "stdout"
        }
      ]
    },
    {
      "metadata": {
        "trusted": true
      },
      "cell_type": "code",
      "source": "for i in range(1, 6 + 1):\n\n    for j in range(6, 0, -1):\n\n       print(j if j <= i else \" \", end = \" \")\n\n    print()",
      "execution_count": 14,
      "outputs": [
        {
          "output_type": "stream",
          "text": "          1 \n        2 1 \n      3 2 1 \n    4 3 2 1 \n  5 4 3 2 1 \n6 5 4 3 2 1 \n",
          "name": "stdout"
        }
      ]
    },
    {
      "metadata": {
        "trusted": true
      },
      "cell_type": "code",
      "source": "l=list('HELLO')\n\n'first={0[0]}, third={0[2]}'.format(l)",
      "execution_count": 15,
      "outputs": [
        {
          "output_type": "error",
          "ename": "TypeError",
          "evalue": "'list' object is not callable",
          "traceback": [
            "\u001b[0;31m---------------------------------------------------------------------------\u001b[0m",
            "\u001b[0;31mTypeError\u001b[0m                                 Traceback (most recent call last)",
            "\u001b[0;32m<ipython-input-15-885a93f3d566>\u001b[0m in \u001b[0;36m<module>\u001b[0;34m\u001b[0m\n\u001b[0;32m----> 1\u001b[0;31m \u001b[0ml\u001b[0m\u001b[0;34m=\u001b[0m\u001b[0mlist\u001b[0m\u001b[0;34m(\u001b[0m\u001b[0;34m'HELLO'\u001b[0m\u001b[0;34m)\u001b[0m\u001b[0;34m\u001b[0m\u001b[0m\n\u001b[0m\u001b[1;32m      2\u001b[0m \u001b[0;34m\u001b[0m\u001b[0m\n\u001b[1;32m      3\u001b[0m \u001b[0;34m'first={0[0]}, third={0[2]}'\u001b[0m\u001b[0;34m.\u001b[0m\u001b[0mformat\u001b[0m\u001b[0;34m(\u001b[0m\u001b[0ml\u001b[0m\u001b[0;34m)\u001b[0m\u001b[0;34m\u001b[0m\u001b[0m\n",
            "\u001b[0;31mTypeError\u001b[0m: 'list' object is not callable"
          ]
        }
      ]
    },
    {
      "metadata": {
        "trusted": true
      },
      "cell_type": "code",
      "source": "1st_name=1",
      "execution_count": 18,
      "outputs": [
        {
          "output_type": "error",
          "ename": "SyntaxError",
          "evalue": "invalid syntax (<ipython-input-18-90525cdf44b3>, line 1)",
          "traceback": [
            "\u001b[0;36m  File \u001b[0;32m\"<ipython-input-18-90525cdf44b3>\"\u001b[0;36m, line \u001b[0;32m1\u001b[0m\n\u001b[0;31m    1st_name=1\u001b[0m\n\u001b[0m           ^\u001b[0m\n\u001b[0;31mSyntaxError\u001b[0m\u001b[0;31m:\u001b[0m invalid syntax\n"
          ]
        }
      ]
    },
    {
      "metadata": {
        "trusted": true
      },
      "cell_type": "code",
      "source": "age1 = input(\"How old are you? \")\n\nage2 = input(\"How old is your best friend? \")\nx=int(age1)\ny=int(age2)\nprint(str(x+y))\nprint(str(int(age1+age2))) \nprint(int(age1)+int(age2))\nprint(age1 + age2)\nprint(type(x+y))",
      "execution_count": 24,
      "outputs": [
        {
          "output_type": "stream",
          "name": "stdout",
          "text": "How old are you? 20\nHow old is your best friend? 23\n43\n2023\n43\n2023\n<class 'int'>\n"
        }
      ]
    },
    {
      "metadata": {
        "trusted": true
      },
      "cell_type": "code",
      "source": "data = 'From stephen.marqaurd@uct.ac.za Sat Jan 5'\nprint(data.find('@'))\nprint(data.find(' ',6))\nprint(data[22:31])",
      "execution_count": 4,
      "outputs": [
        {
          "output_type": "stream",
          "text": "21\n31\nuct.ac.za\n",
          "name": "stdout"
        }
      ]
    },
    {
      "metadata": {
        "trusted": true
      },
      "cell_type": "code",
      "source": "data1= ' X-DPSM confidence:0.59432'\nx=float(data1[data1.find(':')+1:])\nprint(type(x))",
      "execution_count": 13,
      "outputs": [
        {
          "output_type": "stream",
          "text": "<class 'float'>\n",
          "name": "stdout"
        }
      ]
    },
    {
      "metadata": {
        "trusted": true
      },
      "cell_type": "code",
      "source": "print(\"Hi this is {} from hyderabad are you {}\".format('saiprasad','there'))",
      "execution_count": 27,
      "outputs": [
        {
          "output_type": "stream",
          "text": "Hi this is saiprasad from hyderabad are you there\n",
          "name": "stdout"
        }
      ]
    },
    {
      "metadata": {
        "trusted": true
      },
      "cell_type": "code",
      "source": "print(\"Hi this is %s from hyderabad are you %s\" %('saiprasad','there'))",
      "execution_count": 31,
      "outputs": [
        {
          "output_type": "stream",
          "text": "Hi this is saiprasad from hyderabad are you there\n",
          "name": "stdout"
        }
      ]
    },
    {
      "metadata": {
        "trusted": true
      },
      "cell_type": "code",
      "source": "print(\"Hi this is %s class and we are studying %s data structure\" %('python', 'strings'))",
      "execution_count": 29,
      "outputs": [
        {
          "output_type": "stream",
          "text": "Hi this is python class and we are studying strings data structure\n",
          "name": "stdout"
        }
      ]
    },
    {
      "metadata": {
        "trusted": true
      },
      "cell_type": "code",
      "source": "names=['Raju','Ravi','Priya','Ravi','Raju', 'Raju', 'Sri']",
      "execution_count": 1,
      "outputs": []
    },
    {
      "metadata": {
        "trusted": true
      },
      "cell_type": "code",
      "source": "counts=dict()\nfor i in names:\n    counts[i]=counts.get(i,0)+1\nprint(counts)",
      "execution_count": 2,
      "outputs": [
        {
          "output_type": "stream",
          "text": "{'Raju': 3, 'Ravi': 2, 'Priya': 1, 'Sri': 1}\n",
          "name": "stdout"
        }
      ]
    },
    {
      "metadata": {
        "trusted": true
      },
      "cell_type": "code",
      "source": "text =\"the clown ran after the car and the car ran into the tent and the tent fell on the clown and the car\"",
      "execution_count": 4,
      "outputs": []
    },
    {
      "metadata": {
        "trusted": true
      },
      "cell_type": "code",
      "source": "counts1=dict()\ntext_lst=text.split(\" \")\nfor i in text_lst:\n    counts1[i]=counts1.get(i,0)+1\nprint(counts1)",
      "execution_count": 6,
      "outputs": [
        {
          "output_type": "stream",
          "text": "{'the': 7, 'clown': 2, 'ran': 2, 'after': 1, 'car': 3, 'and': 3, 'into': 1, 'tent': 2, 'fell': 1, 'on': 1}\n",
          "name": "stdout"
        }
      ]
    },
    {
      "metadata": {
        "trusted": true
      },
      "cell_type": "code",
      "source": "for i,j in counts1.items():\n    if j==max(counts1.values()):\n        print(\"Max key is:\", i)",
      "execution_count": 13,
      "outputs": [
        {
          "output_type": "stream",
          "text": "Max key is: the\n",
          "name": "stdout"
        }
      ]
    },
    {
      "metadata": {
        "trusted": true
      },
      "cell_type": "code",
      "source": "fruits_to_color = {'watermelon':'green','peach':'orange','cherry':'red','banana':'yellow','orange':'orange'}\ninvert_dict={}\nfor i in fruits_to_color:\n    if fruits_to_color[i] not in invert_dict:\n        invert_dict[fruits_to_color[i]]=[i]\n    else:\n        invert_dict[fruits_to_color[i]].append(i)\nprint(invert_dict)",
      "execution_count": 12,
      "outputs": [
        {
          "output_type": "stream",
          "text": "{'green': ['watermelon'], 'orange': ['peach', 'orange'], 'red': ['cherry'], 'yellow': ['banana']}\n",
          "name": "stdout"
        }
      ]
    },
    {
      "metadata": {
        "trusted": true
      },
      "cell_type": "code",
      "source": "l2=[i for i in range(50) if i%2==0 else \"odd\"]\nl2",
      "execution_count": 23,
      "outputs": [
        {
          "output_type": "error",
          "ename": "SyntaxError",
          "evalue": "invalid syntax (<ipython-input-23-8238e7f1ac8b>, line 1)",
          "traceback": [
            "\u001b[0;36m  File \u001b[0;32m\"<ipython-input-23-8238e7f1ac8b>\"\u001b[0;36m, line \u001b[0;32m1\u001b[0m\n\u001b[0;31m    l2=[i for i in range(50) if i%2==0 else \"odd\"]\u001b[0m\n\u001b[0m                                          ^\u001b[0m\n\u001b[0;31mSyntaxError\u001b[0m\u001b[0;31m:\u001b[0m invalid syntax\n"
          ]
        }
      ]
    },
    {
      "metadata": {
        "trusted": true
      },
      "cell_type": "code",
      "source": "fruits = ['apple','banana','cherry','duke']\nfor i in fruits:\n    print(i[0][0])\n",
      "execution_count": 27,
      "outputs": [
        {
          "output_type": "stream",
          "text": "a\nb\nc\nd\n",
          "name": "stdout"
        }
      ]
    },
    {
      "metadata": {
        "trusted": true
      },
      "cell_type": "code",
      "source": "l3=[i[0].upper() for i in fruits]\nl3",
      "execution_count": 33,
      "outputs": [
        {
          "output_type": "execute_result",
          "execution_count": 33,
          "data": {
            "text/plain": "['A', 'B', 'C', 'D']"
          },
          "metadata": {}
        }
      ]
    },
    {
      "metadata": {
        "trusted": true
      },
      "cell_type": "code",
      "source": "def sq_num(x):\n    return(x**2)",
      "execution_count": 1,
      "outputs": []
    },
    {
      "metadata": {
        "trusted": true
      },
      "cell_type": "code",
      "source": "lst_1 = [1,2,3,4,5]\nf=list(map(sq_num,lst_1))\nprint(f)\nprint(lst_1)",
      "execution_count": 6,
      "outputs": [
        {
          "output_type": "stream",
          "text": "[1, 4, 9, 16, 25]\n[1, 2, 3, 4, 5]\n",
          "name": "stdout"
        }
      ]
    },
    {
      "metadata": {
        "trusted": true
      },
      "cell_type": "code",
      "source": "xy=[]\nfor i in map(lambda x:x**2,lst_1):\n    xy[]=i\nprint(xy)",
      "execution_count": 11,
      "outputs": [
        {
          "output_type": "stream",
          "text": "25\n",
          "name": "stdout"
        }
      ]
    },
    {
      "metadata": {
        "trusted": true
      },
      "cell_type": "code",
      "source": "orders = [[1,(100,500.50,450)],[2,(200,300.75,450.50)],[3,(400,350.50,650.50)]]\norders[1]",
      "execution_count": 52,
      "outputs": [
        {
          "output_type": "execute_result",
          "execution_count": 52,
          "data": {
            "text/plain": "[2, (200, 300.75, 450.5)]"
          },
          "metadata": {}
        }
      ]
    },
    {
      "metadata": {
        "trusted": true
      },
      "cell_type": "code",
      "source": "from functools import reduce\nlist(map(lambda x:[x[0]], orders))",
      "execution_count": 22,
      "outputs": [
        {
          "output_type": "execute_result",
          "execution_count": 22,
          "data": {
            "text/plain": "[[1], [2], [3]]"
          },
          "metadata": {}
        }
      ]
    },
    {
      "metadata": {
        "trusted": true
      },
      "cell_type": "code",
      "source": "[reduce(lambda a,b:a+b, orders[0][1])]",
      "execution_count": 29,
      "outputs": [
        {
          "output_type": "execute_result",
          "execution_count": 29,
          "data": {
            "text/plain": "[1050.5]"
          },
          "metadata": {}
        }
      ]
    },
    {
      "metadata": {
        "trusted": true
      },
      "cell_type": "code",
      "source": "x=lambda x:[x[0]] + [reduce(lambda a,b:a+b, x[1])]\nx",
      "execution_count": 40,
      "outputs": [
        {
          "output_type": "execute_result",
          "execution_count": 40,
          "data": {
            "text/plain": "<function __main__.<lambda>(x)>"
          },
          "metadata": {}
        }
      ]
    },
    {
      "metadata": {
        "trusted": true
      },
      "cell_type": "code",
      "source": "Total = list(map(lambda x:[x[0]] + [reduce(lambda a,b:a+b, x[1])], orders))\nprint(Total)",
      "execution_count": 50,
      "outputs": [
        {
          "output_type": "stream",
          "text": "[[1, 1050.5], [2, 951.25], [3, 1401.0]]\n",
          "name": "stdout"
        }
      ]
    },
    {
      "metadata": {
        "trusted": true
      },
      "cell_type": "code",
      "source": "enu_lst=['Hi','Hello','mast']\nprint(list(enumerate(enu_lst, start=5)))",
      "execution_count": 41,
      "outputs": [
        {
          "output_type": "stream",
          "text": "[(5, 'Hi'), (6, 'Hello'), (7, 'mast')]\n",
          "name": "stdout"
        }
      ]
    },
    {
      "metadata": {
        "trusted": true
      },
      "cell_type": "code",
      "source": "z1=['Hi','there','guys']\nz2=[10,20,30]\nz3=['sai','shyam','car']\nprint(list(zip(z1,z2,z3)))",
      "execution_count": 45,
      "outputs": [
        {
          "output_type": "stream",
          "text": "[('Hi', 10, 'sai'), ('there', 20, 'shyam'), ('guys', 30, 'car')]\n",
          "name": "stdout"
        }
      ]
    },
    {
      "metadata": {
        "trusted": true
      },
      "cell_type": "code",
      "source": "s1=\"bad@string\"\ns1.find('c')",
      "execution_count": 65,
      "outputs": [
        {
          "output_type": "execute_result",
          "execution_count": 65,
          "data": {
            "text/plain": "-1"
          },
          "metadata": {}
        }
      ]
    },
    {
      "metadata": {
        "trusted": true
      },
      "cell_type": "code",
      "source": "listt=[20,10,30,'sam']\nlistt",
      "execution_count": 121,
      "outputs": [
        {
          "output_type": "execute_result",
          "execution_count": 121,
          "data": {
            "text/plain": "[20, 10, 30, 'sam']"
          },
          "metadata": {}
        }
      ]
    },
    {
      "metadata": {
        "trusted": true
      },
      "cell_type": "code",
      "source": "import pandas as pd",
      "execution_count": 98,
      "outputs": []
    },
    {
      "metadata": {
        "trusted": true
      },
      "cell_type": "code",
      "source": "ser = pd.Series([100,200,300,400,500],['tom','ram','rao','cat','dash'])\nser",
      "execution_count": 100,
      "outputs": [
        {
          "output_type": "execute_result",
          "execution_count": 100,
          "data": {
            "text/plain": "tom     100\nram     200\nrao     300\ncat     400\ndash    500\ndtype: int64"
          },
          "metadata": {}
        }
      ]
    },
    {
      "metadata": {
        "trusted": true
      },
      "cell_type": "code",
      "source": "ser.loc[['tom','rao']]",
      "execution_count": 112,
      "outputs": [
        {
          "output_type": "execute_result",
          "execution_count": 112,
          "data": {
            "text/plain": "tom    100\nrao    300\ndtype: int64"
          },
          "metadata": {}
        }
      ]
    },
    {
      "metadata": {
        "trusted": true
      },
      "cell_type": "code",
      "source": "ser.iloc[2:5]",
      "execution_count": 113,
      "outputs": [
        {
          "output_type": "execute_result",
          "execution_count": 113,
          "data": {
            "text/plain": "rao     300\ncat     400\ndash    500\ndtype: int64"
          },
          "metadata": {}
        }
      ]
    },
    {
      "metadata": {
        "trusted": true
      },
      "cell_type": "code",
      "source": "s=pd.Series()\ns",
      "execution_count": 117,
      "outputs": [
        {
          "output_type": "execute_result",
          "execution_count": 117,
          "data": {
            "text/plain": "Series([], dtype: float64)"
          },
          "metadata": {}
        }
      ]
    },
    {
      "metadata": {
        "trusted": true
      },
      "cell_type": "code",
      "source": "s=ser*2\ns",
      "execution_count": 119,
      "outputs": [
        {
          "output_type": "execute_result",
          "execution_count": 119,
          "data": {
            "text/plain": "tom      200\nram      400\nrao      600\ncat      800\ndash    1000\ndtype: int64"
          },
          "metadata": {}
        }
      ]
    },
    {
      "metadata": {
        "trusted": true
      },
      "cell_type": "code",
      "source": "arr=np.array([1,2,3,4])\narr.shape",
      "execution_count": 120,
      "outputs": [
        {
          "output_type": "execute_result",
          "execution_count": 120,
          "data": {
            "text/plain": "(4,)"
          },
          "metadata": {}
        }
      ]
    },
    {
      "metadata": {
        "trusted": true
      },
      "cell_type": "code",
      "source": "np.random.seed(5)\nex5=np.random.rand(1,10)\nprint(ex5)",
      "execution_count": 141,
      "outputs": [
        {
          "output_type": "stream",
          "text": "[[0.22199317 0.87073231 0.20671916 0.91861091 0.48841119 0.61174386\n  0.76590786 0.51841799 0.2968005  0.18772123]]\n",
          "name": "stdout"
        }
      ]
    },
    {
      "metadata": {
        "trusted": true
      },
      "cell_type": "code",
      "source": "a1=np.random.uniform(1,10,(2,2))\nprint(a1)",
      "execution_count": 130,
      "outputs": [
        {
          "output_type": "stream",
          "text": "[[1.72667142 7.64596267]\n [4.97178301 2.42478881]]\n",
          "name": "stdout"
        }
      ]
    },
    {
      "metadata": {
        "trusted": true
      },
      "cell_type": "code",
      "source": "lit =np.array([-0.51733692,0.48813676, -0.88147002 , 1.12901958 ,0.68026197])\nlit.mean()",
      "execution_count": 140,
      "outputs": [
        {
          "output_type": "execute_result",
          "execution_count": 140,
          "data": {
            "text/plain": "0.17972227400000002"
          },
          "metadata": {}
        }
      ]
    },
    {
      "metadata": {
        "trusted": true
      },
      "cell_type": "code",
      "source": "np.random.seed(5)",
      "execution_count": 148,
      "outputs": []
    },
    {
      "metadata": {
        "trusted": true
      },
      "cell_type": "code",
      "source": "dice=np.random.randint(1,7,20)\ndice",
      "execution_count": 149,
      "outputs": [
        {
          "output_type": "execute_result",
          "execution_count": 149,
          "data": {
            "text/plain": "array([4, 6, 1, 2, 1, 5, 4, 1, 1, 5, 2, 6, 1, 4, 5, 6, 4, 2, 5, 6])"
          },
          "metadata": {}
        }
      ]
    },
    {
      "metadata": {
        "trusted": true
      },
      "cell_type": "code",
      "source": "import pandas as pd",
      "execution_count": 4,
      "outputs": []
    },
    {
      "metadata": {
        "trusted": true
      },
      "cell_type": "code",
      "source": "d= {'one': pd.Series([100,200,300,400],['bam','cam','dam','fan']),\n     'two': pd.Series([110.0,120.0,130.0],['bam','cam','dam'])}\nd",
      "execution_count": 10,
      "outputs": [
        {
          "output_type": "execute_result",
          "execution_count": 10,
          "data": {
            "text/plain": "{'one': bam    100\n cam    200\n dam    300\n fan    400\n dtype: int64, 'two': bam    110.0\n cam    120.0\n dam    130.0\n dtype: float64}"
          },
          "metadata": {}
        }
      ]
    },
    {
      "metadata": {
        "trusted": true
      },
      "cell_type": "code",
      "source": "df = pd.DataFrame(d)\ndf",
      "execution_count": 11,
      "outputs": [
        {
          "output_type": "execute_result",
          "execution_count": 11,
          "data": {
            "text/html": "<div>\n<style scoped>\n    .dataframe tbody tr th:only-of-type {\n        vertical-align: middle;\n    }\n\n    .dataframe tbody tr th {\n        vertical-align: top;\n    }\n\n    .dataframe thead th {\n        text-align: right;\n    }\n</style>\n<table border=\"1\" class=\"dataframe\">\n  <thead>\n    <tr style=\"text-align: right;\">\n      <th></th>\n      <th>one</th>\n      <th>two</th>\n    </tr>\n  </thead>\n  <tbody>\n    <tr>\n      <th>bam</th>\n      <td>100</td>\n      <td>110.0</td>\n    </tr>\n    <tr>\n      <th>cam</th>\n      <td>200</td>\n      <td>120.0</td>\n    </tr>\n    <tr>\n      <th>dam</th>\n      <td>300</td>\n      <td>130.0</td>\n    </tr>\n    <tr>\n      <th>fan</th>\n      <td>400</td>\n      <td>NaN</td>\n    </tr>\n  </tbody>\n</table>\n</div>",
            "text/plain": "     one    two\nbam  100  110.0\ncam  200  120.0\ndam  300  130.0\nfan  400    NaN"
          },
          "metadata": {}
        }
      ]
    },
    {
      "metadata": {
        "trusted": true
      },
      "cell_type": "code",
      "source": "pd.DataFrame(d, index=['bam','dam'])",
      "execution_count": 19,
      "outputs": [
        {
          "output_type": "execute_result",
          "execution_count": 19,
          "data": {
            "text/html": "<div>\n<style scoped>\n    .dataframe tbody tr th:only-of-type {\n        vertical-align: middle;\n    }\n\n    .dataframe tbody tr th {\n        vertical-align: top;\n    }\n\n    .dataframe thead th {\n        text-align: right;\n    }\n</style>\n<table border=\"1\" class=\"dataframe\">\n  <thead>\n    <tr style=\"text-align: right;\">\n      <th></th>\n      <th>one</th>\n      <th>two</th>\n    </tr>\n  </thead>\n  <tbody>\n    <tr>\n      <th>bam</th>\n      <td>100</td>\n      <td>110.0</td>\n    </tr>\n    <tr>\n      <th>dam</th>\n      <td>300</td>\n      <td>130.0</td>\n    </tr>\n  </tbody>\n</table>\n</div>",
            "text/plain": "     one    two\nbam  100  110.0\ndam  300  130.0"
          },
          "metadata": {}
        }
      ]
    },
    {
      "metadata": {
        "trusted": true
      },
      "cell_type": "code",
      "source": "data = [{'alice':1,\"joe\":2},{'jam':10,'scam':100,\"doom\":1000}]",
      "execution_count": 21,
      "outputs": []
    },
    {
      "metadata": {
        "trusted": true
      },
      "cell_type": "code",
      "source": "pd.DataFrame(data)",
      "execution_count": 23,
      "outputs": [
        {
          "output_type": "execute_result",
          "execution_count": 23,
          "data": {
            "text/html": "<div>\n<style scoped>\n    .dataframe tbody tr th:only-of-type {\n        vertical-align: middle;\n    }\n\n    .dataframe tbody tr th {\n        vertical-align: top;\n    }\n\n    .dataframe thead th {\n        text-align: right;\n    }\n</style>\n<table border=\"1\" class=\"dataframe\">\n  <thead>\n    <tr style=\"text-align: right;\">\n      <th></th>\n      <th>alice</th>\n      <th>doom</th>\n      <th>jam</th>\n      <th>joe</th>\n      <th>scam</th>\n    </tr>\n  </thead>\n  <tbody>\n    <tr>\n      <th>0</th>\n      <td>1.0</td>\n      <td>NaN</td>\n      <td>NaN</td>\n      <td>2.0</td>\n      <td>NaN</td>\n    </tr>\n    <tr>\n      <th>1</th>\n      <td>NaN</td>\n      <td>1000.0</td>\n      <td>10.0</td>\n      <td>NaN</td>\n      <td>100.0</td>\n    </tr>\n  </tbody>\n</table>\n</div>",
            "text/plain": "   alice    doom   jam  joe   scam\n0    1.0     NaN   NaN  2.0    NaN\n1    NaN  1000.0  10.0  NaN  100.0"
          },
          "metadata": {}
        }
      ]
    },
    {
      "metadata": {
        "trusted": true
      },
      "cell_type": "code",
      "source": "pd.DataFrame(data, index=['orange','red'])",
      "execution_count": 24,
      "outputs": [
        {
          "output_type": "execute_result",
          "execution_count": 24,
          "data": {
            "text/html": "<div>\n<style scoped>\n    .dataframe tbody tr th:only-of-type {\n        vertical-align: middle;\n    }\n\n    .dataframe tbody tr th {\n        vertical-align: top;\n    }\n\n    .dataframe thead th {\n        text-align: right;\n    }\n</style>\n<table border=\"1\" class=\"dataframe\">\n  <thead>\n    <tr style=\"text-align: right;\">\n      <th></th>\n      <th>alice</th>\n      <th>doom</th>\n      <th>jam</th>\n      <th>joe</th>\n      <th>scam</th>\n    </tr>\n  </thead>\n  <tbody>\n    <tr>\n      <th>orange</th>\n      <td>1.0</td>\n      <td>NaN</td>\n      <td>NaN</td>\n      <td>2.0</td>\n      <td>NaN</td>\n    </tr>\n    <tr>\n      <th>red</th>\n      <td>NaN</td>\n      <td>1000.0</td>\n      <td>10.0</td>\n      <td>NaN</td>\n      <td>100.0</td>\n    </tr>\n  </tbody>\n</table>\n</div>",
            "text/plain": "        alice    doom   jam  joe   scam\norange    1.0     NaN   NaN  2.0    NaN\nred       NaN  1000.0  10.0  NaN  100.0"
          },
          "metadata": {}
        }
      ]
    },
    {
      "metadata": {
        "trusted": true
      },
      "cell_type": "code",
      "source": "l1=[1,2,3]\n\nl2=[4,5,6]\n\nl3=[7,8,9]\n\n#for x, y, z in zip(l1, l2, l3):\n\n#\tprint(x, y, z)\n\nprint(list(zip(l1, l2, l3)))",
      "execution_count": 14,
      "outputs": [
        {
          "output_type": "stream",
          "text": "[(1, 4, 7), (2, 5, 8), (3, 6, 9)]\n",
          "name": "stdout"
        }
      ]
    },
    {
      "metadata": {
        "trusted": true
      },
      "cell_type": "code",
      "source": "import numpy as np",
      "execution_count": 15,
      "outputs": []
    },
    {
      "metadata": {
        "trusted": true
      },
      "cell_type": "code",
      "source": "A = np.array([[1,2,3]])\n\nB = np.array([[1,1,1], [2,2,2], [3,3,3]])\n\nprint(A)\nprint(B)\nprint(B+A)",
      "execution_count": 19,
      "outputs": [
        {
          "output_type": "stream",
          "text": "[[1 2 3]]\n[[1 1 1]\n [2 2 2]\n [3 3 3]]\n[[2 3 4]\n [3 4 5]\n [4 5 6]]\n",
          "name": "stdout"
        }
      ]
    }
  ],
  "metadata": {
    "kernelspec": {
      "name": "python36",
      "display_name": "Python 3.6",
      "language": "python"
    },
    "language_info": {
      "mimetype": "text/x-python",
      "nbconvert_exporter": "python",
      "name": "python",
      "pygments_lexer": "ipython3",
      "version": "3.6.6",
      "file_extension": ".py",
      "codemirror_mode": {
        "version": 3,
        "name": "ipython"
      }
    }
  },
  "nbformat": 4,
  "nbformat_minor": 2
}