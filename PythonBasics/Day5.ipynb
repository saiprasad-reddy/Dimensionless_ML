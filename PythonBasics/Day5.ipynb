{
  "cells": [
    {
      "metadata": {
        "collapsed": true
      },
      "cell_type": "markdown",
      "source": "<h4>Exercise 3: Take a text from user and create count dictionary on that text</h4>\n<h4>The text is: \"the clown ran after the car and the car ran into the tent and tent fell down on the clown and car\"`</h4>"
    },
    {
      "metadata": {
        "trusted": true
      },
      "cell_type": "code",
      "source": "text=input(\"Enter the text :\")\nlist=text.split()\nuser=dict()\nfor i in list:\n    user[i]=user.get(i,0)+1\nprint(user)\n",
      "execution_count": 6,
      "outputs": [
        {
          "output_type": "stream",
          "name": "stdout",
          "text": "Enter the text :the clown ran after the car and the car ran into the tent and tent fell down on the clown and car\n{'the': 5, 'clown': 2, 'ran': 2, 'after': 1, 'car': 3, 'and': 3, 'into': 1, 'tent': 2, 'fell': 1, 'down': 1, 'on': 1}\n"
        }
      ]
    },
    {
      "metadata": {},
      "cell_type": "markdown",
      "source": "<h4>Exercise 4: Find the word with maximum count in the dictionary created above</h4>"
    },
    {
      "metadata": {
        "trusted": true
      },
      "cell_type": "code",
      "source": "print(max(user))\n#need to check\nfor i,j in user.items():\n    if j==max(user.values()):\n        print('Key with max count is: ',i,j)",
      "execution_count": 8,
      "outputs": [
        {
          "output_type": "stream",
          "text": "the\nKey with max count is:  the 5\n",
          "name": "stdout"
        }
      ]
    },
    {
      "metadata": {},
      "cell_type": "markdown",
      "source": "<h4>Inverting a dictionary</h4>"
    },
    {
      "metadata": {
        "trusted": true
      },
      "cell_type": "code",
      "source": "invertdict={}\nmydict ={'george':16,'amber':19}\nfor name in mydict:\n    invertdict[mydict[name]]=name\ninvertdict",
      "execution_count": 13,
      "outputs": [
        {
          "output_type": "execute_result",
          "execution_count": 13,
          "data": {
            "text/plain": "{16: 'george', 19: 'amber'}"
          },
          "metadata": {}
        }
      ]
    },
    {
      "metadata": {},
      "cell_type": "markdown",
      "source": "<h4>Exercise 5: Invert the following dictionary:\n    fruit_to_colour ={'wtermelon':'green','promegranate':'red','peach':'orange','cherry':'red','pear':'green','banana':'yellow','plum':'purple','orange':'orange'}\n    </h4>"
    },
    {
      "metadata": {
        "trusted": true
      },
      "cell_type": "code",
      "source": "#here we only get only one value as key value should be unique\nfruit_to_colour ={'watermelon':'green','promegranate':'red','peach':'orange','cherry':'red','pear':'green','banana':'yellow','plum':'purple','orange':'orange'}\ninvertdict={}\nfor name in fruit_to_colour:\n    invertdict[fruit_to_colour[name]]=name\ninvertdict",
      "execution_count": 2,
      "outputs": [
        {
          "output_type": "execute_result",
          "execution_count": 2,
          "data": {
            "text/plain": "{'green': 'pear',\n 'red': 'cherry',\n 'orange': 'orange',\n 'yellow': 'banana',\n 'purple': 'plum'}"
          },
          "metadata": {}
        }
      ]
    },
    {
      "metadata": {
        "trusted": true
      },
      "cell_type": "code",
      "source": "colour_to_fruit={}\nfor fruit in fruit_to_colour:\n    if fruit_to_colour[fruit] not in colour_to_fruit:\n        colour_to_fruit[fruit_to_colour[fruit]]=[fruit]\n    else:\n        colour_to_fruit[fruit_to_colour[fruit]].append(fruit)\ncolour_to_fruit",
      "execution_count": 5,
      "outputs": [
        {
          "output_type": "execute_result",
          "execution_count": 5,
          "data": {
            "text/plain": "{'green': ['watermelon', 'pear'],\n 'red': ['promegranate', 'cherry'],\n 'orange': ['peach', 'orange'],\n 'yellow': ['banana'],\n 'purple': ['plum']}"
          },
          "metadata": {}
        }
      ]
    },
    {
      "metadata": {},
      "cell_type": "markdown",
      "source": "<h4>Sorting list of tuples for a dictionary</h4>"
    },
    {
      "metadata": {
        "trusted": true
      },
      "cell_type": "code",
      "source": "sorted(user.items(),reverse=True)",
      "execution_count": 7,
      "outputs": [
        {
          "output_type": "execute_result",
          "execution_count": 7,
          "data": {
            "text/plain": "[('the', 5),\n ('tent', 2),\n ('ran', 2),\n ('on', 1),\n ('into', 1),\n ('fell', 1),\n ('down', 1),\n ('clown', 2),\n ('car', 3),\n ('and', 3),\n ('after', 1)]"
          },
          "metadata": {}
        }
      ]
    },
    {
      "metadata": {
        "trusted": true
      },
      "cell_type": "code",
      "source": "sorted(user.items())",
      "execution_count": 9,
      "outputs": [
        {
          "output_type": "execute_result",
          "execution_count": 9,
          "data": {
            "text/plain": "[('after', 1),\n ('and', 3),\n ('car', 3),\n ('clown', 2),\n ('down', 1),\n ('fell', 1),\n ('into', 1),\n ('on', 1),\n ('ran', 2),\n ('tent', 2),\n ('the', 5)]"
          },
          "metadata": {}
        }
      ]
    }
  ],
  "metadata": {
    "kernelspec": {
      "name": "python36",
      "display_name": "Python 3.6",
      "language": "python"
    },
    "language_info": {
      "mimetype": "text/x-python",
      "nbconvert_exporter": "python",
      "name": "python",
      "pygments_lexer": "ipython3",
      "version": "3.6.6",
      "file_extension": ".py",
      "codemirror_mode": {
        "version": 3,
        "name": "ipython"
      }
    }
  },
  "nbformat": 4,
  "nbformat_minor": 2
}