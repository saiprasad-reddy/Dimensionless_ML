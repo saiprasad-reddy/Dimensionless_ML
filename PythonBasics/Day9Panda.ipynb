{
  "cells": [
    {
      "metadata": {
        "collapsed": true
      },
      "cell_type": "markdown",
      "source": "<h2>Panda</h2>"
    },
    {
      "metadata": {},
      "cell_type": "markdown",
      "source": "<h3>Import Libraries</h3>"
    },
    {
      "metadata": {
        "trusted": true
      },
      "cell_type": "code",
      "source": "import pandas as pd",
      "execution_count": 2,
      "outputs": []
    },
    {
      "metadata": {},
      "cell_type": "markdown",
      "source": "<h3>Introduction to pandas Data structure</h3>\n<h4>pandas has two main data structures it uses, namely, series and dataframes</h4>"
    },
    {
      "metadata": {},
      "cell_type": "markdown",
      "source": "<h3>Panda Series</h3>\n<h4>pnadas series one-dimensional labeled array</h4>"
    },
    {
      "metadata": {
        "trusted": true
      },
      "cell_type": "code",
      "source": "#here 100,200,300,400 are vales and tom, bob are index\nser = pd.Series([100,200,300,400,500],['tom','bob','nancy','dan','eric'])",
      "execution_count": 1,
      "outputs": [
        {
          "output_type": "error",
          "ename": "NameError",
          "evalue": "name 'pd' is not defined",
          "traceback": [
            "\u001b[0;31m---------------------------------------------------------------------------\u001b[0m",
            "\u001b[0;31mNameError\u001b[0m                                 Traceback (most recent call last)",
            "\u001b[0;32m<ipython-input-1-c9dea1063a0b>\u001b[0m in \u001b[0;36m<module>\u001b[0;34m\u001b[0m\n\u001b[1;32m      1\u001b[0m \u001b[0;31m#here 100,200,300,400 are vales and tom, bob are index\u001b[0m\u001b[0;34m\u001b[0m\u001b[0;34m\u001b[0m\u001b[0m\n\u001b[0;32m----> 2\u001b[0;31m \u001b[0mser\u001b[0m \u001b[0;34m=\u001b[0m \u001b[0mpd\u001b[0m\u001b[0;34m.\u001b[0m\u001b[0mSeries\u001b[0m\u001b[0;34m(\u001b[0m\u001b[0;34m[\u001b[0m\u001b[0;36m100\u001b[0m\u001b[0;34m,\u001b[0m\u001b[0;36m200\u001b[0m\u001b[0;34m,\u001b[0m\u001b[0;36m300\u001b[0m\u001b[0;34m,\u001b[0m\u001b[0;36m400\u001b[0m\u001b[0;34m,\u001b[0m\u001b[0;36m500\u001b[0m\u001b[0;34m]\u001b[0m\u001b[0;34m,\u001b[0m\u001b[0;34m[\u001b[0m\u001b[0;34m'tom'\u001b[0m\u001b[0;34m,\u001b[0m\u001b[0;34m'bob'\u001b[0m\u001b[0;34m,\u001b[0m\u001b[0;34m'nancy'\u001b[0m\u001b[0;34m,\u001b[0m\u001b[0;34m'dan'\u001b[0m\u001b[0;34m,\u001b[0m\u001b[0;34m'eric'\u001b[0m\u001b[0;34m]\u001b[0m\u001b[0;34m)\u001b[0m\u001b[0;34m\u001b[0m\u001b[0m\n\u001b[0m",
            "\u001b[0;31mNameError\u001b[0m: name 'pd' is not defined"
          ]
        }
      ]
    },
    {
      "metadata": {
        "trusted": true
      },
      "cell_type": "code",
      "source": "ser",
      "execution_count": 3,
      "outputs": [
        {
          "output_type": "execute_result",
          "execution_count": 3,
          "data": {
            "text/plain": "tom      100\nbob      200\nnancy    300\ndan      400\neric     500\ndtype: int64"
          },
          "metadata": {}
        }
      ]
    },
    {
      "metadata": {
        "trusted": true
      },
      "cell_type": "code",
      "source": "ser.index",
      "execution_count": 4,
      "outputs": [
        {
          "output_type": "execute_result",
          "execution_count": 4,
          "data": {
            "text/plain": "Index(['tom', 'bob', 'nancy', 'dan', 'eric'], dtype='object')"
          },
          "metadata": {}
        }
      ]
    },
    {
      "metadata": {
        "trusted": true
      },
      "cell_type": "code",
      "source": "ser.values",
      "execution_count": 5,
      "outputs": [
        {
          "output_type": "execute_result",
          "execution_count": 5,
          "data": {
            "text/plain": "array([100, 200, 300, 400, 500])"
          },
          "metadata": {}
        }
      ]
    },
    {
      "metadata": {
        "trusted": true
      },
      "cell_type": "code",
      "source": "ser['tom']",
      "execution_count": 6,
      "outputs": [
        {
          "output_type": "execute_result",
          "execution_count": 6,
          "data": {
            "text/plain": "100"
          },
          "metadata": {}
        }
      ]
    },
    {
      "metadata": {
        "trusted": true
      },
      "cell_type": "code",
      "source": "ser['tom':'nancy']",
      "execution_count": 7,
      "outputs": [
        {
          "output_type": "execute_result",
          "execution_count": 7,
          "data": {
            "text/plain": "tom      100\nbob      200\nnancy    300\ndtype: int64"
          },
          "metadata": {}
        }
      ]
    },
    {
      "metadata": {
        "trusted": true
      },
      "cell_type": "code",
      "source": "ser[['tom','nancy','eric']]",
      "execution_count": 10,
      "outputs": [
        {
          "output_type": "execute_result",
          "execution_count": 10,
          "data": {
            "text/plain": "tom      100\nnancy    300\neric     500\ndtype: int64"
          },
          "metadata": {}
        }
      ]
    },
    {
      "metadata": {
        "trusted": true
      },
      "cell_type": "code",
      "source": "#retreiving from index values\nprint(ser[2])\nprint(ser[1:4])\nprint(ser[[1,3,4]])",
      "execution_count": 11,
      "outputs": [
        {
          "output_type": "stream",
          "text": "300\nbob      200\nnancy    300\ndan      400\ndtype: int64\nbob     200\ndan     400\neric    500\ndtype: int64\n",
          "name": "stdout"
        }
      ]
    },
    {
      "metadata": {
        "trusted": true
      },
      "cell_type": "code",
      "source": "#lock is not method but it retries values present at indexes\n#lock functions refers with only labels\n#ilock used for integer positions\nser.loc[['bob','nancy']]",
      "execution_count": 12,
      "outputs": [
        {
          "output_type": "execute_result",
          "execution_count": 12,
          "data": {
            "text/plain": "bob      200\nnancy    300\ndtype: int64"
          },
          "metadata": {}
        }
      ]
    },
    {
      "metadata": {
        "trusted": true
      },
      "cell_type": "code",
      "source": "#ilock used for integer positions\nser.iloc[2:5]",
      "execution_count": 13,
      "outputs": [
        {
          "output_type": "execute_result",
          "execution_count": 13,
          "data": {
            "text/plain": "nancy    300\ndan      400\neric     500\ndtype: int64"
          },
          "metadata": {}
        }
      ]
    },
    {
      "metadata": {},
      "cell_type": "markdown",
      "source": "<h3>\"In\" or \"not in\" operators</h3>"
    },
    {
      "metadata": {
        "trusted": true
      },
      "cell_type": "code",
      "source": "'tom' in ser",
      "execution_count": 14,
      "outputs": [
        {
          "output_type": "execute_result",
          "execution_count": 14,
          "data": {
            "text/plain": "True"
          },
          "metadata": {}
        }
      ]
    },
    {
      "metadata": {
        "trusted": true
      },
      "cell_type": "code",
      "source": "'cat' not in ser",
      "execution_count": 15,
      "outputs": [
        {
          "output_type": "execute_result",
          "execution_count": 15,
          "data": {
            "text/plain": "True"
          },
          "metadata": {}
        }
      ]
    },
    {
      "metadata": {
        "trusted": true
      },
      "cell_type": "code",
      "source": "#empty panda series\ns=pd.Series()\ns",
      "execution_count": 16,
      "outputs": [
        {
          "output_type": "execute_result",
          "execution_count": 16,
          "data": {
            "text/plain": "Series([], dtype: float64)"
          },
          "metadata": {}
        }
      ]
    },
    {
      "metadata": {
        "trusted": true
      },
      "cell_type": "code",
      "source": "#any operation on panda series will be performed elemrnt wise\nser*2",
      "execution_count": 17,
      "outputs": [
        {
          "output_type": "execute_result",
          "execution_count": 17,
          "data": {
            "text/plain": "tom       200\nbob       400\nnancy     600\ndan       800\neric     1000\ndtype: int64"
          },
          "metadata": {}
        }
      ]
    },
    {
      "metadata": {
        "trusted": true
      },
      "cell_type": "code",
      "source": "ser[['bob','eric']]**2",
      "execution_count": 18,
      "outputs": [
        {
          "output_type": "execute_result",
          "execution_count": 18,
          "data": {
            "text/plain": "bob      40000\neric    250000\ndtype: int64"
          },
          "metadata": {}
        }
      ]
    },
    {
      "metadata": {
        "trusted": true
      },
      "cell_type": "code",
      "source": "#will not replace orginal valies does operations on copy\nser",
      "execution_count": 19,
      "outputs": [
        {
          "output_type": "execute_result",
          "execution_count": 19,
          "data": {
            "text/plain": "tom      100\nbob      200\nnancy    300\ndan      400\neric     500\ndtype: int64"
          },
          "metadata": {}
        }
      ]
    },
    {
      "metadata": {},
      "cell_type": "markdown",
      "source": "<h3>Pandas DataFrame</h3>\n<h4>Pandas DataFrame is a 2-D labeled data structure.</h4>"
    },
    {
      "metadata": {},
      "cell_type": "markdown",
      "source": "<h3>Create DataFram from dictionary of Python Series</h3>"
    },
    {
      "metadata": {
        "trusted": true
      },
      "cell_type": "code",
      "source": "d = {'one' : pd.Series([100.0,200.0,300.0], index=['apple','ball','clock']),\n    'two' : pd.Series([111., 222., 333., 4444.], index=['apple', 'ball', 'cerill', 'dancy'])}\nd",
      "execution_count": 3,
      "outputs": [
        {
          "output_type": "execute_result",
          "execution_count": 3,
          "data": {
            "text/plain": "{'one': apple    100.0\n ball     200.0\n clock    300.0\n dtype: float64, 'two': apple      111.0\n ball       222.0\n cerill     333.0\n dancy     4444.0\n dtype: float64}"
          },
          "metadata": {}
        }
      ]
    },
    {
      "metadata": {
        "trusted": true
      },
      "cell_type": "code",
      "source": "# passing panda series as dataframes\ndf =pd.DataFrame(d)\ndf",
      "execution_count": 4,
      "outputs": [
        {
          "output_type": "execute_result",
          "execution_count": 4,
          "data": {
            "text/html": "<div>\n<style scoped>\n    .dataframe tbody tr th:only-of-type {\n        vertical-align: middle;\n    }\n\n    .dataframe tbody tr th {\n        vertical-align: top;\n    }\n\n    .dataframe thead th {\n        text-align: right;\n    }\n</style>\n<table border=\"1\" class=\"dataframe\">\n  <thead>\n    <tr style=\"text-align: right;\">\n      <th></th>\n      <th>one</th>\n      <th>two</th>\n    </tr>\n  </thead>\n  <tbody>\n    <tr>\n      <th>apple</th>\n      <td>100.0</td>\n      <td>111.0</td>\n    </tr>\n    <tr>\n      <th>ball</th>\n      <td>200.0</td>\n      <td>222.0</td>\n    </tr>\n    <tr>\n      <th>cerill</th>\n      <td>NaN</td>\n      <td>333.0</td>\n    </tr>\n    <tr>\n      <th>clock</th>\n      <td>300.0</td>\n      <td>NaN</td>\n    </tr>\n    <tr>\n      <th>dancy</th>\n      <td>NaN</td>\n      <td>4444.0</td>\n    </tr>\n  </tbody>\n</table>\n</div>",
            "text/plain": "          one     two\napple   100.0   111.0\nball    200.0   222.0\ncerill    NaN   333.0\nclock   300.0     NaN\ndancy     NaN  4444.0"
          },
          "metadata": {}
        }
      ]
    },
    {
      "metadata": {
        "trusted": true
      },
      "cell_type": "code",
      "source": "df.index",
      "execution_count": 25,
      "outputs": [
        {
          "output_type": "execute_result",
          "execution_count": 25,
          "data": {
            "text/plain": "Index(['apple', 'ball', 'cerill', 'clock', 'dancy'], dtype='object')"
          },
          "metadata": {}
        }
      ]
    },
    {
      "metadata": {
        "trusted": true
      },
      "cell_type": "code",
      "source": "df.columns",
      "execution_count": 26,
      "outputs": [
        {
          "output_type": "execute_result",
          "execution_count": 26,
          "data": {
            "text/plain": "Index(['one', 'two'], dtype='object')"
          },
          "metadata": {}
        }
      ]
    },
    {
      "metadata": {
        "trusted": true
      },
      "cell_type": "code",
      "source": "df.values",
      "execution_count": 27,
      "outputs": [
        {
          "output_type": "execute_result",
          "execution_count": 27,
          "data": {
            "text/plain": "array([[ 100.,  111.],\n       [ 200.,  222.],\n       [  nan,  333.],\n       [ 300.,   nan],\n       [  nan, 4444.]])"
          },
          "metadata": {}
        }
      ]
    },
    {
      "metadata": {
        "trusted": true
      },
      "cell_type": "code",
      "source": "pd.DataFrame(d, index=['dancy','ball','apple'])",
      "execution_count": 28,
      "outputs": [
        {
          "output_type": "execute_result",
          "execution_count": 28,
          "data": {
            "text/html": "<div>\n<style scoped>\n    .dataframe tbody tr th:only-of-type {\n        vertical-align: middle;\n    }\n\n    .dataframe tbody tr th {\n        vertical-align: top;\n    }\n\n    .dataframe thead th {\n        text-align: right;\n    }\n</style>\n<table border=\"1\" class=\"dataframe\">\n  <thead>\n    <tr style=\"text-align: right;\">\n      <th></th>\n      <th>one</th>\n      <th>two</th>\n    </tr>\n  </thead>\n  <tbody>\n    <tr>\n      <th>dancy</th>\n      <td>NaN</td>\n      <td>4444.0</td>\n    </tr>\n    <tr>\n      <th>ball</th>\n      <td>200.0</td>\n      <td>222.0</td>\n    </tr>\n    <tr>\n      <th>apple</th>\n      <td>100.0</td>\n      <td>111.0</td>\n    </tr>\n  </tbody>\n</table>\n</div>",
            "text/plain": "         one     two\ndancy    NaN  4444.0\nball   200.0   222.0\napple  100.0   111.0"
          },
          "metadata": {}
        }
      ]
    },
    {
      "metadata": {
        "trusted": true
      },
      "cell_type": "code",
      "source": "# as column is not present it will display the column with Nan's\npd.DataFrame(d, index=['dancy','ball','apple'], columns=['two','five'])",
      "execution_count": 30,
      "outputs": [
        {
          "output_type": "execute_result",
          "execution_count": 30,
          "data": {
            "text/html": "<div>\n<style scoped>\n    .dataframe tbody tr th:only-of-type {\n        vertical-align: middle;\n    }\n\n    .dataframe tbody tr th {\n        vertical-align: top;\n    }\n\n    .dataframe thead th {\n        text-align: right;\n    }\n</style>\n<table border=\"1\" class=\"dataframe\">\n  <thead>\n    <tr style=\"text-align: right;\">\n      <th></th>\n      <th>two</th>\n      <th>five</th>\n    </tr>\n  </thead>\n  <tbody>\n    <tr>\n      <th>dancy</th>\n      <td>4444.0</td>\n      <td>NaN</td>\n    </tr>\n    <tr>\n      <th>ball</th>\n      <td>222.0</td>\n      <td>NaN</td>\n    </tr>\n    <tr>\n      <th>apple</th>\n      <td>111.0</td>\n      <td>NaN</td>\n    </tr>\n  </tbody>\n</table>\n</div>",
            "text/plain": "          two five\ndancy  4444.0  NaN\nball    222.0  NaN\napple   111.0  NaN"
          },
          "metadata": {}
        }
      ]
    },
    {
      "metadata": {
        "trusted": true
      },
      "cell_type": "code",
      "source": "pd.DataFrame(d, index=['dancy','ball','apple'], columns=['four','five'])",
      "execution_count": 31,
      "outputs": [
        {
          "output_type": "execute_result",
          "execution_count": 31,
          "data": {
            "text/html": "<div>\n<style scoped>\n    .dataframe tbody tr th:only-of-type {\n        vertical-align: middle;\n    }\n\n    .dataframe tbody tr th {\n        vertical-align: top;\n    }\n\n    .dataframe thead th {\n        text-align: right;\n    }\n</style>\n<table border=\"1\" class=\"dataframe\">\n  <thead>\n    <tr style=\"text-align: right;\">\n      <th></th>\n      <th>four</th>\n      <th>five</th>\n    </tr>\n  </thead>\n  <tbody>\n    <tr>\n      <th>dancy</th>\n      <td>NaN</td>\n      <td>NaN</td>\n    </tr>\n    <tr>\n      <th>ball</th>\n      <td>NaN</td>\n      <td>NaN</td>\n    </tr>\n    <tr>\n      <th>apple</th>\n      <td>NaN</td>\n      <td>NaN</td>\n    </tr>\n  </tbody>\n</table>\n</div>",
            "text/plain": "      four five\ndancy  NaN  NaN\nball   NaN  NaN\napple  NaN  NaN"
          },
          "metadata": {}
        }
      ]
    },
    {
      "metadata": {},
      "cell_type": "markdown",
      "source": "<font color=\"blue\">\n<h3>Create DataFrame from list of Python dictionaries</h3></font>"
    },
    {
      "metadata": {
        "trusted": true
      },
      "cell_type": "code",
      "source": "#keys will become columns \ndata = [{'alex':1,'joe':2},{'ema':5,'dora':10,'alice':20},{'pica':5,'dum':10}]",
      "execution_count": 34,
      "outputs": []
    },
    {
      "metadata": {
        "trusted": true
      },
      "cell_type": "code",
      "source": "#default indexing o and 1 as we didn't give any values\npd.DataFrame(data)",
      "execution_count": 35,
      "outputs": [
        {
          "output_type": "execute_result",
          "execution_count": 35,
          "data": {
            "text/html": "<div>\n<style scoped>\n    .dataframe tbody tr th:only-of-type {\n        vertical-align: middle;\n    }\n\n    .dataframe tbody tr th {\n        vertical-align: top;\n    }\n\n    .dataframe thead th {\n        text-align: right;\n    }\n</style>\n<table border=\"1\" class=\"dataframe\">\n  <thead>\n    <tr style=\"text-align: right;\">\n      <th></th>\n      <th>alex</th>\n      <th>alice</th>\n      <th>dora</th>\n      <th>dum</th>\n      <th>ema</th>\n      <th>joe</th>\n      <th>pica</th>\n    </tr>\n  </thead>\n  <tbody>\n    <tr>\n      <th>0</th>\n      <td>1.0</td>\n      <td>NaN</td>\n      <td>NaN</td>\n      <td>NaN</td>\n      <td>NaN</td>\n      <td>2.0</td>\n      <td>NaN</td>\n    </tr>\n    <tr>\n      <th>1</th>\n      <td>NaN</td>\n      <td>20.0</td>\n      <td>10.0</td>\n      <td>NaN</td>\n      <td>5.0</td>\n      <td>NaN</td>\n      <td>NaN</td>\n    </tr>\n    <tr>\n      <th>2</th>\n      <td>NaN</td>\n      <td>NaN</td>\n      <td>NaN</td>\n      <td>10.0</td>\n      <td>NaN</td>\n      <td>NaN</td>\n      <td>5.0</td>\n    </tr>\n  </tbody>\n</table>\n</div>",
            "text/plain": "   alex  alice  dora   dum  ema  joe  pica\n0   1.0    NaN   NaN   NaN  NaN  2.0   NaN\n1   NaN   20.0  10.0   NaN  5.0  NaN   NaN\n2   NaN    NaN   NaN  10.0  NaN  NaN   5.0"
          },
          "metadata": {}
        }
      ]
    },
    {
      "metadata": {
        "trusted": true
      },
      "cell_type": "code",
      "source": "pd.DataFrame(data, index=['orange','red','blue'])",
      "execution_count": 37,
      "outputs": [
        {
          "output_type": "execute_result",
          "execution_count": 37,
          "data": {
            "text/html": "<div>\n<style scoped>\n    .dataframe tbody tr th:only-of-type {\n        vertical-align: middle;\n    }\n\n    .dataframe tbody tr th {\n        vertical-align: top;\n    }\n\n    .dataframe thead th {\n        text-align: right;\n    }\n</style>\n<table border=\"1\" class=\"dataframe\">\n  <thead>\n    <tr style=\"text-align: right;\">\n      <th></th>\n      <th>alex</th>\n      <th>alice</th>\n      <th>dora</th>\n      <th>dum</th>\n      <th>ema</th>\n      <th>joe</th>\n      <th>pica</th>\n    </tr>\n  </thead>\n  <tbody>\n    <tr>\n      <th>orange</th>\n      <td>1.0</td>\n      <td>NaN</td>\n      <td>NaN</td>\n      <td>NaN</td>\n      <td>NaN</td>\n      <td>2.0</td>\n      <td>NaN</td>\n    </tr>\n    <tr>\n      <th>red</th>\n      <td>NaN</td>\n      <td>20.0</td>\n      <td>10.0</td>\n      <td>NaN</td>\n      <td>5.0</td>\n      <td>NaN</td>\n      <td>NaN</td>\n    </tr>\n    <tr>\n      <th>blue</th>\n      <td>NaN</td>\n      <td>NaN</td>\n      <td>NaN</td>\n      <td>10.0</td>\n      <td>NaN</td>\n      <td>NaN</td>\n      <td>5.0</td>\n    </tr>\n  </tbody>\n</table>\n</div>",
            "text/plain": "        alex  alice  dora   dum  ema  joe  pica\norange   1.0    NaN   NaN   NaN  NaN  2.0   NaN\nred      NaN   20.0  10.0   NaN  5.0  NaN   NaN\nblue     NaN    NaN   NaN  10.0  NaN  NaN   5.0"
          },
          "metadata": {}
        }
      ]
    },
    {
      "metadata": {
        "trusted": true
      },
      "cell_type": "code",
      "source": "df = pd.DataFrame(data, columns=['joe','dora','alice'])\ndf",
      "execution_count": 40,
      "outputs": [
        {
          "output_type": "execute_result",
          "execution_count": 40,
          "data": {
            "text/html": "<div>\n<style scoped>\n    .dataframe tbody tr th:only-of-type {\n        vertical-align: middle;\n    }\n\n    .dataframe tbody tr th {\n        vertical-align: top;\n    }\n\n    .dataframe thead th {\n        text-align: right;\n    }\n</style>\n<table border=\"1\" class=\"dataframe\">\n  <thead>\n    <tr style=\"text-align: right;\">\n      <th></th>\n      <th>joe</th>\n      <th>dora</th>\n      <th>alice</th>\n    </tr>\n  </thead>\n  <tbody>\n    <tr>\n      <th>0</th>\n      <td>2.0</td>\n      <td>NaN</td>\n      <td>NaN</td>\n    </tr>\n    <tr>\n      <th>1</th>\n      <td>NaN</td>\n      <td>10.0</td>\n      <td>20.0</td>\n    </tr>\n    <tr>\n      <th>2</th>\n      <td>NaN</td>\n      <td>NaN</td>\n      <td>NaN</td>\n    </tr>\n  </tbody>\n</table>\n</div>",
            "text/plain": "   joe  dora  alice\n0  2.0   NaN    NaN\n1  NaN  10.0   20.0\n2  NaN   NaN    NaN"
          },
          "metadata": {}
        }
      ]
    },
    {
      "metadata": {},
      "cell_type": "markdown",
      "source": "<font color=\"blue\">\n<h3>Basic DataFrame operations</h3></font>"
    },
    {
      "metadata": {
        "trusted": true
      },
      "cell_type": "code",
      "source": "df",
      "execution_count": 43,
      "outputs": [
        {
          "output_type": "execute_result",
          "execution_count": 43,
          "data": {
            "text/html": "<div>\n<style scoped>\n    .dataframe tbody tr th:only-of-type {\n        vertical-align: middle;\n    }\n\n    .dataframe tbody tr th {\n        vertical-align: top;\n    }\n\n    .dataframe thead th {\n        text-align: right;\n    }\n</style>\n<table border=\"1\" class=\"dataframe\">\n  <thead>\n    <tr style=\"text-align: right;\">\n      <th></th>\n      <th>one</th>\n      <th>two</th>\n    </tr>\n  </thead>\n  <tbody>\n    <tr>\n      <th>apple</th>\n      <td>100.0</td>\n      <td>111.0</td>\n    </tr>\n    <tr>\n      <th>ball</th>\n      <td>200.0</td>\n      <td>222.0</td>\n    </tr>\n    <tr>\n      <th>cerill</th>\n      <td>NaN</td>\n      <td>333.0</td>\n    </tr>\n    <tr>\n      <th>clock</th>\n      <td>300.0</td>\n      <td>NaN</td>\n    </tr>\n    <tr>\n      <th>dancy</th>\n      <td>NaN</td>\n      <td>4444.0</td>\n    </tr>\n  </tbody>\n</table>\n</div>",
            "text/plain": "          one     two\napple   100.0   111.0\nball    200.0   222.0\ncerill    NaN   333.0\nclock   300.0     NaN\ndancy     NaN  4444.0"
          },
          "metadata": {}
        }
      ]
    },
    {
      "metadata": {
        "trusted": true
      },
      "cell_type": "code",
      "source": "#single column extraction\n#this is similar to series\ndf['one']",
      "execution_count": 44,
      "outputs": [
        {
          "output_type": "execute_result",
          "execution_count": 44,
          "data": {
            "text/plain": "apple     100.0\nball      200.0\ncerill      NaN\nclock     300.0\ndancy       NaN\nName: one, dtype: float64"
          },
          "metadata": {}
        }
      ]
    },
    {
      "metadata": {
        "trusted": true
      },
      "cell_type": "code",
      "source": "df['three']= df['one'] + df['two']\ndf",
      "execution_count": 46,
      "outputs": [
        {
          "output_type": "execute_result",
          "execution_count": 46,
          "data": {
            "text/html": "<div>\n<style scoped>\n    .dataframe tbody tr th:only-of-type {\n        vertical-align: middle;\n    }\n\n    .dataframe tbody tr th {\n        vertical-align: top;\n    }\n\n    .dataframe thead th {\n        text-align: right;\n    }\n</style>\n<table border=\"1\" class=\"dataframe\">\n  <thead>\n    <tr style=\"text-align: right;\">\n      <th></th>\n      <th>one</th>\n      <th>two</th>\n      <th>three</th>\n    </tr>\n  </thead>\n  <tbody>\n    <tr>\n      <th>apple</th>\n      <td>100.0</td>\n      <td>111.0</td>\n      <td>211.0</td>\n    </tr>\n    <tr>\n      <th>ball</th>\n      <td>200.0</td>\n      <td>222.0</td>\n      <td>422.0</td>\n    </tr>\n    <tr>\n      <th>cerill</th>\n      <td>NaN</td>\n      <td>333.0</td>\n      <td>NaN</td>\n    </tr>\n    <tr>\n      <th>clock</th>\n      <td>300.0</td>\n      <td>NaN</td>\n      <td>NaN</td>\n    </tr>\n    <tr>\n      <th>dancy</th>\n      <td>NaN</td>\n      <td>4444.0</td>\n      <td>NaN</td>\n    </tr>\n  </tbody>\n</table>\n</div>",
            "text/plain": "          one     two  three\napple   100.0   111.0  211.0\nball    200.0   222.0  422.0\ncerill    NaN   333.0    NaN\nclock   300.0     NaN    NaN\ndancy     NaN  4444.0    NaN"
          },
          "metadata": {}
        }
      ]
    },
    {
      "metadata": {
        "trusted": true
      },
      "cell_type": "code",
      "source": "df['flag']=df['one']>250\ndf",
      "execution_count": 50,
      "outputs": [
        {
          "output_type": "execute_result",
          "execution_count": 50,
          "data": {
            "text/html": "<div>\n<style scoped>\n    .dataframe tbody tr th:only-of-type {\n        vertical-align: middle;\n    }\n\n    .dataframe tbody tr th {\n        vertical-align: top;\n    }\n\n    .dataframe thead th {\n        text-align: right;\n    }\n</style>\n<table border=\"1\" class=\"dataframe\">\n  <thead>\n    <tr style=\"text-align: right;\">\n      <th></th>\n      <th>one</th>\n      <th>two</th>\n      <th>three</th>\n      <th>flag</th>\n    </tr>\n  </thead>\n  <tbody>\n    <tr>\n      <th>apple</th>\n      <td>100.0</td>\n      <td>111.0</td>\n      <td>211.0</td>\n      <td>False</td>\n    </tr>\n    <tr>\n      <th>ball</th>\n      <td>200.0</td>\n      <td>222.0</td>\n      <td>422.0</td>\n      <td>False</td>\n    </tr>\n    <tr>\n      <th>cerill</th>\n      <td>NaN</td>\n      <td>333.0</td>\n      <td>NaN</td>\n      <td>False</td>\n    </tr>\n    <tr>\n      <th>clock</th>\n      <td>300.0</td>\n      <td>NaN</td>\n      <td>NaN</td>\n      <td>True</td>\n    </tr>\n    <tr>\n      <th>dancy</th>\n      <td>NaN</td>\n      <td>4444.0</td>\n      <td>NaN</td>\n      <td>False</td>\n    </tr>\n  </tbody>\n</table>\n</div>",
            "text/plain": "          one     two  three   flag\napple   100.0   111.0  211.0  False\nball    200.0   222.0  422.0  False\ncerill    NaN   333.0    NaN  False\nclock   300.0     NaN    NaN   True\ndancy     NaN  4444.0    NaN  False"
          },
          "metadata": {}
        }
      ]
    },
    {
      "metadata": {
        "trusted": true
      },
      "cell_type": "code",
      "source": "three = df.pop('three')",
      "execution_count": 51,
      "outputs": []
    },
    {
      "metadata": {
        "trusted": true
      },
      "cell_type": "code",
      "source": "three",
      "execution_count": 52,
      "outputs": [
        {
          "output_type": "execute_result",
          "execution_count": 52,
          "data": {
            "text/plain": "apple     211.0\nball      422.0\ncerill      NaN\nclock       NaN\ndancy       NaN\nName: three, dtype: float64"
          },
          "metadata": {}
        }
      ]
    },
    {
      "metadata": {
        "trusted": true
      },
      "cell_type": "code",
      "source": "df",
      "execution_count": 53,
      "outputs": [
        {
          "output_type": "execute_result",
          "execution_count": 53,
          "data": {
            "text/html": "<div>\n<style scoped>\n    .dataframe tbody tr th:only-of-type {\n        vertical-align: middle;\n    }\n\n    .dataframe tbody tr th {\n        vertical-align: top;\n    }\n\n    .dataframe thead th {\n        text-align: right;\n    }\n</style>\n<table border=\"1\" class=\"dataframe\">\n  <thead>\n    <tr style=\"text-align: right;\">\n      <th></th>\n      <th>one</th>\n      <th>two</th>\n      <th>flag</th>\n    </tr>\n  </thead>\n  <tbody>\n    <tr>\n      <th>apple</th>\n      <td>100.0</td>\n      <td>111.0</td>\n      <td>False</td>\n    </tr>\n    <tr>\n      <th>ball</th>\n      <td>200.0</td>\n      <td>222.0</td>\n      <td>False</td>\n    </tr>\n    <tr>\n      <th>cerill</th>\n      <td>NaN</td>\n      <td>333.0</td>\n      <td>False</td>\n    </tr>\n    <tr>\n      <th>clock</th>\n      <td>300.0</td>\n      <td>NaN</td>\n      <td>True</td>\n    </tr>\n    <tr>\n      <th>dancy</th>\n      <td>NaN</td>\n      <td>4444.0</td>\n      <td>False</td>\n    </tr>\n  </tbody>\n</table>\n</div>",
            "text/plain": "          one     two   flag\napple   100.0   111.0  False\nball    200.0   222.0  False\ncerill    NaN   333.0  False\nclock   300.0     NaN   True\ndancy     NaN  4444.0  False"
          },
          "metadata": {}
        }
      ]
    },
    {
      "metadata": {
        "trusted": true
      },
      "cell_type": "code",
      "source": "del df['flag']",
      "execution_count": 54,
      "outputs": []
    },
    {
      "metadata": {
        "trusted": true
      },
      "cell_type": "code",
      "source": "df",
      "execution_count": 55,
      "outputs": [
        {
          "output_type": "execute_result",
          "execution_count": 55,
          "data": {
            "text/html": "<div>\n<style scoped>\n    .dataframe tbody tr th:only-of-type {\n        vertical-align: middle;\n    }\n\n    .dataframe tbody tr th {\n        vertical-align: top;\n    }\n\n    .dataframe thead th {\n        text-align: right;\n    }\n</style>\n<table border=\"1\" class=\"dataframe\">\n  <thead>\n    <tr style=\"text-align: right;\">\n      <th></th>\n      <th>one</th>\n      <th>two</th>\n    </tr>\n  </thead>\n  <tbody>\n    <tr>\n      <th>apple</th>\n      <td>100.0</td>\n      <td>111.0</td>\n    </tr>\n    <tr>\n      <th>ball</th>\n      <td>200.0</td>\n      <td>222.0</td>\n    </tr>\n    <tr>\n      <th>cerill</th>\n      <td>NaN</td>\n      <td>333.0</td>\n    </tr>\n    <tr>\n      <th>clock</th>\n      <td>300.0</td>\n      <td>NaN</td>\n    </tr>\n    <tr>\n      <th>dancy</th>\n      <td>NaN</td>\n      <td>4444.0</td>\n    </tr>\n  </tbody>\n</table>\n</div>",
            "text/plain": "          one     two\napple   100.0   111.0\nball    200.0   222.0\ncerill    NaN   333.0\nclock   300.0     NaN\ndancy     NaN  4444.0"
          },
          "metadata": {}
        }
      ]
    },
    {
      "metadata": {
        "trusted": true
      },
      "cell_type": "code",
      "source": "df.insert(1,'new_col1',pd.Series([10,40,30], index=['apple','ball','cerill']))\ndf",
      "execution_count": 57,
      "outputs": [
        {
          "output_type": "execute_result",
          "execution_count": 57,
          "data": {
            "text/html": "<div>\n<style scoped>\n    .dataframe tbody tr th:only-of-type {\n        vertical-align: middle;\n    }\n\n    .dataframe tbody tr th {\n        vertical-align: top;\n    }\n\n    .dataframe thead th {\n        text-align: right;\n    }\n</style>\n<table border=\"1\" class=\"dataframe\">\n  <thead>\n    <tr style=\"text-align: right;\">\n      <th></th>\n      <th>one</th>\n      <th>new_col1</th>\n      <th>mew_col1</th>\n      <th>two</th>\n    </tr>\n  </thead>\n  <tbody>\n    <tr>\n      <th>apple</th>\n      <td>100.0</td>\n      <td>10.0</td>\n      <td>10.0</td>\n      <td>111.0</td>\n    </tr>\n    <tr>\n      <th>ball</th>\n      <td>200.0</td>\n      <td>40.0</td>\n      <td>40.0</td>\n      <td>222.0</td>\n    </tr>\n    <tr>\n      <th>cerill</th>\n      <td>NaN</td>\n      <td>30.0</td>\n      <td>30.0</td>\n      <td>333.0</td>\n    </tr>\n    <tr>\n      <th>clock</th>\n      <td>300.0</td>\n      <td>NaN</td>\n      <td>NaN</td>\n      <td>NaN</td>\n    </tr>\n    <tr>\n      <th>dancy</th>\n      <td>NaN</td>\n      <td>NaN</td>\n      <td>NaN</td>\n      <td>4444.0</td>\n    </tr>\n  </tbody>\n</table>\n</div>",
            "text/plain": "          one  new_col1  mew_col1     two\napple   100.0      10.0      10.0   111.0\nball    200.0      40.0      40.0   222.0\ncerill    NaN      30.0      30.0   333.0\nclock   300.0       NaN       NaN     NaN\ndancy     NaN       NaN       NaN  4444.0"
          },
          "metadata": {}
        }
      ]
    },
    {
      "metadata": {
        "trusted": true
      },
      "cell_type": "code",
      "source": "df['one_upper_half'] = df['one'][:2]\ndf",
      "execution_count": 59,
      "outputs": [
        {
          "output_type": "execute_result",
          "execution_count": 59,
          "data": {
            "text/html": "<div>\n<style scoped>\n    .dataframe tbody tr th:only-of-type {\n        vertical-align: middle;\n    }\n\n    .dataframe tbody tr th {\n        vertical-align: top;\n    }\n\n    .dataframe thead th {\n        text-align: right;\n    }\n</style>\n<table border=\"1\" class=\"dataframe\">\n  <thead>\n    <tr style=\"text-align: right;\">\n      <th></th>\n      <th>one</th>\n      <th>new_col1</th>\n      <th>mew_col1</th>\n      <th>two</th>\n      <th>one_upper_half</th>\n    </tr>\n  </thead>\n  <tbody>\n    <tr>\n      <th>apple</th>\n      <td>100.0</td>\n      <td>10.0</td>\n      <td>10.0</td>\n      <td>111.0</td>\n      <td>100.0</td>\n    </tr>\n    <tr>\n      <th>ball</th>\n      <td>200.0</td>\n      <td>40.0</td>\n      <td>40.0</td>\n      <td>222.0</td>\n      <td>200.0</td>\n    </tr>\n    <tr>\n      <th>cerill</th>\n      <td>NaN</td>\n      <td>30.0</td>\n      <td>30.0</td>\n      <td>333.0</td>\n      <td>NaN</td>\n    </tr>\n    <tr>\n      <th>clock</th>\n      <td>300.0</td>\n      <td>NaN</td>\n      <td>NaN</td>\n      <td>NaN</td>\n      <td>NaN</td>\n    </tr>\n    <tr>\n      <th>dancy</th>\n      <td>NaN</td>\n      <td>NaN</td>\n      <td>NaN</td>\n      <td>4444.0</td>\n      <td>NaN</td>\n    </tr>\n  </tbody>\n</table>\n</div>",
            "text/plain": "          one  new_col1  mew_col1     two  one_upper_half\napple   100.0      10.0      10.0   111.0           100.0\nball    200.0      40.0      40.0   222.0           200.0\ncerill    NaN      30.0      30.0   333.0             NaN\nclock   300.0       NaN       NaN     NaN             NaN\ndancy     NaN       NaN       NaN  4444.0             NaN"
          },
          "metadata": {}
        }
      ]
    },
    {
      "metadata": {
        "trusted": true
      },
      "cell_type": "code",
      "source": "#dropna command drop the rows with NA's\ndf.dropna()",
      "execution_count": 13,
      "outputs": [
        {
          "output_type": "execute_result",
          "execution_count": 13,
          "data": {
            "text/html": "<div>\n<style scoped>\n    .dataframe tbody tr th:only-of-type {\n        vertical-align: middle;\n    }\n\n    .dataframe tbody tr th {\n        vertical-align: top;\n    }\n\n    .dataframe thead th {\n        text-align: right;\n    }\n</style>\n<table border=\"1\" class=\"dataframe\">\n  <thead>\n    <tr style=\"text-align: right;\">\n      <th></th>\n      <th>one</th>\n      <th>two</th>\n    </tr>\n  </thead>\n  <tbody>\n    <tr>\n      <th>apple</th>\n      <td>100.0</td>\n      <td>111.0</td>\n    </tr>\n    <tr>\n      <th>ball</th>\n      <td>200.0</td>\n      <td>222.0</td>\n    </tr>\n  </tbody>\n</table>\n</div>",
            "text/plain": "         one    two\napple  100.0  111.0\nball   200.0  222.0"
          },
          "metadata": {}
        }
      ]
    },
    {
      "metadata": {
        "trusted": true
      },
      "cell_type": "code",
      "source": "df",
      "execution_count": 14,
      "outputs": [
        {
          "output_type": "execute_result",
          "execution_count": 14,
          "data": {
            "text/html": "<div>\n<style scoped>\n    .dataframe tbody tr th:only-of-type {\n        vertical-align: middle;\n    }\n\n    .dataframe tbody tr th {\n        vertical-align: top;\n    }\n\n    .dataframe thead th {\n        text-align: right;\n    }\n</style>\n<table border=\"1\" class=\"dataframe\">\n  <thead>\n    <tr style=\"text-align: right;\">\n      <th></th>\n      <th>one</th>\n      <th>two</th>\n    </tr>\n  </thead>\n  <tbody>\n    <tr>\n      <th>apple</th>\n      <td>100.0</td>\n      <td>111.0</td>\n    </tr>\n    <tr>\n      <th>ball</th>\n      <td>200.0</td>\n      <td>222.0</td>\n    </tr>\n    <tr>\n      <th>cerill</th>\n      <td>NaN</td>\n      <td>333.0</td>\n    </tr>\n    <tr>\n      <th>clock</th>\n      <td>300.0</td>\n      <td>NaN</td>\n    </tr>\n    <tr>\n      <th>dancy</th>\n      <td>NaN</td>\n      <td>4444.0</td>\n    </tr>\n  </tbody>\n</table>\n</div>",
            "text/plain": "          one     two\napple   100.0   111.0\nball    200.0   222.0\ncerill    NaN   333.0\nclock   300.0     NaN\ndancy     NaN  4444.0"
          },
          "metadata": {}
        }
      ]
    },
    {
      "metadata": {
        "trusted": true
      },
      "cell_type": "code",
      "source": "#will replace main data frame value\ndf.dropna(inplace=True)",
      "execution_count": 16,
      "outputs": []
    },
    {
      "metadata": {
        "trusted": true
      },
      "cell_type": "code",
      "source": "df",
      "execution_count": 17,
      "outputs": [
        {
          "output_type": "execute_result",
          "execution_count": 17,
          "data": {
            "text/html": "<div>\n<style scoped>\n    .dataframe tbody tr th:only-of-type {\n        vertical-align: middle;\n    }\n\n    .dataframe tbody tr th {\n        vertical-align: top;\n    }\n\n    .dataframe thead th {\n        text-align: right;\n    }\n</style>\n<table border=\"1\" class=\"dataframe\">\n  <thead>\n    <tr style=\"text-align: right;\">\n      <th></th>\n      <th>one</th>\n      <th>two</th>\n    </tr>\n  </thead>\n  <tbody>\n    <tr>\n      <th>apple</th>\n      <td>100.0</td>\n      <td>111.0</td>\n    </tr>\n    <tr>\n      <th>ball</th>\n      <td>200.0</td>\n      <td>222.0</td>\n    </tr>\n  </tbody>\n</table>\n</div>",
            "text/plain": "         one    two\napple  100.0  111.0\nball   200.0  222.0"
          },
          "metadata": {}
        }
      ]
    },
    {
      "metadata": {
        "trusted": true
      },
      "cell_type": "code",
      "source": "df.fillna(500,inplace=False)",
      "execution_count": 20,
      "outputs": [
        {
          "output_type": "execute_result",
          "execution_count": 20,
          "data": {
            "text/html": "<div>\n<style scoped>\n    .dataframe tbody tr th:only-of-type {\n        vertical-align: middle;\n    }\n\n    .dataframe tbody tr th {\n        vertical-align: top;\n    }\n\n    .dataframe thead th {\n        text-align: right;\n    }\n</style>\n<table border=\"1\" class=\"dataframe\">\n  <thead>\n    <tr style=\"text-align: right;\">\n      <th></th>\n      <th>one</th>\n      <th>two</th>\n    </tr>\n  </thead>\n  <tbody>\n    <tr>\n      <th>apple</th>\n      <td>100.0</td>\n      <td>111.0</td>\n    </tr>\n    <tr>\n      <th>ball</th>\n      <td>200.0</td>\n      <td>222.0</td>\n    </tr>\n    <tr>\n      <th>cerill</th>\n      <td>500.0</td>\n      <td>333.0</td>\n    </tr>\n    <tr>\n      <th>clock</th>\n      <td>300.0</td>\n      <td>500.0</td>\n    </tr>\n    <tr>\n      <th>dancy</th>\n      <td>500.0</td>\n      <td>4444.0</td>\n    </tr>\n  </tbody>\n</table>\n</div>",
            "text/plain": "          one     two\napple   100.0   111.0\nball    200.0   222.0\ncerill  500.0   333.0\nclock   300.0   500.0\ndancy   500.0  4444.0"
          },
          "metadata": {}
        }
      ]
    },
    {
      "metadata": {
        "trusted": true
      },
      "cell_type": "code",
      "source": "df.fillna(df['one'].mean(),inplace=False)",
      "execution_count": 21,
      "outputs": [
        {
          "output_type": "execute_result",
          "execution_count": 21,
          "data": {
            "text/html": "<div>\n<style scoped>\n    .dataframe tbody tr th:only-of-type {\n        vertical-align: middle;\n    }\n\n    .dataframe tbody tr th {\n        vertical-align: top;\n    }\n\n    .dataframe thead th {\n        text-align: right;\n    }\n</style>\n<table border=\"1\" class=\"dataframe\">\n  <thead>\n    <tr style=\"text-align: right;\">\n      <th></th>\n      <th>one</th>\n      <th>two</th>\n    </tr>\n  </thead>\n  <tbody>\n    <tr>\n      <th>apple</th>\n      <td>100.0</td>\n      <td>111.0</td>\n    </tr>\n    <tr>\n      <th>ball</th>\n      <td>200.0</td>\n      <td>222.0</td>\n    </tr>\n    <tr>\n      <th>cerill</th>\n      <td>200.0</td>\n      <td>333.0</td>\n    </tr>\n    <tr>\n      <th>clock</th>\n      <td>300.0</td>\n      <td>200.0</td>\n    </tr>\n    <tr>\n      <th>dancy</th>\n      <td>200.0</td>\n      <td>4444.0</td>\n    </tr>\n  </tbody>\n</table>\n</div>",
            "text/plain": "          one     two\napple   100.0   111.0\nball    200.0   222.0\ncerill  200.0   333.0\nclock   300.0   200.0\ndancy   200.0  4444.0"
          },
          "metadata": {}
        }
      ]
    },
    {
      "metadata": {
        "trusted": true
      },
      "cell_type": "code",
      "source": "df.fillna(df.mean(),inplace=False)",
      "execution_count": 22,
      "outputs": [
        {
          "output_type": "execute_result",
          "execution_count": 22,
          "data": {
            "text/html": "<div>\n<style scoped>\n    .dataframe tbody tr th:only-of-type {\n        vertical-align: middle;\n    }\n\n    .dataframe tbody tr th {\n        vertical-align: top;\n    }\n\n    .dataframe thead th {\n        text-align: right;\n    }\n</style>\n<table border=\"1\" class=\"dataframe\">\n  <thead>\n    <tr style=\"text-align: right;\">\n      <th></th>\n      <th>one</th>\n      <th>two</th>\n    </tr>\n  </thead>\n  <tbody>\n    <tr>\n      <th>apple</th>\n      <td>100.0</td>\n      <td>111.0</td>\n    </tr>\n    <tr>\n      <th>ball</th>\n      <td>200.0</td>\n      <td>222.0</td>\n    </tr>\n    <tr>\n      <th>cerill</th>\n      <td>200.0</td>\n      <td>333.0</td>\n    </tr>\n    <tr>\n      <th>clock</th>\n      <td>300.0</td>\n      <td>1277.5</td>\n    </tr>\n    <tr>\n      <th>dancy</th>\n      <td>200.0</td>\n      <td>4444.0</td>\n    </tr>\n  </tbody>\n</table>\n</div>",
            "text/plain": "          one     two\napple   100.0   111.0\nball    200.0   222.0\ncerill  200.0   333.0\nclock   300.0  1277.5\ndancy   200.0  4444.0"
          },
          "metadata": {}
        }
      ]
    },
    {
      "metadata": {
        "trusted": true
      },
      "cell_type": "code",
      "source": "",
      "execution_count": null,
      "outputs": []
    },
    {
      "metadata": {
        "trusted": true
      },
      "cell_type": "code",
      "source": "",
      "execution_count": null,
      "outputs": []
    },
    {
      "metadata": {
        "trusted": true
      },
      "cell_type": "code",
      "source": "",
      "execution_count": null,
      "outputs": []
    }
  ],
  "metadata": {
    "kernelspec": {
      "name": "python36",
      "display_name": "Python 3.6",
      "language": "python"
    },
    "language_info": {
      "mimetype": "text/x-python",
      "nbconvert_exporter": "python",
      "name": "python",
      "pygments_lexer": "ipython3",
      "version": "3.6.6",
      "file_extension": ".py",
      "codemirror_mode": {
        "version": 3,
        "name": "ipython"
      }
    }
  },
  "nbformat": 4,
  "nbformat_minor": 2
}