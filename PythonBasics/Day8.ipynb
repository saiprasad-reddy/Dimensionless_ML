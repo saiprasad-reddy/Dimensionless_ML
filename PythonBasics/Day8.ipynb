{
  "cells": [
    {
      "metadata": {
        "trusted": true
      },
      "cell_type": "code",
      "source": "import numpy as np",
      "execution_count": 2,
      "outputs": []
    },
    {
      "metadata": {
        "collapsed": true
      },
      "cell_type": "markdown",
      "source": "<h3>Integer Indexing</h3>"
    },
    {
      "metadata": {
        "trusted": true
      },
      "cell_type": "code",
      "source": "x = np.array([[1,2,3],[4,5,6],[7,8,9]])\nx",
      "execution_count": 2,
      "outputs": [
        {
          "output_type": "execute_result",
          "execution_count": 2,
          "data": {
            "text/plain": "array([[1, 2, 3],\n       [4, 5, 6],\n       [7, 8, 9]])"
          },
          "metadata": {}
        }
      ]
    },
    {
      "metadata": {
        "trusted": true
      },
      "cell_type": "code",
      "source": "y=x[[0,1,2],[0,1,0]] # selects elements from (0,0)(1,1)(2,0)\ny",
      "execution_count": 3,
      "outputs": [
        {
          "output_type": "execute_result",
          "execution_count": 3,
          "data": {
            "text/plain": "array([1, 5, 7])"
          },
          "metadata": {}
        }
      ]
    },
    {
      "metadata": {
        "trusted": true
      },
      "cell_type": "code",
      "source": "print(y[0])\nprint(y[2])",
      "execution_count": 4,
      "outputs": [
        {
          "output_type": "stream",
          "text": "1\n7\n",
          "name": "stdout"
        }
      ]
    },
    {
      "metadata": {
        "trusted": true
      },
      "cell_type": "code",
      "source": "y[1]=10 #change in y doesn't change in main matrix x\ny",
      "execution_count": 7,
      "outputs": [
        {
          "output_type": "execute_result",
          "execution_count": 7,
          "data": {
            "text/plain": "array([ 1, 10,  7])"
          },
          "metadata": {}
        }
      ]
    },
    {
      "metadata": {
        "trusted": true
      },
      "cell_type": "code",
      "source": "x",
      "execution_count": 8,
      "outputs": [
        {
          "output_type": "execute_result",
          "execution_count": 8,
          "data": {
            "text/plain": "array([[1, 2, 3],\n       [4, 5, 6],\n       [7, 8, 9]])"
          },
          "metadata": {}
        }
      ]
    },
    {
      "metadata": {},
      "cell_type": "markdown",
      "source": "<h4>Exercise: create 3x3 array and retrive corner elements</h4>"
    },
    {
      "metadata": {
        "trusted": true
      },
      "cell_type": "code",
      "source": "y = x[[0,0,2,2],[0,2,0,2]]\ny",
      "execution_count": 5,
      "outputs": [
        {
          "output_type": "execute_result",
          "execution_count": 5,
          "data": {
            "text/plain": "array([1, 3, 7, 9])"
          },
          "metadata": {}
        }
      ]
    },
    {
      "metadata": {
        "trusted": true
      },
      "cell_type": "code",
      "source": "r = [0,0,2,2]\nc = [0,2,0,2]\na = x[r,c]\nprint(a)",
      "execution_count": 6,
      "outputs": [
        {
          "output_type": "stream",
          "text": "[1 3 7 9]\n",
          "name": "stdout"
        }
      ]
    },
    {
      "metadata": {
        "trusted": true
      },
      "cell_type": "code",
      "source": "rows = np.array([[0,0],[2,2]])\nprint(rows)\nprint('*******')\ncols = np.array([[0,2],[0,2]])\nprint(cols)\nprint('*******')\ny = x[rows,cols]\nprint(y)",
      "execution_count": 8,
      "outputs": [
        {
          "output_type": "stream",
          "text": "[[0 0]\n [2 2]]\n*******\n[[0 2]\n [0 2]]\n*******\n[[1 3]\n [7 9]]\n",
          "name": "stdout"
        }
      ]
    },
    {
      "metadata": {},
      "cell_type": "markdown",
      "source": "<h3>Boolean Indexing</h3>"
    },
    {
      "metadata": {
        "trusted": true
      },
      "cell_type": "code",
      "source": "#create a 3x2 array\nan_array = np.array([[11,12],[21,22],[31,32]])\nan_array",
      "execution_count": 10,
      "outputs": [
        {
          "output_type": "execute_result",
          "execution_count": 10,
          "data": {
            "text/plain": "array([[11, 12],\n       [21, 22],\n       [31, 32]])"
          },
          "metadata": {}
        }
      ]
    },
    {
      "metadata": {
        "trusted": true
      },
      "cell_type": "code",
      "source": "#create a filter which will be boolean values for \nfilter1 = an_array<15\nfilter1",
      "execution_count": 11,
      "outputs": [
        {
          "output_type": "execute_result",
          "execution_count": 11,
          "data": {
            "text/plain": "array([[ True,  True],\n       [False, False],\n       [False, False]])"
          },
          "metadata": {}
        }
      ]
    },
    {
      "metadata": {},
      "cell_type": "markdown",
      "source": "<h4>Notice that the filter is a same size ndarray as an_array which is filled \nTruw for each element whose corresponding element is an_array which is greater than 15 and false for \nthose elements whose value is less than 15.</h4>"
    },
    {
      "metadata": {
        "trusted": true
      },
      "cell_type": "code",
      "source": "#we can now select just those elements which meet that criteria\nresult=an_array[filter1]\nresult",
      "execution_count": 13,
      "outputs": [
        {
          "output_type": "execute_result",
          "execution_count": 13,
          "data": {
            "text/plain": "array([11, 12])"
          },
          "metadata": {}
        }
      ]
    },
    {
      "metadata": {
        "trusted": true
      },
      "cell_type": "code",
      "source": "result[0]",
      "execution_count": 14,
      "outputs": [
        {
          "output_type": "execute_result",
          "execution_count": 14,
          "data": {
            "text/plain": "11"
          },
          "metadata": {}
        }
      ]
    },
    {
      "metadata": {
        "trusted": true
      },
      "cell_type": "code",
      "source": "result[0]=100",
      "execution_count": 15,
      "outputs": []
    },
    {
      "metadata": {
        "trusted": true
      },
      "cell_type": "code",
      "source": "result",
      "execution_count": 16,
      "outputs": [
        {
          "output_type": "execute_result",
          "execution_count": 16,
          "data": {
            "text/plain": "array([100,  12])"
          },
          "metadata": {}
        }
      ]
    },
    {
      "metadata": {
        "trusted": true
      },
      "cell_type": "code",
      "source": "an_array",
      "execution_count": 17,
      "outputs": [
        {
          "output_type": "execute_result",
          "execution_count": 17,
          "data": {
            "text/plain": "array([[11, 12],\n       [21, 22],\n       [31, 32]])"
          },
          "metadata": {}
        }
      ]
    },
    {
      "metadata": {
        "trusted": true
      },
      "cell_type": "code",
      "source": "#filter values which are more than 20 and less than 30\nres = (an_array>20)&(an_array<30)\nprint(res)\na_slice=an_array[res]\nprint(a_slice)",
      "execution_count": 18,
      "outputs": [
        {
          "output_type": "stream",
          "text": "[[False False]\n [ True  True]\n [False False]]\n[21 22]\n",
          "name": "stdout"
        }
      ]
    },
    {
      "metadata": {},
      "cell_type": "markdown",
      "source": "<h2>Array Operations</h2>\n<h4>Arithmetic Array Operations</h4>"
    },
    {
      "metadata": {
        "trusted": true
      },
      "cell_type": "code",
      "source": "x = np.array([[1,2],[3,4]], dtype='int64')\ny = np.array([[1.0,2.0],[3.0,4.0]], dtype=np.float64)\nprint(x)\nprint()\nprint(y)",
      "execution_count": 19,
      "outputs": [
        {
          "output_type": "stream",
          "text": "[[1 2]\n [3 4]]\n\n[[1. 2.]\n [3. 4.]]\n",
          "name": "stdout"
        }
      ]
    },
    {
      "metadata": {
        "trusted": true
      },
      "cell_type": "code",
      "source": "print('Addition : ')\nprint(x+y)\nprint('Subtraction : ')\nprint(x-y)\nprint('Multiplication : ')\nprint(x*y)\nprint('Division : ')\nprint(x/y)",
      "execution_count": 20,
      "outputs": [
        {
          "output_type": "stream",
          "text": "Addition : \n[[2. 4.]\n [6. 8.]]\nSubtraction : \n[[0. 0.]\n [0. 0.]]\nMultiplication : \n[[ 1.  4.]\n [ 9. 16.]]\nDivision : \n[[1. 1.]\n [1. 1.]]\n",
          "name": "stdout"
        }
      ]
    },
    {
      "metadata": {
        "trusted": true
      },
      "cell_type": "code",
      "source": "print(np.add(x,y))           # vectorized methods \nprint(np.subtract(x,y))\nprint(np.multiply(x,y))\nprint(np.divide(x,y))",
      "execution_count": 21,
      "outputs": [
        {
          "output_type": "stream",
          "text": "[[2. 4.]\n [6. 8.]]\n[[0. 0.]\n [0. 0.]]\n[[ 1.  4.]\n [ 9. 16.]]\n[[1. 1.]\n [1. 1.]]\n",
          "name": "stdout"
        }
      ]
    },
    {
      "metadata": {},
      "cell_type": "markdown",
      "source": "<h2>Element-Wise Functions</h2>"
    },
    {
      "metadata": {
        "trusted": true
      },
      "cell_type": "code",
      "source": "# random array\nnp.random.seed(1)\nx = np.random.randint(1,8,5)\nx",
      "execution_count": 23,
      "outputs": [
        {
          "output_type": "execute_result",
          "execution_count": 23,
          "data": {
            "text/plain": "array([6, 4, 5, 1, 2])"
          },
          "metadata": {}
        }
      ]
    },
    {
      "metadata": {
        "trusted": true
      },
      "cell_type": "code",
      "source": "# another random array\nnp.random.seed(2)\ny = np.random.randint(1,8,5)\ny",
      "execution_count": 24,
      "outputs": [
        {
          "output_type": "execute_result",
          "execution_count": 24,
          "data": {
            "text/plain": "array([1, 6, 1, 7, 4])"
          },
          "metadata": {}
        }
      ]
    },
    {
      "metadata": {
        "trusted": true
      },
      "cell_type": "code",
      "source": "# returns element wise maximum between two arrays\nprint(np.maximum(x,y))\n# returns element wise minimum between two arrays\nprint(np.minimum(x,y))\n# returns boolean values as a result of equality operation.\nprint(np.equal(x,y))",
      "execution_count": 25,
      "outputs": [
        {
          "output_type": "stream",
          "text": "[6 6 5 7 4]\n[1 4 1 1 2]\n[False False False False False]\n",
          "name": "stdout"
        }
      ]
    },
    {
      "metadata": {},
      "cell_type": "markdown",
      "source": "<h2>Statistical Methods</h2>\n<h3>Basic Statistical Operations</h3>"
    },
    {
      "metadata": {
        "trusted": true
      },
      "cell_type": "code",
      "source": "np.random.seed(10)\n# setup a random 2 x 5 matrix\narr = np.random.randint(1,10,(2,5))\nprint(arr)\n#dir(np.random)\narr.shape",
      "execution_count": 27,
      "outputs": [
        {
          "output_type": "stream",
          "text": "[[5 1 2 1 2]\n [9 1 9 7 5]]\n",
          "name": "stdout"
        },
        {
          "output_type": "execute_result",
          "execution_count": 27,
          "data": {
            "text/plain": "(2, 5)"
          },
          "metadata": {}
        }
      ]
    },
    {
      "metadata": {
        "trusted": true
      },
      "cell_type": "code",
      "source": "#compute the mean for all elements\nprint(arr.mean())",
      "execution_count": 28,
      "outputs": [
        {
          "output_type": "stream",
          "text": "4.2\n",
          "name": "stdout"
        }
      ]
    },
    {
      "metadata": {
        "trusted": true
      },
      "cell_type": "code",
      "source": "#compute the means by row\nprint(arr.mean(axis=1))",
      "execution_count": 29,
      "outputs": [
        {
          "output_type": "stream",
          "text": "[2.2 6.2]\n",
          "name": "stdout"
        }
      ]
    },
    {
      "metadata": {
        "trusted": true
      },
      "cell_type": "code",
      "source": "#compute the means by column\nprint(arr.mean(axis=0))",
      "execution_count": 30,
      "outputs": [
        {
          "output_type": "stream",
          "text": "[7.  1.  5.5 4.  3.5]\n",
          "name": "stdout"
        }
      ]
    },
    {
      "metadata": {
        "trusted": true
      },
      "cell_type": "code",
      "source": "# sum all the elements\nprint(arr.sum())   # sum of all elements\nprint('columns sum is : ', arr.sum(axis=0))    # colsum\nprint('row sum is : ', arr.sum(axis=1))    # row sum",
      "execution_count": 31,
      "outputs": [
        {
          "output_type": "stream",
          "text": "42\ncolumns sum is :  [14  2 11  8  7]\nrow sum is :  [11 31]\n",
          "name": "stdout"
        }
      ]
    },
    {
      "metadata": {},
      "cell_type": "markdown",
      "source": "<h2>Finding Unique elements</h2>"
    },
    {
      "metadata": {
        "trusted": true
      },
      "cell_type": "code",
      "source": "array =np.array([1,2,1,4,2,1,4,2])\nprint(np.unique(array))",
      "execution_count": 3,
      "outputs": [
        {
          "output_type": "stream",
          "text": "[1 2 4]\n",
          "name": "stdout"
        }
      ]
    },
    {
      "metadata": {},
      "cell_type": "markdown",
      "source": "<h2>Broadcasting</h2>"
    },
    {
      "metadata": {
        "trusted": true
      },
      "cell_type": "code",
      "source": "a1 = np.array([[1,2,3],[4,5,6]])\nprint('shape of a1 : ',a1.shape)\nprint('dimension of a1 : ', a1.ndim)\nprint('array a1:',a1)",
      "execution_count": 34,
      "outputs": [
        {
          "output_type": "stream",
          "text": "shape of a1 :  (2, 3)\ndimension of a1 :  2\narray a1: [[1 2 3]\n [4 5 6]]\n",
          "name": "stdout"
        }
      ]
    },
    {
      "metadata": {
        "trusted": true
      },
      "cell_type": "code",
      "source": "a2 = np.array([1,2,1])\nprint('shape of a2:',a2.shape)\nprint('dimension of a2:', a2.ndim)\nprint('array a2:', a2)",
      "execution_count": 35,
      "outputs": [
        {
          "output_type": "stream",
          "text": "shape of a2: (3,)\ndimension of a2: 1\narray a2: [1 2 1]\n",
          "name": "stdout"
        }
      ]
    },
    {
      "metadata": {
        "trusted": true
      },
      "cell_type": "code",
      "source": "a3=a1+a2\nprint(a3)",
      "execution_count": 36,
      "outputs": [
        {
          "output_type": "stream",
          "text": "[[2 4 4]\n [5 7 7]]\n",
          "name": "stdout"
        }
      ]
    },
    {
      "metadata": {
        "trusted": true
      },
      "cell_type": "code",
      "source": "start =np.zeros((4,3))\nprint(start)",
      "execution_count": 37,
      "outputs": [
        {
          "output_type": "stream",
          "text": "[[0. 0. 0.]\n [0. 0. 0.]\n [0. 0. 0.]\n [0. 0. 0.]]\n",
          "name": "stdout"
        }
      ]
    },
    {
      "metadata": {
        "trusted": true
      },
      "cell_type": "code",
      "source": "add_cols = np.array([[1],[2],[3],[4]])\nprint(add_cols)\nadd_cols.shape",
      "execution_count": 42,
      "outputs": [
        {
          "output_type": "stream",
          "text": "[[1]\n [2]\n [3]\n [4]]\n",
          "name": "stdout"
        },
        {
          "output_type": "execute_result",
          "execution_count": 42,
          "data": {
            "text/plain": "(4, 1)"
          },
          "metadata": {}
        }
      ]
    },
    {
      "metadata": {
        "trusted": true
      },
      "cell_type": "code",
      "source": "start+add_cols",
      "execution_count": 40,
      "outputs": [
        {
          "output_type": "execute_result",
          "execution_count": 40,
          "data": {
            "text/plain": "array([[1., 1., 1.],\n       [2., 2., 2.],\n       [3., 3., 3.],\n       [4., 4., 4.]])"
          },
          "metadata": {}
        }
      ]
    },
    {
      "metadata": {
        "trusted": true
      },
      "cell_type": "code",
      "source": "#this will just broadcast in both dimnesions\nadd_scalar = np.array([5])\nprint(start+add_scalar)",
      "execution_count": 44,
      "outputs": [
        {
          "output_type": "stream",
          "text": "[[5. 5. 5.]\n [5. 5. 5.]\n [5. 5. 5.]\n [5. 5. 5.]]\n",
          "name": "stdout"
        }
      ]
    },
    {
      "metadata": {
        "trusted": true
      },
      "cell_type": "code",
      "source": "arr = np.ones((3,2))\nprint(arr.shape)\nprint(arr)",
      "execution_count": 45,
      "outputs": [
        {
          "output_type": "stream",
          "text": "(3, 2)\n[[1. 1.]\n [1. 1.]\n [1. 1.]]\n",
          "name": "stdout"
        }
      ]
    },
    {
      "metadata": {
        "trusted": true
      },
      "cell_type": "code",
      "source": "arr2=np.arange(3)\nprint(arr2.shape)\nprint(arr2)",
      "execution_count": 46,
      "outputs": [
        {
          "output_type": "stream",
          "text": "(3,)\n[0 1 2]\n",
          "name": "stdout"
        }
      ]
    },
    {
      "metadata": {
        "trusted": true
      },
      "cell_type": "code",
      "source": "print(arr+arr2)\n#broadcast will not happen as dimenions are not corelating",
      "execution_count": 47,
      "outputs": [
        {
          "output_type": "error",
          "ename": "ValueError",
          "evalue": "operands could not be broadcast together with shapes (3,2) (3,) ",
          "traceback": [
            "\u001b[0;31m---------------------------------------------------------------------------\u001b[0m",
            "\u001b[0;31mValueError\u001b[0m                                Traceback (most recent call last)",
            "\u001b[0;32m<ipython-input-47-ed61b1480d31>\u001b[0m in \u001b[0;36m<module>\u001b[0;34m\u001b[0m\n\u001b[0;32m----> 1\u001b[0;31m \u001b[0mprint\u001b[0m\u001b[0;34m(\u001b[0m\u001b[0marr\u001b[0m\u001b[0;34m+\u001b[0m\u001b[0marr2\u001b[0m\u001b[0;34m)\u001b[0m\u001b[0;34m\u001b[0m\u001b[0m\n\u001b[0m",
            "\u001b[0;31mValueError\u001b[0m: operands could not be broadcast together with shapes (3,2) (3,) "
          ]
        }
      ]
    },
    {
      "metadata": {},
      "cell_type": "markdown",
      "source": "<h2>Reshaping array:</h2>"
    },
    {
      "metadata": {
        "trusted": true
      },
      "cell_type": "code",
      "source": "#grab values from 0 through 19 in an array\narr = np.arange(0,20,2)\nprint(arr)",
      "execution_count": 5,
      "outputs": [
        {
          "output_type": "stream",
          "text": "[ 0  2  4  6  8 10 12 14 16 18]\n",
          "name": "stdout"
        }
      ]
    },
    {
      "metadata": {
        "trusted": true
      },
      "cell_type": "code",
      "source": "#reshape to be a 4x5 matrix\nnew_arr=arr.reshape(4,5)\nnew_arr",
      "execution_count": 50,
      "outputs": [
        {
          "output_type": "execute_result",
          "execution_count": 50,
          "data": {
            "text/plain": "array([[ 0,  1,  2,  3,  4],\n       [ 5,  6,  7,  8,  9],\n       [10, 11, 12, 13, 14],\n       [15, 16, 17, 18, 19]])"
          },
          "metadata": {}
        }
      ]
    },
    {
      "metadata": {
        "trusted": true
      },
      "cell_type": "code",
      "source": "#to convert from nD to 1D\nnew_arr.flatten()",
      "execution_count": 53,
      "outputs": [
        {
          "output_type": "execute_result",
          "execution_count": 53,
          "data": {
            "text/plain": "array([ 0,  1,  2,  3,  4,  5,  6,  7,  8,  9, 10, 11, 12, 13, 14, 15, 16,\n       17, 18, 19])"
          },
          "metadata": {}
        }
      ]
    },
    {
      "metadata": {},
      "cell_type": "markdown",
      "source": "<h2>Indexing using where():</h2>"
    },
    {
      "metadata": {
        "trusted": true
      },
      "cell_type": "code",
      "source": "x_1=np.array([1,2,3,4,5])\ny_1=np.array([11,22,33,44,55])",
      "execution_count": 54,
      "outputs": []
    },
    {
      "metadata": {
        "trusted": true
      },
      "cell_type": "code",
      "source": "#gives output by checking condition if condition true returns value from\n#x_1 if condition is false value comes from y_1\nout=np.where(x_1%2!=0,x_1,y_1)\nout",
      "execution_count": 55,
      "outputs": [
        {
          "output_type": "execute_result",
          "execution_count": 55,
          "data": {
            "text/plain": "array([ 1, 22,  3, 44,  5])"
          },
          "metadata": {}
        }
      ]
    },
    {
      "metadata": {
        "trusted": true
      },
      "cell_type": "code",
      "source": "np.random.seed(1)\nmat = np.random.randint(1,10,25)\nprint(mat.shape)\nprint(mat.reshape(5,5))",
      "execution_count": 63,
      "outputs": [
        {
          "output_type": "stream",
          "text": "(25,)\n[[6 9 6 1 1]\n [2 8 7 3 5]\n [6 3 5 3 5]\n [8 8 2 8 1]\n [7 8 7 2 1]]\n",
          "name": "stdout"
        }
      ]
    },
    {
      "metadata": {
        "trusted": true
      },
      "cell_type": "code",
      "source": "np.where(mat > 5, 1000,-1)",
      "execution_count": 57,
      "outputs": [
        {
          "output_type": "execute_result",
          "execution_count": 57,
          "data": {
            "text/plain": "array([1000, 1000, 1000,   -1,   -1,   -1, 1000, 1000,   -1,   -1, 1000,\n         -1,   -1,   -1,   -1, 1000, 1000,   -1, 1000,   -1, 1000, 1000,\n       1000,   -1,   -1])"
          },
          "metadata": {}
        }
      ]
    },
    {
      "metadata": {},
      "cell_type": "markdown",
      "source": "<h3>\"any\" or \"all\" conditions</h3>"
    },
    {
      "metadata": {
        "trusted": true
      },
      "cell_type": "code",
      "source": "arr_bools = np.array([ True, False, True, True, False ])\nb1 = np.array([ True, True, True, True, True ])\nb2 =  np.array([ False, False, False, False, False ])",
      "execution_count": 64,
      "outputs": []
    },
    {
      "metadata": {
        "trusted": true
      },
      "cell_type": "code",
      "source": "print(arr_bools.any())\nprint(b1.any())\nprint(b2.any())",
      "execution_count": 65,
      "outputs": [
        {
          "output_type": "stream",
          "text": "True\nTrue\nFalse\n",
          "name": "stdout"
        }
      ]
    },
    {
      "metadata": {
        "trusted": true
      },
      "cell_type": "code",
      "source": "print(arr_bools.all())\nprint(b1.all())\nprint(b2.all())",
      "execution_count": 66,
      "outputs": [
        {
          "output_type": "stream",
          "text": "False\nTrue\nFalse\n",
          "name": "stdout"
        }
      ]
    },
    {
      "metadata": {},
      "cell_type": "markdown",
      "source": "<h2>Merging and Spliting data sets</h2>"
    },
    {
      "metadata": {
        "trusted": true
      },
      "cell_type": "code",
      "source": "K = np.random.randint(low=2,high=50,size=(2,2))\nprint(K)\n\nprint()\nM = np.random.randint(low=2,high=50,size=(2,2))\nprint(M)",
      "execution_count": 3,
      "outputs": [
        {
          "output_type": "stream",
          "text": "[[37  2]\n [34 28]]\n\n[[ 9 41]\n [47 23]]\n",
          "name": "stdout"
        }
      ]
    },
    {
      "metadata": {
        "trusted": true
      },
      "cell_type": "code",
      "source": "np.vstack((K,M))",
      "execution_count": 4,
      "outputs": [
        {
          "output_type": "execute_result",
          "execution_count": 4,
          "data": {
            "text/plain": "array([[37,  2],\n       [34, 28],\n       [ 9, 41],\n       [47, 23]])"
          },
          "metadata": {}
        }
      ]
    },
    {
      "metadata": {
        "trusted": true
      },
      "cell_type": "code",
      "source": "np.hstack((K,M))",
      "execution_count": 5,
      "outputs": [
        {
          "output_type": "execute_result",
          "execution_count": 5,
          "data": {
            "text/plain": "array([[37,  2,  9, 41],\n       [34, 28, 47, 23]])"
          },
          "metadata": {}
        }
      ]
    },
    {
      "metadata": {
        "trusted": true
      },
      "cell_type": "code",
      "source": "np.concatenate([K,M],axis=0)",
      "execution_count": 6,
      "outputs": [
        {
          "output_type": "execute_result",
          "execution_count": 6,
          "data": {
            "text/plain": "array([[37,  2],\n       [34, 28],\n       [ 9, 41],\n       [47, 23]])"
          },
          "metadata": {}
        }
      ]
    },
    {
      "metadata": {
        "trusted": true
      },
      "cell_type": "code",
      "source": "np.concatenate([K,M],axis=1)",
      "execution_count": 7,
      "outputs": [
        {
          "output_type": "execute_result",
          "execution_count": 7,
          "data": {
            "text/plain": "array([[37,  2,  9, 41],\n       [34, 28, 47, 23]])"
          },
          "metadata": {}
        }
      ]
    },
    {
      "metadata": {
        "trusted": true
      },
      "cell_type": "code",
      "source": "A=np.random.randint(1,21,size=(4,4))\nA",
      "execution_count": 8,
      "outputs": [
        {
          "output_type": "execute_result",
          "execution_count": 8,
          "data": {
            "text/plain": "array([[ 8, 18, 12, 12],\n       [ 5,  3,  5,  2],\n       [ 6,  6,  4, 11],\n       [ 7, 13,  2,  4]])"
          },
          "metadata": {}
        }
      ]
    },
    {
      "metadata": {
        "trusted": true
      },
      "cell_type": "code",
      "source": "B=np.split(A,2,axis=0)\nB",
      "execution_count": 15,
      "outputs": [
        {
          "output_type": "execute_result",
          "execution_count": 15,
          "data": {
            "text/plain": "[array([[ 8, 18, 12, 12],\n        [ 5,  3,  5,  2]]), array([[ 6,  6,  4, 11],\n        [ 7, 13,  2,  4]])]"
          },
          "metadata": {}
        }
      ]
    },
    {
      "metadata": {
        "trusted": true
      },
      "cell_type": "code",
      "source": "C=np.hsplit(A,2)\nC",
      "execution_count": 17,
      "outputs": [
        {
          "output_type": "execute_result",
          "execution_count": 17,
          "data": {
            "text/plain": "[array([[ 8, 18],\n        [ 5,  3],\n        [ 6,  6],\n        [ 7, 13]]), array([[12, 12],\n        [ 5,  2],\n        [ 4, 11],\n        [ 2,  4]])]"
          },
          "metadata": {}
        }
      ]
    },
    {
      "metadata": {
        "trusted": true
      },
      "cell_type": "code",
      "source": "D=np.vsplit(A,1)\nD",
      "execution_count": 21,
      "outputs": [
        {
          "output_type": "execute_result",
          "execution_count": 21,
          "data": {
            "text/plain": "[array([[ 8, 18, 12, 12],\n        [ 5,  3,  5,  2],\n        [ 6,  6,  4, 11],\n        [ 7, 13,  2,  4]])]"
          },
          "metadata": {}
        }
      ]
    },
    {
      "metadata": {
        "trusted": true
      },
      "cell_type": "code",
      "source": "\nExercise : A store maintains a list of all customers with the customer number and the price of each item purchased by the customer. Find the total amount for each customer.\n    \n\norders = [[1,(100,500.50,450)],[2,(200,300.75,450.50)],[3,(400,300.50,650.50)]]\nprint(orders)\n",
      "execution_count": null,
      "outputs": []
    }
  ],
  "metadata": {
    "kernelspec": {
      "name": "python36",
      "display_name": "Python 3.6",
      "language": "python"
    },
    "language_info": {
      "mimetype": "text/x-python",
      "nbconvert_exporter": "python",
      "name": "python",
      "pygments_lexer": "ipython3",
      "version": "3.6.6",
      "file_extension": ".py",
      "codemirror_mode": {
        "version": 3,
        "name": "ipython"
      }
    }
  },
  "nbformat": 4,
  "nbformat_minor": 2
}