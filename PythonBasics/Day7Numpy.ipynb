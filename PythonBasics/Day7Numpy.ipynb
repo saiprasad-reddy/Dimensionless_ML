{
  "cells": [
    {
      "metadata": {
        "collapsed": true
      },
      "cell_type": "markdown",
      "source": "<h2>Introduction to numpy</h2>"
    },
    {
      "metadata": {},
      "cell_type": "markdown",
      "source": "<h4>\nNumerical Python, or \"Numpy\" for short, is a foundational package on which many of the most common data science packages are built.</h4>\n<h4>Numpy provides us with high performance multi-dimensional arrays which we can use as vectors or matrices.</h4>\n\n<h4>The key features of numpy are:</h4>\n\n<h4>ndarrays: n-dimensional arrays of the same data type which are fast and space-efficient. </h4>\n<h4>There are a number of built-in methods for ndarrays which allow for rapid processing of data without using loops (e.g., compute the mean).</h4>\n<h4>Broadcasting: a useful tool which defines implicit behavior between multi-dimensional arrays of different sizes.</h4>\n<h4>Vectorization: enables numeric operations on ndarrays.</h4>"
    },
    {
      "metadata": {
        "trusted": true
      },
      "cell_type": "code",
      "source": "import numpy as np",
      "execution_count": 2,
      "outputs": []
    },
    {
      "metadata": {},
      "cell_type": "markdown",
      "source": "<h3>Creating 1-D array</h3>"
    },
    {
      "metadata": {
        "trusted": true
      },
      "cell_type": "code",
      "source": "l=[1,2,3,4,5]\narr=np.array(l)\nprint(arr)\ntype(arr)",
      "execution_count": 4,
      "outputs": [
        {
          "output_type": "stream",
          "text": "[1 2 3 4 5]\n",
          "name": "stdout"
        },
        {
          "output_type": "execute_result",
          "execution_count": 4,
          "data": {
            "text/plain": "numpy.ndarray"
          },
          "metadata": {}
        }
      ]
    },
    {
      "metadata": {
        "trusted": true
      },
      "cell_type": "code",
      "source": "#test the shape of the array we just created, it should have just one dimension (rank 1) \nprint(arr.shape)",
      "execution_count": 5,
      "outputs": [
        {
          "output_type": "stream",
          "text": "(5,)\n",
          "name": "stdout"
        }
      ]
    },
    {
      "metadata": {
        "trusted": true
      },
      "cell_type": "code",
      "source": "print(arr[0],arr[1],arr[2])",
      "execution_count": 6,
      "outputs": [
        {
          "output_type": "stream",
          "text": "1 2 3\n",
          "name": "stdout"
        }
      ]
    },
    {
      "metadata": {
        "trusted": true
      },
      "cell_type": "code",
      "source": "arr[0]=8\nprint(arr)\n#ndarrays are mutable",
      "execution_count": 7,
      "outputs": [
        {
          "output_type": "stream",
          "text": "[8 2 3 4 5]\n",
          "name": "stdout"
        }
      ]
    },
    {
      "metadata": {
        "trusted": true
      },
      "cell_type": "code",
      "source": "arr1=np.array([1,2,2.6,'c'])\nprint(arr1)\n#np.array are homogenous",
      "execution_count": 8,
      "outputs": [
        {
          "output_type": "stream",
          "text": "['1' '2' '2.6' 'c']\n",
          "name": "stdout"
        }
      ]
    },
    {
      "metadata": {},
      "cell_type": "markdown",
      "source": "<h2>How to create a Rank 2 numpy array:</h2>\n    <h4>A rank 2 nd arry is one with two dimensions. Notice the format below [[row],[row]]</h4>"
    },
    {
      "metadata": {
        "trusted": true
      },
      "cell_type": "code",
      "source": "arr_twod = np.array([[11,12,13,88],[21,22,23,44]])\n#if lists are not equal it will be converted to 1D list\nprint(arr_twod)\nprint(arr_twod.shape)\nprint(arr_twod[0][2])",
      "execution_count": 19,
      "outputs": [
        {
          "output_type": "stream",
          "text": "[[11 12 13 88]\n [21 22 23 44]]\n(2, 4)\n13\n",
          "name": "stdout"
        }
      ]
    },
    {
      "metadata": {
        "trusted": true
      },
      "cell_type": "code",
      "source": "import matplotlib.pyplot as plt",
      "execution_count": 16,
      "outputs": []
    },
    {
      "metadata": {
        "trusted": true
      },
      "cell_type": "code",
      "source": "np.random.seed(10)\nex5=np.random.rand(10)\nprint(ex5)\n\na1=np.random.uniform(1,10,(2,2))\nprint(a1)\n\nex6 =np.random.randn(5)\nprint(ex6)\n\na2=np.random.normal(0,3,(2,3))\nprint(a2)\n\nexp7 = np.random.randint(1,100,10)\nprint(exp7)\n\nex8 = np.random.randint(1,100,(3,3))\nprint(ex8)",
      "execution_count": 27,
      "outputs": [
        {
          "output_type": "stream",
          "text": "[4.17022005e-01 7.20324493e-01 1.14374817e-04 3.02332573e-01\n 1.46755891e-01 9.23385948e-02 1.86260211e-01 3.45560727e-01\n 3.96767474e-01 5.38816734e-01]\n[[4.77275063 7.1669755 ]\n [2.84007025 8.90305693]]\n[ 1.46210794 -2.06014071 -0.3224172  -0.38405435  1.13376944]\n[[-3.2996738  -0.51728462 -2.63357525]\n [ 0.12664124  1.74844564 -3.30185753]]\n[77 27 53 81 42 83 16 65 69 26]\n[[99 88  8]\n [27 26 23]\n [10 68 24]]\n",
          "name": "stdout"
        }
      ]
    },
    {
      "metadata": {},
      "cell_type": "markdown",
      "source": "<h4>Exercise 1: Generate list of 20 random samples for a dice throw</h4>"
    },
    {
      "metadata": {
        "trusted": true
      },
      "cell_type": "code",
      "source": "dice_samples =np.random.randint(1,7,20)\ndice_samples",
      "execution_count": 4,
      "outputs": [
        {
          "output_type": "execute_result",
          "execution_count": 4,
          "data": {
            "text/plain": "array([3, 1, 1, 1, 3, 1, 5, 5, 2, 1, 3, 5, 1, 6, 4, 6, 4, 3, 2, 2])"
          },
          "metadata": {}
        }
      ]
    },
    {
      "metadata": {},
      "cell_type": "markdown",
      "source": "<h2>Basics of NumPy Arrays</h2>"
    },
    {
      "metadata": {},
      "cell_type": "markdown",
      "source": "<h3>1.Attributes of Array</h3>\n<h4>Determining the size, shape, data type and dimensions of array</h4>"
    },
    {
      "metadata": {
        "trusted": true
      },
      "cell_type": "code",
      "source": "x1 = np.random.randint(10, size=6)\nx2 = np.random.randint(10, size=(3,4))\nx3 = np.random.randint(10, size=(3,4,5))\nprint('X1 array is : ' ,x1)\nprint('**********')\nprint('X2 array is : ')\nprint(x2)\nprint('**********')\nprint('X3 array is : ')\nprint(x3)",
      "execution_count": 4,
      "outputs": [
        {
          "output_type": "stream",
          "text": "X1 array is :  [9 3 8 9 2 0]\n**********\nX2 array is : \n[[0 0 9 8]\n [8 5 5 6]\n [5 7 3 8]]\n**********\nX3 array is : \n[[[0 0 1 7 6]\n  [8 7 3 2 9]\n  [1 3 0 2 4]\n  [2 9 4 0 4]]\n\n [[6 5 8 2 5]\n  [3 0 0 1 9]\n  [1 7 6 1 9]\n  [8 1 1 9 0]]\n\n [[9 6 8 6 3]\n  [4 7 3 2 9]\n  [9 3 5 3 7]\n  [2 8 8 8 6]]]\n",
          "name": "stdout"
        }
      ]
    },
    {
      "metadata": {
        "trusted": true
      },
      "cell_type": "code",
      "source": "print(\"dimension of x1: \",x1.ndim)\nprint(\"Shape of x1 :\",x1.shape)\nprint(\"size of x1:\",x1.size)\nprint(\"data type of x1 :\",x1.dtype)",
      "execution_count": 6,
      "outputs": [
        {
          "output_type": "stream",
          "text": "dimension of x1:  1\nShape of x1 : (6,)\nsize of x1: 6\ndata type of x1 : int64\n",
          "name": "stdout"
        }
      ]
    },
    {
      "metadata": {
        "trusted": true
      },
      "cell_type": "code",
      "source": "print(\"dimension of x2: \",x2.ndim)\nprint(\"Shape of x2 :\",x2.shape)\nprint(\"size of x2:\",x2.size)\nprint(\"data type of x2 :\",x2.dtype)",
      "execution_count": 7,
      "outputs": [
        {
          "output_type": "stream",
          "text": "dimension of x2:  2\nShape of x2 : (3, 4)\nsize of x2: 12\ndata type of x2 : int64\n",
          "name": "stdout"
        }
      ]
    },
    {
      "metadata": {
        "trusted": true
      },
      "cell_type": "code",
      "source": "print(\"dimension of x3: \",x3.ndim)\nprint(\"Shape of x3 :\",x3.shape)\nprint(\"size of x3:\",x3.size)\nprint(\"data type of x3 :\",x3.dtype)",
      "execution_count": 8,
      "outputs": [
        {
          "output_type": "stream",
          "text": "dimension of x3:  3\nShape of x3 : (3, 4, 5)\nsize of x3: 60\ndata type of x3 : int64\n",
          "name": "stdout"
        }
      ]
    },
    {
      "metadata": {},
      "cell_type": "markdown",
      "source": "<h3>Array Indexing</h3>"
    },
    {
      "metadata": {
        "trusted": true
      },
      "cell_type": "code",
      "source": "#Rank 2 array of shape (3,4)\np=np.array([[11,12,13,14],[21,22,23,24],[31,32,33,34]])\nprint(p)\np.shape",
      "execution_count": 14,
      "outputs": [
        {
          "output_type": "stream",
          "text": "[[11 12 13 14]\n [21 22 23 24]\n [31 32 33 34]]\n",
          "name": "stdout"
        },
        {
          "output_type": "execute_result",
          "execution_count": 14,
          "data": {
            "text/plain": "(3, 4)"
          },
          "metadata": {}
        }
      ]
    },
    {
      "metadata": {
        "trusted": true
      },
      "cell_type": "code",
      "source": "#Rank 2 array of shape (3,4) dtype='int32' or np.int32\np=np.array([[11,12,13,14.09],[21.45,22,23,24],[31,32,33.67,34]],dtype='int32')\nprint(p)\np.shape",
      "execution_count": 12,
      "outputs": [
        {
          "output_type": "stream",
          "text": "[[11 12 13 14]\n [21 22 23 24]\n [31 32 33 34]]\n",
          "name": "stdout"
        },
        {
          "output_type": "execute_result",
          "execution_count": 12,
          "data": {
            "text/plain": "(3, 4)"
          },
          "metadata": {}
        }
      ]
    },
    {
      "metadata": {
        "trusted": true
      },
      "cell_type": "code",
      "source": "p=np.array([[11,12,13,14.09],[21.45,22,23,24],[31,32,33.67,34]],dtype=np.float)\nprint(p)\np.shape",
      "execution_count": 13,
      "outputs": [
        {
          "output_type": "stream",
          "text": "[[11.   12.   13.   14.09]\n [21.45 22.   23.   24.  ]\n [31.   32.   33.67 34.  ]]\n",
          "name": "stdout"
        },
        {
          "output_type": "execute_result",
          "execution_count": 13,
          "data": {
            "text/plain": "(3, 4)"
          },
          "metadata": {}
        }
      ]
    },
    {
      "metadata": {},
      "cell_type": "markdown",
      "source": "<h3>Normal Indexing</h3>\n<h4>We can use rows and cols index values to retrive any element</h4>"
    },
    {
      "metadata": {
        "trusted": true
      },
      "cell_type": "code",
      "source": "p[2,2],p[1,3]",
      "execution_count": 15,
      "outputs": [
        {
          "output_type": "execute_result",
          "execution_count": 15,
          "data": {
            "text/plain": "(33, 24)"
          },
          "metadata": {}
        }
      ]
    },
    {
      "metadata": {
        "trusted": true
      },
      "cell_type": "code",
      "source": "p[2,2]=50",
      "execution_count": 16,
      "outputs": []
    },
    {
      "metadata": {
        "trusted": true
      },
      "cell_type": "code",
      "source": "p",
      "execution_count": 17,
      "outputs": [
        {
          "output_type": "execute_result",
          "execution_count": 17,
          "data": {
            "text/plain": "array([[11, 12, 13, 14],\n       [21, 22, 23, 24],\n       [31, 32, 50, 34]])"
          },
          "metadata": {}
        }
      ]
    },
    {
      "metadata": {},
      "cell_type": "markdown",
      "source": "<h3>Slice Indexing</h3>"
    },
    {
      "metadata": {
        "trusted": true
      },
      "cell_type": "code",
      "source": "p_slice=p[0:2,0:2]\nprint(p_slice)\nprint(p_slice.shape)",
      "execution_count": 18,
      "outputs": [
        {
          "output_type": "stream",
          "text": "[[11 12]\n [21 22]]\n(2, 2)\n",
          "name": "stdout"
        }
      ]
    },
    {
      "metadata": {
        "trusted": true
      },
      "cell_type": "code",
      "source": "print(p_slice[0,0],p_slice[1,1])",
      "execution_count": 19,
      "outputs": [
        {
          "output_type": "stream",
          "text": "11 22\n",
          "name": "stdout"
        }
      ]
    },
    {
      "metadata": {
        "trusted": true
      },
      "cell_type": "code",
      "source": "p_slice[0,1]=60\np_slice",
      "execution_count": 20,
      "outputs": [
        {
          "output_type": "execute_result",
          "execution_count": 20,
          "data": {
            "text/plain": "array([[11, 60],\n       [21, 22]])"
          },
          "metadata": {}
        }
      ]
    },
    {
      "metadata": {
        "trusted": true
      },
      "cell_type": "code",
      "source": "#In basic indexing if we slice and change the value it will \n#reflect in orginal array too\np ",
      "execution_count": 23,
      "outputs": [
        {
          "output_type": "execute_result",
          "execution_count": 23,
          "data": {
            "text/plain": "array([[11, 60, 13, 14],\n       [21, 22, 23, 24],\n       [31, 32, 50, 34]])"
          },
          "metadata": {}
        }
      ]
    },
    {
      "metadata": {
        "trusted": true
      },
      "cell_type": "code",
      "source": "a_slice=p[:2,1:3].copy()#create explicit copy\na_slice[0,0]=1000\nprint(p)\nprint(a_slice)",
      "execution_count": 24,
      "outputs": [
        {
          "output_type": "stream",
          "text": "[[11 60 13 14]\n [21 22 23 24]\n [31 32 50 34]]\n[[1000   13]\n [  22   23]]\n",
          "name": "stdout"
        }
      ]
    },
    {
      "metadata": {},
      "cell_type": "markdown",
      "source": "<h4>Use both normal indexing and slice indexing</h4>"
    },
    {
      "metadata": {
        "trusted": true
      },
      "cell_type": "code",
      "source": "#create a rank 2 array of shape (3,4)\nan_array=np.array([[11,12,13,14],[21,22,23,24],[31,32,33,34]])\nprint(an_array)",
      "execution_count": 27,
      "outputs": [
        {
          "output_type": "stream",
          "text": "[[11 12 13 14]\n [21 22 23 24]\n [31 32 33 34]]\n",
          "name": "stdout"
        }
      ]
    },
    {
      "metadata": {
        "trusted": true
      },
      "cell_type": "code",
      "source": "#using both integer scalar and slicing generates an array of lower rank\nrow_rank1 = an_array[1,:] #rank 1 view\nprint(row_rank1,row_rank1.shape) #notice only singe []",
      "execution_count": 28,
      "outputs": [
        {
          "output_type": "stream",
          "text": "[21 22 23 24] (4,)\n",
          "name": "stdout"
        }
      ]
    },
    {
      "metadata": {
        "trusted": true
      },
      "cell_type": "code",
      "source": "#slicing alone: generates an of same rank\nrow_rank2=an_array[1:2,:] #rank 2 view\nprint(row_rank2,row_rank2.shape) #notice the [[]]",
      "execution_count": 29,
      "outputs": [
        {
          "output_type": "stream",
          "text": "[[21 22 23 24]] (1, 4)\n",
          "name": "stdout"
        }
      ]
    },
    {
      "metadata": {
        "trusted": true
      },
      "cell_type": "code",
      "source": "#we can do the same thing for colums of an array:\nprint()\ncol_rank1 = an_array[:,1]\ncol_rank2 = an_array[:,1:2]\n\nprint(col_rank1,col_rank1.shape) #rank 1\nprint()\nprint(col_rank2,col_rank2.shape) #rank 2",
      "execution_count": 30,
      "outputs": [
        {
          "output_type": "stream",
          "text": "\n[12 22 32] (3,)\n\n[[12]\n [22]\n [32]] (3, 1)\n",
          "name": "stdout"
        }
      ]
    },
    {
      "metadata": {
        "trusted": true
      },
      "cell_type": "code",
      "source": "#arbitary value means any value in an array\nprint(an_array[[[0,0],[2,2]],[[0,2],[0,2]]])",
      "execution_count": 43,
      "outputs": [
        {
          "output_type": "stream",
          "text": "[[11 13]\n [31 33]]\n",
          "name": "stdout"
        }
      ]
    }
  ],
  "metadata": {
    "kernelspec": {
      "name": "python36",
      "display_name": "Python 3.6",
      "language": "python"
    },
    "language_info": {
      "mimetype": "text/x-python",
      "nbconvert_exporter": "python",
      "name": "python",
      "pygments_lexer": "ipython3",
      "version": "3.6.6",
      "file_extension": ".py",
      "codemirror_mode": {
        "version": 3,
        "name": "ipython"
      }
    }
  },
  "nbformat": 4,
  "nbformat_minor": 2
}