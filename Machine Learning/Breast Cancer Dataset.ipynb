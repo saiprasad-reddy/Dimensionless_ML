{
  "cells": [
    {
      "metadata": {
        "trusted": true
      },
      "cell_type": "code",
      "source": "import pandas as pd",
      "execution_count": 1,
      "outputs": []
    },
    {
      "metadata": {
        "trusted": true
      },
      "cell_type": "code",
      "source": "cancer_set = pd.read_csv('https://archive.ics.uci.edu/ml/machine-learning-databases/breast-cancer-wisconsin/wdbc.data', \n                        header = None)\nprint(cancer_set.shape)",
      "execution_count": 2,
      "outputs": [
        {
          "output_type": "stream",
          "text": "(569, 32)\n",
          "name": "stdout"
        }
      ]
    },
    {
      "metadata": {
        "trusted": true
      },
      "cell_type": "code",
      "source": "cancer_set.head()",
      "execution_count": 3,
      "outputs": [
        {
          "output_type": "execute_result",
          "execution_count": 3,
          "data": {
            "text/html": "<div>\n<style scoped>\n    .dataframe tbody tr th:only-of-type {\n        vertical-align: middle;\n    }\n\n    .dataframe tbody tr th {\n        vertical-align: top;\n    }\n\n    .dataframe thead th {\n        text-align: right;\n    }\n</style>\n<table border=\"1\" class=\"dataframe\">\n  <thead>\n    <tr style=\"text-align: right;\">\n      <th></th>\n      <th>0</th>\n      <th>1</th>\n      <th>2</th>\n      <th>3</th>\n      <th>4</th>\n      <th>5</th>\n      <th>6</th>\n      <th>7</th>\n      <th>8</th>\n      <th>9</th>\n      <th>...</th>\n      <th>22</th>\n      <th>23</th>\n      <th>24</th>\n      <th>25</th>\n      <th>26</th>\n      <th>27</th>\n      <th>28</th>\n      <th>29</th>\n      <th>30</th>\n      <th>31</th>\n    </tr>\n  </thead>\n  <tbody>\n    <tr>\n      <th>0</th>\n      <td>842302</td>\n      <td>M</td>\n      <td>17.99</td>\n      <td>10.38</td>\n      <td>122.80</td>\n      <td>1001.0</td>\n      <td>0.11840</td>\n      <td>0.27760</td>\n      <td>0.3001</td>\n      <td>0.14710</td>\n      <td>...</td>\n      <td>25.38</td>\n      <td>17.33</td>\n      <td>184.60</td>\n      <td>2019.0</td>\n      <td>0.1622</td>\n      <td>0.6656</td>\n      <td>0.7119</td>\n      <td>0.2654</td>\n      <td>0.4601</td>\n      <td>0.11890</td>\n    </tr>\n    <tr>\n      <th>1</th>\n      <td>842517</td>\n      <td>M</td>\n      <td>20.57</td>\n      <td>17.77</td>\n      <td>132.90</td>\n      <td>1326.0</td>\n      <td>0.08474</td>\n      <td>0.07864</td>\n      <td>0.0869</td>\n      <td>0.07017</td>\n      <td>...</td>\n      <td>24.99</td>\n      <td>23.41</td>\n      <td>158.80</td>\n      <td>1956.0</td>\n      <td>0.1238</td>\n      <td>0.1866</td>\n      <td>0.2416</td>\n      <td>0.1860</td>\n      <td>0.2750</td>\n      <td>0.08902</td>\n    </tr>\n    <tr>\n      <th>2</th>\n      <td>84300903</td>\n      <td>M</td>\n      <td>19.69</td>\n      <td>21.25</td>\n      <td>130.00</td>\n      <td>1203.0</td>\n      <td>0.10960</td>\n      <td>0.15990</td>\n      <td>0.1974</td>\n      <td>0.12790</td>\n      <td>...</td>\n      <td>23.57</td>\n      <td>25.53</td>\n      <td>152.50</td>\n      <td>1709.0</td>\n      <td>0.1444</td>\n      <td>0.4245</td>\n      <td>0.4504</td>\n      <td>0.2430</td>\n      <td>0.3613</td>\n      <td>0.08758</td>\n    </tr>\n    <tr>\n      <th>3</th>\n      <td>84348301</td>\n      <td>M</td>\n      <td>11.42</td>\n      <td>20.38</td>\n      <td>77.58</td>\n      <td>386.1</td>\n      <td>0.14250</td>\n      <td>0.28390</td>\n      <td>0.2414</td>\n      <td>0.10520</td>\n      <td>...</td>\n      <td>14.91</td>\n      <td>26.50</td>\n      <td>98.87</td>\n      <td>567.7</td>\n      <td>0.2098</td>\n      <td>0.8663</td>\n      <td>0.6869</td>\n      <td>0.2575</td>\n      <td>0.6638</td>\n      <td>0.17300</td>\n    </tr>\n    <tr>\n      <th>4</th>\n      <td>84358402</td>\n      <td>M</td>\n      <td>20.29</td>\n      <td>14.34</td>\n      <td>135.10</td>\n      <td>1297.0</td>\n      <td>0.10030</td>\n      <td>0.13280</td>\n      <td>0.1980</td>\n      <td>0.10430</td>\n      <td>...</td>\n      <td>22.54</td>\n      <td>16.67</td>\n      <td>152.20</td>\n      <td>1575.0</td>\n      <td>0.1374</td>\n      <td>0.2050</td>\n      <td>0.4000</td>\n      <td>0.1625</td>\n      <td>0.2364</td>\n      <td>0.07678</td>\n    </tr>\n  </tbody>\n</table>\n<p>5 rows × 32 columns</p>\n</div>",
            "text/plain": "         0  1      2      3       4       5        6        7       8   \\\n0    842302  M  17.99  10.38  122.80  1001.0  0.11840  0.27760  0.3001   \n1    842517  M  20.57  17.77  132.90  1326.0  0.08474  0.07864  0.0869   \n2  84300903  M  19.69  21.25  130.00  1203.0  0.10960  0.15990  0.1974   \n3  84348301  M  11.42  20.38   77.58   386.1  0.14250  0.28390  0.2414   \n4  84358402  M  20.29  14.34  135.10  1297.0  0.10030  0.13280  0.1980   \n\n        9    ...        22     23      24      25      26      27      28  \\\n0  0.14710   ...     25.38  17.33  184.60  2019.0  0.1622  0.6656  0.7119   \n1  0.07017   ...     24.99  23.41  158.80  1956.0  0.1238  0.1866  0.2416   \n2  0.12790   ...     23.57  25.53  152.50  1709.0  0.1444  0.4245  0.4504   \n3  0.10520   ...     14.91  26.50   98.87   567.7  0.2098  0.8663  0.6869   \n4  0.10430   ...     22.54  16.67  152.20  1575.0  0.1374  0.2050  0.4000   \n\n       29      30       31  \n0  0.2654  0.4601  0.11890  \n1  0.1860  0.2750  0.08902  \n2  0.2430  0.3613  0.08758  \n3  0.2575  0.6638  0.17300  \n4  0.1625  0.2364  0.07678  \n\n[5 rows x 32 columns]"
          },
          "metadata": {}
        }
      ]
    },
    {
      "metadata": {
        "trusted": true
      },
      "cell_type": "code",
      "source": "cancer_features=cancer_set.iloc[:,2:]",
      "execution_count": 4,
      "outputs": []
    },
    {
      "metadata": {
        "trusted": true
      },
      "cell_type": "code",
      "source": "print(cancer_features.shape)\nprint(type(cancer_features))",
      "execution_count": 5,
      "outputs": [
        {
          "output_type": "stream",
          "text": "(569, 30)\n<class 'pandas.core.frame.DataFrame'>\n",
          "name": "stdout"
        }
      ]
    },
    {
      "metadata": {
        "trusted": true
      },
      "cell_type": "code",
      "source": "cancer_features=cancer_features.values\nprint(cancer_features.shape)\nprint(type(cancer_features))",
      "execution_count": 6,
      "outputs": [
        {
          "output_type": "stream",
          "text": "(569, 30)\n<class 'numpy.ndarray'>\n",
          "name": "stdout"
        }
      ]
    },
    {
      "metadata": {
        "trusted": true
      },
      "cell_type": "code",
      "source": "cancer_features_names = ['mean radius', \n'mean texture', 'mean perimeter', \n'mean area', 'mean smoothness', \n'mean compactness', 'mean concavity',\n'mean concave points', 'mean symmetry',\n'mean fractal dimension','radius error',\n'texture error','perimeter error',\n'area error', 'smoothness error',\n'compactness error','concavity error',\n'concave points error','symmetry error',\n'fractal dimension error','worst radius',\n'worst texture', 'worst perimeter', \n'worst area','worst smoothness', \n'worst compactness', 'worst concavity',\n'worst concave points','worst symmetry',\n'worst fractal dimension']",
      "execution_count": 7,
      "outputs": []
    },
    {
      "metadata": {
        "trusted": true
      },
      "cell_type": "code",
      "source": "cancer_target = cancer_set.iloc[:,1]",
      "execution_count": 8,
      "outputs": []
    },
    {
      "metadata": {
        "trusted": true
      },
      "cell_type": "code",
      "source": "#replacing M with zero and B with 1 in coloumn one\ncancer_target = cancer_target.replace(['M','B'],[0,1])",
      "execution_count": 9,
      "outputs": []
    },
    {
      "metadata": {
        "trusted": true
      },
      "cell_type": "code",
      "source": "# Converting to numpy array\ncancer_target = cancer_target.values",
      "execution_count": 10,
      "outputs": []
    },
    {
      "metadata": {
        "trusted": true
      },
      "cell_type": "code",
      "source": "print(type(cancer_target))\nprint(cancer_target.shape)",
      "execution_count": 11,
      "outputs": [
        {
          "output_type": "stream",
          "text": "<class 'numpy.ndarray'>\n(569,)\n",
          "name": "stdout"
        }
      ]
    },
    {
      "metadata": {
        "trusted": true
      },
      "cell_type": "code",
      "source": "import sklearn.preprocessing as preprocessing",
      "execution_count": 12,
      "outputs": []
    },
    {
      "metadata": {
        "trusted": true
      },
      "cell_type": "code",
      "source": "import sklearn.datasets as datasets\nfrom sklearn.model_selection import train_test_split\nimport numpy as np\nnp.random.seed(100) ",
      "execution_count": 1,
      "outputs": []
    },
    {
      "metadata": {
        "trusted": true
      },
      "cell_type": "code",
      "source": "iris = datasets.load_iris() \nX_train, X_test, Y_train, Y_test = train_test_split(iris.data, iris.target,\n           random_state=30)\nprint(X_train.shape)\nprint(X_test.shape)",
      "execution_count": 2,
      "outputs": [
        {
          "output_type": "stream",
          "text": "(112, 4)\n(38, 4)\n",
          "name": "stdout"
        }
      ]
    },
    {
      "metadata": {
        "trusted": true
      },
      "cell_type": "code",
      "source": "from sklearn.cluster import KMeans\nfrom sklearn import metrics\nkm_cls = KMeans(n_clusters=3)\nkm_cls = km_cls.fit(X_train) \nkm_cls.predict(X_test)\nprint(metrics.homogeneity_score(Y_test,km_cls.predict(X_test)))",
      "execution_count": 6,
      "outputs": [
        {
          "output_type": "stream",
          "text": "0.7899456437990248\n",
          "name": "stdout"
        }
      ]
    },
    {
      "metadata": {
        "trusted": true
      },
      "cell_type": "code",
      "source": "from sklearn.cluster import AgglomerativeClustering \nagg_cls = AgglomerativeClustering(n_clusters=3)\nagg_cls = agg_cls.fit(X_train)\nagg_cls.fit_predict(X_test)\nprint(metrics.homogeneity_score(Y_test,agg_cls.fit_predict(X_test)))",
      "execution_count": 8,
      "outputs": [
        {
          "output_type": "stream",
          "text": "0.7284178730641172\n",
          "name": "stdout"
        }
      ]
    },
    {
      "metadata": {
        "trusted": true
      },
      "cell_type": "code",
      "source": "digits = datasets.load_digits() \nX_train, X_test, Y_train, Y_test = train_test_split(digits.data, digits.target,\n           random_state=30)\nprint(X_train.shape)\nprint(X_test.shape)",
      "execution_count": 9,
      "outputs": [
        {
          "output_type": "stream",
          "text": "(1347, 64)\n(450, 64)\n",
          "name": "stdout"
        }
      ]
    },
    {
      "metadata": {
        "trusted": true
      },
      "cell_type": "code",
      "source": "from sklearn.svm import SVC\nsvm_clf = SVC(gamma='auto')\nsvm_clf = svm_clf.fit(X_train, Y_train) \nprint('Accuracy of Train Data :', svm_clf.score(X_train,Y_train))\nprint('Accuracy of Test Data :', svm_clf.score(X_test,Y_test))",
      "execution_count": 18,
      "outputs": [
        {
          "output_type": "stream",
          "text": "Accuracy of Train Data : 1.0\nAccuracy of Test Data : 0.4088888888888889\n",
          "name": "stdout"
        }
      ]
    },
    {
      "metadata": {
        "trusted": true
      },
      "cell_type": "code",
      "source": "import sklearn.preprocessing as preprocessing\nstandardizer = preprocessing.StandardScaler()\nstandardizer = standardizer.fit(digits.data)\ndigits_standardized = standardizer.transform(digits.data)\nfrom sklearn.svm import SVC\nsvm_clf = SVC(gamma='auto')\nsvm_clf = svm_clf.fit(X_train, Y_train) \nprint('Accuracy of Test Data :', svm_clf.score(X_test,Y_test))",
      "execution_count": 19,
      "outputs": [
        {
          "output_type": "stream",
          "text": "Accuracy of Test Data : 0.4088888888888889\n",
          "name": "stdout"
        }
      ]
    }
  ],
  "metadata": {
    "kernelspec": {
      "name": "python36",
      "display_name": "Python 3.6",
      "language": "python"
    },
    "language_info": {
      "mimetype": "text/x-python",
      "nbconvert_exporter": "python",
      "name": "python",
      "pygments_lexer": "ipython3",
      "version": "3.6.6",
      "file_extension": ".py",
      "codemirror_mode": {
        "version": 3,
        "name": "ipython"
      }
    }
  },
  "nbformat": 4,
  "nbformat_minor": 2
}