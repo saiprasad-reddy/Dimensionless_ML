{
  "cells": [
    {
      "metadata": {
        "trusted": true
      },
      "cell_type": "code",
      "source": "import numpy as np\nimport pandas as pd\nimport matplotlib.pyplot as plt",
      "execution_count": 1,
      "outputs": []
    },
    {
      "metadata": {
        "trusted": true
      },
      "cell_type": "code",
      "source": "Elantra = pd.read_csv('https://storage.googleapis.com/dimensionless/Analytics/elantra.csv')",
      "execution_count": 2,
      "outputs": []
    },
    {
      "metadata": {
        "trusted": true
      },
      "cell_type": "code",
      "source": "print(Elantra.head())\nprint(Elantra.shape)",
      "execution_count": 3,
      "outputs": [
        {
          "output_type": "stream",
          "text": "   Month  Year  ElantraSales  Unemployment  Queries  CPI_energy  CPI_all\n0      1  2010          7690           9.7      153     213.377  217.466\n1      1  2011          9659           9.1      259     229.353  221.082\n2      1  2012         10900           8.2      354     244.178  227.666\n3      1  2013         12174           7.9      230     242.560  231.321\n4      1  2014         15326           6.6      232     247.575  234.933\n(50, 7)\n",
          "name": "stdout"
        }
      ]
    },
    {
      "metadata": {
        "trusted": true
      },
      "cell_type": "code",
      "source": "Training_set = Elantra[(Elantra.Year == 2010)|(Elantra.Year == 2011)|(Elantra.Year == 2012)]\nprint(Training_set.shape)\nTraining_set",
      "execution_count": 7,
      "outputs": [
        {
          "output_type": "stream",
          "text": "(36, 7)\n",
          "name": "stdout"
        },
        {
          "output_type": "execute_result",
          "execution_count": 7,
          "data": {
            "text/html": "<div>\n<style scoped>\n    .dataframe tbody tr th:only-of-type {\n        vertical-align: middle;\n    }\n\n    .dataframe tbody tr th {\n        vertical-align: top;\n    }\n\n    .dataframe thead th {\n        text-align: right;\n    }\n</style>\n<table border=\"1\" class=\"dataframe\">\n  <thead>\n    <tr style=\"text-align: right;\">\n      <th></th>\n      <th>Month</th>\n      <th>Year</th>\n      <th>ElantraSales</th>\n      <th>Unemployment</th>\n      <th>Queries</th>\n      <th>CPI_energy</th>\n      <th>CPI_all</th>\n    </tr>\n  </thead>\n  <tbody>\n    <tr>\n      <th>0</th>\n      <td>1</td>\n      <td>2010</td>\n      <td>7690</td>\n      <td>9.7</td>\n      <td>153</td>\n      <td>213.377</td>\n      <td>217.466</td>\n    </tr>\n    <tr>\n      <th>1</th>\n      <td>1</td>\n      <td>2011</td>\n      <td>9659</td>\n      <td>9.1</td>\n      <td>259</td>\n      <td>229.353</td>\n      <td>221.082</td>\n    </tr>\n    <tr>\n      <th>2</th>\n      <td>1</td>\n      <td>2012</td>\n      <td>10900</td>\n      <td>8.2</td>\n      <td>354</td>\n      <td>244.178</td>\n      <td>227.666</td>\n    </tr>\n    <tr>\n      <th>5</th>\n      <td>2</td>\n      <td>2010</td>\n      <td>7966</td>\n      <td>9.8</td>\n      <td>130</td>\n      <td>209.924</td>\n      <td>217.251</td>\n    </tr>\n    <tr>\n      <th>6</th>\n      <td>2</td>\n      <td>2011</td>\n      <td>12289</td>\n      <td>9.0</td>\n      <td>266</td>\n      <td>232.188</td>\n      <td>221.816</td>\n    </tr>\n    <tr>\n      <th>7</th>\n      <td>2</td>\n      <td>2012</td>\n      <td>13820</td>\n      <td>8.3</td>\n      <td>296</td>\n      <td>247.615</td>\n      <td>228.138</td>\n    </tr>\n    <tr>\n      <th>10</th>\n      <td>3</td>\n      <td>2010</td>\n      <td>8225</td>\n      <td>9.9</td>\n      <td>138</td>\n      <td>209.163</td>\n      <td>217.305</td>\n    </tr>\n    <tr>\n      <th>11</th>\n      <td>3</td>\n      <td>2011</td>\n      <td>19255</td>\n      <td>9.0</td>\n      <td>281</td>\n      <td>239.454</td>\n      <td>222.955</td>\n    </tr>\n    <tr>\n      <th>12</th>\n      <td>3</td>\n      <td>2012</td>\n      <td>19681</td>\n      <td>8.2</td>\n      <td>303</td>\n      <td>249.095</td>\n      <td>228.732</td>\n    </tr>\n    <tr>\n      <th>14</th>\n      <td>4</td>\n      <td>2010</td>\n      <td>9657</td>\n      <td>9.9</td>\n      <td>132</td>\n      <td>209.024</td>\n      <td>217.376</td>\n    </tr>\n    <tr>\n      <th>15</th>\n      <td>4</td>\n      <td>2011</td>\n      <td>22100</td>\n      <td>9.1</td>\n      <td>305</td>\n      <td>247.129</td>\n      <td>224.056</td>\n    </tr>\n    <tr>\n      <th>16</th>\n      <td>4</td>\n      <td>2012</td>\n      <td>16836</td>\n      <td>8.2</td>\n      <td>361</td>\n      <td>249.075</td>\n      <td>229.184</td>\n    </tr>\n    <tr>\n      <th>18</th>\n      <td>5</td>\n      <td>2010</td>\n      <td>9781</td>\n      <td>9.6</td>\n      <td>177</td>\n      <td>206.172</td>\n      <td>217.299</td>\n    </tr>\n    <tr>\n      <th>19</th>\n      <td>5</td>\n      <td>2011</td>\n      <td>20006</td>\n      <td>9.0</td>\n      <td>376</td>\n      <td>250.538</td>\n      <td>224.918</td>\n    </tr>\n    <tr>\n      <th>20</th>\n      <td>5</td>\n      <td>2012</td>\n      <td>18877</td>\n      <td>8.2</td>\n      <td>275</td>\n      <td>242.208</td>\n      <td>228.884</td>\n    </tr>\n    <tr>\n      <th>22</th>\n      <td>6</td>\n      <td>2010</td>\n      <td>14245</td>\n      <td>9.4</td>\n      <td>138</td>\n      <td>204.161</td>\n      <td>217.285</td>\n    </tr>\n    <tr>\n      <th>23</th>\n      <td>6</td>\n      <td>2011</td>\n      <td>19992</td>\n      <td>9.1</td>\n      <td>371</td>\n      <td>246.401</td>\n      <td>224.990</td>\n    </tr>\n    <tr>\n      <th>24</th>\n      <td>6</td>\n      <td>2012</td>\n      <td>17655</td>\n      <td>8.2</td>\n      <td>278</td>\n      <td>237.514</td>\n      <td>228.825</td>\n    </tr>\n    <tr>\n      <th>26</th>\n      <td>7</td>\n      <td>2010</td>\n      <td>18215</td>\n      <td>9.5</td>\n      <td>156</td>\n      <td>206.834</td>\n      <td>217.677</td>\n    </tr>\n    <tr>\n      <th>27</th>\n      <td>7</td>\n      <td>2011</td>\n      <td>15181</td>\n      <td>9.0</td>\n      <td>427</td>\n      <td>246.968</td>\n      <td>225.553</td>\n    </tr>\n    <tr>\n      <th>28</th>\n      <td>7</td>\n      <td>2012</td>\n      <td>18512</td>\n      <td>8.2</td>\n      <td>423</td>\n      <td>234.757</td>\n      <td>228.779</td>\n    </tr>\n    <tr>\n      <th>30</th>\n      <td>8</td>\n      <td>2010</td>\n      <td>15181</td>\n      <td>9.5</td>\n      <td>202</td>\n      <td>208.927</td>\n      <td>218.012</td>\n    </tr>\n    <tr>\n      <th>31</th>\n      <td>8</td>\n      <td>2011</td>\n      <td>15054</td>\n      <td>9.0</td>\n      <td>336</td>\n      <td>247.112</td>\n      <td>226.149</td>\n    </tr>\n    <tr>\n      <th>32</th>\n      <td>8</td>\n      <td>2012</td>\n      <td>17989</td>\n      <td>8.1</td>\n      <td>341</td>\n      <td>245.455</td>\n      <td>229.952</td>\n    </tr>\n    <tr>\n      <th>34</th>\n      <td>9</td>\n      <td>2010</td>\n      <td>10062</td>\n      <td>9.5</td>\n      <td>150</td>\n      <td>209.850</td>\n      <td>218.281</td>\n    </tr>\n    <tr>\n      <th>35</th>\n      <td>9</td>\n      <td>2011</td>\n      <td>14386</td>\n      <td>9.0</td>\n      <td>357</td>\n      <td>249.732</td>\n      <td>226.674</td>\n    </tr>\n    <tr>\n      <th>36</th>\n      <td>9</td>\n      <td>2012</td>\n      <td>18305</td>\n      <td>7.8</td>\n      <td>374</td>\n      <td>254.333</td>\n      <td>231.086</td>\n    </tr>\n    <tr>\n      <th>38</th>\n      <td>10</td>\n      <td>2010</td>\n      <td>9497</td>\n      <td>9.5</td>\n      <td>178</td>\n      <td>216.655</td>\n      <td>219.024</td>\n    </tr>\n    <tr>\n      <th>39</th>\n      <td>10</td>\n      <td>2011</td>\n      <td>13000</td>\n      <td>8.8</td>\n      <td>370</td>\n      <td>246.971</td>\n      <td>226.761</td>\n    </tr>\n    <tr>\n      <th>40</th>\n      <td>10</td>\n      <td>2012</td>\n      <td>14512</td>\n      <td>7.8</td>\n      <td>257</td>\n      <td>256.389</td>\n      <td>231.652</td>\n    </tr>\n    <tr>\n      <th>42</th>\n      <td>11</td>\n      <td>2010</td>\n      <td>8631</td>\n      <td>9.8</td>\n      <td>161</td>\n      <td>219.303</td>\n      <td>219.544</td>\n    </tr>\n    <tr>\n      <th>43</th>\n      <td>11</td>\n      <td>2011</td>\n      <td>12414</td>\n      <td>8.6</td>\n      <td>255</td>\n      <td>247.092</td>\n      <td>227.136</td>\n    </tr>\n    <tr>\n      <th>44</th>\n      <td>11</td>\n      <td>2012</td>\n      <td>15923</td>\n      <td>7.8</td>\n      <td>246</td>\n      <td>248.136</td>\n      <td>231.190</td>\n    </tr>\n    <tr>\n      <th>46</th>\n      <td>12</td>\n      <td>2010</td>\n      <td>13096</td>\n      <td>9.4</td>\n      <td>170</td>\n      <td>227.190</td>\n      <td>220.437</td>\n    </tr>\n    <tr>\n      <th>47</th>\n      <td>12</td>\n      <td>2011</td>\n      <td>13025</td>\n      <td>8.5</td>\n      <td>253</td>\n      <td>243.015</td>\n      <td>227.093</td>\n    </tr>\n    <tr>\n      <th>48</th>\n      <td>12</td>\n      <td>2012</td>\n      <td>19024</td>\n      <td>7.9</td>\n      <td>275</td>\n      <td>244.698</td>\n      <td>231.099</td>\n    </tr>\n  </tbody>\n</table>\n</div>",
            "text/plain": "    Month  Year  ElantraSales  Unemployment  Queries  CPI_energy  CPI_all\n0       1  2010          7690           9.7      153     213.377  217.466\n1       1  2011          9659           9.1      259     229.353  221.082\n2       1  2012         10900           8.2      354     244.178  227.666\n5       2  2010          7966           9.8      130     209.924  217.251\n6       2  2011         12289           9.0      266     232.188  221.816\n7       2  2012         13820           8.3      296     247.615  228.138\n10      3  2010          8225           9.9      138     209.163  217.305\n11      3  2011         19255           9.0      281     239.454  222.955\n12      3  2012         19681           8.2      303     249.095  228.732\n14      4  2010          9657           9.9      132     209.024  217.376\n15      4  2011         22100           9.1      305     247.129  224.056\n16      4  2012         16836           8.2      361     249.075  229.184\n18      5  2010          9781           9.6      177     206.172  217.299\n19      5  2011         20006           9.0      376     250.538  224.918\n20      5  2012         18877           8.2      275     242.208  228.884\n22      6  2010         14245           9.4      138     204.161  217.285\n23      6  2011         19992           9.1      371     246.401  224.990\n24      6  2012         17655           8.2      278     237.514  228.825\n26      7  2010         18215           9.5      156     206.834  217.677\n27      7  2011         15181           9.0      427     246.968  225.553\n28      7  2012         18512           8.2      423     234.757  228.779\n30      8  2010         15181           9.5      202     208.927  218.012\n31      8  2011         15054           9.0      336     247.112  226.149\n32      8  2012         17989           8.1      341     245.455  229.952\n34      9  2010         10062           9.5      150     209.850  218.281\n35      9  2011         14386           9.0      357     249.732  226.674\n36      9  2012         18305           7.8      374     254.333  231.086\n38     10  2010          9497           9.5      178     216.655  219.024\n39     10  2011         13000           8.8      370     246.971  226.761\n40     10  2012         14512           7.8      257     256.389  231.652\n42     11  2010          8631           9.8      161     219.303  219.544\n43     11  2011         12414           8.6      255     247.092  227.136\n44     11  2012         15923           7.8      246     248.136  231.190\n46     12  2010         13096           9.4      170     227.190  220.437\n47     12  2011         13025           8.5      253     243.015  227.093\n48     12  2012         19024           7.9      275     244.698  231.099"
          },
          "metadata": {}
        }
      ]
    },
    {
      "metadata": {},
      "cell_type": "markdown",
      "source": "#Problem 1 - Loading the Data\n#Load the data set. Split the data set into training and testing sets as follows: place all observations\n#for 2012 and earlier in the training set, and all observations for 2013 and 2014 into the testing\n#set.\n#How many observations are in the training set?\n#a. 36\n#b. 24\n#c. 14\n#d. 16\n\n#Ans:a"
    },
    {
      "metadata": {
        "trusted": true
      },
      "cell_type": "code",
      "source": "Testing_set = Elantra[(Elantra.Year == 2013)|(Elantra.Year == 2014)]\nprint(Testing_set.shape)\nTesting_set",
      "execution_count": 6,
      "outputs": [
        {
          "output_type": "stream",
          "text": "(14, 7)\n",
          "name": "stdout"
        },
        {
          "output_type": "execute_result",
          "execution_count": 6,
          "data": {
            "text/html": "<div>\n<style scoped>\n    .dataframe tbody tr th:only-of-type {\n        vertical-align: middle;\n    }\n\n    .dataframe tbody tr th {\n        vertical-align: top;\n    }\n\n    .dataframe thead th {\n        text-align: right;\n    }\n</style>\n<table border=\"1\" class=\"dataframe\">\n  <thead>\n    <tr style=\"text-align: right;\">\n      <th></th>\n      <th>Month</th>\n      <th>Year</th>\n      <th>ElantraSales</th>\n      <th>Unemployment</th>\n      <th>Queries</th>\n      <th>CPI_energy</th>\n      <th>CPI_all</th>\n    </tr>\n  </thead>\n  <tbody>\n    <tr>\n      <th>3</th>\n      <td>1</td>\n      <td>2013</td>\n      <td>12174</td>\n      <td>7.9</td>\n      <td>230</td>\n      <td>242.560</td>\n      <td>231.321</td>\n    </tr>\n    <tr>\n      <th>4</th>\n      <td>1</td>\n      <td>2014</td>\n      <td>15326</td>\n      <td>6.6</td>\n      <td>232</td>\n      <td>247.575</td>\n      <td>234.933</td>\n    </tr>\n    <tr>\n      <th>8</th>\n      <td>2</td>\n      <td>2013</td>\n      <td>16219</td>\n      <td>7.7</td>\n      <td>239</td>\n      <td>252.639</td>\n      <td>232.599</td>\n    </tr>\n    <tr>\n      <th>9</th>\n      <td>2</td>\n      <td>2014</td>\n      <td>16393</td>\n      <td>6.7</td>\n      <td>240</td>\n      <td>246.389</td>\n      <td>235.169</td>\n    </tr>\n    <tr>\n      <th>13</th>\n      <td>3</td>\n      <td>2013</td>\n      <td>26153</td>\n      <td>7.5</td>\n      <td>313</td>\n      <td>244.598</td>\n      <td>232.075</td>\n    </tr>\n    <tr>\n      <th>17</th>\n      <td>4</td>\n      <td>2013</td>\n      <td>24445</td>\n      <td>7.5</td>\n      <td>248</td>\n      <td>238.860</td>\n      <td>231.707</td>\n    </tr>\n    <tr>\n      <th>21</th>\n      <td>5</td>\n      <td>2013</td>\n      <td>25090</td>\n      <td>7.5</td>\n      <td>252</td>\n      <td>240.972</td>\n      <td>232.124</td>\n    </tr>\n    <tr>\n      <th>25</th>\n      <td>6</td>\n      <td>2013</td>\n      <td>22163</td>\n      <td>7.5</td>\n      <td>320</td>\n      <td>245.412</td>\n      <td>232.860</td>\n    </tr>\n    <tr>\n      <th>29</th>\n      <td>7</td>\n      <td>2013</td>\n      <td>23958</td>\n      <td>7.3</td>\n      <td>274</td>\n      <td>245.926</td>\n      <td>233.252</td>\n    </tr>\n    <tr>\n      <th>33</th>\n      <td>8</td>\n      <td>2013</td>\n      <td>24700</td>\n      <td>7.2</td>\n      <td>271</td>\n      <td>244.917</td>\n      <td>233.433</td>\n    </tr>\n    <tr>\n      <th>37</th>\n      <td>9</td>\n      <td>2013</td>\n      <td>19691</td>\n      <td>7.2</td>\n      <td>298</td>\n      <td>245.566</td>\n      <td>233.743</td>\n    </tr>\n    <tr>\n      <th>41</th>\n      <td>10</td>\n      <td>2013</td>\n      <td>14876</td>\n      <td>7.2</td>\n      <td>223</td>\n      <td>243.374</td>\n      <td>233.782</td>\n    </tr>\n    <tr>\n      <th>45</th>\n      <td>11</td>\n      <td>2013</td>\n      <td>16751</td>\n      <td>7.0</td>\n      <td>231</td>\n      <td>242.301</td>\n      <td>234.033</td>\n    </tr>\n    <tr>\n      <th>49</th>\n      <td>12</td>\n      <td>2013</td>\n      <td>21692</td>\n      <td>6.7</td>\n      <td>279</td>\n      <td>246.189</td>\n      <td>234.594</td>\n    </tr>\n  </tbody>\n</table>\n</div>",
            "text/plain": "    Month  Year  ElantraSales  Unemployment  Queries  CPI_energy  CPI_all\n3       1  2013         12174           7.9      230     242.560  231.321\n4       1  2014         15326           6.6      232     247.575  234.933\n8       2  2013         16219           7.7      239     252.639  232.599\n9       2  2014         16393           6.7      240     246.389  235.169\n13      3  2013         26153           7.5      313     244.598  232.075\n17      4  2013         24445           7.5      248     238.860  231.707\n21      5  2013         25090           7.5      252     240.972  232.124\n25      6  2013         22163           7.5      320     245.412  232.860\n29      7  2013         23958           7.3      274     245.926  233.252\n33      8  2013         24700           7.2      271     244.917  233.433\n37      9  2013         19691           7.2      298     245.566  233.743\n41     10  2013         14876           7.2      223     243.374  233.782\n45     11  2013         16751           7.0      231     242.301  234.033\n49     12  2013         21692           6.7      279     246.189  234.594"
          },
          "metadata": {}
        }
      ]
    },
    {
      "metadata": {
        "trusted": true
      },
      "cell_type": "code",
      "source": "pd.",
      "execution_count": null,
      "outputs": []
    },
    {
      "metadata": {
        "trusted": true
      },
      "cell_type": "code",
      "source": "",
      "execution_count": null,
      "outputs": []
    },
    {
      "metadata": {
        "trusted": true
      },
      "cell_type": "code",
      "source": "",
      "execution_count": null,
      "outputs": []
    },
    {
      "metadata": {
        "trusted": true
      },
      "cell_type": "code",
      "source": "",
      "execution_count": null,
      "outputs": []
    },
    {
      "metadata": {
        "trusted": true
      },
      "cell_type": "code",
      "source": "",
      "execution_count": null,
      "outputs": []
    },
    {
      "metadata": {
        "trusted": true
      },
      "cell_type": "code",
      "source": "",
      "execution_count": null,
      "outputs": []
    },
    {
      "metadata": {
        "trusted": true
      },
      "cell_type": "code",
      "source": "",
      "execution_count": null,
      "outputs": []
    },
    {
      "metadata": {
        "trusted": true
      },
      "cell_type": "code",
      "source": "",
      "execution_count": null,
      "outputs": []
    },
    {
      "metadata": {
        "trusted": true
      },
      "cell_type": "code",
      "source": "",
      "execution_count": null,
      "outputs": []
    },
    {
      "metadata": {
        "trusted": true
      },
      "cell_type": "code",
      "source": "",
      "execution_count": null,
      "outputs": []
    }
  ],
  "metadata": {
    "kernelspec": {
      "name": "python36",
      "display_name": "Python 3.6",
      "language": "python"
    },
    "language_info": {
      "mimetype": "text/x-python",
      "nbconvert_exporter": "python",
      "name": "python",
      "pygments_lexer": "ipython3",
      "version": "3.6.6",
      "file_extension": ".py",
      "codemirror_mode": {
        "version": 3,
        "name": "ipython"
      }
    }
  },
  "nbformat": 4,
  "nbformat_minor": 2
}