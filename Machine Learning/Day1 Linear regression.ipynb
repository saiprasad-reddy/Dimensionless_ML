{
  "cells": [
    {
      "metadata": {
        "trusted": true
      },
      "cell_type": "code",
      "source": "import numpy as np\nimport pandas as pd\nimport matplotlib.pyplot as plt",
      "execution_count": 4,
      "outputs": []
    },
    {
      "metadata": {
        "trusted": true
      },
      "cell_type": "code",
      "source": "HTrain = pd.read_csv('https://storage.googleapis.com/dimensionless/ML_with_Python/Chapter%203%20Linear%20Regression/housing_train.csv')\nHTrain.shape",
      "execution_count": 5,
      "outputs": [
        {
          "output_type": "execute_result",
          "execution_count": 5,
          "data": {
            "text/plain": "(16512, 9)"
          },
          "metadata": {}
        }
      ]
    },
    {
      "metadata": {
        "trusted": true
      },
      "cell_type": "code",
      "source": "HTrain.head()",
      "execution_count": 6,
      "outputs": [
        {
          "output_type": "execute_result",
          "execution_count": 6,
          "data": {
            "text/html": "<div>\n<style scoped>\n    .dataframe tbody tr th:only-of-type {\n        vertical-align: middle;\n    }\n\n    .dataframe tbody tr th {\n        vertical-align: top;\n    }\n\n    .dataframe thead th {\n        text-align: right;\n    }\n</style>\n<table border=\"1\" class=\"dataframe\">\n  <thead>\n    <tr style=\"text-align: right;\">\n      <th></th>\n      <th>longitude</th>\n      <th>latitude</th>\n      <th>housing_median_age</th>\n      <th>total_rooms</th>\n      <th>total_bedrooms</th>\n      <th>population</th>\n      <th>households</th>\n      <th>median_income</th>\n      <th>median_house_value</th>\n    </tr>\n  </thead>\n  <tbody>\n    <tr>\n      <th>0</th>\n      <td>1.267645</td>\n      <td>-1.367976</td>\n      <td>0.346478</td>\n      <td>0.224718</td>\n      <td>0.214986</td>\n      <td>0.772251</td>\n      <td>0.322924</td>\n      <td>-0.321654</td>\n      <td>103000.0</td>\n    </tr>\n    <tr>\n      <th>1</th>\n      <td>0.703627</td>\n      <td>-0.871699</td>\n      <td>1.617807</td>\n      <td>0.342065</td>\n      <td>0.596500</td>\n      <td>-0.098440</td>\n      <td>0.670799</td>\n      <td>-0.030620</td>\n      <td>382100.0</td>\n    </tr>\n    <tr>\n      <th>2</th>\n      <td>-0.454356</td>\n      <td>-0.455012</td>\n      <td>-1.957806</td>\n      <td>-0.338639</td>\n      <td>-0.490815</td>\n      <td>-0.450778</td>\n      <td>-0.427755</td>\n      <td>0.150349</td>\n      <td>172600.0</td>\n    </tr>\n    <tr>\n      <th>3</th>\n      <td>1.227714</td>\n      <td>-1.377340</td>\n      <td>0.584852</td>\n      <td>-0.556832</td>\n      <td>-0.404974</td>\n      <td>-0.006602</td>\n      <td>-0.378059</td>\n      <td>-1.014947</td>\n      <td>93400.0</td>\n    </tr>\n    <tr>\n      <th>4</th>\n      <td>-0.114948</td>\n      <td>0.537543</td>\n      <td>1.141059</td>\n      <td>-0.116322</td>\n      <td>-0.252369</td>\n      <td>-0.486983</td>\n      <td>-0.312669</td>\n      <td>-0.166583</td>\n      <td>96500.0</td>\n    </tr>\n  </tbody>\n</table>\n</div>",
            "text/plain": "   longitude  latitude  housing_median_age  total_rooms  total_bedrooms  \\\n0   1.267645 -1.367976            0.346478     0.224718        0.214986   \n1   0.703627 -0.871699            1.617807     0.342065        0.596500   \n2  -0.454356 -0.455012           -1.957806    -0.338639       -0.490815   \n3   1.227714 -1.377340            0.584852    -0.556832       -0.404974   \n4  -0.114948  0.537543            1.141059    -0.116322       -0.252369   \n\n   population  households  median_income  median_house_value  \n0    0.772251    0.322924      -0.321654            103000.0  \n1   -0.098440    0.670799      -0.030620            382100.0  \n2   -0.450778   -0.427755       0.150349            172600.0  \n3   -0.006602   -0.378059      -1.014947             93400.0  \n4   -0.486983   -0.312669      -0.166583             96500.0  "
          },
          "metadata": {}
        }
      ]
    },
    {
      "metadata": {
        "trusted": true
      },
      "cell_type": "code",
      "source": "HTrain.describe()",
      "execution_count": 7,
      "outputs": [
        {
          "output_type": "execute_result",
          "execution_count": 7,
          "data": {
            "text/html": "<div>\n<style scoped>\n    .dataframe tbody tr th:only-of-type {\n        vertical-align: middle;\n    }\n\n    .dataframe tbody tr th {\n        vertical-align: top;\n    }\n\n    .dataframe thead th {\n        text-align: right;\n    }\n</style>\n<table border=\"1\" class=\"dataframe\">\n  <thead>\n    <tr style=\"text-align: right;\">\n      <th></th>\n      <th>longitude</th>\n      <th>latitude</th>\n      <th>housing_median_age</th>\n      <th>total_rooms</th>\n      <th>total_bedrooms</th>\n      <th>population</th>\n      <th>households</th>\n      <th>median_income</th>\n      <th>median_house_value</th>\n    </tr>\n  </thead>\n  <tbody>\n    <tr>\n      <th>count</th>\n      <td>16512.000000</td>\n      <td>16512.000000</td>\n      <td>16512.000000</td>\n      <td>16512.000000</td>\n      <td>16512.000000</td>\n      <td>16512.000000</td>\n      <td>16512.000000</td>\n      <td>16512.000000</td>\n      <td>16512.000000</td>\n    </tr>\n    <tr>\n      <th>mean</th>\n      <td>-0.006282</td>\n      <td>0.005285</td>\n      <td>-0.002479</td>\n      <td>0.002861</td>\n      <td>0.003953</td>\n      <td>0.000862</td>\n      <td>0.001170</td>\n      <td>0.005308</td>\n      <td>207194.693738</td>\n    </tr>\n    <tr>\n      <th>std</th>\n      <td>1.001083</td>\n      <td>1.000358</td>\n      <td>1.001370</td>\n      <td>0.996830</td>\n      <td>0.999107</td>\n      <td>1.004081</td>\n      <td>0.996462</td>\n      <td>1.002378</td>\n      <td>115622.626448</td>\n    </tr>\n    <tr>\n      <th>min</th>\n      <td>-2.385992</td>\n      <td>-1.442886</td>\n      <td>-2.196180</td>\n      <td>-1.207283</td>\n      <td>-1.277688</td>\n      <td>-1.256123</td>\n      <td>-1.303984</td>\n      <td>-1.774299</td>\n      <td>14999.000000</td>\n    </tr>\n    <tr>\n      <th>25%</th>\n      <td>-1.118200</td>\n      <td>-0.796789</td>\n      <td>-0.845393</td>\n      <td>-0.541705</td>\n      <td>-0.572483</td>\n      <td>-0.562043</td>\n      <td>-0.574229</td>\n      <td>-0.686382</td>\n      <td>119800.000000</td>\n    </tr>\n    <tr>\n      <th>50%</th>\n      <td>0.528931</td>\n      <td>-0.642287</td>\n      <td>0.028646</td>\n      <td>-0.232294</td>\n      <td>-0.238062</td>\n      <td>-0.228249</td>\n      <td>-0.234201</td>\n      <td>-0.171005</td>\n      <td>179850.000000</td>\n    </tr>\n    <tr>\n      <th>75%</th>\n      <td>0.778496</td>\n      <td>0.977638</td>\n      <td>0.664310</td>\n      <td>0.240303</td>\n      <td>0.262675</td>\n      <td>0.265378</td>\n      <td>0.278458</td>\n      <td>0.475058</td>\n      <td>265125.000000</td>\n    </tr>\n    <tr>\n      <th>max</th>\n      <td>2.625280</td>\n      <td>2.958068</td>\n      <td>1.856182</td>\n      <td>16.815580</td>\n      <td>14.087789</td>\n      <td>30.250330</td>\n      <td>14.601520</td>\n      <td>5.858286</td>\n      <td>500001.000000</td>\n    </tr>\n  </tbody>\n</table>\n</div>",
            "text/plain": "          longitude      latitude  housing_median_age   total_rooms  \\\ncount  16512.000000  16512.000000        16512.000000  16512.000000   \nmean      -0.006282      0.005285           -0.002479      0.002861   \nstd        1.001083      1.000358            1.001370      0.996830   \nmin       -2.385992     -1.442886           -2.196180     -1.207283   \n25%       -1.118200     -0.796789           -0.845393     -0.541705   \n50%        0.528931     -0.642287            0.028646     -0.232294   \n75%        0.778496      0.977638            0.664310      0.240303   \nmax        2.625280      2.958068            1.856182     16.815580   \n\n       total_bedrooms    population    households  median_income  \\\ncount    16512.000000  16512.000000  16512.000000   16512.000000   \nmean         0.003953      0.000862      0.001170       0.005308   \nstd          0.999107      1.004081      0.996462       1.002378   \nmin         -1.277688     -1.256123     -1.303984      -1.774299   \n25%         -0.572483     -0.562043     -0.574229      -0.686382   \n50%         -0.238062     -0.228249     -0.234201      -0.171005   \n75%          0.262675      0.265378      0.278458       0.475058   \nmax         14.087789     30.250330     14.601520       5.858286   \n\n       median_house_value  \ncount        16512.000000  \nmean        207194.693738  \nstd         115622.626448  \nmin          14999.000000  \n25%         119800.000000  \n50%         179850.000000  \n75%         265125.000000  \nmax         500001.000000  "
          },
          "metadata": {}
        }
      ]
    },
    {
      "metadata": {
        "trusted": true
      },
      "cell_type": "code",
      "source": "plt.figure()\nplt.scatter(HTrain['median_income'],HTrain['median_house_value'],s=20,c='red');\n#as there are some data point scattered away it is weak postivie rather than strong positive\n#for strong strong postivie no points should be scattered",
      "execution_count": 8,
      "outputs": [
        {
          "output_type": "display_data",
          "data": {
            "image/png": "[encoded data removed]",
            "text/plain": "<Figure size 432x288 with 1 Axes>"
          },
          "metadata": {
            "needs_background": "light"
          }
        }
      ]
    },
    {
      "metadata": {
        "trusted": true
      },
      "cell_type": "code",
      "source": "HTrain['median_income'].corr(HTrain['median_house_value'])",
      "execution_count": 9,
      "outputs": [
        {
          "output_type": "execute_result",
          "execution_count": 9,
          "data": {
            "text/plain": "0.6906466061467708"
          },
          "metadata": {}
        }
      ]
    },
    {
      "metadata": {},
      "cell_type": "markdown",
      "source": "<h3>Step 1</h3>"
    },
    {
      "metadata": {
        "trusted": true
      },
      "cell_type": "code",
      "source": "from sklearn.linear_model import LinearRegression\nfrom sklearn.metrics import mean_squared_error",
      "execution_count": 10,
      "outputs": []
    },
    {
      "metadata": {},
      "cell_type": "markdown",
      "source": "<h3>Step 2</h3>"
    },
    {
      "metadata": {
        "trusted": true
      },
      "cell_type": "code",
      "source": "lin_reg = LinearRegression()  #creating instance of LinearRegression",
      "execution_count": 11,
      "outputs": []
    },
    {
      "metadata": {},
      "cell_type": "markdown",
      "source": "<h3>Step 3</h3>"
    },
    {
      "metadata": {
        "trusted": true
      },
      "cell_type": "code",
      "source": "lin_reg.fit(HTrain[['median_income']],HTrain['median_house_value']) #build linear regression model for income and house value\n#feature matrix is 2d as income has only one varaible but taking two squares as 2D",
      "execution_count": 12,
      "outputs": [
        {
          "output_type": "execute_result",
          "execution_count": 12,
          "data": {
            "text/plain": "LinearRegression(copy_X=True, fit_intercept=True, n_jobs=None,\n         normalize=False)"
          },
          "metadata": {}
        }
      ]
    },
    {
      "metadata": {},
      "cell_type": "markdown",
      "source": "<h3>Step 4</h3>"
    },
    {
      "metadata": {
        "trusted": true
      },
      "cell_type": "code",
      "source": "lin_reg.coef_  # slope m",
      "execution_count": 13,
      "outputs": [
        {
          "output_type": "execute_result",
          "execution_count": 13,
          "data": {
            "text/plain": "array([79664.90785833])"
          },
          "metadata": {}
        }
      ]
    },
    {
      "metadata": {
        "trusted": true
      },
      "cell_type": "code",
      "source": "lin_reg.intercept_  #intercept",
      "execution_count": 14,
      "outputs": [
        {
          "output_type": "execute_result",
          "execution_count": 14,
          "data": {
            "text/plain": "206771.86405797795"
          },
          "metadata": {}
        }
      ]
    },
    {
      "metadata": {},
      "cell_type": "markdown",
      "source": "<h3>Step 5</h3>"
    },
    {
      "metadata": {
        "trusted": true
      },
      "cell_type": "code",
      "source": "lin_reg.score(HTrain[['median_income']],HTrain['median_house_value'])",
      "execution_count": 15,
      "outputs": [
        {
          "output_type": "execute_result",
          "execution_count": 15,
          "data": {
            "text/plain": "0.47699273458205255"
          },
          "metadata": {}
        }
      ]
    },
    {
      "metadata": {
        "trusted": true
      },
      "cell_type": "code",
      "source": "y_pred_train = lin_reg.predict(HTrain[['median_income']])\ny_pred_train[:5]",
      "execution_count": 16,
      "outputs": [
        {
          "output_type": "execute_result",
          "execution_count": 16,
          "data": {
            "text/plain": "array([181147.30465315, 204332.52998299, 218749.38740458, 125916.23161656,\n       193501.01668457])"
          },
          "metadata": {}
        }
      ]
    },
    {
      "metadata": {
        "trusted": true
      },
      "cell_type": "code",
      "source": "HTrain.median_house_value[:5]",
      "execution_count": 17,
      "outputs": [
        {
          "output_type": "execute_result",
          "execution_count": 17,
          "data": {
            "text/plain": "0    103000.0\n1    382100.0\n2    172600.0\n3     93400.0\n4     96500.0\nName: median_house_value, dtype: float64"
          },
          "metadata": {}
        }
      ]
    },
    {
      "metadata": {
        "trusted": true
      },
      "cell_type": "code",
      "source": "lin_rmse = np.sqrt(mean_squared_error(HTrain['median_house_value'],y_pred_train))\nlin_rmse",
      "execution_count": 18,
      "outputs": [
        {
          "output_type": "execute_result",
          "execution_count": 18,
          "data": {
            "text/plain": "83614.87409655548"
          },
          "metadata": {}
        }
      ]
    },
    {
      "metadata": {
        "trusted": true
      },
      "cell_type": "code",
      "source": "plt.scatter(HTrain[['median_income']],HTrain['median_house_value'])\nplt.plot(HTrain[['median_income']],y_pred_train,'r')\nplt.axis([-2,6,0,550000])\nplt.xlabel('Median Income')\nplt.ylabel('Median House Price')\nplt.title('Linear Regression on median_income ~ median_house_value')",
      "execution_count": 19,
      "outputs": [
        {
          "output_type": "execute_result",
          "execution_count": 19,
          "data": {
            "text/plain": "Text(0.5, 1.0, 'Linear Regression on median_income ~ median_house_value')"
          },
          "metadata": {}
        },
        {
          "output_type": "display_data",
          "data": {
            "image/png": "[encoded data removed]",
            "text/plain": "<Figure size 432x288 with 1 Axes>"
          },
          "metadata": {
            "needs_background": "light"
          }
        }
      ]
    },
    {
      "metadata": {},
      "cell_type": "markdown",
      "source": "<h3>Best fit using Gradient Decent</h3>"
    },
    {
      "metadata": {
        "trusted": true
      },
      "cell_type": "code",
      "source": "from sklearn.linear_model import SGDRegressor",
      "execution_count": 20,
      "outputs": []
    },
    {
      "metadata": {
        "trusted": true
      },
      "cell_type": "code",
      "source": "gdreg = SGDRegressor()",
      "execution_count": 21,
      "outputs": []
    },
    {
      "metadata": {
        "trusted": true
      },
      "cell_type": "code",
      "source": "gdreg.fit(HTrain[['median_income']],HTrain['median_house_value'])",
      "execution_count": 22,
      "outputs": [
        {
          "output_type": "stream",
          "text": "/home/nbuser/anaconda3_501/lib/python3.6/site-packages/sklearn/linear_model/stochastic_gradient.py:166: FutureWarning: max_iter and tol parameters have been added in SGDRegressor in 0.19. If both are left unset, they default to max_iter=5 and tol=None. If tol is not None, max_iter defaults to max_iter=1000. From 0.21, default max_iter will be 1000, and default tol will be 1e-3.\n  FutureWarning)\n",
          "name": "stderr"
        },
        {
          "output_type": "execute_result",
          "execution_count": 22,
          "data": {
            "text/plain": "SGDRegressor(alpha=0.0001, average=False, early_stopping=False, epsilon=0.1,\n       eta0=0.01, fit_intercept=True, l1_ratio=0.15,\n       learning_rate='invscaling', loss='squared_loss', max_iter=None,\n       n_iter=None, n_iter_no_change=5, penalty='l2', power_t=0.25,\n       random_state=None, shuffle=True, tol=None, validation_fraction=0.1,\n       verbose=0, warm_start=False)"
          },
          "metadata": {}
        }
      ]
    },
    {
      "metadata": {
        "trusted": true
      },
      "cell_type": "code",
      "source": "gdreg.coef_",
      "execution_count": 23,
      "outputs": [
        {
          "output_type": "execute_result",
          "execution_count": 23,
          "data": {
            "text/plain": "array([81678.62413369])"
          },
          "metadata": {}
        }
      ]
    },
    {
      "metadata": {
        "trusted": true
      },
      "cell_type": "code",
      "source": "gdreg.intercept_",
      "execution_count": 24,
      "outputs": [
        {
          "output_type": "execute_result",
          "execution_count": 24,
          "data": {
            "text/plain": "array([206037.15320124])"
          },
          "metadata": {}
        }
      ]
    },
    {
      "metadata": {
        "trusted": true
      },
      "cell_type": "code",
      "source": "gdreg.score(HTrain[['median_income']],HTrain['median_house_value'])",
      "execution_count": 25,
      "outputs": [
        {
          "output_type": "execute_result",
          "execution_count": 25,
          "data": {
            "text/plain": "0.47664874881835956"
          },
          "metadata": {}
        }
      ]
    },
    {
      "metadata": {
        "trusted": true
      },
      "cell_type": "code",
      "source": "y_pred_gd = gdreg.predict(HTrain[['median_income']])\ny_pred_gd[:5]",
      "execution_count": 26,
      "outputs": [
        {
          "output_type": "execute_result",
          "execution_count": 26,
          "data": {
            "text/plain": "array([179764.87331685, 203536.15927049, 218317.4363746 , 123137.70614459,\n       192430.85422107])"
          },
          "metadata": {}
        }
      ]
    },
    {
      "metadata": {
        "trusted": true
      },
      "cell_type": "code",
      "source": "HTrain.median_house_value[:5]",
      "execution_count": 27,
      "outputs": [
        {
          "output_type": "execute_result",
          "execution_count": 27,
          "data": {
            "text/plain": "0    103000.0\n1    382100.0\n2    172600.0\n3     93400.0\n4     96500.0\nName: median_house_value, dtype: float64"
          },
          "metadata": {}
        }
      ]
    },
    {
      "metadata": {
        "trusted": true
      },
      "cell_type": "code",
      "source": "gdreg_rmse = np.sqrt(mean_squared_error(HTrain['median_house_value'],y_pred_gd))\ngdreg_rmse",
      "execution_count": 28,
      "outputs": [
        {
          "output_type": "execute_result",
          "execution_count": 28,
          "data": {
            "text/plain": "83642.36663870486"
          },
          "metadata": {}
        }
      ]
    },
    {
      "metadata": {
        "trusted": true
      },
      "cell_type": "code",
      "source": "plt.scatter(HTrain[['median_income']],HTrain['median_house_value'])\nplt.plot(HTrain[['median_income']],y_pred_gd,'r')\nplt.axis([-2,6,0,550000])\nplt.xlabel('Median Income')\nplt.ylabel('Median House Price')\nplt.title('Linear Regression on median_income ~ median_house_value')",
      "execution_count": 29,
      "outputs": [
        {
          "output_type": "execute_result",
          "execution_count": 29,
          "data": {
            "text/plain": "Text(0.5, 1.0, 'Linear Regression on median_income ~ median_house_value')"
          },
          "metadata": {}
        },
        {
          "output_type": "display_data",
          "data": {
            "image/png": "[encoded data removed]",
            "text/plain": "<Figure size 432x288 with 1 Axes>"
          },
          "metadata": {
            "needs_background": "light"
          }
        }
      ]
    },
    {
      "metadata": {},
      "cell_type": "markdown",
      "source": "<h3>2. Multiple Linear Regression</h3>"
    },
    {
      "metadata": {
        "trusted": true
      },
      "cell_type": "code",
      "source": "model_all = LinearRegression()",
      "execution_count": 30,
      "outputs": []
    },
    {
      "metadata": {
        "trusted": true
      },
      "cell_type": "code",
      "source": "HTrain.head()",
      "execution_count": 31,
      "outputs": [
        {
          "output_type": "execute_result",
          "execution_count": 31,
          "data": {
            "text/html": "<div>\n<style scoped>\n    .dataframe tbody tr th:only-of-type {\n        vertical-align: middle;\n    }\n\n    .dataframe tbody tr th {\n        vertical-align: top;\n    }\n\n    .dataframe thead th {\n        text-align: right;\n    }\n</style>\n<table border=\"1\" class=\"dataframe\">\n  <thead>\n    <tr style=\"text-align: right;\">\n      <th></th>\n      <th>longitude</th>\n      <th>latitude</th>\n      <th>housing_median_age</th>\n      <th>total_rooms</th>\n      <th>total_bedrooms</th>\n      <th>population</th>\n      <th>households</th>\n      <th>median_income</th>\n      <th>median_house_value</th>\n    </tr>\n  </thead>\n  <tbody>\n    <tr>\n      <th>0</th>\n      <td>1.267645</td>\n      <td>-1.367976</td>\n      <td>0.346478</td>\n      <td>0.224718</td>\n      <td>0.214986</td>\n      <td>0.772251</td>\n      <td>0.322924</td>\n      <td>-0.321654</td>\n      <td>103000.0</td>\n    </tr>\n    <tr>\n      <th>1</th>\n      <td>0.703627</td>\n      <td>-0.871699</td>\n      <td>1.617807</td>\n      <td>0.342065</td>\n      <td>0.596500</td>\n      <td>-0.098440</td>\n      <td>0.670799</td>\n      <td>-0.030620</td>\n      <td>382100.0</td>\n    </tr>\n    <tr>\n      <th>2</th>\n      <td>-0.454356</td>\n      <td>-0.455012</td>\n      <td>-1.957806</td>\n      <td>-0.338639</td>\n      <td>-0.490815</td>\n      <td>-0.450778</td>\n      <td>-0.427755</td>\n      <td>0.150349</td>\n      <td>172600.0</td>\n    </tr>\n    <tr>\n      <th>3</th>\n      <td>1.227714</td>\n      <td>-1.377340</td>\n      <td>0.584852</td>\n      <td>-0.556832</td>\n      <td>-0.404974</td>\n      <td>-0.006602</td>\n      <td>-0.378059</td>\n      <td>-1.014947</td>\n      <td>93400.0</td>\n    </tr>\n    <tr>\n      <th>4</th>\n      <td>-0.114948</td>\n      <td>0.537543</td>\n      <td>1.141059</td>\n      <td>-0.116322</td>\n      <td>-0.252369</td>\n      <td>-0.486983</td>\n      <td>-0.312669</td>\n      <td>-0.166583</td>\n      <td>96500.0</td>\n    </tr>\n  </tbody>\n</table>\n</div>",
            "text/plain": "   longitude  latitude  housing_median_age  total_rooms  total_bedrooms  \\\n0   1.267645 -1.367976            0.346478     0.224718        0.214986   \n1   0.703627 -0.871699            1.617807     0.342065        0.596500   \n2  -0.454356 -0.455012           -1.957806    -0.338639       -0.490815   \n3   1.227714 -1.377340            0.584852    -0.556832       -0.404974   \n4  -0.114948  0.537543            1.141059    -0.116322       -0.252369   \n\n   population  households  median_income  median_house_value  \n0    0.772251    0.322924      -0.321654            103000.0  \n1   -0.098440    0.670799      -0.030620            382100.0  \n2   -0.450778   -0.427755       0.150349            172600.0  \n3   -0.006602   -0.378059      -1.014947             93400.0  \n4   -0.486983   -0.312669      -0.166583             96500.0  "
          },
          "metadata": {}
        }
      ]
    },
    {
      "metadata": {
        "trusted": true
      },
      "cell_type": "code",
      "source": "#feature matrix\nX_train = HTrain.drop('median_house_value', axis=1)\nX_train.head()\nX_train.shape",
      "execution_count": 32,
      "outputs": [
        {
          "output_type": "execute_result",
          "execution_count": 32,
          "data": {
            "text/plain": "(16512, 8)"
          },
          "metadata": {}
        }
      ]
    },
    {
      "metadata": {
        "trusted": true
      },
      "cell_type": "code",
      "source": "#Traget Array\ny_train = HTrain.median_house_value\ny_train.head()\ny_train.shape",
      "execution_count": 33,
      "outputs": [
        {
          "output_type": "execute_result",
          "execution_count": 33,
          "data": {
            "text/plain": "(16512,)"
          },
          "metadata": {}
        }
      ]
    },
    {
      "metadata": {
        "trusted": true
      },
      "cell_type": "code",
      "source": "model_all.fit(X_train,y_train)",
      "execution_count": 34,
      "outputs": [
        {
          "output_type": "execute_result",
          "execution_count": 34,
          "data": {
            "text/plain": "LinearRegression(copy_X=True, fit_intercept=True, n_jobs=None,\n         normalize=False)"
          },
          "metadata": {}
        }
      ]
    },
    {
      "metadata": {
        "trusted": true
      },
      "cell_type": "code",
      "source": "model_all.coef_",
      "execution_count": 35,
      "outputs": [
        {
          "output_type": "execute_result",
          "execution_count": 35,
          "data": {
            "text/plain": "array([-85413.28005747, -90669.136247  ,  14885.95835764, -17862.58294108,\n        48757.37209674, -43589.91735845,  17717.71485854,  77013.87535191])"
          },
          "metadata": {}
        }
      ]
    },
    {
      "metadata": {
        "trusted": true
      },
      "cell_type": "code",
      "source": "model_all.intercept_",
      "execution_count": 36,
      "outputs": [
        {
          "output_type": "execute_result",
          "execution_count": 36,
          "data": {
            "text/plain": "206640.6370318638"
          },
          "metadata": {}
        }
      ]
    },
    {
      "metadata": {
        "trusted": true
      },
      "cell_type": "code",
      "source": "model_all.score(X_train,y_train)",
      "execution_count": 37,
      "outputs": [
        {
          "output_type": "execute_result",
          "execution_count": 37,
          "data": {
            "text/plain": "0.6400947924305294"
          },
          "metadata": {}
        }
      ]
    },
    {
      "metadata": {
        "trusted": true
      },
      "cell_type": "code",
      "source": "y_pred_all = model_all.predict(X_train)\ny_pred_all",
      "execution_count": 38,
      "outputs": [
        {
          "output_type": "execute_result",
          "execution_count": 38,
          "data": {
            "text/plain": "array([181313.23430336, 286451.78145111, 263328.07605751, ...,\n       191338.67423602, 273178.05856515, 278432.75202799])"
          },
          "metadata": {}
        }
      ]
    },
    {
      "metadata": {
        "trusted": true
      },
      "cell_type": "code",
      "source": "All_rmse = np.sqrt(mean_squared_error(HTrain.median_house_value,y_pred_all))\nAll_rmse",
      "execution_count": 39,
      "outputs": [
        {
          "output_type": "execute_result",
          "execution_count": 39,
          "data": {
            "text/plain": "69362.34135238081"
          },
          "metadata": {}
        }
      ]
    },
    {
      "metadata": {
        "trusted": true
      },
      "cell_type": "code",
      "source": "plt.scatter(HTrain[['median_income']],HTrain['median_house_value'])\nplt.plot(HTrain[['median_income']],y_pred_all,'r')\nplt.axis([-2,6,0,550000])\nplt.xlabel('Median Income')\nplt.ylabel('Median House Price')\nplt.title('Linear Regression on median_income ~ median_house_value')",
      "execution_count": 40,
      "outputs": [
        {
          "output_type": "execute_result",
          "execution_count": 40,
          "data": {
            "text/plain": "Text(0.5, 1.0, 'Linear Regression on median_income ~ median_house_value')"
          },
          "metadata": {}
        },
        {
          "output_type": "display_data",
          "data": {
            "image/png": "[encoded data removed]",
            "text/plain": "<Figure size 432x288 with 1 Axes>"
          },
          "metadata": {
            "needs_background": "light"
          }
        }
      ]
    },
    {
      "metadata": {},
      "cell_type": "markdown",
      "source": "<h3>Adding one by one feature one by one to understand multiple linear regression</h3>"
    },
    {
      "metadata": {
        "trusted": true
      },
      "cell_type": "code",
      "source": "HTrain.corr",
      "execution_count": 41,
      "outputs": [
        {
          "output_type": "execute_result",
          "execution_count": 41,
          "data": {
            "text/plain": "<bound method DataFrame.corr of        longitude  latitude  housing_median_age  total_rooms  total_bedrooms  \\\n0       1.267645 -1.367976            0.346478     0.224718        0.214986   \n1       0.703627 -0.871699            1.617807     0.342065        0.596500   \n2      -0.454356 -0.455012           -1.957806    -0.338639       -0.490815   \n3       1.227714 -1.377340            0.584852    -0.556832       -0.404974   \n4      -0.114948  0.537543            1.141059    -0.116322       -0.252369   \n5      -1.143157  0.837182           -0.686477     1.098404        0.646574   \n6       0.798462 -0.745288           -0.050812    -0.435359       -0.285751   \n7      -1.477574  1.066594            0.664310    -0.051231       -0.331056   \n8       0.833401 -0.703151           -1.878348    -0.692056       -0.526582   \n9       0.888305 -0.754652           -1.878348     7.359055        5.544260   \n10     -1.437644  0.977638            1.856182    -0.758064       -0.810333   \n11      0.608792 -0.778061           -0.289187    -0.353766        0.188757   \n12     -0.075017  0.855910           -1.242684    -0.291884       -0.385899   \n13     -1.153139  0.795046            0.584852    -0.335431        0.362823   \n14      0.613783 -0.679742            1.379433    -0.569667       -0.562349   \n15      0.668688 -0.815516            0.584852    -0.017310       -0.054458   \n16     -1.038339  0.486043            1.856182    -0.130532       -0.185604   \n17     -0.883609  1.122776           -0.686477     0.722985        0.510659   \n18      0.568862 -0.614196            0.425936     0.009735       -0.052074   \n19      0.643731 -0.796789           -0.607019    -0.819946       -0.617192   \n20      1.112914 -0.689106            0.187562    -0.472030       -0.435972   \n21     -1.203053  0.752909            0.505394     0.430076       -0.123608   \n22     -1.787035  1.548826           -0.527561    -0.216708       -0.240446   \n23      0.643731 -0.773379            1.141059    -0.639800       -0.536120   \n24     -1.367766  2.461790           -0.845393    -0.862576       -0.896174   \n25     -1.352792  1.057230            1.856182    -0.259338       -0.495584   \n26     -0.998409  1.801647           -1.083767    -1.115606       -1.151311   \n27      0.653714 -0.726561            1.379433    -0.775024       -0.683957   \n28      0.748549 -0.857653           -0.527561    -0.570583       -0.474124   \n29     -0.609087  0.200449            0.028646    -0.329930       -0.359670   \n...          ...       ...                 ...          ...             ...   \n16482  -1.053313  1.075958            1.220517    -0.743395       -0.743568   \n16483  -0.219765  1.525417           -0.368645    -0.443152       -0.273829   \n16484   0.249418 -0.169419           -0.289187     0.204091        0.234062   \n16485  -1.537470  1.216414            1.856182    -0.326721       -0.342978   \n16486  -1.332827  1.010411            1.458891    -0.579293       -0.338209   \n16487   1.996375 -1.335203           -0.686477    -0.505034       -0.719723   \n16488  -1.138166  0.762273           -1.004309    -0.299677       -0.612423   \n16489  -1.252966  1.249187           -2.116722     1.871245        0.765797   \n16490   0.568862 -0.843607           -0.765935     1.636550        2.561297   \n16491   0.768514 -0.698469            1.220517    -0.545372       -0.683957   \n16492  -1.267940  1.960830           -0.130270    -0.720017       -0.769797   \n16493  -1.178096  0.790364            1.856182    -0.538955       -0.106917   \n16494   0.793470 -0.698469           -0.130270     1.698433        1.793500   \n16495   0.613783 -0.759334            0.505394    -0.585252       -0.424050   \n16496   0.568862 -0.735924            0.982143    -0.537579       -0.643421   \n16497  -0.030095  0.453269            0.346478    -0.479823       -0.579040   \n16498  -1.257957  0.944865            0.505394    -0.665469       -0.803180   \n16499  -1.352792  1.104049           -0.050812     0.534130        0.203064   \n16500   0.633748 -0.787425            0.982143    -0.265298        0.031382   \n16501  -1.437644  0.982320            1.856182    -0.057648       -0.235678   \n16502   0.813436 -0.885744           -0.368645     0.739029        0.722876   \n16503   1.167818 -1.321158           -0.050812    -0.516952       -0.652958   \n16504   0.658705 -0.731243           -0.845393     0.761490        2.105865   \n16505  -1.422670  0.930820            0.902685    -0.499992       -0.650574   \n16506   0.813436 -0.740606            0.425936    -0.415648       -0.507506   \n16507   0.803453 -0.867017            0.505394    -0.598545       -0.800795   \n16508   1.067992 -0.754652            0.346478     0.205466        0.079072   \n16509   0.593818 -0.749970            0.584852    -0.245128        0.076687   \n16510  -1.193070  0.912092           -1.083767     0.430534        0.143452   \n16511  -1.422670  1.001048            1.856182     0.728944        1.855496   \n\n       population  households  median_income  median_house_value  \n0        0.772251    0.322924      -0.321654            103000.0  \n1       -0.098440    0.670799      -0.030620            382100.0  \n2       -0.450778   -0.427755       0.150349            172600.0  \n3       -0.006602   -0.378059      -1.014947             93400.0  \n4       -0.486983   -0.312669      -0.166583             96500.0  \n5        1.121056    0.788502       1.448607            264800.0  \n6       -0.062235   -0.291744      -0.711385            157300.0  \n7       -0.376602   -0.215891       2.167903            500001.0  \n8       -0.535551   -0.493146      -1.247869            139800.0  \n9        7.065770    5.956940       1.345385            315600.0  \n10      -0.682138   -0.859331       0.182142            231900.0  \n11       0.251249    0.197375      -0.863455            159400.0  \n12      -0.596482   -0.500992      -0.524099             96000.0  \n13       1.885781    0.346464      -0.933516            187500.0  \n14      -0.628272   -0.534995      -0.556998            229900.0  \n15       0.394304    0.037823      -0.370555            117700.0  \n16      -0.226483   -0.158348      -0.514940            169600.0  \n17       0.570031    0.560944       0.281943            130800.0  \n18       0.461416    0.084903       0.190722            157400.0  \n19      -0.125815   -0.582076      -1.283189             94100.0  \n20      -0.332449   -0.430371      -0.882826             72700.0  \n21      -0.088726   -0.061571       2.459148            500001.0  \n22      -0.333332   -0.370212      -0.607214             95800.0  \n23      -0.287413   -0.493146      -1.208391             97500.0  \n24      -1.040658   -1.026729      -0.848717             78800.0  \n25      -0.621207   -0.506224       0.814006            292000.0  \n26      -1.130729   -1.201975      -1.603069             42500.0  \n27      -0.455193   -0.647466      -0.193060            187500.0  \n28      -0.543499   -0.534995       0.004489            218200.0  \n29      -0.358941   -0.485299      -0.727755             87500.0  \n...           ...         ...            ...                 ...  \n16482   -0.637102   -0.684085      -1.166070            119400.0  \n16483   -0.738653   -0.571614      -0.453617            100800.0  \n16484    0.357216    0.239224      -0.679170             97900.0  \n16485   -0.455193   -0.404215      -0.221432            200600.0  \n16486   -0.166435   -0.514070      -0.918883             95500.0  \n16487   -0.489632   -0.725935       1.263743             97200.0  \n16488   -0.349227   -0.529764       1.349227            289200.0  \n16489    0.517931    0.404007       1.587834            305200.0  \n16490    0.909124    2.543574       0.670779            420200.0  \n16491   -0.622090   -0.671007       0.452753            352200.0  \n16492   -0.810181   -0.788709      -0.655694             91700.0  \n16493   -0.230015   -0.116498      -0.677644            167500.0  \n16494    1.301199    1.811204      -0.124789            235200.0  \n16495   -0.680372   -0.414677      -0.691593            312500.0  \n16496   -0.728057   -0.608232       0.793267            500001.0  \n16497   -0.285647   -0.503608      -1.001735             62400.0  \n16498   -0.753665   -0.799172       0.444068            193800.0  \n16499    0.201798    0.186912       0.265468            193300.0  \n16500    0.335139    0.016898      -1.381832            100800.0  \n16501   -0.240611   -0.242047       0.659619            335100.0  \n16502    1.494588    0.780655       0.185037            207200.0  \n16503   -0.379251   -0.608232      -0.035831            270000.0  \n16504    2.566614    2.057071      -0.850717            192500.0  \n16505   -0.591184   -0.568998       0.312473            308100.0  \n16506   -0.074597   -0.459143      -0.052570            163500.0  \n16507   -0.677723   -0.739013       1.315592            229200.0  \n16508    0.289220   -0.132192      -0.431983             97800.0  \n16509    0.291870    0.071825      -0.492832            222100.0  \n16510    0.310414    0.155525       0.973025            283500.0  \n16511    1.053944    1.941984      -0.681749            325000.0  \n\n[16512 rows x 9 columns]>"
          },
          "metadata": {}
        }
      ]
    },
    {
      "metadata": {},
      "cell_type": "markdown",
      "source": "<h3>Model with longitutude variabe</h3>"
    },
    {
      "metadata": {
        "trusted": true
      },
      "cell_type": "code",
      "source": "model1 = LinearRegression()\nmodel1.fit(X_train[['longitude']],y_train)\nmodel1.coef_\nmodel1.intercept_\nmodel1.score(X_train[['longitude']],y_train)",
      "execution_count": 42,
      "outputs": [
        {
          "output_type": "execute_result",
          "execution_count": 42,
          "data": {
            "text/plain": "0.0021482189561508047"
          },
          "metadata": {}
        }
      ]
    },
    {
      "metadata": {},
      "cell_type": "markdown",
      "source": "<h3>Model with longitutude and lattitude variabe</h3>"
    },
    {
      "metadata": {
        "trusted": true
      },
      "cell_type": "code",
      "source": "model2 = LinearRegression()\nmodel2.fit(X_train[['longitude','latitude']],y_train)\nmodel2.coef_\nmodel2.intercept_\nmodel2.score(X_train[['longitude','latitude']],y_train)",
      "execution_count": 43,
      "outputs": [
        {
          "output_type": "execute_result",
          "execution_count": 43,
          "data": {
            "text/plain": "0.23977500440286748"
          },
          "metadata": {}
        }
      ]
    },
    {
      "metadata": {},
      "cell_type": "markdown",
      "source": "<h3>Model with longitutude , lattitude variabe and housing_median_age and find coefficient of housing_median_age</h3>"
    },
    {
      "metadata": {
        "trusted": true
      },
      "cell_type": "code",
      "source": "model3 = LinearRegression()\nmodel3.fit(X_train[['longitude','latitude','housing_median_age']],y_train)\nprint(model3.coef_)#1st value for longtitude 2nd for latitude 3rd for housing\nmodel3.intercept_\nmodel3.score(X_train[['longitude','latitude','housing_median_age']],y_train)",
      "execution_count": 44,
      "outputs": [
        {
          "output_type": "stream",
          "text": "[-143091.95032316 -148898.94074324   -1803.0265797 ]\n",
          "name": "stdout"
        },
        {
          "output_type": "execute_result",
          "execution_count": 44,
          "data": {
            "text/plain": "0.24000307748194905"
          },
          "metadata": {}
        }
      ]
    },
    {
      "metadata": {},
      "cell_type": "markdown",
      "source": "<h3>Model with longitutude ,lattitude, housing and toatl variabe</h3>"
    },
    {
      "metadata": {
        "trusted": true
      },
      "cell_type": "code",
      "source": "model4 = LinearRegression()\nmodel4.fit(X_train[['longitude','latitude','housing_median_age','total_rooms']],y_train)\nprint(model4.coef_)#1st value for longtitude 2nd for latitude 3rd for housing\nmodel4.intercept_\nmodel4.score(X_train[['longitude','latitude','housing_median_age','total_rooms']],y_train)",
      "execution_count": 45,
      "outputs": [
        {
          "output_type": "stream",
          "text": "[-139918.19489232 -145458.44039198    5180.33149439   18588.32272379]\n",
          "name": "stdout"
        },
        {
          "output_type": "execute_result",
          "execution_count": 45,
          "data": {
            "text/plain": "0.26221824117424786"
          },
          "metadata": {}
        }
      ]
    },
    {
      "metadata": {},
      "cell_type": "markdown",
      "source": "<h3>Model with longitutude,lattitude variabe, Housing, total rooms and toatal bed rooms</h3>"
    },
    {
      "metadata": {
        "trusted": true
      },
      "cell_type": "code",
      "source": "model5 = LinearRegression()\nmodel5.fit(X_train[['longitude','latitude','housing_median_age','total_rooms','total_bedrooms']],y_train)\nprint(model5.coef_)#1st value for longtitude 2nd for latitude 3rd for housing\nmodel5.intercept_\nmodel5.score(X_train[['longitude','latitude','housing_median_age','total_rooms','total_bedrooms']],y_train)",
      "execution_count": 46,
      "outputs": [
        {
          "output_type": "stream",
          "text": "[-140821.79695263 -148740.880461      6374.50953443   88723.50645406\n  -74804.09155293]\n",
          "name": "stdout"
        },
        {
          "output_type": "execute_result",
          "execution_count": 46,
          "data": {
            "text/plain": "0.31771834380202746"
          },
          "metadata": {}
        }
      ]
    },
    {
      "metadata": {},
      "cell_type": "markdown",
      "source": "<h3>Model with longitutude,lattitude variabe, Housing, total rooms , toatal bed rooms and population</h3>"
    },
    {
      "metadata": {
        "trusted": true
      },
      "cell_type": "code",
      "source": "model5 = LinearRegression()\nmodel5.fit(X_train[['longitude','latitude','housing_median_age','total_rooms','total_bedrooms','population']],y_train)\nprint(model5.coef_)#1st value for longtitude 2nd for latitude 3rd for housing\nmodel5.intercept_\nmodel5.score(X_train[['longitude','latitude','housing_median_age','total_rooms','total_bedrooms','population']],y_train)",
      "execution_count": 47,
      "outputs": [
        {
          "output_type": "stream",
          "text": "[-144389.62331851 -155699.63277662    6583.01551464  108502.58659167\n  -38029.63257305  -62562.8816911 ]\n",
          "name": "stdout"
        },
        {
          "output_type": "execute_result",
          "execution_count": 47,
          "data": {
            "text/plain": "0.3801845000742564"
          },
          "metadata": {}
        }
      ]
    },
    {
      "metadata": {},
      "cell_type": "markdown",
      "source": "<h3>Model with longitutude,lattitude variabe, Housing, total rooms , toatal bed rooms, population and households</h3>"
    },
    {
      "metadata": {
        "trusted": true
      },
      "cell_type": "code",
      "source": "model6 = LinearRegression()\nmodel6.fit(X_train[['longitude','latitude','housing_median_age','total_rooms','total_bedrooms','population','households']],y_train)\nprint(model6.coef_)#1st value for longtitude 2nd for latitude 3rd for housing\nmodel6.intercept_\nmodel6.score(X_train[['longitude','latitude','housing_median_age','total_rooms','total_bedrooms','population','households']],y_train)",
      "execution_count": 48,
      "outputs": [
        {
          "output_type": "stream",
          "text": "[-139798.10182907 -151645.85741153    6391.26182068  108158.05257741\n  -72441.0594132   -71027.870383     43062.25888446]\n",
          "name": "stdout"
        },
        {
          "output_type": "execute_result",
          "execution_count": 48,
          "data": {
            "text/plain": "0.3840491803301826"
          },
          "metadata": {}
        }
      ]
    },
    {
      "metadata": {},
      "cell_type": "markdown",
      "source": "<h3>Model with longitutude,lattitude variabe, Housing, total rooms , toatal bed rooms, population, households and median_income</h3>"
    },
    {
      "metadata": {
        "trusted": true
      },
      "cell_type": "code",
      "source": "model7 = LinearRegression()\nmodel7.fit(X_train[['longitude','latitude','housing_median_age','total_rooms','total_bedrooms','population','households','median_income']],y_train)\nprint(model7.coef_)#1st value for longtitude 2nd for latitude 3rd for housing\nmodel7.intercept_\nmodel7.score(X_train[['longitude','latitude','housing_median_age','total_rooms','total_bedrooms','population','households','median_income']],y_train)",
      "execution_count": 49,
      "outputs": [
        {
          "output_type": "stream",
          "text": "[-85413.28005747 -90669.136247    14885.95835764 -17862.58294108\n  48757.37209674 -43589.91735845  17717.71485854  77013.87535191]\n",
          "name": "stdout"
        },
        {
          "output_type": "execute_result",
          "execution_count": 49,
          "data": {
            "text/plain": "0.6400947924305294"
          },
          "metadata": {}
        }
      ]
    },
    {
      "metadata": {},
      "cell_type": "markdown",
      "source": "<h3>Feature selection</h3>"
    },
    {
      "metadata": {},
      "cell_type": "markdown",
      "source": "<h3>1. Applying select K best feature selection method</h3>"
    },
    {
      "metadata": {
        "trusted": true
      },
      "cell_type": "code",
      "source": "from sklearn.feature_selection import SelectKBest, f_regression",
      "execution_count": 50,
      "outputs": []
    },
    {
      "metadata": {
        "trusted": true
      },
      "cell_type": "code",
      "source": "select_feature = SelectKBest(f_regression,k=6).fit(X_train, y_train)",
      "execution_count": 51,
      "outputs": []
    },
    {
      "metadata": {
        "trusted": true
      },
      "cell_type": "code",
      "source": "select_feature.scores_",
      "execution_count": 52,
      "outputs": [
        {
          "output_type": "execute_result",
          "execution_count": 52,
          "data": {
            "text/plain": "array([3.55434501e+01, 3.44579030e+02, 1.79495552e+02, 3.01823325e+02,\n       3.80956840e+01, 1.11961694e+01, 6.72961323e+01, 1.50574391e+04])"
          },
          "metadata": {}
        }
      ]
    },
    {
      "metadata": {
        "trusted": true
      },
      "cell_type": "code",
      "source": "select_feature.pvalues_",
      "execution_count": 53,
      "outputs": [
        {
          "output_type": "execute_result",
          "execution_count": 53,
          "data": {
            "text/plain": "array([2.54505126e-09, 3.82179753e-76, 1.01919784e-40, 5.20398942e-67,\n       6.89318215e-10, 8.21491618e-04, 2.50682998e-16, 0.00000000e+00])"
          },
          "metadata": {}
        }
      ]
    },
    {
      "metadata": {
        "trusted": true
      },
      "cell_type": "code",
      "source": "selected_features_df = pd.DataFrame({'Feature':list(X_train.columns),\n                                     'P_values':select_feature.pvalues_})\nselected_features_df.sort_values(by='P_values', ascending=True)",
      "execution_count": 54,
      "outputs": [
        {
          "output_type": "execute_result",
          "execution_count": 54,
          "data": {
            "text/html": "<div>\n<style scoped>\n    .dataframe tbody tr th:only-of-type {\n        vertical-align: middle;\n    }\n\n    .dataframe tbody tr th {\n        vertical-align: top;\n    }\n\n    .dataframe thead th {\n        text-align: right;\n    }\n</style>\n<table border=\"1\" class=\"dataframe\">\n  <thead>\n    <tr style=\"text-align: right;\">\n      <th></th>\n      <th>Feature</th>\n      <th>P_values</th>\n    </tr>\n  </thead>\n  <tbody>\n    <tr>\n      <th>7</th>\n      <td>median_income</td>\n      <td>0.000000e+00</td>\n    </tr>\n    <tr>\n      <th>1</th>\n      <td>latitude</td>\n      <td>3.821798e-76</td>\n    </tr>\n    <tr>\n      <th>3</th>\n      <td>total_rooms</td>\n      <td>5.203989e-67</td>\n    </tr>\n    <tr>\n      <th>2</th>\n      <td>housing_median_age</td>\n      <td>1.019198e-40</td>\n    </tr>\n    <tr>\n      <th>6</th>\n      <td>households</td>\n      <td>2.506830e-16</td>\n    </tr>\n    <tr>\n      <th>4</th>\n      <td>total_bedrooms</td>\n      <td>6.893182e-10</td>\n    </tr>\n    <tr>\n      <th>0</th>\n      <td>longitude</td>\n      <td>2.545051e-09</td>\n    </tr>\n    <tr>\n      <th>5</th>\n      <td>population</td>\n      <td>8.214916e-04</td>\n    </tr>\n  </tbody>\n</table>\n</div>",
            "text/plain": "              Feature      P_values\n7       median_income  0.000000e+00\n1            latitude  3.821798e-76\n3         total_rooms  5.203989e-67\n2  housing_median_age  1.019198e-40\n6          households  2.506830e-16\n4      total_bedrooms  6.893182e-10\n0           longitude  2.545051e-09\n5          population  8.214916e-04"
          },
          "metadata": {}
        }
      ]
    },
    {
      "metadata": {
        "trusted": true
      },
      "cell_type": "code",
      "source": "X_train_new = select_feature.transform(X_train)\nX_train_new.shape",
      "execution_count": 55,
      "outputs": [
        {
          "output_type": "execute_result",
          "execution_count": 55,
          "data": {
            "text/plain": "(16512, 6)"
          },
          "metadata": {}
        }
      ]
    },
    {
      "metadata": {
        "trusted": true
      },
      "cell_type": "code",
      "source": "model_kbest = model_all.fit(X_train_new,y_train)",
      "execution_count": 56,
      "outputs": []
    },
    {
      "metadata": {
        "trusted": true
      },
      "cell_type": "code",
      "source": "model_kbest.coef_",
      "execution_count": 57,
      "outputs": [
        {
          "output_type": "execute_result",
          "execution_count": 57,
          "data": {
            "text/plain": "array([ -7201.82086955,  24397.45111862, -54757.3570668 ,  63885.16881336,\n          784.47820083,  93449.65845946])"
          },
          "metadata": {}
        }
      ]
    },
    {
      "metadata": {
        "trusted": true
      },
      "cell_type": "code",
      "source": "model_kbest.score(X_train_new,y_train)",
      "execution_count": 58,
      "outputs": [
        {
          "output_type": "execute_result",
          "execution_count": 58,
          "data": {
            "text/plain": "0.5540145192388106"
          },
          "metadata": {}
        }
      ]
    },
    {
      "metadata": {
        "trusted": true
      },
      "cell_type": "code",
      "source": "y_pred_kbest = model_kbest.predict(X_train_new)",
      "execution_count": 59,
      "outputs": []
    },
    {
      "metadata": {
        "trusted": true
      },
      "cell_type": "code",
      "source": "lin_rmse_kbest = np.sqrt(mean_squared_error(y_train, y_pred_kbest))\nlin_rmse_kbest",
      "execution_count": 60,
      "outputs": [
        {
          "output_type": "execute_result",
          "execution_count": 60,
          "data": {
            "text/plain": "77212.93113565829"
          },
          "metadata": {}
        }
      ]
    },
    {
      "metadata": {},
      "cell_type": "markdown",
      "source": "<h3>2. Applying Recursive Feature Elimination Method</h3>"
    },
    {
      "metadata": {
        "trusted": true
      },
      "cell_type": "code",
      "source": "from sklearn.feature_selection import RFE",
      "execution_count": 61,
      "outputs": []
    },
    {
      "metadata": {
        "trusted": true
      },
      "cell_type": "code",
      "source": "rfe = RFE(estimator=model_all,step =3)\n#step will drop variables in each iteration.",
      "execution_count": 62,
      "outputs": []
    },
    {
      "metadata": {
        "trusted": true
      },
      "cell_type": "code",
      "source": "rfe.fit(X_train,y_train)",
      "execution_count": 63,
      "outputs": [
        {
          "output_type": "execute_result",
          "execution_count": 63,
          "data": {
            "text/plain": "RFE(estimator=LinearRegression(copy_X=True, fit_intercept=True, n_jobs=None,\n         normalize=False),\n  n_features_to_select=None, step=3, verbose=0)"
          },
          "metadata": {}
        }
      ]
    },
    {
      "metadata": {
        "trusted": true
      },
      "cell_type": "code",
      "source": "rfe.ranking_",
      "execution_count": 64,
      "outputs": [
        {
          "output_type": "execute_result",
          "execution_count": 64,
          "data": {
            "text/plain": "array([1, 1, 3, 3, 1, 2, 3, 1])"
          },
          "metadata": {}
        }
      ]
    },
    {
      "metadata": {
        "trusted": true
      },
      "cell_type": "code",
      "source": "selected_rfe_features = pd.DataFrame({'Feature':list(X_train.columns),\n                                      'Ranking':rfe.ranking_})\nselected_rfe_features.sort_values(by='Ranking')",
      "execution_count": 65,
      "outputs": [
        {
          "output_type": "execute_result",
          "execution_count": 65,
          "data": {
            "text/html": "<div>\n<style scoped>\n    .dataframe tbody tr th:only-of-type {\n        vertical-align: middle;\n    }\n\n    .dataframe tbody tr th {\n        vertical-align: top;\n    }\n\n    .dataframe thead th {\n        text-align: right;\n    }\n</style>\n<table border=\"1\" class=\"dataframe\">\n  <thead>\n    <tr style=\"text-align: right;\">\n      <th></th>\n      <th>Feature</th>\n      <th>Ranking</th>\n    </tr>\n  </thead>\n  <tbody>\n    <tr>\n      <th>0</th>\n      <td>longitude</td>\n      <td>1</td>\n    </tr>\n    <tr>\n      <th>1</th>\n      <td>latitude</td>\n      <td>1</td>\n    </tr>\n    <tr>\n      <th>4</th>\n      <td>total_bedrooms</td>\n      <td>1</td>\n    </tr>\n    <tr>\n      <th>7</th>\n      <td>median_income</td>\n      <td>1</td>\n    </tr>\n    <tr>\n      <th>5</th>\n      <td>population</td>\n      <td>2</td>\n    </tr>\n    <tr>\n      <th>2</th>\n      <td>housing_median_age</td>\n      <td>3</td>\n    </tr>\n    <tr>\n      <th>3</th>\n      <td>total_rooms</td>\n      <td>3</td>\n    </tr>\n    <tr>\n      <th>6</th>\n      <td>households</td>\n      <td>3</td>\n    </tr>\n  </tbody>\n</table>\n</div>",
            "text/plain": "              Feature  Ranking\n0           longitude        1\n1            latitude        1\n4      total_bedrooms        1\n7       median_income        1\n5          population        2\n2  housing_median_age        3\n3         total_rooms        3\n6          households        3"
          },
          "metadata": {}
        }
      ]
    },
    {
      "metadata": {
        "trusted": true
      },
      "cell_type": "code",
      "source": "X_train_rfe = rfe.transform(X_train)\nX_train_rfe.shape",
      "execution_count": 66,
      "outputs": [
        {
          "output_type": "execute_result",
          "execution_count": 66,
          "data": {
            "text/plain": "(16512, 4)"
          },
          "metadata": {}
        }
      ]
    },
    {
      "metadata": {
        "trusted": true
      },
      "cell_type": "code",
      "source": "model_rfe = model_all.fit(X_train_rfe,y_train)",
      "execution_count": 67,
      "outputs": []
    },
    {
      "metadata": {
        "trusted": true
      },
      "cell_type": "code",
      "source": "print(model_rfe.coef_)\nprint(model_rfe.intercept_)",
      "execution_count": 68,
      "outputs": [
        {
          "output_type": "stream",
          "text": "[ -99769.10837052 -103067.90916562    6308.59029907   70148.4231635 ]\n206715.37035221973\n",
          "name": "stdout"
        }
      ]
    },
    {
      "metadata": {
        "trusted": true
      },
      "cell_type": "code",
      "source": "model_rfe.score(X_train_rfe,y_train)",
      "execution_count": 69,
      "outputs": [
        {
          "output_type": "execute_result",
          "execution_count": 69,
          "data": {
            "text/plain": "0.5901689024984469"
          },
          "metadata": {}
        }
      ]
    },
    {
      "metadata": {
        "trusted": true
      },
      "cell_type": "code",
      "source": "y_pred_rfe = model_rfe.predict(X_train_rfe)",
      "execution_count": 70,
      "outputs": []
    },
    {
      "metadata": {
        "trusted": true
      },
      "cell_type": "code",
      "source": "lin_rmse_rfe = np.sqrt(mean_squared_error(y_train,y_pred_rfe))\nlin_rmse_rfe",
      "execution_count": 71,
      "outputs": [
        {
          "output_type": "execute_result",
          "execution_count": 71,
          "data": {
            "text/plain": "74017.1116468229"
          },
          "metadata": {}
        }
      ]
    },
    {
      "metadata": {},
      "cell_type": "markdown",
      "source": "<h3>Predictions on Test Data</h3>"
    },
    {
      "metadata": {
        "trusted": true
      },
      "cell_type": "code",
      "source": "HTest = pd.read_csv('https://storage.googleapis.com/dimensionless/ML_with_Python/Chapter%203%20Linear%20Regression/housing_test.csv')",
      "execution_count": 72,
      "outputs": []
    },
    {
      "metadata": {
        "trusted": true
      },
      "cell_type": "code",
      "source": "HTest.head()",
      "execution_count": 73,
      "outputs": [
        {
          "output_type": "execute_result",
          "execution_count": 73,
          "data": {
            "text/html": "<div>\n<style scoped>\n    .dataframe tbody tr th:only-of-type {\n        vertical-align: middle;\n    }\n\n    .dataframe tbody tr th {\n        vertical-align: top;\n    }\n\n    .dataframe thead th {\n        text-align: right;\n    }\n</style>\n<table border=\"1\" class=\"dataframe\">\n  <thead>\n    <tr style=\"text-align: right;\">\n      <th></th>\n      <th>longitude</th>\n      <th>latitude</th>\n      <th>housing_median_age</th>\n      <th>total_rooms</th>\n      <th>total_bedrooms</th>\n      <th>population</th>\n      <th>households</th>\n      <th>median_income</th>\n      <th>median_house_value</th>\n    </tr>\n  </thead>\n  <tbody>\n    <tr>\n      <th>0</th>\n      <td>0.279366</td>\n      <td>0.200449</td>\n      <td>-0.289187</td>\n      <td>-0.518327</td>\n      <td>-0.242831</td>\n      <td>-0.029562</td>\n      <td>-0.367597</td>\n      <td>-1.152489</td>\n      <td>47700.0</td>\n    </tr>\n    <tr>\n      <th>1</th>\n      <td>0.054757</td>\n      <td>-0.230283</td>\n      <td>0.108104</td>\n      <td>0.140833</td>\n      <td>-0.242831</td>\n      <td>0.123206</td>\n      <td>0.220915</td>\n      <td>-0.705015</td>\n      <td>45800.0</td>\n    </tr>\n    <tr>\n      <th>2</th>\n      <td>-1.432653</td>\n      <td>1.015093</td>\n      <td>1.856182</td>\n      <td>0.547423</td>\n      <td>-0.242831</td>\n      <td>-0.101972</td>\n      <td>1.212230</td>\n      <td>-0.205588</td>\n      <td>500001.0</td>\n    </tr>\n    <tr>\n      <th>3</th>\n      <td>0.424114</td>\n      <td>-0.632923</td>\n      <td>-0.924851</td>\n      <td>0.190339</td>\n      <td>-0.242831</td>\n      <td>0.246834</td>\n      <td>-0.011874</td>\n      <td>0.982710</td>\n      <td>218600.0</td>\n    </tr>\n    <tr>\n      <th>4</th>\n      <td>-1.178096</td>\n      <td>0.462633</td>\n      <td>0.425936</td>\n      <td>-0.130532</td>\n      <td>-0.242831</td>\n      <td>-0.320086</td>\n      <td>-0.187120</td>\n      <td>-0.076678</td>\n      <td>278000.0</td>\n    </tr>\n  </tbody>\n</table>\n</div>",
            "text/plain": "   longitude  latitude  housing_median_age  total_rooms  total_bedrooms  \\\n0   0.279366  0.200449           -0.289187    -0.518327       -0.242831   \n1   0.054757 -0.230283            0.108104     0.140833       -0.242831   \n2  -1.432653  1.015093            1.856182     0.547423       -0.242831   \n3   0.424114 -0.632923           -0.924851     0.190339       -0.242831   \n4  -1.178096  0.462633            0.425936    -0.130532       -0.242831   \n\n   population  households  median_income  median_house_value  \n0   -0.029562   -0.367597      -1.152489             47700.0  \n1    0.123206    0.220915      -0.705015             45800.0  \n2   -0.101972    1.212230      -0.205588            500001.0  \n3    0.246834   -0.011874       0.982710            218600.0  \n4   -0.320086   -0.187120      -0.076678            278000.0  "
          },
          "metadata": {}
        }
      ]
    },
    {
      "metadata": {
        "trusted": true
      },
      "cell_type": "code",
      "source": "X_test = HTest.drop('median_house_value',axis=1)\nprint(X_test.head())\nX_test.shape",
      "execution_count": 79,
      "outputs": [
        {
          "output_type": "stream",
          "text": "   longitude  latitude  housing_median_age  total_rooms  total_bedrooms  \\\n0   0.279366  0.200449           -0.289187    -0.518327       -0.242831   \n1   0.054757 -0.230283            0.108104     0.140833       -0.242831   \n2  -1.432653  1.015093            1.856182     0.547423       -0.242831   \n3   0.424114 -0.632923           -0.924851     0.190339       -0.242831   \n4  -1.178096  0.462633            0.425936    -0.130532       -0.242831   \n\n   population  households  median_income  \n0   -0.029562   -0.367597      -1.152489  \n1    0.123206    0.220915      -0.705015  \n2   -0.101972    1.212230      -0.205588  \n3    0.246834   -0.011874       0.982710  \n4   -0.320086   -0.187120      -0.076678  \n",
          "name": "stdout"
        },
        {
          "output_type": "execute_result",
          "execution_count": 79,
          "data": {
            "text/plain": "(4128, 8)"
          },
          "metadata": {}
        }
      ]
    },
    {
      "metadata": {
        "trusted": true
      },
      "cell_type": "code",
      "source": "y_test = HTest.median_house_value\nprint(y_test.shape)\nprint(X_test.shape)\nprint(X_train.shape)\ny_test.head()",
      "execution_count": 77,
      "outputs": [
        {
          "output_type": "stream",
          "text": "(4128,)\n(4128, 8)\n(16512, 8)\n",
          "name": "stdout"
        },
        {
          "output_type": "execute_result",
          "execution_count": 77,
          "data": {
            "text/plain": "0     47700.0\n1     45800.0\n2    500001.0\n3    218600.0\n4    278000.0\nName: median_house_value, dtype: float64"
          },
          "metadata": {}
        }
      ]
    },
    {
      "metadata": {
        "trusted": true
      },
      "cell_type": "code",
      "source": "y_pred_test = model_all.predict(X_test)\nrmse_test = np.sqrt(mean_squared_error(y_test,y_pred_test))\nSSE = np.sum((y_pred_test-y_test)**2)\nSST = np.sum((y_test-np.mean(y_train))**2)\nr2_test = 1 - SSE/SST\nprint(\"Test RMSE : \", rmse_test)\nprint(\"Test SSE : \", SSE)\nprint(\"Test SST : \", SST)\nprint(\"Test R2 : \", r2_test)",
      "execution_count": 80,
      "outputs": [
        {
          "output_type": "error",
          "ename": "ValueError",
          "evalue": "shapes (4128,8) and (4,) not aligned: 8 (dim 1) != 4 (dim 0)",
          "traceback": [
            "\u001b[0;31m---------------------------------------------------------------------------\u001b[0m",
            "\u001b[0;31mValueError\u001b[0m                                Traceback (most recent call last)",
            "\u001b[0;32m<ipython-input-80-77b4929f8be0>\u001b[0m in \u001b[0;36m<module>\u001b[0;34m\u001b[0m\n\u001b[0;32m----> 1\u001b[0;31m \u001b[0my_pred_test\u001b[0m \u001b[0;34m=\u001b[0m \u001b[0mmodel_all\u001b[0m\u001b[0;34m.\u001b[0m\u001b[0mpredict\u001b[0m\u001b[0;34m(\u001b[0m\u001b[0mX_test\u001b[0m\u001b[0;34m)\u001b[0m\u001b[0;34m\u001b[0m\u001b[0m\n\u001b[0m\u001b[1;32m      2\u001b[0m \u001b[0mrmse_test\u001b[0m \u001b[0;34m=\u001b[0m \u001b[0mnp\u001b[0m\u001b[0;34m.\u001b[0m\u001b[0msqrt\u001b[0m\u001b[0;34m(\u001b[0m\u001b[0mmean_squared_error\u001b[0m\u001b[0;34m(\u001b[0m\u001b[0my_test\u001b[0m\u001b[0;34m,\u001b[0m\u001b[0my_pred_test\u001b[0m\u001b[0;34m)\u001b[0m\u001b[0;34m)\u001b[0m\u001b[0;34m\u001b[0m\u001b[0m\n\u001b[1;32m      3\u001b[0m \u001b[0mSSE\u001b[0m \u001b[0;34m=\u001b[0m \u001b[0mnp\u001b[0m\u001b[0;34m.\u001b[0m\u001b[0msum\u001b[0m\u001b[0;34m(\u001b[0m\u001b[0;34m(\u001b[0m\u001b[0my_pred_test\u001b[0m\u001b[0;34m-\u001b[0m\u001b[0my_test\u001b[0m\u001b[0;34m)\u001b[0m\u001b[0;34m**\u001b[0m\u001b[0;36m2\u001b[0m\u001b[0;34m)\u001b[0m\u001b[0;34m\u001b[0m\u001b[0m\n\u001b[1;32m      4\u001b[0m \u001b[0mSST\u001b[0m \u001b[0;34m=\u001b[0m \u001b[0mnp\u001b[0m\u001b[0;34m.\u001b[0m\u001b[0msum\u001b[0m\u001b[0;34m(\u001b[0m\u001b[0;34m(\u001b[0m\u001b[0my_test\u001b[0m\u001b[0;34m-\u001b[0m\u001b[0mnp\u001b[0m\u001b[0;34m.\u001b[0m\u001b[0mmean\u001b[0m\u001b[0;34m(\u001b[0m\u001b[0my_train\u001b[0m\u001b[0;34m)\u001b[0m\u001b[0;34m)\u001b[0m\u001b[0;34m**\u001b[0m\u001b[0;36m2\u001b[0m\u001b[0;34m)\u001b[0m\u001b[0;34m\u001b[0m\u001b[0m\n\u001b[1;32m      5\u001b[0m \u001b[0mr2_test\u001b[0m \u001b[0;34m=\u001b[0m \u001b[0;36m1\u001b[0m \u001b[0;34m-\u001b[0m \u001b[0mSSE\u001b[0m\u001b[0;34m/\u001b[0m\u001b[0mSST\u001b[0m\u001b[0;34m\u001b[0m\u001b[0m\n",
            "\u001b[0;32m~/anaconda3_501/lib/python3.6/site-packages/sklearn/linear_model/base.py\u001b[0m in \u001b[0;36mpredict\u001b[0;34m(self, X)\u001b[0m\n\u001b[1;32m    211\u001b[0m             \u001b[0mReturns\u001b[0m \u001b[0mpredicted\u001b[0m \u001b[0mvalues\u001b[0m\u001b[0;34m.\u001b[0m\u001b[0;34m\u001b[0m\u001b[0m\n\u001b[1;32m    212\u001b[0m         \"\"\"\n\u001b[0;32m--> 213\u001b[0;31m         \u001b[0;32mreturn\u001b[0m \u001b[0mself\u001b[0m\u001b[0;34m.\u001b[0m\u001b[0m_decision_function\u001b[0m\u001b[0;34m(\u001b[0m\u001b[0mX\u001b[0m\u001b[0;34m)\u001b[0m\u001b[0;34m\u001b[0m\u001b[0m\n\u001b[0m\u001b[1;32m    214\u001b[0m \u001b[0;34m\u001b[0m\u001b[0m\n\u001b[1;32m    215\u001b[0m     \u001b[0m_preprocess_data\u001b[0m \u001b[0;34m=\u001b[0m \u001b[0mstaticmethod\u001b[0m\u001b[0;34m(\u001b[0m\u001b[0m_preprocess_data\u001b[0m\u001b[0;34m)\u001b[0m\u001b[0;34m\u001b[0m\u001b[0m\n",
            "\u001b[0;32m~/anaconda3_501/lib/python3.6/site-packages/sklearn/linear_model/base.py\u001b[0m in \u001b[0;36m_decision_function\u001b[0;34m(self, X)\u001b[0m\n\u001b[1;32m    196\u001b[0m         \u001b[0mX\u001b[0m \u001b[0;34m=\u001b[0m \u001b[0mcheck_array\u001b[0m\u001b[0;34m(\u001b[0m\u001b[0mX\u001b[0m\u001b[0;34m,\u001b[0m \u001b[0maccept_sparse\u001b[0m\u001b[0;34m=\u001b[0m\u001b[0;34m[\u001b[0m\u001b[0;34m'csr'\u001b[0m\u001b[0;34m,\u001b[0m \u001b[0;34m'csc'\u001b[0m\u001b[0;34m,\u001b[0m \u001b[0;34m'coo'\u001b[0m\u001b[0;34m]\u001b[0m\u001b[0;34m)\u001b[0m\u001b[0;34m\u001b[0m\u001b[0m\n\u001b[1;32m    197\u001b[0m         return safe_sparse_dot(X, self.coef_.T,\n\u001b[0;32m--> 198\u001b[0;31m                                dense_output=True) + self.intercept_\n\u001b[0m\u001b[1;32m    199\u001b[0m \u001b[0;34m\u001b[0m\u001b[0m\n\u001b[1;32m    200\u001b[0m     \u001b[0;32mdef\u001b[0m \u001b[0mpredict\u001b[0m\u001b[0;34m(\u001b[0m\u001b[0mself\u001b[0m\u001b[0;34m,\u001b[0m \u001b[0mX\u001b[0m\u001b[0;34m)\u001b[0m\u001b[0;34m:\u001b[0m\u001b[0;34m\u001b[0m\u001b[0m\n",
            "\u001b[0;32m~/anaconda3_501/lib/python3.6/site-packages/sklearn/utils/extmath.py\u001b[0m in \u001b[0;36msafe_sparse_dot\u001b[0;34m(a, b, dense_output)\u001b[0m\n\u001b[1;32m    171\u001b[0m         \u001b[0;32mreturn\u001b[0m \u001b[0mret\u001b[0m\u001b[0;34m\u001b[0m\u001b[0m\n\u001b[1;32m    172\u001b[0m     \u001b[0;32melse\u001b[0m\u001b[0;34m:\u001b[0m\u001b[0;34m\u001b[0m\u001b[0m\n\u001b[0;32m--> 173\u001b[0;31m         \u001b[0;32mreturn\u001b[0m \u001b[0mnp\u001b[0m\u001b[0;34m.\u001b[0m\u001b[0mdot\u001b[0m\u001b[0;34m(\u001b[0m\u001b[0ma\u001b[0m\u001b[0;34m,\u001b[0m \u001b[0mb\u001b[0m\u001b[0;34m)\u001b[0m\u001b[0;34m\u001b[0m\u001b[0m\n\u001b[0m\u001b[1;32m    174\u001b[0m \u001b[0;34m\u001b[0m\u001b[0m\n\u001b[1;32m    175\u001b[0m \u001b[0;34m\u001b[0m\u001b[0m\n",
            "\u001b[0;31mValueError\u001b[0m: shapes (4128,8) and (4,) not aligned: 8 (dim 1) != 4 (dim 0)"
          ]
        }
      ]
    }
  ],
  "metadata": {
    "kernelspec": {
      "name": "python36",
      "display_name": "Python 3.6",
      "language": "python"
    },
    "language_info": {
      "mimetype": "text/x-python",
      "nbconvert_exporter": "python",
      "name": "python",
      "pygments_lexer": "ipython3",
      "version": "3.6.6",
      "file_extension": ".py",
      "codemirror_mode": {
        "version": 3,
        "name": "ipython"
      }
    }
  },
  "nbformat": 4,
  "nbformat_minor": 2
}