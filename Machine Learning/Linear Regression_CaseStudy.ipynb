{
  "cells": [
    {
      "metadata": {
        "trusted": true
      },
      "cell_type": "code",
      "source": "import pandas as pd\nimport numpy as np\nimport matplotlib.pyplot as plt",
      "execution_count": 175,
      "outputs": []
    },
    {
      "metadata": {
        "trusted": true
      },
      "cell_type": "code",
      "source": "Elantra=pd.read_csv(\"https://storage.googleapis.com/dimensionless/Analytics/elantra.csv\")",
      "execution_count": 176,
      "outputs": []
    },
    {
      "metadata": {
        "trusted": true
      },
      "cell_type": "code",
      "source": "Elantra.head()",
      "execution_count": 177,
      "outputs": [
        {
          "output_type": "execute_result",
          "execution_count": 177,
          "data": {
            "text/html": "<div>\n<style scoped>\n    .dataframe tbody tr th:only-of-type {\n        vertical-align: middle;\n    }\n\n    .dataframe tbody tr th {\n        vertical-align: top;\n    }\n\n    .dataframe thead th {\n        text-align: right;\n    }\n</style>\n<table border=\"1\" class=\"dataframe\">\n  <thead>\n    <tr style=\"text-align: right;\">\n      <th></th>\n      <th>Month</th>\n      <th>Year</th>\n      <th>ElantraSales</th>\n      <th>Unemployment</th>\n      <th>Queries</th>\n      <th>CPI_energy</th>\n      <th>CPI_all</th>\n    </tr>\n  </thead>\n  <tbody>\n    <tr>\n      <th>0</th>\n      <td>1</td>\n      <td>2010</td>\n      <td>7690</td>\n      <td>9.7</td>\n      <td>153</td>\n      <td>213.377</td>\n      <td>217.466</td>\n    </tr>\n    <tr>\n      <th>1</th>\n      <td>1</td>\n      <td>2011</td>\n      <td>9659</td>\n      <td>9.1</td>\n      <td>259</td>\n      <td>229.353</td>\n      <td>221.082</td>\n    </tr>\n    <tr>\n      <th>2</th>\n      <td>1</td>\n      <td>2012</td>\n      <td>10900</td>\n      <td>8.2</td>\n      <td>354</td>\n      <td>244.178</td>\n      <td>227.666</td>\n    </tr>\n    <tr>\n      <th>3</th>\n      <td>1</td>\n      <td>2013</td>\n      <td>12174</td>\n      <td>7.9</td>\n      <td>230</td>\n      <td>242.560</td>\n      <td>231.321</td>\n    </tr>\n    <tr>\n      <th>4</th>\n      <td>1</td>\n      <td>2014</td>\n      <td>15326</td>\n      <td>6.6</td>\n      <td>232</td>\n      <td>247.575</td>\n      <td>234.933</td>\n    </tr>\n  </tbody>\n</table>\n</div>",
            "text/plain": "   Month  Year  ElantraSales  Unemployment  Queries  CPI_energy  CPI_all\n0      1  2010          7690           9.7      153     213.377  217.466\n1      1  2011          9659           9.1      259     229.353  221.082\n2      1  2012         10900           8.2      354     244.178  227.666\n3      1  2013         12174           7.9      230     242.560  231.321\n4      1  2014         15326           6.6      232     247.575  234.933"
          },
          "metadata": {}
        }
      ]
    },
    {
      "metadata": {
        "trusted": true
      },
      "cell_type": "code",
      "source": "Elantra.shape\nElantra.Year.value_counts()",
      "execution_count": 178,
      "outputs": [
        {
          "output_type": "execute_result",
          "execution_count": 178,
          "data": {
            "text/plain": "2013    12\n2012    12\n2011    12\n2010    12\n2014     2\nName: Year, dtype: int64"
          },
          "metadata": {}
        }
      ]
    },
    {
      "metadata": {
        "trusted": true
      },
      "cell_type": "code",
      "source": "Elantra.info()",
      "execution_count": 179,
      "outputs": [
        {
          "output_type": "stream",
          "text": "<class 'pandas.core.frame.DataFrame'>\nRangeIndex: 50 entries, 0 to 49\nData columns (total 7 columns):\nMonth           50 non-null int64\nYear            50 non-null int64\nElantraSales    50 non-null int64\nUnemployment    50 non-null float64\nQueries         50 non-null int64\nCPI_energy      50 non-null float64\nCPI_all         50 non-null float64\ndtypes: float64(3), int64(4)\nmemory usage: 2.8 KB\n",
          "name": "stdout"
        }
      ]
    },
    {
      "metadata": {
        "trusted": true
      },
      "cell_type": "code",
      "source": "Elantra.describe()\nElantra.head()",
      "execution_count": 180,
      "outputs": [
        {
          "output_type": "execute_result",
          "execution_count": 180,
          "data": {
            "text/html": "<div>\n<style scoped>\n    .dataframe tbody tr th:only-of-type {\n        vertical-align: middle;\n    }\n\n    .dataframe tbody tr th {\n        vertical-align: top;\n    }\n\n    .dataframe thead th {\n        text-align: right;\n    }\n</style>\n<table border=\"1\" class=\"dataframe\">\n  <thead>\n    <tr style=\"text-align: right;\">\n      <th></th>\n      <th>Month</th>\n      <th>Year</th>\n      <th>ElantraSales</th>\n      <th>Unemployment</th>\n      <th>Queries</th>\n      <th>CPI_energy</th>\n      <th>CPI_all</th>\n    </tr>\n  </thead>\n  <tbody>\n    <tr>\n      <th>0</th>\n      <td>1</td>\n      <td>2010</td>\n      <td>7690</td>\n      <td>9.7</td>\n      <td>153</td>\n      <td>213.377</td>\n      <td>217.466</td>\n    </tr>\n    <tr>\n      <th>1</th>\n      <td>1</td>\n      <td>2011</td>\n      <td>9659</td>\n      <td>9.1</td>\n      <td>259</td>\n      <td>229.353</td>\n      <td>221.082</td>\n    </tr>\n    <tr>\n      <th>2</th>\n      <td>1</td>\n      <td>2012</td>\n      <td>10900</td>\n      <td>8.2</td>\n      <td>354</td>\n      <td>244.178</td>\n      <td>227.666</td>\n    </tr>\n    <tr>\n      <th>3</th>\n      <td>1</td>\n      <td>2013</td>\n      <td>12174</td>\n      <td>7.9</td>\n      <td>230</td>\n      <td>242.560</td>\n      <td>231.321</td>\n    </tr>\n    <tr>\n      <th>4</th>\n      <td>1</td>\n      <td>2014</td>\n      <td>15326</td>\n      <td>6.6</td>\n      <td>232</td>\n      <td>247.575</td>\n      <td>234.933</td>\n    </tr>\n  </tbody>\n</table>\n</div>",
            "text/plain": "   Month  Year  ElantraSales  Unemployment  Queries  CPI_energy  CPI_all\n0      1  2010          7690           9.7      153     213.377  217.466\n1      1  2011          9659           9.1      259     229.353  221.082\n2      1  2012         10900           8.2      354     244.178  227.666\n3      1  2013         12174           7.9      230     242.560  231.321\n4      1  2014         15326           6.6      232     247.575  234.933"
          },
          "metadata": {}
        }
      ]
    },
    {
      "metadata": {
        "trusted": true
      },
      "cell_type": "code",
      "source": "Training_set=Elantra[(Elantra.Year == 2010) | (Elantra.Year == 2011) | (Elantra.Year == 2012)]",
      "execution_count": 181,
      "outputs": []
    },
    {
      "metadata": {
        "trusted": true
      },
      "cell_type": "code",
      "source": "#train=Elantra[Elantra['Year']<=2012]",
      "execution_count": 182,
      "outputs": []
    },
    {
      "metadata": {
        "trusted": true
      },
      "cell_type": "code",
      "source": "Training_set.head()\nTraining_set.shape     ",
      "execution_count": 183,
      "outputs": [
        {
          "output_type": "execute_result",
          "execution_count": 183,
          "data": {
            "text/plain": "(36, 7)"
          },
          "metadata": {}
        }
      ]
    },
    {
      "metadata": {
        "trusted": true
      },
      "cell_type": "code",
      "source": "# 1 How many observations are in the training set?  \n# Ans:36",
      "execution_count": 184,
      "outputs": []
    },
    {
      "metadata": {
        "trusted": true
      },
      "cell_type": "code",
      "source": "Testing_set=Elantra[(Elantra.Year == 2013) | (Elantra.Year == 2014)]",
      "execution_count": 185,
      "outputs": []
    },
    {
      "metadata": {
        "trusted": true
      },
      "cell_type": "code",
      "source": "#test =Elantra[Elantra['Year']>2012]",
      "execution_count": 186,
      "outputs": []
    },
    {
      "metadata": {
        "trusted": true
      },
      "cell_type": "code",
      "source": "Testing_set.head()\nTesting_set.shape",
      "execution_count": 187,
      "outputs": [
        {
          "output_type": "execute_result",
          "execution_count": 187,
          "data": {
            "text/plain": "(14, 7)"
          },
          "metadata": {}
        }
      ]
    },
    {
      "metadata": {
        "trusted": true
      },
      "cell_type": "code",
      "source": "from sklearn.linear_model import LinearRegression\nfrom sklearn.metrics import mean_squared_error",
      "execution_count": 188,
      "outputs": []
    },
    {
      "metadata": {
        "trusted": true
      },
      "cell_type": "code",
      "source": "Elantra_model=LinearRegression()",
      "execution_count": 189,
      "outputs": []
    },
    {
      "metadata": {
        "trusted": true
      },
      "cell_type": "code",
      "source": "Elantra_model.fit(Training_set[['Unemployment', 'CPI_all' , 'CPI_energy', 'Queries']],Training_set['ElantraSales'])",
      "execution_count": 190,
      "outputs": [
        {
          "output_type": "execute_result",
          "execution_count": 190,
          "data": {
            "text/plain": "LinearRegression(copy_X=True, fit_intercept=True, n_jobs=None,\n         normalize=False)"
          },
          "metadata": {}
        }
      ]
    },
    {
      "metadata": {
        "trusted": true
      },
      "cell_type": "code",
      "source": "Elantra_model.score(Training_set[['Unemployment', 'CPI_all' , 'CPI_energy', 'Queries']],Training_set['ElantraSales'])",
      "execution_count": 191,
      "outputs": [
        {
          "output_type": "execute_result",
          "execution_count": 191,
          "data": {
            "text/plain": "0.42815676686082815"
          },
          "metadata": {}
        }
      ]
    },
    {
      "metadata": {
        "trusted": true
      },
      "cell_type": "code",
      "source": "# 2. What is the model R-squared? \n# Ans:0.428",
      "execution_count": 192,
      "outputs": []
    },
    {
      "metadata": {
        "trusted": true
      },
      "cell_type": "code",
      "source": "Elantra_model.coef_ #(slope values)",
      "execution_count": 193,
      "outputs": [
        {
          "output_type": "execute_result",
          "execution_count": 193,
          "data": {
            "text/plain": "array([-3179.89957338,  -297.6456256 ,    38.50603685,    19.02968262])"
          },
          "metadata": {}
        }
      ]
    },
    {
      "metadata": {
        "trusted": true
      },
      "cell_type": "code",
      "source": "# 3. What is the coefficient of the Unemployment variable? \n# Ans: -3179.899",
      "execution_count": 194,
      "outputs": []
    },
    {
      "metadata": {
        "trusted": true
      },
      "cell_type": "code",
      "source": "# 4. What is the interpretation of this coefficient? \n# Ans. For an increase of 1 in Unemployment, the prediction of Elantra sales decreases by approximately 3000. ",
      "execution_count": 195,
      "outputs": []
    },
    {
      "metadata": {
        "trusted": true
      },
      "cell_type": "code",
      "source": "# 5. What is the model R-Squared? \n# Ans: 0.434",
      "execution_count": 196,
      "outputs": []
    },
    {
      "metadata": {
        "trusted": true
      },
      "cell_type": "code",
      "source": "Elantra_model1=LinearRegression()",
      "execution_count": 197,
      "outputs": []
    },
    {
      "metadata": {
        "trusted": true
      },
      "cell_type": "code",
      "source": "Elantra_model1.fit(Training_set[['Month','Unemployment', 'CPI_all' , 'CPI_energy', 'Queries']],Training_set['ElantraSales'])",
      "execution_count": 198,
      "outputs": [
        {
          "output_type": "execute_result",
          "execution_count": 198,
          "data": {
            "text/plain": "LinearRegression(copy_X=True, fit_intercept=True, n_jobs=None,\n         normalize=False)"
          },
          "metadata": {}
        }
      ]
    },
    {
      "metadata": {
        "trusted": true
      },
      "cell_type": "code",
      "source": "Elantra_model1.score(Training_set[['Month','Unemployment', 'CPI_all' , 'CPI_energy', 'Queries']],Training_set['ElantraSales'])",
      "execution_count": 199,
      "outputs": [
        {
          "output_type": "execute_result",
          "execution_count": 199,
          "data": {
            "text/plain": "0.4344443341223623"
          },
          "metadata": {}
        }
      ]
    },
    {
      "metadata": {
        "trusted": true
      },
      "cell_type": "code",
      "source": "#6. What is the best explanation for why we must do this? \n# Ans: By modeling Month as a categorical variable, the effect of each calendar month is not restricted to be linear in the numerical coding of the month.\n#",
      "execution_count": 200,
      "outputs": []
    },
    {
      "metadata": {
        "trusted": true
      },
      "cell_type": "code",
      "source": "X_Training_set=Training_set\nX_Training_set['Month'] = pd.Categorical(X_Training_set.Month)\nprint (Training_set.dtypes)\nTraining_set.head()",
      "execution_count": 201,
      "outputs": [
        {
          "output_type": "stream",
          "text": "Month           category\nYear               int64\nElantraSales       int64\nUnemployment     float64\nQueries            int64\nCPI_energy       float64\nCPI_all          float64\ndtype: object\n",
          "name": "stdout"
        },
        {
          "output_type": "stream",
          "text": "/home/nbuser/anaconda3_501/lib/python3.6/site-packages/ipykernel/__main__.py:2: SettingWithCopyWarning: \nA value is trying to be set on a copy of a slice from a DataFrame.\nTry using .loc[row_indexer,col_indexer] = value instead\n\nSee the caveats in the documentation: http://pandas.pydata.org/pandas-docs/stable/indexing.html#indexing-view-versus-copy\n  from ipykernel import kernelapp as app\n",
          "name": "stderr"
        },
        {
          "output_type": "execute_result",
          "execution_count": 201,
          "data": {
            "text/html": "<div>\n<style scoped>\n    .dataframe tbody tr th:only-of-type {\n        vertical-align: middle;\n    }\n\n    .dataframe tbody tr th {\n        vertical-align: top;\n    }\n\n    .dataframe thead th {\n        text-align: right;\n    }\n</style>\n<table border=\"1\" class=\"dataframe\">\n  <thead>\n    <tr style=\"text-align: right;\">\n      <th></th>\n      <th>Month</th>\n      <th>Year</th>\n      <th>ElantraSales</th>\n      <th>Unemployment</th>\n      <th>Queries</th>\n      <th>CPI_energy</th>\n      <th>CPI_all</th>\n    </tr>\n  </thead>\n  <tbody>\n    <tr>\n      <th>0</th>\n      <td>1</td>\n      <td>2010</td>\n      <td>7690</td>\n      <td>9.7</td>\n      <td>153</td>\n      <td>213.377</td>\n      <td>217.466</td>\n    </tr>\n    <tr>\n      <th>1</th>\n      <td>1</td>\n      <td>2011</td>\n      <td>9659</td>\n      <td>9.1</td>\n      <td>259</td>\n      <td>229.353</td>\n      <td>221.082</td>\n    </tr>\n    <tr>\n      <th>2</th>\n      <td>1</td>\n      <td>2012</td>\n      <td>10900</td>\n      <td>8.2</td>\n      <td>354</td>\n      <td>244.178</td>\n      <td>227.666</td>\n    </tr>\n    <tr>\n      <th>5</th>\n      <td>2</td>\n      <td>2010</td>\n      <td>7966</td>\n      <td>9.8</td>\n      <td>130</td>\n      <td>209.924</td>\n      <td>217.251</td>\n    </tr>\n    <tr>\n      <th>6</th>\n      <td>2</td>\n      <td>2011</td>\n      <td>12289</td>\n      <td>9.0</td>\n      <td>266</td>\n      <td>232.188</td>\n      <td>221.816</td>\n    </tr>\n  </tbody>\n</table>\n</div>",
            "text/plain": "  Month  Year  ElantraSales  Unemployment  Queries  CPI_energy  CPI_all\n0     1  2010          7690           9.7      153     213.377  217.466\n1     1  2011          9659           9.1      259     229.353  221.082\n2     1  2012         10900           8.2      354     244.178  227.666\n5     2  2010          7966           9.8      130     209.924  217.251\n6     2  2011         12289           9.0      266     232.188  221.816"
          },
          "metadata": {}
        }
      ]
    },
    {
      "metadata": {
        "trusted": true
      },
      "cell_type": "code",
      "source": "#need to create dummies for month as it is categoricalb",
      "execution_count": 202,
      "outputs": []
    },
    {
      "metadata": {
        "trusted": true
      },
      "cell_type": "code",
      "source": "from sklearn.dummy import DummyClassifier",
      "execution_count": 203,
      "outputs": []
    },
    {
      "metadata": {
        "trusted": true
      },
      "cell_type": "code",
      "source": "X_Training_set = pd.get_dummies(X_Training_set,columns=['Month'],drop_first=True)\nX_Training_set.head()",
      "execution_count": 204,
      "outputs": [
        {
          "output_type": "execute_result",
          "execution_count": 204,
          "data": {
            "text/html": "<div>\n<style scoped>\n    .dataframe tbody tr th:only-of-type {\n        vertical-align: middle;\n    }\n\n    .dataframe tbody tr th {\n        vertical-align: top;\n    }\n\n    .dataframe thead th {\n        text-align: right;\n    }\n</style>\n<table border=\"1\" class=\"dataframe\">\n  <thead>\n    <tr style=\"text-align: right;\">\n      <th></th>\n      <th>Year</th>\n      <th>ElantraSales</th>\n      <th>Unemployment</th>\n      <th>Queries</th>\n      <th>CPI_energy</th>\n      <th>CPI_all</th>\n      <th>Month_2</th>\n      <th>Month_3</th>\n      <th>Month_4</th>\n      <th>Month_5</th>\n      <th>Month_6</th>\n      <th>Month_7</th>\n      <th>Month_8</th>\n      <th>Month_9</th>\n      <th>Month_10</th>\n      <th>Month_11</th>\n      <th>Month_12</th>\n    </tr>\n  </thead>\n  <tbody>\n    <tr>\n      <th>0</th>\n      <td>2010</td>\n      <td>7690</td>\n      <td>9.7</td>\n      <td>153</td>\n      <td>213.377</td>\n      <td>217.466</td>\n      <td>0</td>\n      <td>0</td>\n      <td>0</td>\n      <td>0</td>\n      <td>0</td>\n      <td>0</td>\n      <td>0</td>\n      <td>0</td>\n      <td>0</td>\n      <td>0</td>\n      <td>0</td>\n    </tr>\n    <tr>\n      <th>1</th>\n      <td>2011</td>\n      <td>9659</td>\n      <td>9.1</td>\n      <td>259</td>\n      <td>229.353</td>\n      <td>221.082</td>\n      <td>0</td>\n      <td>0</td>\n      <td>0</td>\n      <td>0</td>\n      <td>0</td>\n      <td>0</td>\n      <td>0</td>\n      <td>0</td>\n      <td>0</td>\n      <td>0</td>\n      <td>0</td>\n    </tr>\n    <tr>\n      <th>2</th>\n      <td>2012</td>\n      <td>10900</td>\n      <td>8.2</td>\n      <td>354</td>\n      <td>244.178</td>\n      <td>227.666</td>\n      <td>0</td>\n      <td>0</td>\n      <td>0</td>\n      <td>0</td>\n      <td>0</td>\n      <td>0</td>\n      <td>0</td>\n      <td>0</td>\n      <td>0</td>\n      <td>0</td>\n      <td>0</td>\n    </tr>\n    <tr>\n      <th>5</th>\n      <td>2010</td>\n      <td>7966</td>\n      <td>9.8</td>\n      <td>130</td>\n      <td>209.924</td>\n      <td>217.251</td>\n      <td>1</td>\n      <td>0</td>\n      <td>0</td>\n      <td>0</td>\n      <td>0</td>\n      <td>0</td>\n      <td>0</td>\n      <td>0</td>\n      <td>0</td>\n      <td>0</td>\n      <td>0</td>\n    </tr>\n    <tr>\n      <th>6</th>\n      <td>2011</td>\n      <td>12289</td>\n      <td>9.0</td>\n      <td>266</td>\n      <td>232.188</td>\n      <td>221.816</td>\n      <td>1</td>\n      <td>0</td>\n      <td>0</td>\n      <td>0</td>\n      <td>0</td>\n      <td>0</td>\n      <td>0</td>\n      <td>0</td>\n      <td>0</td>\n      <td>0</td>\n      <td>0</td>\n    </tr>\n  </tbody>\n</table>\n</div>",
            "text/plain": "   Year  ElantraSales  Unemployment  Queries  CPI_energy  CPI_all  Month_2  \\\n0  2010          7690           9.7      153     213.377  217.466        0   \n1  2011          9659           9.1      259     229.353  221.082        0   \n2  2012         10900           8.2      354     244.178  227.666        0   \n5  2010          7966           9.8      130     209.924  217.251        1   \n6  2011         12289           9.0      266     232.188  221.816        1   \n\n   Month_3  Month_4  Month_5  Month_6  Month_7  Month_8  Month_9  Month_10  \\\n0        0        0        0        0        0        0        0         0   \n1        0        0        0        0        0        0        0         0   \n2        0        0        0        0        0        0        0         0   \n5        0        0        0        0        0        0        0         0   \n6        0        0        0        0        0        0        0         0   \n\n   Month_11  Month_12  \n0         0         0  \n1         0         0  \n2         0         0  \n5         0         0  \n6         0         0  "
          },
          "metadata": {}
        }
      ]
    },
    {
      "metadata": {
        "trusted": true
      },
      "cell_type": "code",
      "source": "X_Training_setnew=X_Training_set.drop('Year',axis=1)",
      "execution_count": 205,
      "outputs": []
    },
    {
      "metadata": {
        "trusted": true
      },
      "cell_type": "code",
      "source": "X_Training_setnew=X_Training_setnew.drop('ElantraSales',axis=1)",
      "execution_count": 206,
      "outputs": []
    },
    {
      "metadata": {
        "trusted": true
      },
      "cell_type": "code",
      "source": "X_Training_setnew.head()",
      "execution_count": 207,
      "outputs": [
        {
          "output_type": "execute_result",
          "execution_count": 207,
          "data": {
            "text/html": "<div>\n<style scoped>\n    .dataframe tbody tr th:only-of-type {\n        vertical-align: middle;\n    }\n\n    .dataframe tbody tr th {\n        vertical-align: top;\n    }\n\n    .dataframe thead th {\n        text-align: right;\n    }\n</style>\n<table border=\"1\" class=\"dataframe\">\n  <thead>\n    <tr style=\"text-align: right;\">\n      <th></th>\n      <th>Unemployment</th>\n      <th>Queries</th>\n      <th>CPI_energy</th>\n      <th>CPI_all</th>\n      <th>Month_2</th>\n      <th>Month_3</th>\n      <th>Month_4</th>\n      <th>Month_5</th>\n      <th>Month_6</th>\n      <th>Month_7</th>\n      <th>Month_8</th>\n      <th>Month_9</th>\n      <th>Month_10</th>\n      <th>Month_11</th>\n      <th>Month_12</th>\n    </tr>\n  </thead>\n  <tbody>\n    <tr>\n      <th>0</th>\n      <td>9.7</td>\n      <td>153</td>\n      <td>213.377</td>\n      <td>217.466</td>\n      <td>0</td>\n      <td>0</td>\n      <td>0</td>\n      <td>0</td>\n      <td>0</td>\n      <td>0</td>\n      <td>0</td>\n      <td>0</td>\n      <td>0</td>\n      <td>0</td>\n      <td>0</td>\n    </tr>\n    <tr>\n      <th>1</th>\n      <td>9.1</td>\n      <td>259</td>\n      <td>229.353</td>\n      <td>221.082</td>\n      <td>0</td>\n      <td>0</td>\n      <td>0</td>\n      <td>0</td>\n      <td>0</td>\n      <td>0</td>\n      <td>0</td>\n      <td>0</td>\n      <td>0</td>\n      <td>0</td>\n      <td>0</td>\n    </tr>\n    <tr>\n      <th>2</th>\n      <td>8.2</td>\n      <td>354</td>\n      <td>244.178</td>\n      <td>227.666</td>\n      <td>0</td>\n      <td>0</td>\n      <td>0</td>\n      <td>0</td>\n      <td>0</td>\n      <td>0</td>\n      <td>0</td>\n      <td>0</td>\n      <td>0</td>\n      <td>0</td>\n      <td>0</td>\n    </tr>\n    <tr>\n      <th>5</th>\n      <td>9.8</td>\n      <td>130</td>\n      <td>209.924</td>\n      <td>217.251</td>\n      <td>1</td>\n      <td>0</td>\n      <td>0</td>\n      <td>0</td>\n      <td>0</td>\n      <td>0</td>\n      <td>0</td>\n      <td>0</td>\n      <td>0</td>\n      <td>0</td>\n      <td>0</td>\n    </tr>\n    <tr>\n      <th>6</th>\n      <td>9.0</td>\n      <td>266</td>\n      <td>232.188</td>\n      <td>221.816</td>\n      <td>1</td>\n      <td>0</td>\n      <td>0</td>\n      <td>0</td>\n      <td>0</td>\n      <td>0</td>\n      <td>0</td>\n      <td>0</td>\n      <td>0</td>\n      <td>0</td>\n      <td>0</td>\n    </tr>\n  </tbody>\n</table>\n</div>",
            "text/plain": "   Unemployment  Queries  CPI_energy  CPI_all  Month_2  Month_3  Month_4  \\\n0           9.7      153     213.377  217.466        0        0        0   \n1           9.1      259     229.353  221.082        0        0        0   \n2           8.2      354     244.178  227.666        0        0        0   \n5           9.8      130     209.924  217.251        1        0        0   \n6           9.0      266     232.188  221.816        1        0        0   \n\n   Month_5  Month_6  Month_7  Month_8  Month_9  Month_10  Month_11  Month_12  \n0        0        0        0        0        0         0         0         0  \n1        0        0        0        0        0         0         0         0  \n2        0        0        0        0        0         0         0         0  \n5        0        0        0        0        0         0         0         0  \n6        0        0        0        0        0         0         0         0  "
          },
          "metadata": {}
        }
      ]
    },
    {
      "metadata": {
        "trusted": true
      },
      "cell_type": "code",
      "source": "y_train=Training_set.ElantraSales",
      "execution_count": 208,
      "outputs": []
    },
    {
      "metadata": {
        "trusted": true
      },
      "cell_type": "code",
      "source": "Elantra_model2=LinearRegression()",
      "execution_count": 209,
      "outputs": []
    },
    {
      "metadata": {
        "trusted": true
      },
      "cell_type": "code",
      "source": "Elantra_model2.fit(X_Training_setnew,y_train)",
      "execution_count": 210,
      "outputs": [
        {
          "output_type": "execute_result",
          "execution_count": 210,
          "data": {
            "text/plain": "LinearRegression(copy_X=True, fit_intercept=True, n_jobs=None,\n         normalize=False)"
          },
          "metadata": {}
        }
      ]
    },
    {
      "metadata": {
        "trusted": true
      },
      "cell_type": "code",
      "source": "Elantra_model2.score(X_Training_setnew,y_train)",
      "execution_count": 211,
      "outputs": [
        {
          "output_type": "execute_result",
          "execution_count": 211,
          "data": {
            "text/plain": "0.819264200601823"
          },
          "metadata": {}
        }
      ]
    },
    {
      "metadata": {
        "trusted": true
      },
      "cell_type": "code",
      "source": "X_Training_setnew.columns",
      "execution_count": 212,
      "outputs": [
        {
          "output_type": "execute_result",
          "execution_count": 212,
          "data": {
            "text/plain": "Index(['Unemployment', 'Queries', 'CPI_energy', 'CPI_all', 'Month_2',\n       'Month_3', 'Month_4', 'Month_5', 'Month_6', 'Month_7', 'Month_8',\n       'Month_9', 'Month_10', 'Month_11', 'Month_12'],\n      dtype='object')"
          },
          "metadata": {}
        }
      ]
    },
    {
      "metadata": {
        "trusted": true
      },
      "cell_type": "code",
      "source": "#7. Create a regression model with the Month as categorical variable. What is the model R-Squared? \n# Ans:0.8192",
      "execution_count": 213,
      "outputs": []
    },
    {
      "metadata": {
        "trusted": true
      },
      "cell_type": "code",
      "source": "Training_set.Month = Training_set.Month.astype('int32')",
      "execution_count": 214,
      "outputs": [
        {
          "output_type": "stream",
          "text": "/home/nbuser/anaconda3_501/lib/python3.6/site-packages/pandas/core/generic.py:4405: SettingWithCopyWarning: \nA value is trying to be set on a copy of a slice from a DataFrame.\nTry using .loc[row_indexer,col_indexer] = value instead\n\nSee the caveats in the documentation: http://pandas.pydata.org/pandas-docs/stable/indexing.html#indexing-view-versus-copy\n  self[name] = value\n",
          "name": "stderr"
        }
      ]
    },
    {
      "metadata": {
        "trusted": true
      },
      "cell_type": "code",
      "source": "Training_set.corr()",
      "execution_count": 215,
      "outputs": [
        {
          "output_type": "execute_result",
          "execution_count": 215,
          "data": {
            "text/html": "<div>\n<style scoped>\n    .dataframe tbody tr th:only-of-type {\n        vertical-align: middle;\n    }\n\n    .dataframe tbody tr th {\n        vertical-align: top;\n    }\n\n    .dataframe thead th {\n        text-align: right;\n    }\n</style>\n<table border=\"1\" class=\"dataframe\">\n  <thead>\n    <tr style=\"text-align: right;\">\n      <th></th>\n      <th>Month</th>\n      <th>Year</th>\n      <th>ElantraSales</th>\n      <th>Unemployment</th>\n      <th>Queries</th>\n      <th>CPI_energy</th>\n      <th>CPI_all</th>\n    </tr>\n  </thead>\n  <tbody>\n    <tr>\n      <th>Month</th>\n      <td>1.000000</td>\n      <td>0.000000</td>\n      <td>0.109795</td>\n      <td>-0.203603</td>\n      <td>0.015844</td>\n      <td>0.176020</td>\n      <td>0.266788</td>\n    </tr>\n    <tr>\n      <th>Year</th>\n      <td>0.000000</td>\n      <td>1.000000</td>\n      <td>0.587274</td>\n      <td>-0.958746</td>\n      <td>0.726531</td>\n      <td>0.831605</td>\n      <td>0.948585</td>\n    </tr>\n    <tr>\n      <th>ElantraSales</th>\n      <td>0.109795</td>\n      <td>0.587274</td>\n      <td>1.000000</td>\n      <td>-0.567146</td>\n      <td>0.610065</td>\n      <td>0.591649</td>\n      <td>0.593622</td>\n    </tr>\n    <tr>\n      <th>Unemployment</th>\n      <td>-0.203603</td>\n      <td>-0.958746</td>\n      <td>-0.567146</td>\n      <td>1.000000</td>\n      <td>-0.641109</td>\n      <td>-0.800719</td>\n      <td>-0.956212</td>\n    </tr>\n    <tr>\n      <th>Queries</th>\n      <td>0.015844</td>\n      <td>0.726531</td>\n      <td>0.610065</td>\n      <td>-0.641109</td>\n      <td>1.000000</td>\n      <td>0.832838</td>\n      <td>0.753673</td>\n    </tr>\n    <tr>\n      <th>CPI_energy</th>\n      <td>0.176020</td>\n      <td>0.831605</td>\n      <td>0.591649</td>\n      <td>-0.800719</td>\n      <td>0.832838</td>\n      <td>1.000000</td>\n      <td>0.913226</td>\n    </tr>\n    <tr>\n      <th>CPI_all</th>\n      <td>0.266788</td>\n      <td>0.948585</td>\n      <td>0.593622</td>\n      <td>-0.956212</td>\n      <td>0.753673</td>\n      <td>0.913226</td>\n      <td>1.000000</td>\n    </tr>\n  </tbody>\n</table>\n</div>",
            "text/plain": "                 Month      Year  ElantraSales  Unemployment   Queries  \\\nMonth         1.000000  0.000000      0.109795     -0.203603  0.015844   \nYear          0.000000  1.000000      0.587274     -0.958746  0.726531   \nElantraSales  0.109795  0.587274      1.000000     -0.567146  0.610065   \nUnemployment -0.203603 -0.958746     -0.567146      1.000000 -0.641109   \nQueries       0.015844  0.726531      0.610065     -0.641109  1.000000   \nCPI_energy    0.176020  0.831605      0.591649     -0.800719  0.832838   \nCPI_all       0.266788  0.948585      0.593622     -0.956212  0.753673   \n\n              CPI_energy   CPI_all  \nMonth           0.176020  0.266788  \nYear            0.831605  0.948585  \nElantraSales    0.591649  0.593622  \nUnemployment   -0.800719 -0.956212  \nQueries         0.832838  0.753673  \nCPI_energy      1.000000  0.913226  \nCPI_all         0.913226  1.000000  "
          },
          "metadata": {}
        }
      ]
    },
    {
      "metadata": {
        "trusted": true
      },
      "cell_type": "code",
      "source": "#8. Which of the following variables is Queries highly correlated with? Again, compute the correlations on the training set. Select all that apply. (Include only variables where the absolute value of the correlation exceeds 0.7). For the purpose of this question, treat Month as a numeric variable, not a categorical variable.) \n# Ans: C. CPI_energy  and d. CPI_all ",
      "execution_count": 216,
      "outputs": []
    },
    {
      "metadata": {
        "trusted": true
      },
      "cell_type": "code",
      "source": "Testing_set.describe()",
      "execution_count": 217,
      "outputs": [
        {
          "output_type": "execute_result",
          "execution_count": 217,
          "data": {
            "text/html": "<div>\n<style scoped>\n    .dataframe tbody tr th:only-of-type {\n        vertical-align: middle;\n    }\n\n    .dataframe tbody tr th {\n        vertical-align: top;\n    }\n\n    .dataframe thead th {\n        text-align: right;\n    }\n</style>\n<table border=\"1\" class=\"dataframe\">\n  <thead>\n    <tr style=\"text-align: right;\">\n      <th></th>\n      <th>Month</th>\n      <th>Year</th>\n      <th>ElantraSales</th>\n      <th>Unemployment</th>\n      <th>Queries</th>\n      <th>CPI_energy</th>\n      <th>CPI_all</th>\n    </tr>\n  </thead>\n  <tbody>\n    <tr>\n      <th>count</th>\n      <td>14.000000</td>\n      <td>14.000000</td>\n      <td>14.000000</td>\n      <td>14.000000</td>\n      <td>14.000000</td>\n      <td>14.000000</td>\n      <td>14.000000</td>\n    </tr>\n    <tr>\n      <th>mean</th>\n      <td>5.785714</td>\n      <td>2013.142857</td>\n      <td>19973.642857</td>\n      <td>7.250000</td>\n      <td>260.714286</td>\n      <td>244.805571</td>\n      <td>233.258929</td>\n    </tr>\n    <tr>\n      <th>std</th>\n      <td>3.786181</td>\n      <td>0.363137</td>\n      <td>4608.677645</td>\n      <td>0.389773</td>\n      <td>32.185588</td>\n      <td>3.271336</td>\n      <td>1.203176</td>\n    </tr>\n    <tr>\n      <th>min</th>\n      <td>1.000000</td>\n      <td>2013.000000</td>\n      <td>12174.000000</td>\n      <td>6.600000</td>\n      <td>223.000000</td>\n      <td>238.860000</td>\n      <td>231.321000</td>\n    </tr>\n    <tr>\n      <th>25%</th>\n      <td>2.250000</td>\n      <td>2013.000000</td>\n      <td>16262.500000</td>\n      <td>7.050000</td>\n      <td>233.750000</td>\n      <td>242.763500</td>\n      <td>232.242750</td>\n    </tr>\n    <tr>\n      <th>50%</th>\n      <td>5.500000</td>\n      <td>2013.000000</td>\n      <td>20691.500000</td>\n      <td>7.250000</td>\n      <td>250.000000</td>\n      <td>245.164500</td>\n      <td>233.342500</td>\n    </tr>\n    <tr>\n      <th>75%</th>\n      <td>8.750000</td>\n      <td>2013.000000</td>\n      <td>24323.250000</td>\n      <td>7.500000</td>\n      <td>277.750000</td>\n      <td>246.123250</td>\n      <td>233.970250</td>\n    </tr>\n    <tr>\n      <th>max</th>\n      <td>12.000000</td>\n      <td>2014.000000</td>\n      <td>26153.000000</td>\n      <td>7.900000</td>\n      <td>320.000000</td>\n      <td>252.639000</td>\n      <td>235.169000</td>\n    </tr>\n  </tbody>\n</table>\n</div>",
            "text/plain": "           Month         Year  ElantraSales  Unemployment     Queries  \\\ncount  14.000000    14.000000     14.000000     14.000000   14.000000   \nmean    5.785714  2013.142857  19973.642857      7.250000  260.714286   \nstd     3.786181     0.363137   4608.677645      0.389773   32.185588   \nmin     1.000000  2013.000000  12174.000000      6.600000  223.000000   \n25%     2.250000  2013.000000  16262.500000      7.050000  233.750000   \n50%     5.500000  2013.000000  20691.500000      7.250000  250.000000   \n75%     8.750000  2013.000000  24323.250000      7.500000  277.750000   \nmax    12.000000  2014.000000  26153.000000      7.900000  320.000000   \n\n       CPI_energy     CPI_all  \ncount   14.000000   14.000000  \nmean   244.805571  233.258929  \nstd      3.271336    1.203176  \nmin    238.860000  231.321000  \n25%    242.763500  232.242750  \n50%    245.164500  233.342500  \n75%    246.123250  233.970250  \nmax    252.639000  235.169000  "
          },
          "metadata": {}
        }
      ]
    },
    {
      "metadata": {
        "trusted": true
      },
      "cell_type": "code",
      "source": "#9. What would the baseline method predict for all observations in the test set? \n#Ans: b. 14462.25",
      "execution_count": 218,
      "outputs": []
    },
    {
      "metadata": {
        "trusted": true
      },
      "cell_type": "code",
      "source": "Training_set.ElantraSales.mean()",
      "execution_count": 219,
      "outputs": [
        {
          "output_type": "execute_result",
          "execution_count": 219,
          "data": {
            "text/plain": "14462.25"
          },
          "metadata": {}
        }
      ]
    },
    {
      "metadata": {
        "trusted": true
      },
      "cell_type": "code",
      "source": "#10.Creating a regression model removing the 'Quries' variable and keeping all other variables. use this modle to make predections\n#on the test set. what is the sum of squared errors of the model on the test set?\n#Ans:190757747.44436693",
      "execution_count": 220,
      "outputs": []
    },
    {
      "metadata": {
        "trusted": true
      },
      "cell_type": "code",
      "source": "#11. Test R-sqaured\n#Ans:0.7280",
      "execution_count": 221,
      "outputs": []
    },
    {
      "metadata": {
        "trusted": true
      },
      "cell_type": "code",
      "source": "#12. Test RMSE\n#Ans:3691.28",
      "execution_count": 222,
      "outputs": []
    },
    {
      "metadata": {
        "trusted": true
      },
      "cell_type": "code",
      "source": "Elantra_Test=LinearRegression()",
      "execution_count": 223,
      "outputs": []
    },
    {
      "metadata": {
        "trusted": true
      },
      "cell_type": "code",
      "source": "X_Training_setnew.head()",
      "execution_count": 224,
      "outputs": [
        {
          "output_type": "execute_result",
          "execution_count": 224,
          "data": {
            "text/html": "<div>\n<style scoped>\n    .dataframe tbody tr th:only-of-type {\n        vertical-align: middle;\n    }\n\n    .dataframe tbody tr th {\n        vertical-align: top;\n    }\n\n    .dataframe thead th {\n        text-align: right;\n    }\n</style>\n<table border=\"1\" class=\"dataframe\">\n  <thead>\n    <tr style=\"text-align: right;\">\n      <th></th>\n      <th>Unemployment</th>\n      <th>Queries</th>\n      <th>CPI_energy</th>\n      <th>CPI_all</th>\n      <th>Month_2</th>\n      <th>Month_3</th>\n      <th>Month_4</th>\n      <th>Month_5</th>\n      <th>Month_6</th>\n      <th>Month_7</th>\n      <th>Month_8</th>\n      <th>Month_9</th>\n      <th>Month_10</th>\n      <th>Month_11</th>\n      <th>Month_12</th>\n    </tr>\n  </thead>\n  <tbody>\n    <tr>\n      <th>0</th>\n      <td>9.7</td>\n      <td>153</td>\n      <td>213.377</td>\n      <td>217.466</td>\n      <td>0</td>\n      <td>0</td>\n      <td>0</td>\n      <td>0</td>\n      <td>0</td>\n      <td>0</td>\n      <td>0</td>\n      <td>0</td>\n      <td>0</td>\n      <td>0</td>\n      <td>0</td>\n    </tr>\n    <tr>\n      <th>1</th>\n      <td>9.1</td>\n      <td>259</td>\n      <td>229.353</td>\n      <td>221.082</td>\n      <td>0</td>\n      <td>0</td>\n      <td>0</td>\n      <td>0</td>\n      <td>0</td>\n      <td>0</td>\n      <td>0</td>\n      <td>0</td>\n      <td>0</td>\n      <td>0</td>\n      <td>0</td>\n    </tr>\n    <tr>\n      <th>2</th>\n      <td>8.2</td>\n      <td>354</td>\n      <td>244.178</td>\n      <td>227.666</td>\n      <td>0</td>\n      <td>0</td>\n      <td>0</td>\n      <td>0</td>\n      <td>0</td>\n      <td>0</td>\n      <td>0</td>\n      <td>0</td>\n      <td>0</td>\n      <td>0</td>\n      <td>0</td>\n    </tr>\n    <tr>\n      <th>5</th>\n      <td>9.8</td>\n      <td>130</td>\n      <td>209.924</td>\n      <td>217.251</td>\n      <td>1</td>\n      <td>0</td>\n      <td>0</td>\n      <td>0</td>\n      <td>0</td>\n      <td>0</td>\n      <td>0</td>\n      <td>0</td>\n      <td>0</td>\n      <td>0</td>\n      <td>0</td>\n    </tr>\n    <tr>\n      <th>6</th>\n      <td>9.0</td>\n      <td>266</td>\n      <td>232.188</td>\n      <td>221.816</td>\n      <td>1</td>\n      <td>0</td>\n      <td>0</td>\n      <td>0</td>\n      <td>0</td>\n      <td>0</td>\n      <td>0</td>\n      <td>0</td>\n      <td>0</td>\n      <td>0</td>\n      <td>0</td>\n    </tr>\n  </tbody>\n</table>\n</div>",
            "text/plain": "   Unemployment  Queries  CPI_energy  CPI_all  Month_2  Month_3  Month_4  \\\n0           9.7      153     213.377  217.466        0        0        0   \n1           9.1      259     229.353  221.082        0        0        0   \n2           8.2      354     244.178  227.666        0        0        0   \n5           9.8      130     209.924  217.251        1        0        0   \n6           9.0      266     232.188  221.816        1        0        0   \n\n   Month_5  Month_6  Month_7  Month_8  Month_9  Month_10  Month_11  Month_12  \n0        0        0        0        0        0         0         0         0  \n1        0        0        0        0        0         0         0         0  \n2        0        0        0        0        0         0         0         0  \n5        0        0        0        0        0         0         0         0  \n6        0        0        0        0        0         0         0         0  "
          },
          "metadata": {}
        }
      ]
    },
    {
      "metadata": {
        "trusted": true
      },
      "cell_type": "code",
      "source": "X_train=X_Training_setnew.drop('Queries',axis=1)",
      "execution_count": 225,
      "outputs": []
    },
    {
      "metadata": {
        "trusted": true
      },
      "cell_type": "code",
      "source": "print(X_train.shape)\nX_train.head()",
      "execution_count": 226,
      "outputs": [
        {
          "output_type": "stream",
          "text": "(36, 14)\n",
          "name": "stdout"
        },
        {
          "output_type": "execute_result",
          "execution_count": 226,
          "data": {
            "text/html": "<div>\n<style scoped>\n    .dataframe tbody tr th:only-of-type {\n        vertical-align: middle;\n    }\n\n    .dataframe tbody tr th {\n        vertical-align: top;\n    }\n\n    .dataframe thead th {\n        text-align: right;\n    }\n</style>\n<table border=\"1\" class=\"dataframe\">\n  <thead>\n    <tr style=\"text-align: right;\">\n      <th></th>\n      <th>Unemployment</th>\n      <th>CPI_energy</th>\n      <th>CPI_all</th>\n      <th>Month_2</th>\n      <th>Month_3</th>\n      <th>Month_4</th>\n      <th>Month_5</th>\n      <th>Month_6</th>\n      <th>Month_7</th>\n      <th>Month_8</th>\n      <th>Month_9</th>\n      <th>Month_10</th>\n      <th>Month_11</th>\n      <th>Month_12</th>\n    </tr>\n  </thead>\n  <tbody>\n    <tr>\n      <th>0</th>\n      <td>9.7</td>\n      <td>213.377</td>\n      <td>217.466</td>\n      <td>0</td>\n      <td>0</td>\n      <td>0</td>\n      <td>0</td>\n      <td>0</td>\n      <td>0</td>\n      <td>0</td>\n      <td>0</td>\n      <td>0</td>\n      <td>0</td>\n      <td>0</td>\n    </tr>\n    <tr>\n      <th>1</th>\n      <td>9.1</td>\n      <td>229.353</td>\n      <td>221.082</td>\n      <td>0</td>\n      <td>0</td>\n      <td>0</td>\n      <td>0</td>\n      <td>0</td>\n      <td>0</td>\n      <td>0</td>\n      <td>0</td>\n      <td>0</td>\n      <td>0</td>\n      <td>0</td>\n    </tr>\n    <tr>\n      <th>2</th>\n      <td>8.2</td>\n      <td>244.178</td>\n      <td>227.666</td>\n      <td>0</td>\n      <td>0</td>\n      <td>0</td>\n      <td>0</td>\n      <td>0</td>\n      <td>0</td>\n      <td>0</td>\n      <td>0</td>\n      <td>0</td>\n      <td>0</td>\n      <td>0</td>\n    </tr>\n    <tr>\n      <th>5</th>\n      <td>9.8</td>\n      <td>209.924</td>\n      <td>217.251</td>\n      <td>1</td>\n      <td>0</td>\n      <td>0</td>\n      <td>0</td>\n      <td>0</td>\n      <td>0</td>\n      <td>0</td>\n      <td>0</td>\n      <td>0</td>\n      <td>0</td>\n      <td>0</td>\n    </tr>\n    <tr>\n      <th>6</th>\n      <td>9.0</td>\n      <td>232.188</td>\n      <td>221.816</td>\n      <td>1</td>\n      <td>0</td>\n      <td>0</td>\n      <td>0</td>\n      <td>0</td>\n      <td>0</td>\n      <td>0</td>\n      <td>0</td>\n      <td>0</td>\n      <td>0</td>\n      <td>0</td>\n    </tr>\n  </tbody>\n</table>\n</div>",
            "text/plain": "   Unemployment  CPI_energy  CPI_all  Month_2  Month_3  Month_4  Month_5  \\\n0           9.7     213.377  217.466        0        0        0        0   \n1           9.1     229.353  221.082        0        0        0        0   \n2           8.2     244.178  227.666        0        0        0        0   \n5           9.8     209.924  217.251        1        0        0        0   \n6           9.0     232.188  221.816        1        0        0        0   \n\n   Month_6  Month_7  Month_8  Month_9  Month_10  Month_11  Month_12  \n0        0        0        0        0         0         0         0  \n1        0        0        0        0         0         0         0  \n2        0        0        0        0         0         0         0  \n5        0        0        0        0         0         0         0  \n6        0        0        0        0         0         0         0  "
          },
          "metadata": {}
        }
      ]
    },
    {
      "metadata": {
        "trusted": true
      },
      "cell_type": "code",
      "source": "y_train=Training_set['ElantraSales']",
      "execution_count": 227,
      "outputs": []
    },
    {
      "metadata": {
        "trusted": true
      },
      "cell_type": "code",
      "source": "y_train.head()",
      "execution_count": 228,
      "outputs": [
        {
          "output_type": "execute_result",
          "execution_count": 228,
          "data": {
            "text/plain": "0     7690\n1     9659\n2    10900\n5     7966\n6    12289\nName: ElantraSales, dtype: int64"
          },
          "metadata": {}
        }
      ]
    },
    {
      "metadata": {
        "trusted": true
      },
      "cell_type": "code",
      "source": "print(X_train.shape)\nprint(y_train.shape)",
      "execution_count": 229,
      "outputs": [
        {
          "output_type": "stream",
          "text": "(36, 14)\n(36,)\n",
          "name": "stdout"
        }
      ]
    },
    {
      "metadata": {
        "trusted": true
      },
      "cell_type": "code",
      "source": "Elantra_Test.fit(X_train,y_train)",
      "execution_count": 230,
      "outputs": [
        {
          "output_type": "execute_result",
          "execution_count": 230,
          "data": {
            "text/plain": "LinearRegression(copy_X=True, fit_intercept=True, n_jobs=None,\n         normalize=False)"
          },
          "metadata": {}
        }
      ]
    },
    {
      "metadata": {
        "trusted": true
      },
      "cell_type": "code",
      "source": "Elantra_Test.score(X_train,y_train)",
      "execution_count": 231,
      "outputs": [
        {
          "output_type": "execute_result",
          "execution_count": 231,
          "data": {
            "text/plain": "0.8180391238289333"
          },
          "metadata": {}
        }
      ]
    },
    {
      "metadata": {
        "trusted": true
      },
      "cell_type": "code",
      "source": "Testing_set.info()",
      "execution_count": 232,
      "outputs": [
        {
          "output_type": "stream",
          "text": "<class 'pandas.core.frame.DataFrame'>\nInt64Index: 14 entries, 3 to 49\nData columns (total 7 columns):\nMonth           14 non-null int64\nYear            14 non-null int64\nElantraSales    14 non-null int64\nUnemployment    14 non-null float64\nQueries         14 non-null int64\nCPI_energy      14 non-null float64\nCPI_all         14 non-null float64\ndtypes: float64(3), int64(4)\nmemory usage: 896.0 bytes\n",
          "name": "stdout"
        }
      ]
    },
    {
      "metadata": {
        "trusted": true
      },
      "cell_type": "code",
      "source": "X_test =Testing_set\nX_test['Month'] = pd.Categorical(X_test.Month)\n\nprint (X_test.dtypes)",
      "execution_count": 233,
      "outputs": [
        {
          "output_type": "stream",
          "text": "Month           category\nYear               int64\nElantraSales       int64\nUnemployment     float64\nQueries            int64\nCPI_energy       float64\nCPI_all          float64\ndtype: object\n",
          "name": "stdout"
        },
        {
          "output_type": "stream",
          "text": "/home/nbuser/anaconda3_501/lib/python3.6/site-packages/ipykernel/__main__.py:2: SettingWithCopyWarning: \nA value is trying to be set on a copy of a slice from a DataFrame.\nTry using .loc[row_indexer,col_indexer] = value instead\n\nSee the caveats in the documentation: http://pandas.pydata.org/pandas-docs/stable/indexing.html#indexing-view-versus-copy\n  from ipykernel import kernelapp as app\n",
          "name": "stderr"
        }
      ]
    },
    {
      "metadata": {
        "trusted": true
      },
      "cell_type": "code",
      "source": "X_test = pd.get_dummies(X_test,columns=['Month'],drop_first=True)\nX_test.head()",
      "execution_count": 234,
      "outputs": [
        {
          "output_type": "execute_result",
          "execution_count": 234,
          "data": {
            "text/html": "<div>\n<style scoped>\n    .dataframe tbody tr th:only-of-type {\n        vertical-align: middle;\n    }\n\n    .dataframe tbody tr th {\n        vertical-align: top;\n    }\n\n    .dataframe thead th {\n        text-align: right;\n    }\n</style>\n<table border=\"1\" class=\"dataframe\">\n  <thead>\n    <tr style=\"text-align: right;\">\n      <th></th>\n      <th>Year</th>\n      <th>ElantraSales</th>\n      <th>Unemployment</th>\n      <th>Queries</th>\n      <th>CPI_energy</th>\n      <th>CPI_all</th>\n      <th>Month_2</th>\n      <th>Month_3</th>\n      <th>Month_4</th>\n      <th>Month_5</th>\n      <th>Month_6</th>\n      <th>Month_7</th>\n      <th>Month_8</th>\n      <th>Month_9</th>\n      <th>Month_10</th>\n      <th>Month_11</th>\n      <th>Month_12</th>\n    </tr>\n  </thead>\n  <tbody>\n    <tr>\n      <th>3</th>\n      <td>2013</td>\n      <td>12174</td>\n      <td>7.9</td>\n      <td>230</td>\n      <td>242.560</td>\n      <td>231.321</td>\n      <td>0</td>\n      <td>0</td>\n      <td>0</td>\n      <td>0</td>\n      <td>0</td>\n      <td>0</td>\n      <td>0</td>\n      <td>0</td>\n      <td>0</td>\n      <td>0</td>\n      <td>0</td>\n    </tr>\n    <tr>\n      <th>4</th>\n      <td>2014</td>\n      <td>15326</td>\n      <td>6.6</td>\n      <td>232</td>\n      <td>247.575</td>\n      <td>234.933</td>\n      <td>0</td>\n      <td>0</td>\n      <td>0</td>\n      <td>0</td>\n      <td>0</td>\n      <td>0</td>\n      <td>0</td>\n      <td>0</td>\n      <td>0</td>\n      <td>0</td>\n      <td>0</td>\n    </tr>\n    <tr>\n      <th>8</th>\n      <td>2013</td>\n      <td>16219</td>\n      <td>7.7</td>\n      <td>239</td>\n      <td>252.639</td>\n      <td>232.599</td>\n      <td>1</td>\n      <td>0</td>\n      <td>0</td>\n      <td>0</td>\n      <td>0</td>\n      <td>0</td>\n      <td>0</td>\n      <td>0</td>\n      <td>0</td>\n      <td>0</td>\n      <td>0</td>\n    </tr>\n    <tr>\n      <th>9</th>\n      <td>2014</td>\n      <td>16393</td>\n      <td>6.7</td>\n      <td>240</td>\n      <td>246.389</td>\n      <td>235.169</td>\n      <td>1</td>\n      <td>0</td>\n      <td>0</td>\n      <td>0</td>\n      <td>0</td>\n      <td>0</td>\n      <td>0</td>\n      <td>0</td>\n      <td>0</td>\n      <td>0</td>\n      <td>0</td>\n    </tr>\n    <tr>\n      <th>13</th>\n      <td>2013</td>\n      <td>26153</td>\n      <td>7.5</td>\n      <td>313</td>\n      <td>244.598</td>\n      <td>232.075</td>\n      <td>0</td>\n      <td>1</td>\n      <td>0</td>\n      <td>0</td>\n      <td>0</td>\n      <td>0</td>\n      <td>0</td>\n      <td>0</td>\n      <td>0</td>\n      <td>0</td>\n      <td>0</td>\n    </tr>\n  </tbody>\n</table>\n</div>",
            "text/plain": "    Year  ElantraSales  Unemployment  Queries  CPI_energy  CPI_all  Month_2  \\\n3   2013         12174           7.9      230     242.560  231.321        0   \n4   2014         15326           6.6      232     247.575  234.933        0   \n8   2013         16219           7.7      239     252.639  232.599        1   \n9   2014         16393           6.7      240     246.389  235.169        1   \n13  2013         26153           7.5      313     244.598  232.075        0   \n\n    Month_3  Month_4  Month_5  Month_6  Month_7  Month_8  Month_9  Month_10  \\\n3         0        0        0        0        0        0        0         0   \n4         0        0        0        0        0        0        0         0   \n8         0        0        0        0        0        0        0         0   \n9         0        0        0        0        0        0        0         0   \n13        1        0        0        0        0        0        0         0   \n\n    Month_11  Month_12  \n3          0         0  \n4          0         0  \n8          0         0  \n9          0         0  \n13         0         0  "
          },
          "metadata": {}
        }
      ]
    },
    {
      "metadata": {
        "trusted": true
      },
      "cell_type": "code",
      "source": "X_test=X_test.drop('ElantraSales',axis=1)",
      "execution_count": 235,
      "outputs": []
    },
    {
      "metadata": {
        "trusted": true
      },
      "cell_type": "code",
      "source": "X_test=X_test.drop('Queries',axis=1)",
      "execution_count": 236,
      "outputs": []
    },
    {
      "metadata": {
        "trusted": true
      },
      "cell_type": "code",
      "source": "X_test=X_test.drop('Year',axis=1)",
      "execution_count": 237,
      "outputs": []
    },
    {
      "metadata": {
        "trusted": true
      },
      "cell_type": "code",
      "source": "X_test.head()",
      "execution_count": 238,
      "outputs": [
        {
          "output_type": "execute_result",
          "execution_count": 238,
          "data": {
            "text/html": "<div>\n<style scoped>\n    .dataframe tbody tr th:only-of-type {\n        vertical-align: middle;\n    }\n\n    .dataframe tbody tr th {\n        vertical-align: top;\n    }\n\n    .dataframe thead th {\n        text-align: right;\n    }\n</style>\n<table border=\"1\" class=\"dataframe\">\n  <thead>\n    <tr style=\"text-align: right;\">\n      <th></th>\n      <th>Unemployment</th>\n      <th>CPI_energy</th>\n      <th>CPI_all</th>\n      <th>Month_2</th>\n      <th>Month_3</th>\n      <th>Month_4</th>\n      <th>Month_5</th>\n      <th>Month_6</th>\n      <th>Month_7</th>\n      <th>Month_8</th>\n      <th>Month_9</th>\n      <th>Month_10</th>\n      <th>Month_11</th>\n      <th>Month_12</th>\n    </tr>\n  </thead>\n  <tbody>\n    <tr>\n      <th>3</th>\n      <td>7.9</td>\n      <td>242.560</td>\n      <td>231.321</td>\n      <td>0</td>\n      <td>0</td>\n      <td>0</td>\n      <td>0</td>\n      <td>0</td>\n      <td>0</td>\n      <td>0</td>\n      <td>0</td>\n      <td>0</td>\n      <td>0</td>\n      <td>0</td>\n    </tr>\n    <tr>\n      <th>4</th>\n      <td>6.6</td>\n      <td>247.575</td>\n      <td>234.933</td>\n      <td>0</td>\n      <td>0</td>\n      <td>0</td>\n      <td>0</td>\n      <td>0</td>\n      <td>0</td>\n      <td>0</td>\n      <td>0</td>\n      <td>0</td>\n      <td>0</td>\n      <td>0</td>\n    </tr>\n    <tr>\n      <th>8</th>\n      <td>7.7</td>\n      <td>252.639</td>\n      <td>232.599</td>\n      <td>1</td>\n      <td>0</td>\n      <td>0</td>\n      <td>0</td>\n      <td>0</td>\n      <td>0</td>\n      <td>0</td>\n      <td>0</td>\n      <td>0</td>\n      <td>0</td>\n      <td>0</td>\n    </tr>\n    <tr>\n      <th>9</th>\n      <td>6.7</td>\n      <td>246.389</td>\n      <td>235.169</td>\n      <td>1</td>\n      <td>0</td>\n      <td>0</td>\n      <td>0</td>\n      <td>0</td>\n      <td>0</td>\n      <td>0</td>\n      <td>0</td>\n      <td>0</td>\n      <td>0</td>\n      <td>0</td>\n    </tr>\n    <tr>\n      <th>13</th>\n      <td>7.5</td>\n      <td>244.598</td>\n      <td>232.075</td>\n      <td>0</td>\n      <td>1</td>\n      <td>0</td>\n      <td>0</td>\n      <td>0</td>\n      <td>0</td>\n      <td>0</td>\n      <td>0</td>\n      <td>0</td>\n      <td>0</td>\n      <td>0</td>\n    </tr>\n  </tbody>\n</table>\n</div>",
            "text/plain": "    Unemployment  CPI_energy  CPI_all  Month_2  Month_3  Month_4  Month_5  \\\n3            7.9     242.560  231.321        0        0        0        0   \n4            6.6     247.575  234.933        0        0        0        0   \n8            7.7     252.639  232.599        1        0        0        0   \n9            6.7     246.389  235.169        1        0        0        0   \n13           7.5     244.598  232.075        0        1        0        0   \n\n    Month_6  Month_7  Month_8  Month_9  Month_10  Month_11  Month_12  \n3         0        0        0        0         0         0         0  \n4         0        0        0        0         0         0         0  \n8         0        0        0        0         0         0         0  \n9         0        0        0        0         0         0         0  \n13        0        0        0        0         0         0         0  "
          },
          "metadata": {}
        }
      ]
    },
    {
      "metadata": {
        "trusted": true
      },
      "cell_type": "code",
      "source": "y_test=Testing_set['ElantraSales']",
      "execution_count": 239,
      "outputs": []
    },
    {
      "metadata": {
        "trusted": true
      },
      "cell_type": "code",
      "source": "y_test.head()\nprint(X_train.shape)\nprint(y_train.shape)\nprint(X_test.shape)\nprint(y_test.shape)",
      "execution_count": 240,
      "outputs": [
        {
          "output_type": "stream",
          "text": "(36, 14)\n(36,)\n(14, 14)\n(14,)\n",
          "name": "stdout"
        }
      ]
    },
    {
      "metadata": {
        "trusted": true
      },
      "cell_type": "code",
      "source": "y_predict_test=Elantra_Test.predict(X_test)\ny_predict_test",
      "execution_count": 241,
      "outputs": [
        {
          "output_type": "execute_result",
          "execution_count": 241,
          "data": {
            "text/plain": "array([ 9085.34124675, 15816.42783161, 14031.44702873, 16787.21480568,\n       18661.51230729, 18447.77790533, 18186.69223462, 20141.33459288,\n       21712.94562543, 20307.07205759, 17208.76514566, 14217.46907117,\n       16119.20217179, 20757.99488847])"
          },
          "metadata": {}
        }
      ]
    },
    {
      "metadata": {
        "trusted": true
      },
      "cell_type": "code",
      "source": "SSE = np.sum((y_test-y_predict_test)**2)\nprint(SSE)\nrmse_test = np.sqrt(mean_squared_error(y_test, y_predict_test))\nrmse_test",
      "execution_count": 242,
      "outputs": [
        {
          "output_type": "stream",
          "text": "190757747.44436693\n",
          "name": "stdout"
        },
        {
          "output_type": "execute_result",
          "execution_count": 242,
          "data": {
            "text/plain": "3691.2807247462706"
          },
          "metadata": {}
        }
      ]
    },
    {
      "metadata": {
        "trusted": true
      },
      "cell_type": "code",
      "source": "SST = np.sum((y_test-np.mean(y_train))**2)\nSST\n",
      "execution_count": 243,
      "outputs": [
        {
          "output_type": "execute_result",
          "execution_count": 243,
          "data": {
            "text/plain": "701375142.375"
          },
          "metadata": {}
        }
      ]
    },
    {
      "metadata": {
        "trusted": true
      },
      "cell_type": "code",
      "source": "r2_test = 1 - (SSE/SST)\nr2_test\n",
      "execution_count": 244,
      "outputs": [
        {
          "output_type": "execute_result",
          "execution_count": 244,
          "data": {
            "text/plain": "0.7280232276290515"
          },
          "metadata": {}
        }
      ]
    },
    {
      "metadata": {
        "trusted": true
      },
      "cell_type": "code",
      "source": "# 13.In a simple linear regression model (One independent variable), If we change the input variable by 1 unit. How much output variable will change? \n# Ans: d.by its slope",
      "execution_count": 245,
      "outputs": []
    },
    {
      "metadata": {
        "trusted": true
      },
      "cell_type": "code",
      "source": "# 14.Suppose that we have ‘n’ independent variables (X1,X2… Xn) and dependent variable is ‘y’. The correlation coefficient for one of it’s variable(Say X1) with ‘y’ is -0.95. Which of the following is true for X1?\n#Ans: a. Relation between the X1 and y is strong.",
      "execution_count": 246,
      "outputs": []
    },
    {
      "metadata": {
        "trusted": true
      },
      "cell_type": "code",
      "source": "\n#Suppose we are fitting a Linear Regression model on a dataset and R-squared and RMSE performance metrics are used to measure the model performance. Which of the following isTRUE?\n#Ans: c. R-squared should be higher and RMSE must be lower.\n",
      "execution_count": 247,
      "outputs": []
    }
  ],
  "metadata": {
    "kernelspec": {
      "name": "python36",
      "display_name": "Python 3.6",
      "language": "python"
    },
    "language_info": {
      "mimetype": "text/x-python",
      "nbconvert_exporter": "python",
      "name": "python",
      "pygments_lexer": "ipython3",
      "version": "3.6.6",
      "file_extension": ".py",
      "codemirror_mode": {
        "version": 3,
        "name": "ipython"
      }
    }
  },
  "nbformat": 4,
  "nbformat_minor": 2
}